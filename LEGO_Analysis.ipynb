{
  "nbformat": 4,
  "nbformat_minor": 0,
  "metadata": {
    "kernelspec": {
      "name": "python3",
      "display_name": "Python 3",
      "language": "python"
    },
    "language_info": {
      "name": "python",
      "version": "3.6.7",
      "mimetype": "text/x-python",
      "codemirror_mode": {
        "name": "ipython",
        "version": 3
      },
      "pygments_lexer": "ipython3",
      "nbconvert_exporter": "python",
      "file_extension": ".py"
    },
    "colab": {
      "name": "LEGO - Analysis.ipynb",
      "provenance": [],
      "collapsed_sections": [],
      "include_colab_link": true
    }
  },
  "cells": [
    {
      "cell_type": "markdown",
      "metadata": {
        "id": "view-in-github",
        "colab_type": "text"
      },
      "source": [
        "<a href=\"https://colab.research.google.com/github/Ferrariagustinpablo/DataScienceprojects/blob/main/LEGO_Analysis.ipynb\" target=\"_parent\"><img src=\"https://colab.research.google.com/assets/colab-badge.svg\" alt=\"Open In Colab\"/></a>"
      ]
    },
    {
      "cell_type": "markdown",
      "metadata": {
        "dc": {
          "key": "3"
        },
        "deletable": false,
        "editable": false,
        "run_control": {
          "frozen": true
        },
        "tags": [
          "context"
        ],
        "id": "HopeKsJTVy2R"
      },
      "source": [
        "# Introduction\n",
        "<p><img src=\"https://assets.datacamp.com/production/project_981/img/lego_unsplash.jpg\" alt=\"A picture of Lego characters!\"></p>\n",
        "<h3 id=\"letslookatlegosets\">Let's look at Lego sets!</h3>\n",
        "<p>Lego is a household name across the world, supported by a diverse toy line, hit movies, and a series of successful video games. </p>\n",
        "\n",
        "<p> In this project, I play the role of Data Analyst at a toy maker company. The firm's product manager asks to explore and analyse LEGO public dataset (https://rebrickable.com/downloads/) and try to answer topics and questions defined in a product engineering meeting. </p>\n"
      ]
    },
    {
      "cell_type": "markdown",
      "metadata": {
        "id": "54k5NTkcxbMl"
      },
      "source": [
        "# Instructions to the Data Analyst.\r\n",
        "\r\n",
        "1. Exploring Colors: Count number of colors available.\r\n",
        "\r\n",
        "2. Exploring Colors: What are the 10 most used colors?\r\n",
        "\r\n",
        "3. Exploring Colors: Explore transparent vs non-transparent colors ratio throught the years.\r\n",
        "\r\n",
        "4. Explore lego sets: Number of sets and number of parts over the years.\r\n",
        "\r\n",
        "5. Explore lego themes: Which are the themes with mosts sets?\r\n",
        "\r\n",
        "6. Explore lego themes: What percentage of all sets ever released were Star Wars themed?\r\n",
        "\r\n",
        "7. Explore lego themes: In the last 20 years, what theme was the most popular? (in terms of number of sets released that year)?\r\n",
        "\r\n",
        "8. Explore lego themes: Describe how many sets of theme 'truck', 'car', 'race' are there, and the percentage of total. Which 5 colors are the most common in this topic?\r\n"
      ]
    },
    {
      "cell_type": "markdown",
      "metadata": {
        "id": "hODHRwhIkb_R"
      },
      "source": [
        "# Importing libraries and dataset from kaggle API"
      ]
    },
    {
      "cell_type": "markdown",
      "metadata": {
        "id": "97tmMNmsBXKq"
      },
      "source": [
        "Due to daily changes in dataset in https://rebrickable.com/downloads/ \r\n",
        "In Kaggle there is a dataset of LEGO from beginning of 2020.\r\n",
        "\r\n",
        "I'll start importing packages and the files."
      ]
    },
    {
      "cell_type": "code",
      "metadata": {
        "dc": {
          "key": "3"
        },
        "tags": [
          "sample_code"
        ],
        "trusted": false,
        "collapsed": true,
        "id": "IG-2WS09Vy2h"
      },
      "source": [
        "# Importing libraries\n",
        "import pandas as pd\n",
        "import numpy as np\n",
        "import matplotlib.pyplot as plt\n",
        "import seaborn as sns\n",
        "import datetime as dt\n",
        "plt.style.use('ggplot')"
      ],
      "execution_count": 2,
      "outputs": []
    },
    {
      "cell_type": "code",
      "metadata": {
        "colab": {
          "resources": {
            "http://localhost:8080/nbextensions/google.colab/files.js": {
              "data": "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",
              "ok": true,
              "headers": [
                [
                  "content-type",
                  "application/javascript"
                ]
              ],
              "status": 200,
              "status_text": ""
            }
          },
          "base_uri": "https://localhost:8080/",
          "height": 123
        },
        "id": "FRTfK64xBQWS",
        "outputId": "bd17b5bd-e3ff-40b5-d431-c1ba4b958f73"
      },
      "source": [
        "# Choose a the kaggle.json file downloaded from Kaggle.\r\n",
        "from google.colab import files\r\n",
        "files.upload()\r\n",
        "\r\n",
        "# Create a kaggle file and put kaggle.json in it.\r\n",
        "!mkdir -p ~/kaggle\r\n",
        "!cp kaggle.json ~/.kaggle/\r\n",
        "\r\n",
        "# Hide API account key.\r\n",
        "!chmod 600 /root/.kaggle/kaggle.json\r\n",
        "\r\n",
        "# kaggle datasets \r\n",
        "!kaggle datasets download -d hapahacks1/lego-database-2020"
      ],
      "execution_count": 4,
      "outputs": [
        {
          "output_type": "display_data",
          "data": {
            "text/html": [
              "\n",
              "     <input type=\"file\" id=\"files-fe6d1684-a628-4df1-b428-ffc7e3fd5deb\" name=\"files[]\" multiple disabled\n",
              "        style=\"border:none\" />\n",
              "     <output id=\"result-fe6d1684-a628-4df1-b428-ffc7e3fd5deb\">\n",
              "      Upload widget is only available when the cell has been executed in the\n",
              "      current browser session. Please rerun this cell to enable.\n",
              "      </output>\n",
              "      <script src=\"/nbextensions/google.colab/files.js\"></script> "
            ],
            "text/plain": [
              "<IPython.core.display.HTML object>"
            ]
          },
          "metadata": {
            "tags": []
          }
        },
        {
          "output_type": "stream",
          "text": [
            "Saving kaggle.json to kaggle (1).json\n",
            "Downloading lego-database-2020.zip to /content\n",
            "100% 4.57M/4.57M [00:00<00:00, 43.2MB/s]\n",
            "\n"
          ],
          "name": "stdout"
        }
      ]
    },
    {
      "cell_type": "code",
      "metadata": {
        "id": "Cd0MGi5aU-qT"
      },
      "source": [
        "from zipfile import ZipFile\r\n",
        "# Create a ZipFile Object and load sample.zip in it\r\n",
        "with ZipFile('lego-database-2020.zip', 'r') as zipObj:\r\n",
        "   # Unzip\r\n",
        "   zipObj.extractall()"
      ],
      "execution_count": 5,
      "outputs": []
    },
    {
      "cell_type": "markdown",
      "metadata": {
        "id": "H2Dr0C9LkwX6"
      },
      "source": [
        "## Dataset relationships on https://rebrickable.com/downloads/"
      ]
    },
    {
      "cell_type": "markdown",
      "metadata": {
        "id": "3pkbUicciTWE"
      },
      "source": [
        "In most of this notebook I'll analyse the questions with merged dataset of inventory as 'left'. Filtering every set, theme, product or id, to the items that are currently in inventory.\r\n",
        "\r\n",
        "After this notebook I create a report with PowerBI and contrast some conclusions with a less restrictive dataset."
      ]
    },
    {
      "cell_type": "markdown",
      "metadata": {
        "id": "sh9TkkjtCuzs"
      },
      "source": [
        "Next image is provided by rebrickable and shows relationships between tables."
      ]
    },
    {
      "cell_type": "markdown",
      "metadata": {
        "id": "VEyDqIcIkKH2"
      },
      "source": [
        "![downloads_schema_v3.png](data:image/png;base64,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)"
      ]
    },
    {
      "cell_type": "markdown",
      "metadata": {
        "id": "IWaH-THcg4at"
      },
      "source": [
        "# 1) Exploring Colors: Count number of colors available."
      ]
    },
    {
      "cell_type": "markdown",
      "metadata": {
        "id": "qEj-DM3gnNXR"
      },
      "source": [
        "## a) Count numbers of colors ever created."
      ]
    },
    {
      "cell_type": "code",
      "metadata": {
        "colab": {
          "base_uri": "https://localhost:8080/",
          "height": 221
        },
        "id": "6e-1rsfZfv-g",
        "outputId": "d1b64307-64a2-494e-e4b9-388acbee8a6f"
      },
      "source": [
        "# We need to import colors dataset to count unique colors available.\r\n",
        "colors = pd.read_csv('colors.csv')\r\n",
        "\r\n",
        "# Let's print shape and head\r\n",
        "print(colors.shape)\r\n",
        "colors.head()"
      ],
      "execution_count": 6,
      "outputs": [
        {
          "output_type": "stream",
          "text": [
            "(184, 4)\n"
          ],
          "name": "stdout"
        },
        {
          "output_type": "execute_result",
          "data": {
            "text/html": [
              "<div>\n",
              "<style scoped>\n",
              "    .dataframe tbody tr th:only-of-type {\n",
              "        vertical-align: middle;\n",
              "    }\n",
              "\n",
              "    .dataframe tbody tr th {\n",
              "        vertical-align: top;\n",
              "    }\n",
              "\n",
              "    .dataframe thead th {\n",
              "        text-align: right;\n",
              "    }\n",
              "</style>\n",
              "<table border=\"1\" class=\"dataframe\">\n",
              "  <thead>\n",
              "    <tr style=\"text-align: right;\">\n",
              "      <th></th>\n",
              "      <th>id</th>\n",
              "      <th>name</th>\n",
              "      <th>rgb</th>\n",
              "      <th>is_trans</th>\n",
              "    </tr>\n",
              "  </thead>\n",
              "  <tbody>\n",
              "    <tr>\n",
              "      <th>0</th>\n",
              "      <td>-1</td>\n",
              "      <td>[Unknown]</td>\n",
              "      <td>0033B2</td>\n",
              "      <td>f</td>\n",
              "    </tr>\n",
              "    <tr>\n",
              "      <th>1</th>\n",
              "      <td>0</td>\n",
              "      <td>Black</td>\n",
              "      <td>05131D</td>\n",
              "      <td>f</td>\n",
              "    </tr>\n",
              "    <tr>\n",
              "      <th>2</th>\n",
              "      <td>1</td>\n",
              "      <td>Blue</td>\n",
              "      <td>0055BF</td>\n",
              "      <td>f</td>\n",
              "    </tr>\n",
              "    <tr>\n",
              "      <th>3</th>\n",
              "      <td>2</td>\n",
              "      <td>Green</td>\n",
              "      <td>237841</td>\n",
              "      <td>f</td>\n",
              "    </tr>\n",
              "    <tr>\n",
              "      <th>4</th>\n",
              "      <td>3</td>\n",
              "      <td>Dark Turquoise</td>\n",
              "      <td>008F9B</td>\n",
              "      <td>f</td>\n",
              "    </tr>\n",
              "  </tbody>\n",
              "</table>\n",
              "</div>"
            ],
            "text/plain": [
              "   id            name     rgb is_trans\n",
              "0  -1       [Unknown]  0033B2        f\n",
              "1   0           Black  05131D        f\n",
              "2   1            Blue  0055BF        f\n",
              "3   2           Green  237841        f\n",
              "4   3  Dark Turquoise  008F9B        f"
            ]
          },
          "metadata": {
            "tags": []
          },
          "execution_count": 6
        }
      ]
    },
    {
      "cell_type": "code",
      "metadata": {
        "id": "v06EJIYUa7UT"
      },
      "source": [
        "colors.drop(0, axis=0, inplace=True)"
      ],
      "execution_count": 7,
      "outputs": []
    },
    {
      "cell_type": "code",
      "metadata": {
        "colab": {
          "base_uri": "https://localhost:8080/"
        },
        "id": "bglz6EI7pXsF",
        "outputId": "3dd4bf91-d8c6-48ef-99bd-3faa334a0c3e"
      },
      "source": [
        "# Check column data types\r\n",
        "print('____________________Data types information____________________\\n')\r\n",
        "print(colors.info())\r\n",
        "\r\n",
        "# Check for null values\r\n",
        "print('____________________Null information____________________\\n')\r\n",
        "print(colors.isna().sum())"
      ],
      "execution_count": 8,
      "outputs": [
        {
          "output_type": "stream",
          "text": [
            "____________________Data types information____________________\n",
            "\n",
            "<class 'pandas.core.frame.DataFrame'>\n",
            "Int64Index: 183 entries, 1 to 183\n",
            "Data columns (total 4 columns):\n",
            " #   Column    Non-Null Count  Dtype \n",
            "---  ------    --------------  ----- \n",
            " 0   id        183 non-null    int64 \n",
            " 1   name      183 non-null    object\n",
            " 2   rgb       183 non-null    object\n",
            " 3   is_trans  183 non-null    object\n",
            "dtypes: int64(1), object(3)\n",
            "memory usage: 7.1+ KB\n",
            "None\n",
            "____________________Null information____________________\n",
            "\n",
            "id          0\n",
            "name        0\n",
            "rgb         0\n",
            "is_trans    0\n",
            "dtype: int64\n"
          ],
          "name": "stdout"
        }
      ]
    },
    {
      "cell_type": "markdown",
      "metadata": {
        "id": "sB_NwFPFEkp1"
      },
      "source": [
        "### Control duplicate values"
      ]
    },
    {
      "cell_type": "markdown",
      "metadata": {
        "id": "82hQ9kP2uHwd"
      },
      "source": [
        "Shape of colors table is 183 rows and 4 columns, but there are only 162 unique colors counted by rgb and transparency.\r\n",
        "\r\n",
        "This means there are duplicated values."
      ]
    },
    {
      "cell_type": "code",
      "metadata": {
        "colab": {
          "base_uri": "https://localhost:8080/"
        },
        "id": "uGPQd465r0lc",
        "outputId": "7376e220-3944-48d8-9dfa-cb161b3981a9"
      },
      "source": [
        "# Check duplicated\r\n",
        "colors_duplicated = colors[colors[['rgb', 'is_trans']].duplicated()].shape[0]\r\n",
        "\r\n",
        "print('There are {} duplicated colors in dataset'.format(colors_duplicated))"
      ],
      "execution_count": 9,
      "outputs": [
        {
          "output_type": "stream",
          "text": [
            "There are 21 duplicated colors in dataset\n"
          ],
          "name": "stdout"
        }
      ]
    },
    {
      "cell_type": "markdown",
      "metadata": {
        "id": "BNLnz49IFpED"
      },
      "source": [
        "### Answer a) question"
      ]
    },
    {
      "cell_type": "markdown",
      "metadata": {
        "id": "5b16YrMutrY5"
      },
      "source": [
        "Because we cannot use .unique() method on a DataFrame of columns rgb and is_trans I quickly concatenate both string and check its length."
      ]
    },
    {
      "cell_type": "code",
      "metadata": {
        "colab": {
          "base_uri": "https://localhost:8080/"
        },
        "id": "HZaNqvmbngrq",
        "outputId": "35b0973f-f5b1-4760-bd2c-49742563f7a2"
      },
      "source": [
        "colors['rgb_trans'] = colors['rgb'] + ' ' + colors['is_trans']\r\n",
        "unique_colors = colors['rgb_trans'].unique()\r\n",
        "len(unique_colors)"
      ],
      "execution_count": 10,
      "outputs": [
        {
          "output_type": "execute_result",
          "data": {
            "text/plain": [
              "162"
            ]
          },
          "metadata": {
            "tags": []
          },
          "execution_count": 10
        }
      ]
    },
    {
      "cell_type": "markdown",
      "metadata": {
        "id": "2_w7zkgWu58b"
      },
      "source": [
        "In conclusion there are 162 unique colors created by LEGO according to this dataset."
      ]
    },
    {
      "cell_type": "markdown",
      "metadata": {
        "id": "yHqnrPo3nEvj"
      },
      "source": [
        "## b) Besides knowing all available colors in their dataset, it is better to analyse how many of them are being used at the moment.\r\n",
        "\r\n",
        "It will be more useful for the product team to have the colors that LEGO is currently using.\r\n",
        "\r\n",
        "If old created colors were droped from the market, it means they weren't being sold as expected."
      ]
    },
    {
      "cell_type": "code",
      "metadata": {
        "colab": {
          "base_uri": "https://localhost:8080/",
          "height": 221
        },
        "id": "0k4Sf-Dqlkbz",
        "outputId": "c812b973-ab43-42a0-fb24-b3e535db0dd6"
      },
      "source": [
        "# Merge today's inventory with color ids.\r\n",
        "inventory_parts = pd.read_csv('inventory_parts.csv')\r\n",
        "\r\n",
        "# Let's print shape and head\r\n",
        "print(inventory_parts.shape)\r\n",
        "inventory_parts.head()"
      ],
      "execution_count": 11,
      "outputs": [
        {
          "output_type": "stream",
          "text": [
            "(815847, 5)\n"
          ],
          "name": "stdout"
        },
        {
          "output_type": "execute_result",
          "data": {
            "text/html": [
              "<div>\n",
              "<style scoped>\n",
              "    .dataframe tbody tr th:only-of-type {\n",
              "        vertical-align: middle;\n",
              "    }\n",
              "\n",
              "    .dataframe tbody tr th {\n",
              "        vertical-align: top;\n",
              "    }\n",
              "\n",
              "    .dataframe thead th {\n",
              "        text-align: right;\n",
              "    }\n",
              "</style>\n",
              "<table border=\"1\" class=\"dataframe\">\n",
              "  <thead>\n",
              "    <tr style=\"text-align: right;\">\n",
              "      <th></th>\n",
              "      <th>inventory_id</th>\n",
              "      <th>part_num</th>\n",
              "      <th>color_id</th>\n",
              "      <th>quantity</th>\n",
              "      <th>is_spare</th>\n",
              "    </tr>\n",
              "  </thead>\n",
              "  <tbody>\n",
              "    <tr>\n",
              "      <th>0</th>\n",
              "      <td>1</td>\n",
              "      <td>48379c01</td>\n",
              "      <td>72</td>\n",
              "      <td>1</td>\n",
              "      <td>f</td>\n",
              "    </tr>\n",
              "    <tr>\n",
              "      <th>1</th>\n",
              "      <td>1</td>\n",
              "      <td>48395</td>\n",
              "      <td>7</td>\n",
              "      <td>1</td>\n",
              "      <td>f</td>\n",
              "    </tr>\n",
              "    <tr>\n",
              "      <th>2</th>\n",
              "      <td>1</td>\n",
              "      <td>mcsport6</td>\n",
              "      <td>25</td>\n",
              "      <td>1</td>\n",
              "      <td>f</td>\n",
              "    </tr>\n",
              "    <tr>\n",
              "      <th>3</th>\n",
              "      <td>1</td>\n",
              "      <td>paddle</td>\n",
              "      <td>0</td>\n",
              "      <td>1</td>\n",
              "      <td>f</td>\n",
              "    </tr>\n",
              "    <tr>\n",
              "      <th>4</th>\n",
              "      <td>3</td>\n",
              "      <td>11816pr0005</td>\n",
              "      <td>78</td>\n",
              "      <td>1</td>\n",
              "      <td>f</td>\n",
              "    </tr>\n",
              "  </tbody>\n",
              "</table>\n",
              "</div>"
            ],
            "text/plain": [
              "   inventory_id     part_num  color_id  quantity is_spare\n",
              "0             1     48379c01        72         1        f\n",
              "1             1        48395         7         1        f\n",
              "2             1     mcsport6        25         1        f\n",
              "3             1       paddle         0         1        f\n",
              "4             3  11816pr0005        78         1        f"
            ]
          },
          "metadata": {
            "tags": []
          },
          "execution_count": 11
        }
      ]
    },
    {
      "cell_type": "code",
      "metadata": {
        "id": "EPJQ-lfbxRYW",
        "colab": {
          "base_uri": "https://localhost:8080/",
          "height": 204
        },
        "outputId": "983d77f6-1ad2-4130-fa50-11b249413c12"
      },
      "source": [
        "# Left merge inventory/colors on color_id columns\r\n",
        "inv_colors = inventory_parts.merge(colors, left_on='color_id', right_on='id', how='left', suffixes=('_inv','_colors'))\r\n",
        "inv_colors.head()"
      ],
      "execution_count": 12,
      "outputs": [
        {
          "output_type": "execute_result",
          "data": {
            "text/html": [
              "<div>\n",
              "<style scoped>\n",
              "    .dataframe tbody tr th:only-of-type {\n",
              "        vertical-align: middle;\n",
              "    }\n",
              "\n",
              "    .dataframe tbody tr th {\n",
              "        vertical-align: top;\n",
              "    }\n",
              "\n",
              "    .dataframe thead th {\n",
              "        text-align: right;\n",
              "    }\n",
              "</style>\n",
              "<table border=\"1\" class=\"dataframe\">\n",
              "  <thead>\n",
              "    <tr style=\"text-align: right;\">\n",
              "      <th></th>\n",
              "      <th>inventory_id</th>\n",
              "      <th>part_num</th>\n",
              "      <th>color_id</th>\n",
              "      <th>quantity</th>\n",
              "      <th>is_spare</th>\n",
              "      <th>id</th>\n",
              "      <th>name</th>\n",
              "      <th>rgb</th>\n",
              "      <th>is_trans</th>\n",
              "      <th>rgb_trans</th>\n",
              "    </tr>\n",
              "  </thead>\n",
              "  <tbody>\n",
              "    <tr>\n",
              "      <th>0</th>\n",
              "      <td>1</td>\n",
              "      <td>48379c01</td>\n",
              "      <td>72</td>\n",
              "      <td>1</td>\n",
              "      <td>f</td>\n",
              "      <td>72.0</td>\n",
              "      <td>Dark Bluish Gray</td>\n",
              "      <td>6C6E68</td>\n",
              "      <td>f</td>\n",
              "      <td>6C6E68 f</td>\n",
              "    </tr>\n",
              "    <tr>\n",
              "      <th>1</th>\n",
              "      <td>1</td>\n",
              "      <td>48395</td>\n",
              "      <td>7</td>\n",
              "      <td>1</td>\n",
              "      <td>f</td>\n",
              "      <td>7.0</td>\n",
              "      <td>Light Gray</td>\n",
              "      <td>9BA19D</td>\n",
              "      <td>f</td>\n",
              "      <td>9BA19D f</td>\n",
              "    </tr>\n",
              "    <tr>\n",
              "      <th>2</th>\n",
              "      <td>1</td>\n",
              "      <td>mcsport6</td>\n",
              "      <td>25</td>\n",
              "      <td>1</td>\n",
              "      <td>f</td>\n",
              "      <td>25.0</td>\n",
              "      <td>Orange</td>\n",
              "      <td>FE8A18</td>\n",
              "      <td>f</td>\n",
              "      <td>FE8A18 f</td>\n",
              "    </tr>\n",
              "    <tr>\n",
              "      <th>3</th>\n",
              "      <td>1</td>\n",
              "      <td>paddle</td>\n",
              "      <td>0</td>\n",
              "      <td>1</td>\n",
              "      <td>f</td>\n",
              "      <td>0.0</td>\n",
              "      <td>Black</td>\n",
              "      <td>05131D</td>\n",
              "      <td>f</td>\n",
              "      <td>05131D f</td>\n",
              "    </tr>\n",
              "    <tr>\n",
              "      <th>4</th>\n",
              "      <td>3</td>\n",
              "      <td>11816pr0005</td>\n",
              "      <td>78</td>\n",
              "      <td>1</td>\n",
              "      <td>f</td>\n",
              "      <td>78.0</td>\n",
              "      <td>Light Flesh</td>\n",
              "      <td>F6D7B3</td>\n",
              "      <td>f</td>\n",
              "      <td>F6D7B3 f</td>\n",
              "    </tr>\n",
              "  </tbody>\n",
              "</table>\n",
              "</div>"
            ],
            "text/plain": [
              "   inventory_id     part_num  color_id  ...     rgb is_trans  rgb_trans\n",
              "0             1     48379c01        72  ...  6C6E68        f   6C6E68 f\n",
              "1             1        48395         7  ...  9BA19D        f   9BA19D f\n",
              "2             1     mcsport6        25  ...  FE8A18        f   FE8A18 f\n",
              "3             1       paddle         0  ...  05131D        f   05131D f\n",
              "4             3  11816pr0005        78  ...  F6D7B3        f   F6D7B3 f\n",
              "\n",
              "[5 rows x 10 columns]"
            ]
          },
          "metadata": {
            "tags": []
          },
          "execution_count": 12
        }
      ]
    },
    {
      "cell_type": "code",
      "metadata": {
        "colab": {
          "base_uri": "https://localhost:8080/"
        },
        "id": "b4Xd62UNycfV",
        "outputId": "8cbaeed6-a8ce-4c49-ff78-c1b3e4840a6e"
      },
      "source": [
        "unique_inv_colors = inv_colors['rgb_trans'].unique()\r\n",
        "print('Number of colors according to unique rgb and trans:', len(unique_inv_colors))\r\n",
        "\r\n",
        "print('Number of colors according to ids', inv_colors['id'].unique().shape[0])"
      ],
      "execution_count": 13,
      "outputs": [
        {
          "output_type": "stream",
          "text": [
            "Number of colors according to unique rgb and trans: 157\n",
            "Number of colors according to ids 170\n"
          ],
          "name": "stdout"
        }
      ]
    },
    {
      "cell_type": "markdown",
      "metadata": {
        "id": "cjw6AA2ky0Ww"
      },
      "source": [
        "Again in dataset there are more 'id' rows than actual colors calculated with unique rgbs and transparency. \r\n",
        "\r\n",
        "There are 157 colors beings used by the toy maker."
      ]
    },
    {
      "cell_type": "markdown",
      "metadata": {
        "id": "F7PaBVso0fZA"
      },
      "source": [
        "## c) What colors are not being used at the moment?\r\n",
        "\r\n"
      ]
    },
    {
      "cell_type": "code",
      "metadata": {
        "colab": {
          "base_uri": "https://localhost:8080/"
        },
        "id": "v9pyDychA3v_",
        "outputId": "bad0faef-147a-4301-b56c-1d92fdfae5fd"
      },
      "source": [
        "not_used_colors = np.setdiff1d(unique_colors.astype(str), unique_inv_colors.astype(str))\r\n",
        "not_used_colors"
      ],
      "execution_count": 14,
      "outputs": [
        {
          "output_type": "execute_result",
          "data": {
            "text/plain": [
              "array(['0057A6 f', '006400 f', '4B0082 f', '583927 t', '8B0000 f',\n",
              "       '8E5597 f'], dtype='<U8')"
            ]
          },
          "metadata": {
            "tags": []
          },
          "execution_count": 14
        }
      ]
    },
    {
      "cell_type": "code",
      "metadata": {
        "colab": {
          "base_uri": "https://localhost:8080/",
          "height": 252
        },
        "id": "WYBnVqDM1PV3",
        "outputId": "d7048844-6719-4ab4-ec3b-63b4e2cc3123"
      },
      "source": [
        "print('There are {} colors not being produced:'.format(len(not_used_colors)))\r\n",
        "\r\n",
        "# Create a boolean mask to filter color dataset and give name, rgb and transparency\r\n",
        "# for every color not available in inventory the moment.\r\n",
        "bool_mask = colors['rgb_trans'].isin(not_used_colors)\r\n",
        "\r\n",
        "# Dataset of name, rgb and transparency for every color not available in\r\n",
        "# inventory the moment.\r\n",
        "not_used_colors = colors[bool_mask][['name', 'rgb', 'is_trans']].reset_index(drop=True).drop_duplicates(subset=['rgb', 'is_trans'])\r\n",
        "not_used_colors"
      ],
      "execution_count": 15,
      "outputs": [
        {
          "output_type": "stream",
          "text": [
            "There are 6 colors not being produced:\n"
          ],
          "name": "stdout"
        },
        {
          "output_type": "execute_result",
          "data": {
            "text/html": [
              "<div>\n",
              "<style scoped>\n",
              "    .dataframe tbody tr th:only-of-type {\n",
              "        vertical-align: middle;\n",
              "    }\n",
              "\n",
              "    .dataframe tbody tr th {\n",
              "        vertical-align: top;\n",
              "    }\n",
              "\n",
              "    .dataframe thead th {\n",
              "        text-align: right;\n",
              "    }\n",
              "</style>\n",
              "<table border=\"1\" class=\"dataframe\">\n",
              "  <thead>\n",
              "    <tr style=\"text-align: right;\">\n",
              "      <th></th>\n",
              "      <th>name</th>\n",
              "      <th>rgb</th>\n",
              "      <th>is_trans</th>\n",
              "    </tr>\n",
              "  </thead>\n",
              "  <tbody>\n",
              "    <tr>\n",
              "      <th>0</th>\n",
              "      <td>Reddish Lilac</td>\n",
              "      <td>8E5597</td>\n",
              "      <td>f</td>\n",
              "    </tr>\n",
              "    <tr>\n",
              "      <th>1</th>\n",
              "      <td>Modulex Tile Blue</td>\n",
              "      <td>0057A6</td>\n",
              "      <td>f</td>\n",
              "    </tr>\n",
              "    <tr>\n",
              "      <th>2</th>\n",
              "      <td>Modulex Foil Dark Green</td>\n",
              "      <td>006400</td>\n",
              "      <td>f</td>\n",
              "    </tr>\n",
              "    <tr>\n",
              "      <th>4</th>\n",
              "      <td>Modulex Foil Violet</td>\n",
              "      <td>4B0082</td>\n",
              "      <td>f</td>\n",
              "    </tr>\n",
              "    <tr>\n",
              "      <th>5</th>\n",
              "      <td>Modulex Foil Red</td>\n",
              "      <td>8B0000</td>\n",
              "      <td>f</td>\n",
              "    </tr>\n",
              "    <tr>\n",
              "      <th>6</th>\n",
              "      <td>Trans-Brown Opal</td>\n",
              "      <td>583927</td>\n",
              "      <td>t</td>\n",
              "    </tr>\n",
              "  </tbody>\n",
              "</table>\n",
              "</div>"
            ],
            "text/plain": [
              "                      name     rgb is_trans\n",
              "0            Reddish Lilac  8E5597        f\n",
              "1        Modulex Tile Blue  0057A6        f\n",
              "2  Modulex Foil Dark Green  006400        f\n",
              "4      Modulex Foil Violet  4B0082        f\n",
              "5         Modulex Foil Red  8B0000        f\n",
              "6         Trans-Brown Opal  583927        t"
            ]
          },
          "metadata": {
            "tags": []
          },
          "execution_count": 15
        }
      ]
    },
    {
      "cell_type": "markdown",
      "metadata": {
        "id": "4xtVEyJu6rFE"
      },
      "source": [
        "# 2) Exploring Colors: What are the 10 most used colors?"
      ]
    },
    {
      "cell_type": "markdown",
      "metadata": {
        "id": "97DhLnVR7hR_"
      },
      "source": [
        "We will answer the question by counting the frequency of colors used in toy parts."
      ]
    },
    {
      "cell_type": "code",
      "metadata": {
        "id": "Nxksi_6QnmQP",
        "colab": {
          "base_uri": "https://localhost:8080/",
          "height": 359
        },
        "outputId": "e1e928aa-483c-48b6-bc90-c463b4b663ff"
      },
      "source": [
        "# Subset index colors that have the most lego parts\r\n",
        "most_used_rgb_trans = inv_colors.rgb_trans.value_counts().iloc[:10].index\r\n",
        "\r\n",
        "# Subset inv_colors table\r\n",
        "ten_most_used_colors = inv_colors[inv_colors.rgb_trans.isin(most_used_rgb_trans)][['name', 'rgb', 'is_trans']] \\\r\n",
        "              .drop_duplicates(subset=['rgb', 'is_trans']).reset_index(drop=True)\r\n",
        "              # Also drop incomplete duplicates and reset_index\r\n",
        "              \r\n",
        "\r\n",
        "\r\n",
        "# Display result table:\r\n",
        "ten_most_used_colors"
      ],
      "execution_count": 16,
      "outputs": [
        {
          "output_type": "execute_result",
          "data": {
            "text/html": [
              "<div>\n",
              "<style scoped>\n",
              "    .dataframe tbody tr th:only-of-type {\n",
              "        vertical-align: middle;\n",
              "    }\n",
              "\n",
              "    .dataframe tbody tr th {\n",
              "        vertical-align: top;\n",
              "    }\n",
              "\n",
              "    .dataframe thead th {\n",
              "        text-align: right;\n",
              "    }\n",
              "</style>\n",
              "<table border=\"1\" class=\"dataframe\">\n",
              "  <thead>\n",
              "    <tr style=\"text-align: right;\">\n",
              "      <th></th>\n",
              "      <th>name</th>\n",
              "      <th>rgb</th>\n",
              "      <th>is_trans</th>\n",
              "    </tr>\n",
              "  </thead>\n",
              "  <tbody>\n",
              "    <tr>\n",
              "      <th>0</th>\n",
              "      <td>Dark Bluish Gray</td>\n",
              "      <td>6C6E68</td>\n",
              "      <td>f</td>\n",
              "    </tr>\n",
              "    <tr>\n",
              "      <th>1</th>\n",
              "      <td>Light Gray</td>\n",
              "      <td>9BA19D</td>\n",
              "      <td>f</td>\n",
              "    </tr>\n",
              "    <tr>\n",
              "      <th>2</th>\n",
              "      <td>Black</td>\n",
              "      <td>05131D</td>\n",
              "      <td>f</td>\n",
              "    </tr>\n",
              "    <tr>\n",
              "      <th>3</th>\n",
              "      <td>White</td>\n",
              "      <td>FFFFFF</td>\n",
              "      <td>f</td>\n",
              "    </tr>\n",
              "    <tr>\n",
              "      <th>4</th>\n",
              "      <td>Reddish Brown</td>\n",
              "      <td>582A12</td>\n",
              "      <td>f</td>\n",
              "    </tr>\n",
              "    <tr>\n",
              "      <th>5</th>\n",
              "      <td>Blue</td>\n",
              "      <td>0055BF</td>\n",
              "      <td>f</td>\n",
              "    </tr>\n",
              "    <tr>\n",
              "      <th>6</th>\n",
              "      <td>Red</td>\n",
              "      <td>C91A09</td>\n",
              "      <td>f</td>\n",
              "    </tr>\n",
              "    <tr>\n",
              "      <th>7</th>\n",
              "      <td>Yellow</td>\n",
              "      <td>F2CD37</td>\n",
              "      <td>f</td>\n",
              "    </tr>\n",
              "    <tr>\n",
              "      <th>8</th>\n",
              "      <td>Light Bluish Gray</td>\n",
              "      <td>A0A5A9</td>\n",
              "      <td>f</td>\n",
              "    </tr>\n",
              "    <tr>\n",
              "      <th>9</th>\n",
              "      <td>Tan</td>\n",
              "      <td>E4CD9E</td>\n",
              "      <td>f</td>\n",
              "    </tr>\n",
              "  </tbody>\n",
              "</table>\n",
              "</div>"
            ],
            "text/plain": [
              "                name     rgb is_trans\n",
              "0   Dark Bluish Gray  6C6E68        f\n",
              "1         Light Gray  9BA19D        f\n",
              "2              Black  05131D        f\n",
              "3              White  FFFFFF        f\n",
              "4      Reddish Brown  582A12        f\n",
              "5               Blue  0055BF        f\n",
              "6                Red  C91A09        f\n",
              "7             Yellow  F2CD37        f\n",
              "8  Light Bluish Gray  A0A5A9        f\n",
              "9                Tan  E4CD9E        f"
            ]
          },
          "metadata": {
            "tags": []
          },
          "execution_count": 16
        }
      ]
    },
    {
      "cell_type": "markdown",
      "metadata": {
        "id": "whRcuyJAHgKW"
      },
      "source": [
        "### Showing best colors on image"
      ]
    },
    {
      "cell_type": "code",
      "metadata": {
        "id": "JBklD1KuHtpR"
      },
      "source": [
        "# Add a # symbol before rgb for plt understand the hex code\r\n",
        "ten_most_used_colors['one'] = 1\r\n",
        "ten_most_used_colors['hash_rgb'] = \"#\" + ten_most_used_colors['rgb']"
      ],
      "execution_count": 17,
      "outputs": []
    },
    {
      "cell_type": "code",
      "metadata": {
        "id": "4npEQs_31m65"
      },
      "source": [
        "ten_most_used_colors.to_csv('most_used_colors.csv')"
      ],
      "execution_count": 18,
      "outputs": []
    },
    {
      "cell_type": "code",
      "metadata": {
        "colab": {
          "base_uri": "https://localhost:8080/",
          "height": 265
        },
        "id": "JJLZeNEHJEfb",
        "outputId": "0235b581-5a47-4cce-9bc1-4d71e87f1dfb"
      },
      "source": [
        "for i in range(len(ten_most_used_colors)):\r\n",
        "  plt.bar(x=i, height=ten_most_used_colors['one'][i], data=ten_most_used_colors, color=ten_most_used_colors['hash_rgb'][i])\r\n",
        "\r\n",
        "plt.show()"
      ],
      "execution_count": 19,
      "outputs": [
        {
          "output_type": "display_data",
          "data": {
            "image/png": "[encoded data removed]",
            "text/plain": [
              "<Figure size 432x288 with 1 Axes>"
            ]
          },
          "metadata": {
            "tags": []
          }
        }
      ]
    },
    {
      "cell_type": "markdown",
      "metadata": {
        "id": "DF0nvB0eERqT"
      },
      "source": [
        "# 3) Exploring Colors: Explore transparent vs non-transparent colors ratio throught the years."
      ]
    },
    {
      "cell_type": "markdown",
      "metadata": {
        "id": "NrBwQPMGEjO7"
      },
      "source": [
        "I would start by importing sets table that contains the name of the sets and the created years. We then have to merge to inventories table and then inventory_parts and colors (The last two are already merged and assigned in inv_colors) "
      ]
    },
    {
      "cell_type": "code",
      "metadata": {
        "colab": {
          "base_uri": "https://localhost:8080/",
          "height": 442
        },
        "id": "-Jnykg0BETRt",
        "outputId": "a6d74458-9d5f-46f2-d278-9e4c3129fc08"
      },
      "source": [
        "# Import sets.csv\r\n",
        "sets = pd.read_csv('sets.csv')\r\n",
        "\r\n",
        "# Import inventories.csv\r\n",
        "inventories = pd.read_csv('inventories.csv')\r\n",
        "\r\n",
        "# Let's print shapes and heads of sets\r\n",
        "print('sets shape:', sets.shape)\r\n",
        "display(sets.head())\r\n",
        "\r\n",
        "print('\\n inventories shape:', inventories.shape)\r\n",
        "display(inventories.head())\r\n"
      ],
      "execution_count": 21,
      "outputs": [
        {
          "output_type": "stream",
          "text": [
            "sets shape: (15666, 5)\n"
          ],
          "name": "stdout"
        },
        {
          "output_type": "display_data",
          "data": {
            "text/html": [
              "<div>\n",
              "<style scoped>\n",
              "    .dataframe tbody tr th:only-of-type {\n",
              "        vertical-align: middle;\n",
              "    }\n",
              "\n",
              "    .dataframe tbody tr th {\n",
              "        vertical-align: top;\n",
              "    }\n",
              "\n",
              "    .dataframe thead th {\n",
              "        text-align: right;\n",
              "    }\n",
              "</style>\n",
              "<table border=\"1\" class=\"dataframe\">\n",
              "  <thead>\n",
              "    <tr style=\"text-align: right;\">\n",
              "      <th></th>\n",
              "      <th>set_num</th>\n",
              "      <th>name</th>\n",
              "      <th>year</th>\n",
              "      <th>theme_id</th>\n",
              "      <th>num_parts</th>\n",
              "    </tr>\n",
              "  </thead>\n",
              "  <tbody>\n",
              "    <tr>\n",
              "      <th>0</th>\n",
              "      <td>001-1</td>\n",
              "      <td>Gears</td>\n",
              "      <td>1965</td>\n",
              "      <td>1</td>\n",
              "      <td>43</td>\n",
              "    </tr>\n",
              "    <tr>\n",
              "      <th>1</th>\n",
              "      <td>0011-2</td>\n",
              "      <td>Town Mini-Figures</td>\n",
              "      <td>1978</td>\n",
              "      <td>84</td>\n",
              "      <td>12</td>\n",
              "    </tr>\n",
              "    <tr>\n",
              "      <th>2</th>\n",
              "      <td>0011-3</td>\n",
              "      <td>Castle 2 for 1 Bonus Offer</td>\n",
              "      <td>1987</td>\n",
              "      <td>199</td>\n",
              "      <td>0</td>\n",
              "    </tr>\n",
              "    <tr>\n",
              "      <th>3</th>\n",
              "      <td>0012-1</td>\n",
              "      <td>Space Mini-Figures</td>\n",
              "      <td>1979</td>\n",
              "      <td>143</td>\n",
              "      <td>12</td>\n",
              "    </tr>\n",
              "    <tr>\n",
              "      <th>4</th>\n",
              "      <td>0013-1</td>\n",
              "      <td>Space Mini-Figures</td>\n",
              "      <td>1979</td>\n",
              "      <td>143</td>\n",
              "      <td>12</td>\n",
              "    </tr>\n",
              "  </tbody>\n",
              "</table>\n",
              "</div>"
            ],
            "text/plain": [
              "  set_num                        name  year  theme_id  num_parts\n",
              "0   001-1                       Gears  1965         1         43\n",
              "1  0011-2           Town Mini-Figures  1978        84         12\n",
              "2  0011-3  Castle 2 for 1 Bonus Offer  1987       199          0\n",
              "3  0012-1          Space Mini-Figures  1979       143         12\n",
              "4  0013-1          Space Mini-Figures  1979       143         12"
            ]
          },
          "metadata": {
            "tags": []
          }
        },
        {
          "output_type": "stream",
          "text": [
            "\n",
            " inventories shape: (15990, 3)\n"
          ],
          "name": "stdout"
        },
        {
          "output_type": "display_data",
          "data": {
            "text/html": [
              "<div>\n",
              "<style scoped>\n",
              "    .dataframe tbody tr th:only-of-type {\n",
              "        vertical-align: middle;\n",
              "    }\n",
              "\n",
              "    .dataframe tbody tr th {\n",
              "        vertical-align: top;\n",
              "    }\n",
              "\n",
              "    .dataframe thead th {\n",
              "        text-align: right;\n",
              "    }\n",
              "</style>\n",
              "<table border=\"1\" class=\"dataframe\">\n",
              "  <thead>\n",
              "    <tr style=\"text-align: right;\">\n",
              "      <th></th>\n",
              "      <th>id</th>\n",
              "      <th>version</th>\n",
              "      <th>set_num</th>\n",
              "    </tr>\n",
              "  </thead>\n",
              "  <tbody>\n",
              "    <tr>\n",
              "      <th>0</th>\n",
              "      <td>1</td>\n",
              "      <td>1</td>\n",
              "      <td>7922-1</td>\n",
              "    </tr>\n",
              "    <tr>\n",
              "      <th>1</th>\n",
              "      <td>3</td>\n",
              "      <td>1</td>\n",
              "      <td>3931-1</td>\n",
              "    </tr>\n",
              "    <tr>\n",
              "      <th>2</th>\n",
              "      <td>4</td>\n",
              "      <td>1</td>\n",
              "      <td>6942-1</td>\n",
              "    </tr>\n",
              "    <tr>\n",
              "      <th>3</th>\n",
              "      <td>15</td>\n",
              "      <td>1</td>\n",
              "      <td>5158-1</td>\n",
              "    </tr>\n",
              "    <tr>\n",
              "      <th>4</th>\n",
              "      <td>16</td>\n",
              "      <td>1</td>\n",
              "      <td>903-1</td>\n",
              "    </tr>\n",
              "  </tbody>\n",
              "</table>\n",
              "</div>"
            ],
            "text/plain": [
              "   id  version set_num\n",
              "0   1        1  7922-1\n",
              "1   3        1  3931-1\n",
              "2   4        1  6942-1\n",
              "3  15        1  5158-1\n",
              "4  16        1   903-1"
            ]
          },
          "metadata": {
            "tags": []
          }
        }
      ]
    },
    {
      "cell_type": "code",
      "metadata": {
        "colab": {
          "base_uri": "https://localhost:8080/",
          "height": 204
        },
        "id": "0jLEQum1G1iU",
        "outputId": "3e3006b0-1b14-4b30-b9ba-759b1906f76b"
      },
      "source": [
        "# Left merge sets/inventories on color_id columns\r\n",
        "sets_inv = sets.merge(inventories, on='set_num', how='left')\r\n",
        "sets_inv.head()"
      ],
      "execution_count": 22,
      "outputs": [
        {
          "output_type": "execute_result",
          "data": {
            "text/html": [
              "<div>\n",
              "<style scoped>\n",
              "    .dataframe tbody tr th:only-of-type {\n",
              "        vertical-align: middle;\n",
              "    }\n",
              "\n",
              "    .dataframe tbody tr th {\n",
              "        vertical-align: top;\n",
              "    }\n",
              "\n",
              "    .dataframe thead th {\n",
              "        text-align: right;\n",
              "    }\n",
              "</style>\n",
              "<table border=\"1\" class=\"dataframe\">\n",
              "  <thead>\n",
              "    <tr style=\"text-align: right;\">\n",
              "      <th></th>\n",
              "      <th>set_num</th>\n",
              "      <th>name</th>\n",
              "      <th>year</th>\n",
              "      <th>theme_id</th>\n",
              "      <th>num_parts</th>\n",
              "      <th>id</th>\n",
              "      <th>version</th>\n",
              "    </tr>\n",
              "  </thead>\n",
              "  <tbody>\n",
              "    <tr>\n",
              "      <th>0</th>\n",
              "      <td>001-1</td>\n",
              "      <td>Gears</td>\n",
              "      <td>1965</td>\n",
              "      <td>1</td>\n",
              "      <td>43</td>\n",
              "      <td>24696</td>\n",
              "      <td>1</td>\n",
              "    </tr>\n",
              "    <tr>\n",
              "      <th>1</th>\n",
              "      <td>0011-2</td>\n",
              "      <td>Town Mini-Figures</td>\n",
              "      <td>1978</td>\n",
              "      <td>84</td>\n",
              "      <td>12</td>\n",
              "      <td>5087</td>\n",
              "      <td>1</td>\n",
              "    </tr>\n",
              "    <tr>\n",
              "      <th>2</th>\n",
              "      <td>0011-3</td>\n",
              "      <td>Castle 2 for 1 Bonus Offer</td>\n",
              "      <td>1987</td>\n",
              "      <td>199</td>\n",
              "      <td>0</td>\n",
              "      <td>2216</td>\n",
              "      <td>1</td>\n",
              "    </tr>\n",
              "    <tr>\n",
              "      <th>3</th>\n",
              "      <td>0012-1</td>\n",
              "      <td>Space Mini-Figures</td>\n",
              "      <td>1979</td>\n",
              "      <td>143</td>\n",
              "      <td>12</td>\n",
              "      <td>1414</td>\n",
              "      <td>1</td>\n",
              "    </tr>\n",
              "    <tr>\n",
              "      <th>4</th>\n",
              "      <td>0013-1</td>\n",
              "      <td>Space Mini-Figures</td>\n",
              "      <td>1979</td>\n",
              "      <td>143</td>\n",
              "      <td>12</td>\n",
              "      <td>4609</td>\n",
              "      <td>1</td>\n",
              "    </tr>\n",
              "  </tbody>\n",
              "</table>\n",
              "</div>"
            ],
            "text/plain": [
              "  set_num                        name  year  ...  num_parts     id  version\n",
              "0   001-1                       Gears  1965  ...         43  24696        1\n",
              "1  0011-2           Town Mini-Figures  1978  ...         12   5087        1\n",
              "2  0011-3  Castle 2 for 1 Bonus Offer  1987  ...          0   2216        1\n",
              "3  0012-1          Space Mini-Figures  1979  ...         12   1414        1\n",
              "4  0013-1          Space Mini-Figures  1979  ...         12   4609        1\n",
              "\n",
              "[5 rows x 7 columns]"
            ]
          },
          "metadata": {
            "tags": []
          },
          "execution_count": 22
        }
      ]
    },
    {
      "cell_type": "code",
      "metadata": {
        "colab": {
          "base_uri": "https://localhost:8080/",
          "height": 221
        },
        "id": "pjRUxSqgHY4B",
        "outputId": "bea803bd-9429-4a2f-8d90-a16d2e449059"
      },
      "source": [
        "# Left merge sets/inventories on color_id columns\r\n",
        "merged = sets_inv.merge(inv_colors, left_on='id', right_on='inventory_id', how='left', suffixes=('_setsinv','_invcol'))\r\n",
        "print(merged.shape)\r\n",
        "merged.head()"
      ],
      "execution_count": 23,
      "outputs": [
        {
          "output_type": "stream",
          "text": [
            "(817515, 17)\n"
          ],
          "name": "stdout"
        },
        {
          "output_type": "execute_result",
          "data": {
            "text/html": [
              "<div>\n",
              "<style scoped>\n",
              "    .dataframe tbody tr th:only-of-type {\n",
              "        vertical-align: middle;\n",
              "    }\n",
              "\n",
              "    .dataframe tbody tr th {\n",
              "        vertical-align: top;\n",
              "    }\n",
              "\n",
              "    .dataframe thead th {\n",
              "        text-align: right;\n",
              "    }\n",
              "</style>\n",
              "<table border=\"1\" class=\"dataframe\">\n",
              "  <thead>\n",
              "    <tr style=\"text-align: right;\">\n",
              "      <th></th>\n",
              "      <th>set_num</th>\n",
              "      <th>name_setsinv</th>\n",
              "      <th>year</th>\n",
              "      <th>theme_id</th>\n",
              "      <th>num_parts</th>\n",
              "      <th>id_setsinv</th>\n",
              "      <th>version</th>\n",
              "      <th>inventory_id</th>\n",
              "      <th>part_num</th>\n",
              "      <th>color_id</th>\n",
              "      <th>quantity</th>\n",
              "      <th>is_spare</th>\n",
              "      <th>id_invcol</th>\n",
              "      <th>name_invcol</th>\n",
              "      <th>rgb</th>\n",
              "      <th>is_trans</th>\n",
              "      <th>rgb_trans</th>\n",
              "    </tr>\n",
              "  </thead>\n",
              "  <tbody>\n",
              "    <tr>\n",
              "      <th>0</th>\n",
              "      <td>001-1</td>\n",
              "      <td>Gears</td>\n",
              "      <td>1965</td>\n",
              "      <td>1</td>\n",
              "      <td>43</td>\n",
              "      <td>24696</td>\n",
              "      <td>1</td>\n",
              "      <td>24696.0</td>\n",
              "      <td>132a</td>\n",
              "      <td>7.0</td>\n",
              "      <td>4.0</td>\n",
              "      <td>f</td>\n",
              "      <td>7.0</td>\n",
              "      <td>Light Gray</td>\n",
              "      <td>9BA19D</td>\n",
              "      <td>f</td>\n",
              "      <td>9BA19D f</td>\n",
              "    </tr>\n",
              "    <tr>\n",
              "      <th>1</th>\n",
              "      <td>001-1</td>\n",
              "      <td>Gears</td>\n",
              "      <td>1965</td>\n",
              "      <td>1</td>\n",
              "      <td>43</td>\n",
              "      <td>24696</td>\n",
              "      <td>1</td>\n",
              "      <td>24696.0</td>\n",
              "      <td>3020</td>\n",
              "      <td>15.0</td>\n",
              "      <td>4.0</td>\n",
              "      <td>f</td>\n",
              "      <td>15.0</td>\n",
              "      <td>White</td>\n",
              "      <td>FFFFFF</td>\n",
              "      <td>f</td>\n",
              "      <td>FFFFFF f</td>\n",
              "    </tr>\n",
              "    <tr>\n",
              "      <th>2</th>\n",
              "      <td>001-1</td>\n",
              "      <td>Gears</td>\n",
              "      <td>1965</td>\n",
              "      <td>1</td>\n",
              "      <td>43</td>\n",
              "      <td>24696</td>\n",
              "      <td>1</td>\n",
              "      <td>24696.0</td>\n",
              "      <td>3062c</td>\n",
              "      <td>15.0</td>\n",
              "      <td>1.0</td>\n",
              "      <td>f</td>\n",
              "      <td>15.0</td>\n",
              "      <td>White</td>\n",
              "      <td>FFFFFF</td>\n",
              "      <td>f</td>\n",
              "      <td>FFFFFF f</td>\n",
              "    </tr>\n",
              "    <tr>\n",
              "      <th>3</th>\n",
              "      <td>001-1</td>\n",
              "      <td>Gears</td>\n",
              "      <td>1965</td>\n",
              "      <td>1</td>\n",
              "      <td>43</td>\n",
              "      <td>24696</td>\n",
              "      <td>1</td>\n",
              "      <td>24696.0</td>\n",
              "      <td>3404bc01</td>\n",
              "      <td>15.0</td>\n",
              "      <td>4.0</td>\n",
              "      <td>f</td>\n",
              "      <td>15.0</td>\n",
              "      <td>White</td>\n",
              "      <td>FFFFFF</td>\n",
              "      <td>f</td>\n",
              "      <td>FFFFFF f</td>\n",
              "    </tr>\n",
              "    <tr>\n",
              "      <th>4</th>\n",
              "      <td>001-1</td>\n",
              "      <td>Gears</td>\n",
              "      <td>1965</td>\n",
              "      <td>1</td>\n",
              "      <td>43</td>\n",
              "      <td>24696</td>\n",
              "      <td>1</td>\n",
              "      <td>24696.0</td>\n",
              "      <td>36</td>\n",
              "      <td>7.0</td>\n",
              "      <td>4.0</td>\n",
              "      <td>f</td>\n",
              "      <td>7.0</td>\n",
              "      <td>Light Gray</td>\n",
              "      <td>9BA19D</td>\n",
              "      <td>f</td>\n",
              "      <td>9BA19D f</td>\n",
              "    </tr>\n",
              "  </tbody>\n",
              "</table>\n",
              "</div>"
            ],
            "text/plain": [
              "  set_num name_setsinv  year  theme_id  ...  name_invcol     rgb  is_trans  rgb_trans\n",
              "0   001-1        Gears  1965         1  ...   Light Gray  9BA19D         f   9BA19D f\n",
              "1   001-1        Gears  1965         1  ...        White  FFFFFF         f   FFFFFF f\n",
              "2   001-1        Gears  1965         1  ...        White  FFFFFF         f   FFFFFF f\n",
              "3   001-1        Gears  1965         1  ...        White  FFFFFF         f   FFFFFF f\n",
              "4   001-1        Gears  1965         1  ...   Light Gray  9BA19D         f   9BA19D f\n",
              "\n",
              "[5 rows x 17 columns]"
            ]
          },
          "metadata": {
            "tags": []
          },
          "execution_count": 23
        }
      ]
    },
    {
      "cell_type": "code",
      "metadata": {
        "colab": {
          "base_uri": "https://localhost:8080/",
          "height": 204
        },
        "id": "5wDdTHH1ITx1",
        "outputId": "06571417-874e-4017-a4a1-1aa87f6eb881"
      },
      "source": [
        "# Let's drop some columns we won't need for analysis\r\n",
        "merged.drop(axis=1, labels=['id_setsinv', 'version', 'inventory_id', 'color_id', 'id_invcol'], inplace=True)\r\n",
        "merged.head()"
      ],
      "execution_count": 24,
      "outputs": [
        {
          "output_type": "execute_result",
          "data": {
            "text/html": [
              "<div>\n",
              "<style scoped>\n",
              "    .dataframe tbody tr th:only-of-type {\n",
              "        vertical-align: middle;\n",
              "    }\n",
              "\n",
              "    .dataframe tbody tr th {\n",
              "        vertical-align: top;\n",
              "    }\n",
              "\n",
              "    .dataframe thead th {\n",
              "        text-align: right;\n",
              "    }\n",
              "</style>\n",
              "<table border=\"1\" class=\"dataframe\">\n",
              "  <thead>\n",
              "    <tr style=\"text-align: right;\">\n",
              "      <th></th>\n",
              "      <th>set_num</th>\n",
              "      <th>name_setsinv</th>\n",
              "      <th>year</th>\n",
              "      <th>theme_id</th>\n",
              "      <th>num_parts</th>\n",
              "      <th>part_num</th>\n",
              "      <th>quantity</th>\n",
              "      <th>is_spare</th>\n",
              "      <th>name_invcol</th>\n",
              "      <th>rgb</th>\n",
              "      <th>is_trans</th>\n",
              "      <th>rgb_trans</th>\n",
              "    </tr>\n",
              "  </thead>\n",
              "  <tbody>\n",
              "    <tr>\n",
              "      <th>0</th>\n",
              "      <td>001-1</td>\n",
              "      <td>Gears</td>\n",
              "      <td>1965</td>\n",
              "      <td>1</td>\n",
              "      <td>43</td>\n",
              "      <td>132a</td>\n",
              "      <td>4.0</td>\n",
              "      <td>f</td>\n",
              "      <td>Light Gray</td>\n",
              "      <td>9BA19D</td>\n",
              "      <td>f</td>\n",
              "      <td>9BA19D f</td>\n",
              "    </tr>\n",
              "    <tr>\n",
              "      <th>1</th>\n",
              "      <td>001-1</td>\n",
              "      <td>Gears</td>\n",
              "      <td>1965</td>\n",
              "      <td>1</td>\n",
              "      <td>43</td>\n",
              "      <td>3020</td>\n",
              "      <td>4.0</td>\n",
              "      <td>f</td>\n",
              "      <td>White</td>\n",
              "      <td>FFFFFF</td>\n",
              "      <td>f</td>\n",
              "      <td>FFFFFF f</td>\n",
              "    </tr>\n",
              "    <tr>\n",
              "      <th>2</th>\n",
              "      <td>001-1</td>\n",
              "      <td>Gears</td>\n",
              "      <td>1965</td>\n",
              "      <td>1</td>\n",
              "      <td>43</td>\n",
              "      <td>3062c</td>\n",
              "      <td>1.0</td>\n",
              "      <td>f</td>\n",
              "      <td>White</td>\n",
              "      <td>FFFFFF</td>\n",
              "      <td>f</td>\n",
              "      <td>FFFFFF f</td>\n",
              "    </tr>\n",
              "    <tr>\n",
              "      <th>3</th>\n",
              "      <td>001-1</td>\n",
              "      <td>Gears</td>\n",
              "      <td>1965</td>\n",
              "      <td>1</td>\n",
              "      <td>43</td>\n",
              "      <td>3404bc01</td>\n",
              "      <td>4.0</td>\n",
              "      <td>f</td>\n",
              "      <td>White</td>\n",
              "      <td>FFFFFF</td>\n",
              "      <td>f</td>\n",
              "      <td>FFFFFF f</td>\n",
              "    </tr>\n",
              "    <tr>\n",
              "      <th>4</th>\n",
              "      <td>001-1</td>\n",
              "      <td>Gears</td>\n",
              "      <td>1965</td>\n",
              "      <td>1</td>\n",
              "      <td>43</td>\n",
              "      <td>36</td>\n",
              "      <td>4.0</td>\n",
              "      <td>f</td>\n",
              "      <td>Light Gray</td>\n",
              "      <td>9BA19D</td>\n",
              "      <td>f</td>\n",
              "      <td>9BA19D f</td>\n",
              "    </tr>\n",
              "  </tbody>\n",
              "</table>\n",
              "</div>"
            ],
            "text/plain": [
              "  set_num name_setsinv  year  theme_id  ...  name_invcol     rgb  is_trans rgb_trans\n",
              "0   001-1        Gears  1965         1  ...   Light Gray  9BA19D         f  9BA19D f\n",
              "1   001-1        Gears  1965         1  ...        White  FFFFFF         f  FFFFFF f\n",
              "2   001-1        Gears  1965         1  ...        White  FFFFFF         f  FFFFFF f\n",
              "3   001-1        Gears  1965         1  ...        White  FFFFFF         f  FFFFFF f\n",
              "4   001-1        Gears  1965         1  ...   Light Gray  9BA19D         f  9BA19D f\n",
              "\n",
              "[5 rows x 12 columns]"
            ]
          },
          "metadata": {
            "tags": []
          },
          "execution_count": 24
        }
      ]
    },
    {
      "cell_type": "code",
      "metadata": {
        "colab": {
          "base_uri": "https://localhost:8080/"
        },
        "id": "XGjO80KkJnVN",
        "outputId": "f8322442-a687-4b0e-ec37-b54a3da81847"
      },
      "source": [
        "# Check categories on is_trans column\r\n",
        "merged.is_trans.unique()"
      ],
      "execution_count": 25,
      "outputs": [
        {
          "output_type": "execute_result",
          "data": {
            "text/plain": [
              "array(['f', nan, 't'], dtype=object)"
            ]
          },
          "metadata": {
            "tags": []
          },
          "execution_count": 25
        }
      ]
    },
    {
      "cell_type": "markdown",
      "metadata": {
        "id": "clro2o0AKngW"
      },
      "source": [
        "First of all we would need to clean and remap categories of is_trans column"
      ]
    },
    {
      "cell_type": "code",
      "metadata": {
        "colab": {
          "base_uri": "https://localhost:8080/",
          "height": 204
        },
        "id": "ChKZIBexLOcI",
        "outputId": "c049f310-12ce-436f-df00-d190a25828ec"
      },
      "source": [
        "# Replacing nan strins for np.NaN values and dropping them. \r\n",
        "merged_cleaned = merged.replace('nan', np.nan).dropna(axis=0)\r\n",
        "\r\n",
        "# Remap categories from f and t to True or False\r\n",
        "map = {'f': 0, 't': 1}\r\n",
        "merged_cleaned['is_trans'] = merged_cleaned.is_trans.map(map)\r\n",
        "\r\n",
        "# Change column to type int\r\n",
        "merged_cleaned.astype({'is_trans': int}).dtypes\r\n",
        "\r\n",
        "# Display head again\r\n",
        "merged_cleaned.head()"
      ],
      "execution_count": 26,
      "outputs": [
        {
          "output_type": "execute_result",
          "data": {
            "text/html": [
              "<div>\n",
              "<style scoped>\n",
              "    .dataframe tbody tr th:only-of-type {\n",
              "        vertical-align: middle;\n",
              "    }\n",
              "\n",
              "    .dataframe tbody tr th {\n",
              "        vertical-align: top;\n",
              "    }\n",
              "\n",
              "    .dataframe thead th {\n",
              "        text-align: right;\n",
              "    }\n",
              "</style>\n",
              "<table border=\"1\" class=\"dataframe\">\n",
              "  <thead>\n",
              "    <tr style=\"text-align: right;\">\n",
              "      <th></th>\n",
              "      <th>set_num</th>\n",
              "      <th>name_setsinv</th>\n",
              "      <th>year</th>\n",
              "      <th>theme_id</th>\n",
              "      <th>num_parts</th>\n",
              "      <th>part_num</th>\n",
              "      <th>quantity</th>\n",
              "      <th>is_spare</th>\n",
              "      <th>name_invcol</th>\n",
              "      <th>rgb</th>\n",
              "      <th>is_trans</th>\n",
              "      <th>rgb_trans</th>\n",
              "    </tr>\n",
              "  </thead>\n",
              "  <tbody>\n",
              "    <tr>\n",
              "      <th>0</th>\n",
              "      <td>001-1</td>\n",
              "      <td>Gears</td>\n",
              "      <td>1965</td>\n",
              "      <td>1</td>\n",
              "      <td>43</td>\n",
              "      <td>132a</td>\n",
              "      <td>4.0</td>\n",
              "      <td>f</td>\n",
              "      <td>Light Gray</td>\n",
              "      <td>9BA19D</td>\n",
              "      <td>0</td>\n",
              "      <td>9BA19D f</td>\n",
              "    </tr>\n",
              "    <tr>\n",
              "      <th>1</th>\n",
              "      <td>001-1</td>\n",
              "      <td>Gears</td>\n",
              "      <td>1965</td>\n",
              "      <td>1</td>\n",
              "      <td>43</td>\n",
              "      <td>3020</td>\n",
              "      <td>4.0</td>\n",
              "      <td>f</td>\n",
              "      <td>White</td>\n",
              "      <td>FFFFFF</td>\n",
              "      <td>0</td>\n",
              "      <td>FFFFFF f</td>\n",
              "    </tr>\n",
              "    <tr>\n",
              "      <th>2</th>\n",
              "      <td>001-1</td>\n",
              "      <td>Gears</td>\n",
              "      <td>1965</td>\n",
              "      <td>1</td>\n",
              "      <td>43</td>\n",
              "      <td>3062c</td>\n",
              "      <td>1.0</td>\n",
              "      <td>f</td>\n",
              "      <td>White</td>\n",
              "      <td>FFFFFF</td>\n",
              "      <td>0</td>\n",
              "      <td>FFFFFF f</td>\n",
              "    </tr>\n",
              "    <tr>\n",
              "      <th>3</th>\n",
              "      <td>001-1</td>\n",
              "      <td>Gears</td>\n",
              "      <td>1965</td>\n",
              "      <td>1</td>\n",
              "      <td>43</td>\n",
              "      <td>3404bc01</td>\n",
              "      <td>4.0</td>\n",
              "      <td>f</td>\n",
              "      <td>White</td>\n",
              "      <td>FFFFFF</td>\n",
              "      <td>0</td>\n",
              "      <td>FFFFFF f</td>\n",
              "    </tr>\n",
              "    <tr>\n",
              "      <th>4</th>\n",
              "      <td>001-1</td>\n",
              "      <td>Gears</td>\n",
              "      <td>1965</td>\n",
              "      <td>1</td>\n",
              "      <td>43</td>\n",
              "      <td>36</td>\n",
              "      <td>4.0</td>\n",
              "      <td>f</td>\n",
              "      <td>Light Gray</td>\n",
              "      <td>9BA19D</td>\n",
              "      <td>0</td>\n",
              "      <td>9BA19D f</td>\n",
              "    </tr>\n",
              "  </tbody>\n",
              "</table>\n",
              "</div>"
            ],
            "text/plain": [
              "  set_num name_setsinv  year  theme_id  ...  name_invcol     rgb  is_trans rgb_trans\n",
              "0   001-1        Gears  1965         1  ...   Light Gray  9BA19D         0  9BA19D f\n",
              "1   001-1        Gears  1965         1  ...        White  FFFFFF         0  FFFFFF f\n",
              "2   001-1        Gears  1965         1  ...        White  FFFFFF         0  FFFFFF f\n",
              "3   001-1        Gears  1965         1  ...        White  FFFFFF         0  FFFFFF f\n",
              "4   001-1        Gears  1965         1  ...   Light Gray  9BA19D         0  9BA19D f\n",
              "\n",
              "[5 rows x 12 columns]"
            ]
          },
          "metadata": {
            "tags": []
          },
          "execution_count": 26
        }
      ]
    },
    {
      "cell_type": "code",
      "metadata": {
        "colab": {
          "base_uri": "https://localhost:8080/"
        },
        "id": "I9KWDaFYLr6O",
        "outputId": "33eae047-5a8c-4433-bb5e-3becfaff8bb9"
      },
      "source": [
        "# What years are described in the dataset?\r\n",
        "print(np.sort(merged_cleaned['year'].unique()))\r\n",
        "\r\n",
        "# How many years?\r\n",
        "print('Total years in dataset:', len(merged_cleaned['year'].unique()))"
      ],
      "execution_count": 27,
      "outputs": [
        {
          "output_type": "stream",
          "text": [
            "[1949 1950 1953 1954 1955 1956 1957 1958 1959 1960 1961 1962 1963 1964\n",
            " 1965 1966 1967 1968 1969 1970 1971 1972 1973 1974 1975 1976 1977 1978\n",
            " 1979 1980 1981 1982 1983 1984 1985 1986 1987 1988 1989 1990 1991 1992\n",
            " 1993 1994 1995 1996 1997 1998 1999 2000 2001 2002 2003 2004 2005 2006\n",
            " 2007 2008 2009 2010 2011 2012 2013 2014 2015 2016 2017 2018 2019 2020]\n",
            "Total years in dataset: 70\n"
          ],
          "name": "stdout"
        }
      ]
    },
    {
      "cell_type": "code",
      "metadata": {
        "colab": {
          "base_uri": "https://localhost:8080/",
          "height": 312
        },
        "id": "RKRCOPYvN_-o",
        "outputId": "4de00c8c-00f9-43fa-87ae-9403c5ffaea7"
      },
      "source": [
        "# I will need to group by years and sum True value in is_trans column\r\n",
        "transparency_over_years = merged_cleaned.groupby('year').mean()['is_trans']*100\r\n",
        "\r\n",
        "# Show evolution of transparent pieces.\r\n",
        "transparency_over_years.plot(kind='line', color='#2E7687')\r\n",
        "plt.ylabel('Percentage of transparent pieces')\r\n",
        "plt.title('Evolution of transparent pieces over the years', y=1.06, alpha=0.7)\r\n",
        "plt.show()\r\n"
      ],
      "execution_count": 30,
      "outputs": [
        {
          "output_type": "display_data",
          "data": {
            "image/png": "[encoded data removed]",
            "text/plain": [
              "<Figure size 432x288 with 1 Axes>"
            ]
          },
          "metadata": {
            "tags": []
          }
        }
      ]
    },
    {
      "cell_type": "markdown",
      "metadata": {
        "id": "abnCkla7Rryi"
      },
      "source": [
        "# 4) Explore lego sets: Number of sets and number of parts over the years."
      ]
    },
    {
      "cell_type": "markdown",
      "metadata": {
        "id": "vosydAdWR4c9"
      },
      "source": [
        "## a) Number of parts over the years"
      ]
    },
    {
      "cell_type": "markdown",
      "metadata": {
        "id": "2xG8NIcjeBw6"
      },
      "source": [
        "Using dataset of only items that are in inventory:"
      ]
    },
    {
      "cell_type": "code",
      "metadata": {
        "colab": {
          "base_uri": "https://localhost:8080/",
          "height": 312
        },
        "id": "otWh1KX6Ryv0",
        "outputId": "3051c51c-d508-4682-9199-97157493f7e8"
      },
      "source": [
        "# Group by and collect the evolution of part numbers.\r\n",
        "# I use both median and mean as statistic parameters.\r\n",
        "parts_over_years = merged_cleaned.groupby('year').agg([np.median, np.mean])['num_parts']\r\n",
        "\r\n",
        "\r\n",
        "# Show evolution of mean number of parts\r\n",
        "parts_over_years.plot(kind='line')\r\n",
        "plt.ylabel('Median number of parts')\r\n",
        "plt.title('Evolution of parts over the years', y=1.06, alpha=0.7)\r\n",
        "plt.show()"
      ],
      "execution_count": 31,
      "outputs": [
        {
          "output_type": "display_data",
          "data": {
            "image/png": "[encoded data removed]",
            "text/plain": [
              "<Figure size 432x288 with 1 Axes>"
            ]
          },
          "metadata": {
            "tags": []
          }
        }
      ]
    },
    {
      "cell_type": "markdown",
      "metadata": {
        "id": "g2_s9mNNeJRG"
      },
      "source": [
        "Parts of items ever created in sets dataset."
      ]
    },
    {
      "cell_type": "code",
      "metadata": {
        "colab": {
          "base_uri": "https://localhost:8080/",
          "height": 299
        },
        "id": "FxlDS6NoIyQn",
        "outputId": "efb89dcc-d2c8-4940-d98f-762460e3dbdc"
      },
      "source": [
        "# In sets dataset:\r\n",
        "\r\n",
        "sets.groupby('year').agg([np.median, np.mean])['num_parts'].plot(kind='line')"
      ],
      "execution_count": 32,
      "outputs": [
        {
          "output_type": "execute_result",
          "data": {
            "text/plain": [
              "<matplotlib.axes._subplots.AxesSubplot at 0x7f15ae1a1048>"
            ]
          },
          "metadata": {
            "tags": []
          },
          "execution_count": 32
        },
        {
          "output_type": "display_data",
          "data": {
            "image/png": "[encoded data removed]",
            "text/plain": [
              "<Figure size 432x288 with 1 Axes>"
            ]
          },
          "metadata": {
            "tags": []
          }
        }
      ]
    },
    {
      "cell_type": "markdown",
      "metadata": {
        "id": "NKzAKeoDVa0F"
      },
      "source": [
        "It seems LEGO made their toys more complex over time. This tendency may have changed the last year.\r\n",
        "\r\n",
        "There is an interesting difference between median and mean which gives indication that there might be some sets with large amounts of parts."
      ]
    },
    {
      "cell_type": "markdown",
      "metadata": {
        "id": "ehFrykAxWpF3"
      },
      "source": [
        "## b) Number of sets over the years."
      ]
    },
    {
      "cell_type": "code",
      "metadata": {
        "colab": {
          "base_uri": "https://localhost:8080/",
          "height": 312
        },
        "id": "Y7AOdM4lja2R",
        "outputId": "afae91ff-786e-41be-b79b-695da5dcdcfe"
      },
      "source": [
        "# Let's group by year and aggregate with a function that counts unique set ids\r\n",
        "sets_over_years = merged_cleaned[['set_num','year']].groupby('year').agg(lambda x: len(x.unique()))\r\n",
        "\r\n",
        "\r\n",
        "# Show sets over the years\r\n",
        "sets_over_years.plot(kind='line', color='#2E7687')\r\n",
        "plt.ylabel('Number of unique sets')\r\n",
        "plt.title('Evolution of sets over the years', y=1.06, alpha=0.7)\r\n",
        "plt.show()"
      ],
      "execution_count": null,
      "outputs": [
        {
          "output_type": "display_data",
          "data": {
            "image/png": "[encoded data removed]",
            "text/plain": [
              "<Figure size 432x288 with 1 Axes>"
            ]
          },
          "metadata": {
            "tags": [],
            "needs_background": "light"
          }
        }
      ]
    },
    {
      "cell_type": "markdown",
      "metadata": {
        "id": "nOZUYMwWn4wP"
      },
      "source": [
        "Variety of LEGOs until 2019 seemed to have been increasing exponentially over the years. \r\n",
        "Year 2020 experienced an oustanding fall on quantity of LEGO sets. With a drop of more than half, maybe because of COVID-19 autrage or because dataset has incomplete information, I wouldn't suggest to analyse the information with the year 2020. Dropping it would increase realiability of the analysis."
      ]
    },
    {
      "cell_type": "code",
      "metadata": {
        "colab": {
          "base_uri": "https://localhost:8080/",
          "height": 312
        },
        "id": "MLssoHRbpzoI",
        "outputId": "ed25d8a2-10b3-4cfd-e20c-b91d2618f9d7"
      },
      "source": [
        "# Drop the year 2020\r\n",
        "merged_cleaned = merged_cleaned[merged_cleaned.year<2020]\r\n",
        "\r\n",
        "# Let's group by year and aggregate with a function that counts unique set ids\r\n",
        "sets_over_years = merged_cleaned[['set_num','year']].groupby('year').agg(lambda x: len(x.unique()))\r\n",
        "\r\n",
        "\r\n",
        "# Show sets over the years\r\n",
        "sets_over_years.plot(kind='line', color='#2E7687')\r\n",
        "plt.ylabel('Number of unique sets')\r\n",
        "plt.title('Evolution of sets over the years', y=1.06, alpha=0.7)\r\n",
        "plt.show()"
      ],
      "execution_count": 33,
      "outputs": [
        {
          "output_type": "display_data",
          "data": {
            "image/png": "[encoded data removed]",
            "text/plain": [
              "<Figure size 432x288 with 1 Axes>"
            ]
          },
          "metadata": {
            "tags": []
          }
        }
      ]
    },
    {
      "cell_type": "markdown",
      "metadata": {
        "id": "C5GdQQdgrrw8"
      },
      "source": [
        "# 5) Explore lego themes: Which are the themes with mosts sets?"
      ]
    },
    {
      "cell_type": "code",
      "metadata": {
        "colab": {
          "base_uri": "https://localhost:8080/",
          "height": 221
        },
        "id": "fXegx4IvWuIc",
        "outputId": "4a8e2a1c-2bde-4332-f5cc-1eecb0ed51cf"
      },
      "source": [
        "# Import inventories.csv\r\n",
        "themes = pd.read_csv('themes.csv')\r\n",
        "\r\n",
        "# Let's print shapes and heads of sets\r\n",
        "print('sets shape:', themes.shape)\r\n",
        "display(themes.head())"
      ],
      "execution_count": 34,
      "outputs": [
        {
          "output_type": "stream",
          "text": [
            "sets shape: (655, 3)\n"
          ],
          "name": "stdout"
        },
        {
          "output_type": "display_data",
          "data": {
            "text/html": [
              "<div>\n",
              "<style scoped>\n",
              "    .dataframe tbody tr th:only-of-type {\n",
              "        vertical-align: middle;\n",
              "    }\n",
              "\n",
              "    .dataframe tbody tr th {\n",
              "        vertical-align: top;\n",
              "    }\n",
              "\n",
              "    .dataframe thead th {\n",
              "        text-align: right;\n",
              "    }\n",
              "</style>\n",
              "<table border=\"1\" class=\"dataframe\">\n",
              "  <thead>\n",
              "    <tr style=\"text-align: right;\">\n",
              "      <th></th>\n",
              "      <th>id</th>\n",
              "      <th>name</th>\n",
              "      <th>parent_id</th>\n",
              "    </tr>\n",
              "  </thead>\n",
              "  <tbody>\n",
              "    <tr>\n",
              "      <th>0</th>\n",
              "      <td>1</td>\n",
              "      <td>Technic</td>\n",
              "      <td>NaN</td>\n",
              "    </tr>\n",
              "    <tr>\n",
              "      <th>1</th>\n",
              "      <td>2</td>\n",
              "      <td>Arctic Technic</td>\n",
              "      <td>1.0</td>\n",
              "    </tr>\n",
              "    <tr>\n",
              "      <th>2</th>\n",
              "      <td>3</td>\n",
              "      <td>Competition</td>\n",
              "      <td>1.0</td>\n",
              "    </tr>\n",
              "    <tr>\n",
              "      <th>3</th>\n",
              "      <td>4</td>\n",
              "      <td>Expert Builder</td>\n",
              "      <td>1.0</td>\n",
              "    </tr>\n",
              "    <tr>\n",
              "      <th>4</th>\n",
              "      <td>5</td>\n",
              "      <td>Model</td>\n",
              "      <td>1.0</td>\n",
              "    </tr>\n",
              "  </tbody>\n",
              "</table>\n",
              "</div>"
            ],
            "text/plain": [
              "   id            name  parent_id\n",
              "0   1         Technic        NaN\n",
              "1   2  Arctic Technic        1.0\n",
              "2   3     Competition        1.0\n",
              "3   4  Expert Builder        1.0\n",
              "4   5           Model        1.0"
            ]
          },
          "metadata": {
            "tags": []
          }
        }
      ]
    },
    {
      "cell_type": "code",
      "metadata": {
        "colab": {
          "base_uri": "https://localhost:8080/",
          "height": 221
        },
        "id": "7L-XS5PoigTX",
        "outputId": "3f219d87-af5a-456b-e6f7-228fbc1cfab9"
      },
      "source": [
        "# Let's merge with themes dataset\r\n",
        "lego = merged_cleaned.merge(themes, left_on='theme_id', right_on='id', how='left')\r\n",
        "print(lego.shape)\r\n",
        "lego.head()"
      ],
      "execution_count": 35,
      "outputs": [
        {
          "output_type": "stream",
          "text": [
            "(794693, 15)\n"
          ],
          "name": "stdout"
        },
        {
          "output_type": "execute_result",
          "data": {
            "text/html": [
              "<div>\n",
              "<style scoped>\n",
              "    .dataframe tbody tr th:only-of-type {\n",
              "        vertical-align: middle;\n",
              "    }\n",
              "\n",
              "    .dataframe tbody tr th {\n",
              "        vertical-align: top;\n",
              "    }\n",
              "\n",
              "    .dataframe thead th {\n",
              "        text-align: right;\n",
              "    }\n",
              "</style>\n",
              "<table border=\"1\" class=\"dataframe\">\n",
              "  <thead>\n",
              "    <tr style=\"text-align: right;\">\n",
              "      <th></th>\n",
              "      <th>set_num</th>\n",
              "      <th>name_setsinv</th>\n",
              "      <th>year</th>\n",
              "      <th>theme_id</th>\n",
              "      <th>num_parts</th>\n",
              "      <th>part_num</th>\n",
              "      <th>quantity</th>\n",
              "      <th>is_spare</th>\n",
              "      <th>name_invcol</th>\n",
              "      <th>rgb</th>\n",
              "      <th>is_trans</th>\n",
              "      <th>rgb_trans</th>\n",
              "      <th>id</th>\n",
              "      <th>name</th>\n",
              "      <th>parent_id</th>\n",
              "    </tr>\n",
              "  </thead>\n",
              "  <tbody>\n",
              "    <tr>\n",
              "      <th>0</th>\n",
              "      <td>001-1</td>\n",
              "      <td>Gears</td>\n",
              "      <td>1965</td>\n",
              "      <td>1</td>\n",
              "      <td>43</td>\n",
              "      <td>132a</td>\n",
              "      <td>4.0</td>\n",
              "      <td>f</td>\n",
              "      <td>Light Gray</td>\n",
              "      <td>9BA19D</td>\n",
              "      <td>0</td>\n",
              "      <td>9BA19D f</td>\n",
              "      <td>1</td>\n",
              "      <td>Technic</td>\n",
              "      <td>NaN</td>\n",
              "    </tr>\n",
              "    <tr>\n",
              "      <th>1</th>\n",
              "      <td>001-1</td>\n",
              "      <td>Gears</td>\n",
              "      <td>1965</td>\n",
              "      <td>1</td>\n",
              "      <td>43</td>\n",
              "      <td>3020</td>\n",
              "      <td>4.0</td>\n",
              "      <td>f</td>\n",
              "      <td>White</td>\n",
              "      <td>FFFFFF</td>\n",
              "      <td>0</td>\n",
              "      <td>FFFFFF f</td>\n",
              "      <td>1</td>\n",
              "      <td>Technic</td>\n",
              "      <td>NaN</td>\n",
              "    </tr>\n",
              "    <tr>\n",
              "      <th>2</th>\n",
              "      <td>001-1</td>\n",
              "      <td>Gears</td>\n",
              "      <td>1965</td>\n",
              "      <td>1</td>\n",
              "      <td>43</td>\n",
              "      <td>3062c</td>\n",
              "      <td>1.0</td>\n",
              "      <td>f</td>\n",
              "      <td>White</td>\n",
              "      <td>FFFFFF</td>\n",
              "      <td>0</td>\n",
              "      <td>FFFFFF f</td>\n",
              "      <td>1</td>\n",
              "      <td>Technic</td>\n",
              "      <td>NaN</td>\n",
              "    </tr>\n",
              "    <tr>\n",
              "      <th>3</th>\n",
              "      <td>001-1</td>\n",
              "      <td>Gears</td>\n",
              "      <td>1965</td>\n",
              "      <td>1</td>\n",
              "      <td>43</td>\n",
              "      <td>3404bc01</td>\n",
              "      <td>4.0</td>\n",
              "      <td>f</td>\n",
              "      <td>White</td>\n",
              "      <td>FFFFFF</td>\n",
              "      <td>0</td>\n",
              "      <td>FFFFFF f</td>\n",
              "      <td>1</td>\n",
              "      <td>Technic</td>\n",
              "      <td>NaN</td>\n",
              "    </tr>\n",
              "    <tr>\n",
              "      <th>4</th>\n",
              "      <td>001-1</td>\n",
              "      <td>Gears</td>\n",
              "      <td>1965</td>\n",
              "      <td>1</td>\n",
              "      <td>43</td>\n",
              "      <td>36</td>\n",
              "      <td>4.0</td>\n",
              "      <td>f</td>\n",
              "      <td>Light Gray</td>\n",
              "      <td>9BA19D</td>\n",
              "      <td>0</td>\n",
              "      <td>9BA19D f</td>\n",
              "      <td>1</td>\n",
              "      <td>Technic</td>\n",
              "      <td>NaN</td>\n",
              "    </tr>\n",
              "  </tbody>\n",
              "</table>\n",
              "</div>"
            ],
            "text/plain": [
              "  set_num name_setsinv  year  theme_id  ...  rgb_trans id     name parent_id\n",
              "0   001-1        Gears  1965         1  ...   9BA19D f  1  Technic       NaN\n",
              "1   001-1        Gears  1965         1  ...   FFFFFF f  1  Technic       NaN\n",
              "2   001-1        Gears  1965         1  ...   FFFFFF f  1  Technic       NaN\n",
              "3   001-1        Gears  1965         1  ...   FFFFFF f  1  Technic       NaN\n",
              "4   001-1        Gears  1965         1  ...   9BA19D f  1  Technic       NaN\n",
              "\n",
              "[5 rows x 15 columns]"
            ]
          },
          "metadata": {
            "tags": []
          },
          "execution_count": 35
        }
      ]
    },
    {
      "cell_type": "code",
      "metadata": {
        "colab": {
          "base_uri": "https://localhost:8080/",
          "height": 359
        },
        "id": "fdc3mywojBCB",
        "outputId": "5f33e95b-91d7-4ae4-9255-040e5ea1a29f"
      },
      "source": [
        "# We select 10 themes with higher number of sets. \r\n",
        "theme_ids = lego.groupby('theme_id').agg(lambda x: len(x.unique())).sort_values('set_num', ascending=False).head(10).index\r\n",
        "\r\n",
        "# With best theme ids, we subset themes table\r\n",
        "themes_with_most_sets = themes[themes['id'].isin(theme_ids)][['id','name']].reset_index(drop=True)\r\n",
        "themes_with_most_sets"
      ],
      "execution_count": 36,
      "outputs": [
        {
          "output_type": "execute_result",
          "data": {
            "text/html": [
              "<div>\n",
              "<style scoped>\n",
              "    .dataframe tbody tr th:only-of-type {\n",
              "        vertical-align: middle;\n",
              "    }\n",
              "\n",
              "    .dataframe tbody tr th {\n",
              "        vertical-align: top;\n",
              "    }\n",
              "\n",
              "    .dataframe thead th {\n",
              "        text-align: right;\n",
              "    }\n",
              "</style>\n",
              "<table border=\"1\" class=\"dataframe\">\n",
              "  <thead>\n",
              "    <tr style=\"text-align: right;\">\n",
              "      <th></th>\n",
              "      <th>id</th>\n",
              "      <th>name</th>\n",
              "    </tr>\n",
              "  </thead>\n",
              "  <tbody>\n",
              "    <tr>\n",
              "      <th>0</th>\n",
              "      <td>158</td>\n",
              "      <td>Star Wars</td>\n",
              "    </tr>\n",
              "    <tr>\n",
              "      <th>1</th>\n",
              "      <td>220</td>\n",
              "      <td>City</td>\n",
              "    </tr>\n",
              "    <tr>\n",
              "      <th>2</th>\n",
              "      <td>371</td>\n",
              "      <td>Supplemental</td>\n",
              "    </tr>\n",
              "    <tr>\n",
              "      <th>3</th>\n",
              "      <td>435</td>\n",
              "      <td>Ninjago</td>\n",
              "    </tr>\n",
              "    <tr>\n",
              "      <th>4</th>\n",
              "      <td>443</td>\n",
              "      <td>Service Packs</td>\n",
              "    </tr>\n",
              "    <tr>\n",
              "      <th>5</th>\n",
              "      <td>494</td>\n",
              "      <td>Friends</td>\n",
              "    </tr>\n",
              "    <tr>\n",
              "      <th>6</th>\n",
              "      <td>505</td>\n",
              "      <td>Basic Set</td>\n",
              "    </tr>\n",
              "    <tr>\n",
              "      <th>7</th>\n",
              "      <td>516</td>\n",
              "      <td>Duplo and Explore</td>\n",
              "    </tr>\n",
              "    <tr>\n",
              "      <th>8</th>\n",
              "      <td>632</td>\n",
              "      <td>Town</td>\n",
              "    </tr>\n",
              "    <tr>\n",
              "      <th>9</th>\n",
              "      <td>672</td>\n",
              "      <td>Creator 3-in-1</td>\n",
              "    </tr>\n",
              "  </tbody>\n",
              "</table>\n",
              "</div>"
            ],
            "text/plain": [
              "    id               name\n",
              "0  158          Star Wars\n",
              "1  220               City\n",
              "2  371       Supplemental\n",
              "3  435            Ninjago\n",
              "4  443      Service Packs\n",
              "5  494            Friends\n",
              "6  505          Basic Set\n",
              "7  516  Duplo and Explore\n",
              "8  632               Town\n",
              "9  672     Creator 3-in-1"
            ]
          },
          "metadata": {
            "tags": []
          },
          "execution_count": 36
        }
      ]
    },
    {
      "cell_type": "markdown",
      "metadata": {
        "id": "kwuwGDrGzatF"
      },
      "source": [
        "# 6) Explore lego themes: What percentage of all sets ever released were Star Wars themed?"
      ]
    },
    {
      "cell_type": "markdown",
      "metadata": {
        "id": "fGXkKf7Y1BLJ"
      },
      "source": [
        "## a) I'll check Star Wars products as a % of total sets by year **existing as a product now in inventory**. "
      ]
    },
    {
      "cell_type": "code",
      "metadata": {
        "colab": {
          "base_uri": "https://localhost:8080/"
        },
        "id": "f0GXe0yL1JD-",
        "outputId": "ac311a5f-18fe-41d4-a569-d09c0a74221a"
      },
      "source": [
        "# I create a new column is_starwars 1 if is theme star wars, 0 if not.\r\n",
        "# Gives ids that name starts with Star Wars\r\n",
        "star_wars_ids = themes[themes.name.str.contains('Star Wars')].index\r\n",
        "\r\n",
        "# Create a map of all ids that started with Star Wars\r\n",
        "sw_map = dict(zip(star_wars_ids,np.ones(len(star_wars_ids))))\r\n",
        "lego['is_starwars'] = lego.theme_id.map(sw_map)\r\n",
        "lego['is_starwars'].replace(np.nan, 0, inplace=True)\r\n",
        "lego.is_starwars.unique()"
      ],
      "execution_count": 37,
      "outputs": [
        {
          "output_type": "execute_result",
          "data": {
            "text/plain": [
              "array([0., 1.])"
            ]
          },
          "metadata": {
            "tags": []
          },
          "execution_count": 37
        }
      ]
    },
    {
      "cell_type": "code",
      "metadata": {
        "colab": {
          "base_uri": "https://localhost:8080/"
        },
        "id": "7zM3pAkgeZJc",
        "outputId": "a79fbced-04b0-4246-988a-2e8f503e07e4"
      },
      "source": [
        "# Let's % of starwars items current in inventory:\r\n",
        "print('{:.2f}%'.format(lego.is_starwars.mean()*100))"
      ],
      "execution_count": 46,
      "outputs": [
        {
          "output_type": "stream",
          "text": [
            "9.40%\n"
          ],
          "name": "stdout"
        }
      ]
    },
    {
      "cell_type": "code",
      "metadata": {
        "colab": {
          "base_uri": "https://localhost:8080/",
          "height": 431
        },
        "id": "iszvAFOw6ALM",
        "outputId": "eb4243f3-75b7-4b25-bbec-1300b50721d1"
      },
      "source": [
        "star_wars_perc = lego.groupby('year').mean()['is_starwars']*100\r\n",
        "\r\n",
        "# Display percentages for the last 5 years.\r\n",
        "display(star_wars_perc.iloc[-5:])\r\n",
        "\r\n",
        "# Show sets over the years\r\n",
        "star_wars_perc.plot(kind='line', color='#2E7687')\r\n",
        "plt.ylabel('Percentage of star wars sets')\r\n",
        "plt.title('Evolution of star wars sets', y=1.06, alpha=0.7)\r\n",
        "plt.show()"
      ],
      "execution_count": 47,
      "outputs": [
        {
          "output_type": "display_data",
          "data": {
            "text/plain": [
              "year\n",
              "2015    13.976232\n",
              "2016    11.478745\n",
              "2017    11.802692\n",
              "2018    11.458658\n",
              "2019    10.976136\n",
              "Name: is_starwars, dtype: float64"
            ]
          },
          "metadata": {
            "tags": []
          }
        },
        {
          "output_type": "display_data",
          "data": {
            "image/png": "[encoded data removed]",
            "text/plain": [
              "<Figure size 432x288 with 1 Axes>"
            ]
          },
          "metadata": {
            "tags": []
          }
        }
      ]
    },
    {
      "cell_type": "markdown",
      "metadata": {
        "id": "w9or8BgOzLNH"
      },
      "source": [
        "# Change themes for POWER BI presentations"
      ]
    },
    {
      "cell_type": "code",
      "metadata": {
        "id": "Y-_qBCGJq1n9"
      },
      "source": [
        "# Import inventories.csv\r\n",
        "themes = pd.read_csv('themes.csv')\r\n",
        "# Import sets.csv\r\n",
        "sets = pd.read_csv('sets.csv')\r\n"
      ],
      "execution_count": 159,
      "outputs": []
    },
    {
      "cell_type": "code",
      "metadata": {
        "colab": {
          "base_uri": "https://localhost:8080/",
          "height": 419
        },
        "id": "8I2dDMrhi0cu",
        "outputId": "33b7b8ce-1c4d-4682-bda8-e945cce2a9dd"
      },
      "source": [
        "ts_merged = pd.merge(themes, sets, left_on='id', right_on='theme_id', how='right', suffixes=['_themes', '_sets'])\r\n",
        "ts_merged"
      ],
      "execution_count": 139,
      "outputs": [
        {
          "output_type": "execute_result",
          "data": {
            "text/html": [
              "<div>\n",
              "<style scoped>\n",
              "    .dataframe tbody tr th:only-of-type {\n",
              "        vertical-align: middle;\n",
              "    }\n",
              "\n",
              "    .dataframe tbody tr th {\n",
              "        vertical-align: top;\n",
              "    }\n",
              "\n",
              "    .dataframe thead th {\n",
              "        text-align: right;\n",
              "    }\n",
              "</style>\n",
              "<table border=\"1\" class=\"dataframe\">\n",
              "  <thead>\n",
              "    <tr style=\"text-align: right;\">\n",
              "      <th></th>\n",
              "      <th>id</th>\n",
              "      <th>name_themes</th>\n",
              "      <th>parent_id</th>\n",
              "      <th>set_num</th>\n",
              "      <th>name_sets</th>\n",
              "      <th>year</th>\n",
              "      <th>theme_id</th>\n",
              "      <th>num_parts</th>\n",
              "    </tr>\n",
              "  </thead>\n",
              "  <tbody>\n",
              "    <tr>\n",
              "      <th>0</th>\n",
              "      <td>1</td>\n",
              "      <td>Technic</td>\n",
              "      <td>NaN</td>\n",
              "      <td>001-1</td>\n",
              "      <td>Gears</td>\n",
              "      <td>1965</td>\n",
              "      <td>1</td>\n",
              "      <td>43</td>\n",
              "    </tr>\n",
              "    <tr>\n",
              "      <th>1</th>\n",
              "      <td>1</td>\n",
              "      <td>Technic</td>\n",
              "      <td>NaN</td>\n",
              "      <td>002-1</td>\n",
              "      <td>4.5V Samsonite Gears Motor Set</td>\n",
              "      <td>1965</td>\n",
              "      <td>1</td>\n",
              "      <td>3</td>\n",
              "    </tr>\n",
              "    <tr>\n",
              "      <th>2</th>\n",
              "      <td>1</td>\n",
              "      <td>Technic</td>\n",
              "      <td>NaN</td>\n",
              "      <td>1030-1</td>\n",
              "      <td>TECHNIC I: Simple Machines Set</td>\n",
              "      <td>1985</td>\n",
              "      <td>1</td>\n",
              "      <td>191</td>\n",
              "    </tr>\n",
              "    <tr>\n",
              "      <th>3</th>\n",
              "      <td>1</td>\n",
              "      <td>Technic</td>\n",
              "      <td>NaN</td>\n",
              "      <td>1038-1</td>\n",
              "      <td>ERBIE the Robo-Car</td>\n",
              "      <td>1985</td>\n",
              "      <td>1</td>\n",
              "      <td>120</td>\n",
              "    </tr>\n",
              "    <tr>\n",
              "      <th>4</th>\n",
              "      <td>1</td>\n",
              "      <td>Technic</td>\n",
              "      <td>NaN</td>\n",
              "      <td>1039-1</td>\n",
              "      <td>Manual Control Set 1</td>\n",
              "      <td>1986</td>\n",
              "      <td>1</td>\n",
              "      <td>39</td>\n",
              "    </tr>\n",
              "    <tr>\n",
              "      <th>...</th>\n",
              "      <td>...</td>\n",
              "      <td>...</td>\n",
              "      <td>...</td>\n",
              "      <td>...</td>\n",
              "      <td>...</td>\n",
              "      <td>...</td>\n",
              "      <td>...</td>\n",
              "      <td>...</td>\n",
              "    </tr>\n",
              "    <tr>\n",
              "      <th>15661</th>\n",
              "      <td>264</td>\n",
              "      <td>Indiana Jones</td>\n",
              "      <td>NaN</td>\n",
              "      <td>K7623-1</td>\n",
              "      <td>Indiana Jones Classic Adventures Collection</td>\n",
              "      <td>2008</td>\n",
              "      <td>264</td>\n",
              "      <td>0</td>\n",
              "    </tr>\n",
              "    <tr>\n",
              "      <th>15662</th>\n",
              "      <td>430</td>\n",
              "      <td>Pirates</td>\n",
              "      <td>425.0</td>\n",
              "      <td>llca27-1</td>\n",
              "      <td>Legoland Pirate with Parrot (Legoland California)</td>\n",
              "      <td>2006</td>\n",
              "      <td>430</td>\n",
              "      <td>70</td>\n",
              "    </tr>\n",
              "    <tr>\n",
              "      <th>15663</th>\n",
              "      <td>430</td>\n",
              "      <td>Pirates</td>\n",
              "      <td>425.0</td>\n",
              "      <td>LLCA29-1</td>\n",
              "      <td>Pirate Treasure Chest Bank (LLCA Ambassador Pa...</td>\n",
              "      <td>2006</td>\n",
              "      <td>430</td>\n",
              "      <td>215</td>\n",
              "    </tr>\n",
              "    <tr>\n",
              "      <th>15664</th>\n",
              "      <td>430</td>\n",
              "      <td>Pirates</td>\n",
              "      <td>425.0</td>\n",
              "      <td>LLCA30-1</td>\n",
              "      <td>Pirate Ship Diorama (LLCA Ambassador Pass Excl...</td>\n",
              "      <td>2006</td>\n",
              "      <td>430</td>\n",
              "      <td>127</td>\n",
              "    </tr>\n",
              "    <tr>\n",
              "      <th>15665</th>\n",
              "      <td>414</td>\n",
              "      <td>Castle</td>\n",
              "      <td>411.0</td>\n",
              "      <td>WEETABIX1-1</td>\n",
              "      <td>Weetabix Castle</td>\n",
              "      <td>1970</td>\n",
              "      <td>414</td>\n",
              "      <td>471</td>\n",
              "    </tr>\n",
              "  </tbody>\n",
              "</table>\n",
              "<p>15666 rows × 8 columns</p>\n",
              "</div>"
            ],
            "text/plain": [
              "        id    name_themes  parent_id  ...  year theme_id  num_parts\n",
              "0        1        Technic        NaN  ...  1965        1         43\n",
              "1        1        Technic        NaN  ...  1965        1          3\n",
              "2        1        Technic        NaN  ...  1985        1        191\n",
              "3        1        Technic        NaN  ...  1985        1        120\n",
              "4        1        Technic        NaN  ...  1986        1         39\n",
              "...    ...            ...        ...  ...   ...      ...        ...\n",
              "15661  264  Indiana Jones        NaN  ...  2008      264          0\n",
              "15662  430        Pirates      425.0  ...  2006      430         70\n",
              "15663  430        Pirates      425.0  ...  2006      430        215\n",
              "15664  430        Pirates      425.0  ...  2006      430        127\n",
              "15665  414         Castle      411.0  ...  1970      414        471\n",
              "\n",
              "[15666 rows x 8 columns]"
            ]
          },
          "metadata": {
            "tags": []
          },
          "execution_count": 139
        }
      ]
    },
    {
      "cell_type": "code",
      "metadata": {
        "colab": {
          "base_uri": "https://localhost:8080/",
          "height": 419
        },
        "id": "vKQZK6NDjo4V",
        "outputId": "13c8d620-b6f7-44cd-b19e-635eaa5ceb1f"
      },
      "source": [
        "ts_merged[ts_merged.name_themes.str.contains('Star Wars')]"
      ],
      "execution_count": 140,
      "outputs": [
        {
          "output_type": "execute_result",
          "data": {
            "text/html": [
              "<div>\n",
              "<style scoped>\n",
              "    .dataframe tbody tr th:only-of-type {\n",
              "        vertical-align: middle;\n",
              "    }\n",
              "\n",
              "    .dataframe tbody tr th {\n",
              "        vertical-align: top;\n",
              "    }\n",
              "\n",
              "    .dataframe thead th {\n",
              "        text-align: right;\n",
              "    }\n",
              "</style>\n",
              "<table border=\"1\" class=\"dataframe\">\n",
              "  <thead>\n",
              "    <tr style=\"text-align: right;\">\n",
              "      <th></th>\n",
              "      <th>id</th>\n",
              "      <th>name_themes</th>\n",
              "      <th>parent_id</th>\n",
              "      <th>set_num</th>\n",
              "      <th>name_sets</th>\n",
              "      <th>year</th>\n",
              "      <th>theme_id</th>\n",
              "      <th>num_parts</th>\n",
              "    </tr>\n",
              "  </thead>\n",
              "  <tbody>\n",
              "    <tr>\n",
              "      <th>6321</th>\n",
              "      <td>158</td>\n",
              "      <td>Star Wars</td>\n",
              "      <td>NaN</td>\n",
              "      <td>11912-1</td>\n",
              "      <td>LEGO Star Wars: Build Your Own Adventure</td>\n",
              "      <td>2016</td>\n",
              "      <td>158</td>\n",
              "      <td>73</td>\n",
              "    </tr>\n",
              "    <tr>\n",
              "      <th>6322</th>\n",
              "      <td>158</td>\n",
              "      <td>Star Wars</td>\n",
              "      <td>NaN</td>\n",
              "      <td>11920-1</td>\n",
              "      <td>Parts for Star Wars Build Your Own Adventure: ...</td>\n",
              "      <td>2019</td>\n",
              "      <td>158</td>\n",
              "      <td>70</td>\n",
              "    </tr>\n",
              "    <tr>\n",
              "      <th>6323</th>\n",
              "      <td>158</td>\n",
              "      <td>Star Wars</td>\n",
              "      <td>NaN</td>\n",
              "      <td>20006-1</td>\n",
              "      <td>Clone Turbo Tank - Mini</td>\n",
              "      <td>2008</td>\n",
              "      <td>158</td>\n",
              "      <td>64</td>\n",
              "    </tr>\n",
              "    <tr>\n",
              "      <th>6324</th>\n",
              "      <td>158</td>\n",
              "      <td>Star Wars</td>\n",
              "      <td>NaN</td>\n",
              "      <td>20007-1</td>\n",
              "      <td>Republic Attack Cruiser - Mini</td>\n",
              "      <td>2009</td>\n",
              "      <td>158</td>\n",
              "      <td>84</td>\n",
              "    </tr>\n",
              "    <tr>\n",
              "      <th>6325</th>\n",
              "      <td>158</td>\n",
              "      <td>Star Wars</td>\n",
              "      <td>NaN</td>\n",
              "      <td>20009-1</td>\n",
              "      <td>AT-TE Walker - Mini</td>\n",
              "      <td>2009</td>\n",
              "      <td>158</td>\n",
              "      <td>94</td>\n",
              "    </tr>\n",
              "    <tr>\n",
              "      <th>...</th>\n",
              "      <td>...</td>\n",
              "      <td>...</td>\n",
              "      <td>...</td>\n",
              "      <td>...</td>\n",
              "      <td>...</td>\n",
              "      <td>...</td>\n",
              "      <td>...</td>\n",
              "      <td>...</td>\n",
              "    </tr>\n",
              "    <tr>\n",
              "      <th>15057</th>\n",
              "      <td>225</td>\n",
              "      <td>Star Wars</td>\n",
              "      <td>217.0</td>\n",
              "      <td>9509-7</td>\n",
              "      <td>Advent Calendar 2012, Star Wars (Day 6) - Batt...</td>\n",
              "      <td>2012</td>\n",
              "      <td>225</td>\n",
              "      <td>5</td>\n",
              "    </tr>\n",
              "    <tr>\n",
              "      <th>15058</th>\n",
              "      <td>225</td>\n",
              "      <td>Star Wars</td>\n",
              "      <td>217.0</td>\n",
              "      <td>9509-8</td>\n",
              "      <td>Advent Calendar 2012, Star Wars (Day 7) - Nabo...</td>\n",
              "      <td>2012</td>\n",
              "      <td>225</td>\n",
              "      <td>16</td>\n",
              "    </tr>\n",
              "    <tr>\n",
              "      <th>15059</th>\n",
              "      <td>225</td>\n",
              "      <td>Star Wars</td>\n",
              "      <td>217.0</td>\n",
              "      <td>9509-9</td>\n",
              "      <td>Advent Calendar 2012, Star Wars (Day 8) - Vult...</td>\n",
              "      <td>2012</td>\n",
              "      <td>225</td>\n",
              "      <td>9</td>\n",
              "    </tr>\n",
              "    <tr>\n",
              "      <th>15644</th>\n",
              "      <td>261</td>\n",
              "      <td>Star Wars</td>\n",
              "      <td>258.0</td>\n",
              "      <td>9748-1</td>\n",
              "      <td>Droid Developer Kit</td>\n",
              "      <td>1999</td>\n",
              "      <td>261</td>\n",
              "      <td>658</td>\n",
              "    </tr>\n",
              "    <tr>\n",
              "      <th>15645</th>\n",
              "      <td>261</td>\n",
              "      <td>Star Wars</td>\n",
              "      <td>258.0</td>\n",
              "      <td>9754-1</td>\n",
              "      <td>Dark Side Developers Kit</td>\n",
              "      <td>2000</td>\n",
              "      <td>261</td>\n",
              "      <td>578</td>\n",
              "    </tr>\n",
              "  </tbody>\n",
              "</table>\n",
              "<p>846 rows × 8 columns</p>\n",
              "</div>"
            ],
            "text/plain": [
              "        id name_themes  parent_id  ...  year theme_id  num_parts\n",
              "6321   158   Star Wars        NaN  ...  2016      158         73\n",
              "6322   158   Star Wars        NaN  ...  2019      158         70\n",
              "6323   158   Star Wars        NaN  ...  2008      158         64\n",
              "6324   158   Star Wars        NaN  ...  2009      158         84\n",
              "6325   158   Star Wars        NaN  ...  2009      158         94\n",
              "...    ...         ...        ...  ...   ...      ...        ...\n",
              "15057  225   Star Wars      217.0  ...  2012      225          5\n",
              "15058  225   Star Wars      217.0  ...  2012      225         16\n",
              "15059  225   Star Wars      217.0  ...  2012      225          9\n",
              "15644  261   Star Wars      258.0  ...  1999      261        658\n",
              "15645  261   Star Wars      258.0  ...  2000      261        578\n",
              "\n",
              "[846 rows x 8 columns]"
            ]
          },
          "metadata": {
            "tags": []
          },
          "execution_count": 140
        }
      ]
    },
    {
      "cell_type": "code",
      "metadata": {
        "id": "utlnK8QmuJNU"
      },
      "source": [
        "ts_merged = ts_merged.set_index('id')\r\n",
        "star_wars_ids = ts_merged[ts_merged.name_themes.str.startswith('Star Wars')].index\r\n",
        "star_wars_ids = np.unique(star_wars_ids)\r\n",
        "star_wars_ids"
      ],
      "execution_count": 141,
      "outputs": []
    },
    {
      "cell_type": "code",
      "metadata": {
        "colab": {
          "base_uri": "https://localhost:8080/"
        },
        "id": "-PfPdOvOwbYi",
        "outputId": "d1c955b8-9907-4a57-b82d-51b00e59bd32"
      },
      "source": [
        "ts_merged.loc[star_wars_ids,'name_themes'] = 'Star Wars'\r\n",
        "ts_merged['is_starwars'] = ts_merged['name_themes']\r\n",
        "map = {'Star Wars': 1}\r\n",
        "ts_merged['is_starwars'] = ts_merged['is_starwars'].map(map)\r\n",
        "ts_merged = ts_merged.fillna(0)\r\n",
        "ts_merged['is_starwars'].unique()"
      ],
      "execution_count": 144,
      "outputs": [
        {
          "output_type": "execute_result",
          "data": {
            "text/plain": [
              "array([0., 1.])"
            ]
          },
          "metadata": {
            "tags": []
          },
          "execution_count": 144
        }
      ]
    },
    {
      "cell_type": "code",
      "metadata": {
        "colab": {
          "base_uri": "https://localhost:8080/"
        },
        "id": "Hq2gXBb0seG8",
        "outputId": "d3857a11-95ca-4109-8ec3-17af75cb0e2c"
      },
      "source": [
        "ts_merged.groupby('year')['is_starwars'].mean().tail(10)"
      ],
      "execution_count": 158,
      "outputs": [
        {
          "output_type": "execute_result",
          "data": {
            "text/plain": [
              "year\n",
              "2011    0.103321\n",
              "2012    0.106036\n",
              "2013    0.091317\n",
              "2014    0.095109\n",
              "2015    0.082353\n",
              "2016    0.083110\n",
              "2017    0.080977\n",
              "2018    0.084788\n",
              "2019    0.073406\n",
              "2020    0.053254\n",
              "Name: is_starwars, dtype: float64"
            ]
          },
          "metadata": {
            "tags": []
          },
          "execution_count": 158
        }
      ]
    },
    {
      "cell_type": "code",
      "metadata": {
        "colab": {
          "base_uri": "https://localhost:8080/",
          "height": 312
        },
        "id": "3qhzG85PsL2y",
        "outputId": "3a679092-fd46-4324-9a04-9bcbf251d641"
      },
      "source": [
        "# Show sets over the years\r\n",
        "ts_merged.groupby('year')['is_starwars'].mean().plot(kind='line', color='#2E7687')\r\n",
        "plt.ylabel('Percentage of star wars sets')\r\n",
        "plt.title('Evolution of star wars sets', y=1.06, alpha=0.7)\r\n",
        "plt.show()"
      ],
      "execution_count": 157,
      "outputs": [
        {
          "output_type": "display_data",
          "data": {
            "image/png": "[encoded data removed]",
            "text/plain": [
              "<Figure size 432x288 with 1 Axes>"
            ]
          },
          "metadata": {
            "tags": []
          }
        }
      ]
    },
    {
      "cell_type": "markdown",
      "metadata": {
        "id": "mmBFvhF0I2ly"
      },
      "source": [
        "# 7) Explore lego themes: In the last 20 years, what theme was the most popular? (in terms of number of sets released that year)?"
      ]
    },
    {
      "cell_type": "code",
      "metadata": {
        "colab": {
          "base_uri": "https://localhost:8080/",
          "height": 700
        },
        "id": "eBjEOM7fI4Sg",
        "outputId": "a067db95-6765-46be-d955-f8f306e5af4e"
      },
      "source": [
        "# Compute most created theme in each year.\r\n",
        "theme_ids = lego.groupby('year').agg(pd.Series.mode)[['theme_id', 'name']]\r\n",
        "\r\n",
        "# Show last 20 rows (years)\r\n",
        "theme_ids.tail(20)"
      ],
      "execution_count": null,
      "outputs": [
        {
          "output_type": "execute_result",
          "data": {
            "text/html": [
              "<div>\n",
              "<style scoped>\n",
              "    .dataframe tbody tr th:only-of-type {\n",
              "        vertical-align: middle;\n",
              "    }\n",
              "\n",
              "    .dataframe tbody tr th {\n",
              "        vertical-align: top;\n",
              "    }\n",
              "\n",
              "    .dataframe thead th {\n",
              "        text-align: right;\n",
              "    }\n",
              "</style>\n",
              "<table border=\"1\" class=\"dataframe\">\n",
              "  <thead>\n",
              "    <tr style=\"text-align: right;\">\n",
              "      <th></th>\n",
              "      <th>theme_id</th>\n",
              "      <th>name</th>\n",
              "    </tr>\n",
              "    <tr>\n",
              "      <th>year</th>\n",
              "      <th></th>\n",
              "      <th></th>\n",
              "    </tr>\n",
              "  </thead>\n",
              "  <tbody>\n",
              "    <tr>\n",
              "      <th>2000</th>\n",
              "      <td>158</td>\n",
              "      <td>Star Wars</td>\n",
              "    </tr>\n",
              "    <tr>\n",
              "      <th>2001</th>\n",
              "      <td>135</td>\n",
              "      <td>Life On Mars</td>\n",
              "    </tr>\n",
              "    <tr>\n",
              "      <th>2002</th>\n",
              "      <td>158</td>\n",
              "      <td>Star Wars</td>\n",
              "    </tr>\n",
              "    <tr>\n",
              "      <th>2003</th>\n",
              "      <td>158</td>\n",
              "      <td>Star Wars</td>\n",
              "    </tr>\n",
              "    <tr>\n",
              "      <th>2004</th>\n",
              "      <td>37</td>\n",
              "      <td>Basic Set</td>\n",
              "    </tr>\n",
              "    <tr>\n",
              "      <th>2005</th>\n",
              "      <td>158</td>\n",
              "      <td>Star Wars</td>\n",
              "    </tr>\n",
              "    <tr>\n",
              "      <th>2006</th>\n",
              "      <td>37</td>\n",
              "      <td>Basic Set</td>\n",
              "    </tr>\n",
              "    <tr>\n",
              "      <th>2007</th>\n",
              "      <td>158</td>\n",
              "      <td>Star Wars</td>\n",
              "    </tr>\n",
              "    <tr>\n",
              "      <th>2008</th>\n",
              "      <td>158</td>\n",
              "      <td>Star Wars</td>\n",
              "    </tr>\n",
              "    <tr>\n",
              "      <th>2009</th>\n",
              "      <td>158</td>\n",
              "      <td>Star Wars</td>\n",
              "    </tr>\n",
              "    <tr>\n",
              "      <th>2010</th>\n",
              "      <td>158</td>\n",
              "      <td>Star Wars</td>\n",
              "    </tr>\n",
              "    <tr>\n",
              "      <th>2011</th>\n",
              "      <td>435</td>\n",
              "      <td>Star Wars</td>\n",
              "    </tr>\n",
              "    <tr>\n",
              "      <th>2012</th>\n",
              "      <td>435</td>\n",
              "      <td>Ninjago</td>\n",
              "    </tr>\n",
              "    <tr>\n",
              "      <th>2013</th>\n",
              "      <td>158</td>\n",
              "      <td>Star Wars</td>\n",
              "    </tr>\n",
              "    <tr>\n",
              "      <th>2014</th>\n",
              "      <td>158</td>\n",
              "      <td>Star Wars</td>\n",
              "    </tr>\n",
              "    <tr>\n",
              "      <th>2015</th>\n",
              "      <td>158</td>\n",
              "      <td>Star Wars</td>\n",
              "    </tr>\n",
              "    <tr>\n",
              "      <th>2016</th>\n",
              "      <td>158</td>\n",
              "      <td>Star Wars</td>\n",
              "    </tr>\n",
              "    <tr>\n",
              "      <th>2017</th>\n",
              "      <td>158</td>\n",
              "      <td>Star Wars</td>\n",
              "    </tr>\n",
              "    <tr>\n",
              "      <th>2018</th>\n",
              "      <td>158</td>\n",
              "      <td>Star Wars</td>\n",
              "    </tr>\n",
              "    <tr>\n",
              "      <th>2019</th>\n",
              "      <td>158</td>\n",
              "      <td>Star Wars</td>\n",
              "    </tr>\n",
              "  </tbody>\n",
              "</table>\n",
              "</div>"
            ],
            "text/plain": [
              "      theme_id          name\n",
              "year                        \n",
              "2000       158     Star Wars\n",
              "2001       135  Life On Mars\n",
              "2002       158     Star Wars\n",
              "2003       158     Star Wars\n",
              "2004        37     Basic Set\n",
              "2005       158     Star Wars\n",
              "2006        37     Basic Set\n",
              "2007       158     Star Wars\n",
              "2008       158     Star Wars\n",
              "2009       158     Star Wars\n",
              "2010       158     Star Wars\n",
              "2011       435     Star Wars\n",
              "2012       435       Ninjago\n",
              "2013       158     Star Wars\n",
              "2014       158     Star Wars\n",
              "2015       158     Star Wars\n",
              "2016       158     Star Wars\n",
              "2017       158     Star Wars\n",
              "2018       158     Star Wars\n",
              "2019       158     Star Wars"
            ]
          },
          "metadata": {
            "tags": []
          },
          "execution_count": 129
        }
      ]
    },
    {
      "cell_type": "markdown",
      "metadata": {
        "id": "WZbLemhAMYQk"
      },
      "source": [
        "There are only four years from the last 20, that star wars wasn't the theme with most created sets. This shows the importance of this licensed brand."
      ]
    },
    {
      "cell_type": "markdown",
      "metadata": {
        "id": "uMia_cpYMXBm"
      },
      "source": [
        "# 8) Explore lego themes: Describe how many sets of theme 'truck', 'car', 'race' are there, and the percentage of total. Which 5 colors are the most common in this topic?"
      ]
    },
    {
      "cell_type": "markdown",
      "metadata": {
        "id": "30Nx-qbqVWfg"
      },
      "source": [
        "## a) Describe how many sets of theme 'truck', 'car', 'race' are there, and the percentage of total"
      ]
    },
    {
      "cell_type": "code",
      "metadata": {
        "colab": {
          "base_uri": "https://localhost:8080/"
        },
        "id": "4xraum8AOcsN",
        "outputId": "33e20e91-850e-49d1-a1b0-68c329e94ac3"
      },
      "source": [
        "# Select set ids which name contains car, truck or race.\r\n",
        "set_num_ctr = lego[lego['name_setsinv'].str.contains('car|truck|race')]['set_num'].unique()\r\n",
        "set_num_ctr"
      ],
      "execution_count": null,
      "outputs": [
        {
          "output_type": "execute_result",
          "data": {
            "text/plain": [
              "array(['10022-1', '10025-1', '1202-1', '1382-1', '1385-1', '1386-1',\n",
              "       '2585-1', '30461-1', '308-1', '309-1', '312-2', '313-2', '3194-1',\n",
              "       '3195-1', '3196-1', '353-1', '3714-1', '3900-1', '40176-1',\n",
              "       '40243-1', '40285-1', '40328-1', '40352-1', '41124-1', '44003-1',\n",
              "       '4485-1', '4659597-1', '5002112-1', '518-1', '519-1', '520-1',\n",
              "       '520-2', '520-3', '520-4', '520-5', '520-6', '520-7', '520-8',\n",
              "       '521-1', '561610-1', '603-1', '6833-1', '6868-1', '6966-2',\n",
              "       '6967-2', '70910-1', '70913-1', '71002-2', '71023-18', '71023-6',\n",
              "       '7131-1', '7171-1', '7216-1', '7216-2', '7216-3', '7217-1',\n",
              "       '7217-2', '7305-1', '75012-1', '75171-1', '75258-1', '75523-1',\n",
              "       '7554-1', '7574-19', '7575-10', '7575-3', '75970-1', '76042-1',\n",
              "       '76054-1', '76089-1', '7786-1', '7891-1', '7904-13', '7904-15',\n",
              "       '7910-1', '7911-1', '7912-1', '7962-1', '8070-1', '850-1', '857-1',\n",
              "       '8634-1', '8953-1', '9675-1'], dtype=object)"
            ]
          },
          "metadata": {
            "tags": []
          },
          "execution_count": 92
        }
      ]
    },
    {
      "cell_type": "code",
      "metadata": {
        "colab": {
          "base_uri": "https://localhost:8080/"
        },
        "id": "rc1j_3lQRTyA",
        "outputId": "62424296-cf14-45a4-8d53-896d64276692"
      },
      "source": [
        "# create a dictionary \r\n",
        "map_sets = dict(zip(set_num_ctr,np.ones(len(set_num_ctr))))\r\n",
        "\r\n",
        "# Crerate a new column if id contains car, truck or race would have a value of 1.\r\n",
        "lego['is_ctr'] = lego.set_num.map(map_sets)\r\n",
        "lego['is_ctr'].replace(np.nan, 0, inplace=True)\r\n",
        "lego.is_ctr.unique()"
      ],
      "execution_count": null,
      "outputs": [
        {
          "output_type": "execute_result",
          "data": {
            "text/plain": [
              "array([0., 1.])"
            ]
          },
          "metadata": {
            "tags": []
          },
          "execution_count": 100
        }
      ]
    },
    {
      "cell_type": "code",
      "metadata": {
        "colab": {
          "base_uri": "https://localhost:8080/",
          "height": 314
        },
        "id": "Cnj75bqGQZFX",
        "outputId": "d1566c31-0723-485d-dd88-5556ff6854f3"
      },
      "source": [
        "ctr_by_year = lego.groupby('year').mean()['is_ctr']\r\n",
        "\r\n",
        "# Show sets over the years\r\n",
        "ctr_by_year.plot(kind='line', color='#2E7687')\r\n",
        "plt.ylabel('Percentage')\r\n",
        "plt.title('Percentage of car, truck or race sets', y=1.06, alpha=0.7)\r\n",
        "plt.show()"
      ],
      "execution_count": null,
      "outputs": [
        {
          "output_type": "display_data",
          "data": {
            "image/png": "[encoded data removed]",
            "text/plain": [
              "<Figure size 432x288 with 1 Axes>"
            ]
          },
          "metadata": {
            "tags": []
          }
        }
      ]
    },
    {
      "cell_type": "markdown",
      "metadata": {
        "id": "mh_OfCvUVFPt"
      },
      "source": [
        "It seems LEGO has developed very few car, truck or race sets."
      ]
    },
    {
      "cell_type": "markdown",
      "metadata": {
        "id": "yRs3Y28pVTcX"
      },
      "source": [
        "## b) Which 5 colors are the most predominant in car, truck and race sets?"
      ]
    }
  ]
}