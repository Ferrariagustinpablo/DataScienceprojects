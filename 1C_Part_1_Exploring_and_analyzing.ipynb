{
  "nbformat": 4,
  "nbformat_minor": 0,
  "metadata": {
    "colab": {
      "name": "1C  - Part 1 - Exploring and analyzing.ipynb",
      "provenance": [],
      "collapsed_sections": [],
      "toc_visible": true,
      "authorship_tag": "ABX9TyPlvzO0v8QnB1W+GjnEXaQs",
      "include_colab_link": true
    },
    "kernelspec": {
      "name": "python3",
      "display_name": "Python 3"
    }
  },
  "cells": [
    {
      "cell_type": "markdown",
      "metadata": {
        "id": "view-in-github",
        "colab_type": "text"
      },
      "source": [
        "<a href=\"https://colab.research.google.com/github/Ferrariagustinpablo/DataScienceprojects/blob/main/1C_Part_1_Exploring_and_analyzing.ipynb\" target=\"_parent\"><img src=\"https://colab.research.google.com/assets/colab-badge.svg\" alt=\"Open In Colab\"/></a>"
      ]
    },
    {
      "cell_type": "markdown",
      "metadata": {
        "id": "DGGbBoUxIUp7"
      },
      "source": [
        "# Importing and connecting to Kaggle"
      ]
    },
    {
      "cell_type": "code",
      "metadata": {
        "id": "XD9zrDz5t2_0",
        "colab": {
          "base_uri": "https://localhost:8080/"
        },
        "outputId": "85f97f60-ae58-4820-9b17-77dc0b0ac0bd"
      },
      "source": [
        "# Importing common used libraries\r\n",
        "import pandas as pd\r\n",
        "import numpy as np\r\n",
        "import matplotlib.pyplot as plt\r\n",
        "import seaborn as sns\r\n",
        "import datetime as dt\r\n",
        "!pip install dc_stat_think\r\n",
        "import dc_stat_think as dcst\r\n",
        "import statsmodels.api as sm"
      ],
      "execution_count": 34,
      "outputs": [
        {
          "output_type": "stream",
          "text": [
            "Requirement already satisfied: dc_stat_think in /usr/local/lib/python3.6/dist-packages (1.1.1)\n"
          ],
          "name": "stdout"
        }
      ]
    },
    {
      "cell_type": "code",
      "metadata": {
        "id": "7BWQc3-7MOY9"
      },
      "source": [
        "# Style of plots\r\n",
        "plt.style.use('ggplot')"
      ],
      "execution_count": 35,
      "outputs": []
    },
    {
      "cell_type": "code",
      "metadata": {
        "colab": {
          "resources": {
            "http://localhost:8080/nbextensions/google.colab/files.js": {
              "data": "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",
              "ok": true,
              "headers": [
                [
                  "content-type",
                  "application/javascript"
                ]
              ],
              "status": 200,
              "status_text": ""
            }
          },
          "base_uri": "https://localhost:8080/",
          "height": 191
        },
        "id": "xiV-f2OauCRk",
        "outputId": "e913cab1-071b-431a-a0b1-ae45397d8c03"
      },
      "source": [
        "# Choose a the kaggle.json file downloaded from Kaggle.\r\n",
        "from google.colab import files\r\n",
        "files.upload()\r\n",
        "\r\n",
        "# Create a kaggle file and put kaggle.json in it.\r\n",
        "!mkdir -p ~/kaggle\r\n",
        "!cp kaggle.json ~/.kaggle/\r\n",
        "\r\n",
        "# Hide API account key.\r\n",
        "!chmod 600 /root/.kaggle/kaggle.json\r\n",
        "\r\n",
        "# kaggle datasets \r\n",
        "!kaggle competitions download -c competitive-data-science-predict-future-sales"
      ],
      "execution_count": 37,
      "outputs": [
        {
          "output_type": "display_data",
          "data": {
            "text/html": [
              "\n",
              "     <input type=\"file\" id=\"files-9333267d-c59b-4e70-8cd1-108f4c1f0873\" name=\"files[]\" multiple disabled\n",
              "        style=\"border:none\" />\n",
              "     <output id=\"result-9333267d-c59b-4e70-8cd1-108f4c1f0873\">\n",
              "      Upload widget is only available when the cell has been executed in the\n",
              "      current browser session. Please rerun this cell to enable.\n",
              "      </output>\n",
              "      <script src=\"/nbextensions/google.colab/files.js\"></script> "
            ],
            "text/plain": [
              "<IPython.core.display.HTML object>"
            ]
          },
          "metadata": {
            "tags": []
          }
        },
        {
          "output_type": "stream",
          "text": [
            "Saving kaggle.json to kaggle (4).json\n",
            "Warning: Looks like you're using an outdated API Version, please consider updating (server 1.5.10 / client 1.5.4)\n",
            "shops.csv: Skipping, found more recently modified local copy (use --force to force download)\n",
            "items.csv.zip: Skipping, found more recently modified local copy (use --force to force download)\n",
            "item_categories.csv: Skipping, found more recently modified local copy (use --force to force download)\n",
            "test.csv.zip: Skipping, found more recently modified local copy (use --force to force download)\n",
            "sales_train.csv.zip: Skipping, found more recently modified local copy (use --force to force download)\n",
            "sample_submission.csv.zip: Skipping, found more recently modified local copy (use --force to force download)\n"
          ],
          "name": "stdout"
        }
      ]
    },
    {
      "cell_type": "code",
      "metadata": {
        "id": "5qMMHea9vLn1"
      },
      "source": [
        "# Sales train dataset\r\n",
        "sales = pd.read_csv('/content/sales_train.csv.zip')"
      ],
      "execution_count": 38,
      "outputs": []
    },
    {
      "cell_type": "markdown",
      "metadata": {
        "id": "AyNJDBoFIZ1z"
      },
      "source": [
        "# Control Values and value types"
      ]
    },
    {
      "cell_type": "markdown",
      "metadata": {
        "id": "BJSFKvVMKQfu"
      },
      "source": [
        "Next code describes values types are correct and there aren't any NaN values.\r\n",
        "\r\n",
        "Dataset is big with almost 3 million rows (As we can see each rows represent a transaction)"
      ]
    },
    {
      "cell_type": "code",
      "metadata": {
        "colab": {
          "base_uri": "https://localhost:8080/",
          "height": 782
        },
        "id": "vjfEhuOIKMF8",
        "outputId": "ce793b0d-9f35-4357-e12e-ed48d3338d30"
      },
      "source": [
        "print(\"----------Top-5- Record----------\")\r\n",
        "display(sales.head(5))\r\n",
        "print(\"-----------Information-----------\")\r\n",
        "print(sales.info())\r\n",
        "print(\"-----------Data Types-----------\")\r\n",
        "print(sales.dtypes)\r\n",
        "print(\"----------Null values-----------\")\r\n",
        "print(sales.isna().sum())\r\n",
        "print(\"----------Shape of Data----------\")\r\n",
        "print(sales.shape)"
      ],
      "execution_count": 39,
      "outputs": [
        {
          "output_type": "stream",
          "text": [
            "----------Top-5- Record----------\n"
          ],
          "name": "stdout"
        },
        {
          "output_type": "display_data",
          "data": {
            "text/html": [
              "<div>\n",
              "<style scoped>\n",
              "    .dataframe tbody tr th:only-of-type {\n",
              "        vertical-align: middle;\n",
              "    }\n",
              "\n",
              "    .dataframe tbody tr th {\n",
              "        vertical-align: top;\n",
              "    }\n",
              "\n",
              "    .dataframe thead th {\n",
              "        text-align: right;\n",
              "    }\n",
              "</style>\n",
              "<table border=\"1\" class=\"dataframe\">\n",
              "  <thead>\n",
              "    <tr style=\"text-align: right;\">\n",
              "      <th></th>\n",
              "      <th>date</th>\n",
              "      <th>date_block_num</th>\n",
              "      <th>shop_id</th>\n",
              "      <th>item_id</th>\n",
              "      <th>item_price</th>\n",
              "      <th>item_cnt_day</th>\n",
              "    </tr>\n",
              "  </thead>\n",
              "  <tbody>\n",
              "    <tr>\n",
              "      <th>0</th>\n",
              "      <td>02.01.2013</td>\n",
              "      <td>0</td>\n",
              "      <td>59</td>\n",
              "      <td>22154</td>\n",
              "      <td>999.000</td>\n",
              "      <td>1.000</td>\n",
              "    </tr>\n",
              "    <tr>\n",
              "      <th>1</th>\n",
              "      <td>03.01.2013</td>\n",
              "      <td>0</td>\n",
              "      <td>25</td>\n",
              "      <td>2552</td>\n",
              "      <td>899.000</td>\n",
              "      <td>1.000</td>\n",
              "    </tr>\n",
              "    <tr>\n",
              "      <th>2</th>\n",
              "      <td>05.01.2013</td>\n",
              "      <td>0</td>\n",
              "      <td>25</td>\n",
              "      <td>2552</td>\n",
              "      <td>899.000</td>\n",
              "      <td>-1.000</td>\n",
              "    </tr>\n",
              "    <tr>\n",
              "      <th>3</th>\n",
              "      <td>06.01.2013</td>\n",
              "      <td>0</td>\n",
              "      <td>25</td>\n",
              "      <td>2554</td>\n",
              "      <td>1709.050</td>\n",
              "      <td>1.000</td>\n",
              "    </tr>\n",
              "    <tr>\n",
              "      <th>4</th>\n",
              "      <td>15.01.2013</td>\n",
              "      <td>0</td>\n",
              "      <td>25</td>\n",
              "      <td>2555</td>\n",
              "      <td>1099.000</td>\n",
              "      <td>1.000</td>\n",
              "    </tr>\n",
              "  </tbody>\n",
              "</table>\n",
              "</div>"
            ],
            "text/plain": [
              "         date  date_block_num  shop_id  item_id  item_price  item_cnt_day\n",
              "0  02.01.2013               0       59    22154     999.000         1.000\n",
              "1  03.01.2013               0       25     2552     899.000         1.000\n",
              "2  05.01.2013               0       25     2552     899.000        -1.000\n",
              "3  06.01.2013               0       25     2554    1709.050         1.000\n",
              "4  15.01.2013               0       25     2555    1099.000         1.000"
            ]
          },
          "metadata": {
            "tags": []
          }
        },
        {
          "output_type": "stream",
          "text": [
            "-----------Information-----------\n",
            "<class 'pandas.core.frame.DataFrame'>\n",
            "RangeIndex: 2935849 entries, 0 to 2935848\n",
            "Data columns (total 6 columns):\n",
            " #   Column          Dtype  \n",
            "---  ------          -----  \n",
            " 0   date            object \n",
            " 1   date_block_num  int64  \n",
            " 2   shop_id         int64  \n",
            " 3   item_id         int64  \n",
            " 4   item_price      float64\n",
            " 5   item_cnt_day    float64\n",
            "dtypes: float64(2), int64(3), object(1)\n",
            "memory usage: 134.4+ MB\n",
            "None\n",
            "-----------Data Types-----------\n",
            "date               object\n",
            "date_block_num      int64\n",
            "shop_id             int64\n",
            "item_id             int64\n",
            "item_price        float64\n",
            "item_cnt_day      float64\n",
            "dtype: object\n",
            "----------Null values-----------\n",
            "date              0\n",
            "date_block_num    0\n",
            "shop_id           0\n",
            "item_id           0\n",
            "item_price        0\n",
            "item_cnt_day      0\n",
            "dtype: int64\n",
            "----------Shape of Data----------\n",
            "(2935849, 6)\n"
          ],
          "name": "stdout"
        }
      ]
    },
    {
      "cell_type": "markdown",
      "metadata": {
        "id": "DZldZOZ8E8ZP"
      },
      "source": [
        "## Control values:"
      ]
    },
    {
      "cell_type": "code",
      "metadata": {
        "colab": {
          "base_uri": "https://localhost:8080/",
          "height": 297
        },
        "id": "WlhaVBuxDkzp",
        "outputId": "1b39fc59-d7b0-4ffe-97ad-54aa6580085d"
      },
      "source": [
        "# Display float not Scientific notation:\r\n",
        "pd.set_option('display.float_format', lambda x: '%.3f' % x)\r\n",
        "\r\n",
        "# Describe\r\n",
        "sales.describe()"
      ],
      "execution_count": 40,
      "outputs": [
        {
          "output_type": "execute_result",
          "data": {
            "text/html": [
              "<div>\n",
              "<style scoped>\n",
              "    .dataframe tbody tr th:only-of-type {\n",
              "        vertical-align: middle;\n",
              "    }\n",
              "\n",
              "    .dataframe tbody tr th {\n",
              "        vertical-align: top;\n",
              "    }\n",
              "\n",
              "    .dataframe thead th {\n",
              "        text-align: right;\n",
              "    }\n",
              "</style>\n",
              "<table border=\"1\" class=\"dataframe\">\n",
              "  <thead>\n",
              "    <tr style=\"text-align: right;\">\n",
              "      <th></th>\n",
              "      <th>date_block_num</th>\n",
              "      <th>shop_id</th>\n",
              "      <th>item_id</th>\n",
              "      <th>item_price</th>\n",
              "      <th>item_cnt_day</th>\n",
              "    </tr>\n",
              "  </thead>\n",
              "  <tbody>\n",
              "    <tr>\n",
              "      <th>count</th>\n",
              "      <td>2935849.000</td>\n",
              "      <td>2935849.000</td>\n",
              "      <td>2935849.000</td>\n",
              "      <td>2935849.000</td>\n",
              "      <td>2935849.000</td>\n",
              "    </tr>\n",
              "    <tr>\n",
              "      <th>mean</th>\n",
              "      <td>14.570</td>\n",
              "      <td>33.002</td>\n",
              "      <td>10197.227</td>\n",
              "      <td>890.853</td>\n",
              "      <td>1.243</td>\n",
              "    </tr>\n",
              "    <tr>\n",
              "      <th>std</th>\n",
              "      <td>9.423</td>\n",
              "      <td>16.227</td>\n",
              "      <td>6324.297</td>\n",
              "      <td>1729.800</td>\n",
              "      <td>2.619</td>\n",
              "    </tr>\n",
              "    <tr>\n",
              "      <th>min</th>\n",
              "      <td>0.000</td>\n",
              "      <td>0.000</td>\n",
              "      <td>0.000</td>\n",
              "      <td>-1.000</td>\n",
              "      <td>-22.000</td>\n",
              "    </tr>\n",
              "    <tr>\n",
              "      <th>25%</th>\n",
              "      <td>7.000</td>\n",
              "      <td>22.000</td>\n",
              "      <td>4476.000</td>\n",
              "      <td>249.000</td>\n",
              "      <td>1.000</td>\n",
              "    </tr>\n",
              "    <tr>\n",
              "      <th>50%</th>\n",
              "      <td>14.000</td>\n",
              "      <td>31.000</td>\n",
              "      <td>9343.000</td>\n",
              "      <td>399.000</td>\n",
              "      <td>1.000</td>\n",
              "    </tr>\n",
              "    <tr>\n",
              "      <th>75%</th>\n",
              "      <td>23.000</td>\n",
              "      <td>47.000</td>\n",
              "      <td>15684.000</td>\n",
              "      <td>999.000</td>\n",
              "      <td>1.000</td>\n",
              "    </tr>\n",
              "    <tr>\n",
              "      <th>max</th>\n",
              "      <td>33.000</td>\n",
              "      <td>59.000</td>\n",
              "      <td>22169.000</td>\n",
              "      <td>307980.000</td>\n",
              "      <td>2169.000</td>\n",
              "    </tr>\n",
              "  </tbody>\n",
              "</table>\n",
              "</div>"
            ],
            "text/plain": [
              "       date_block_num     shop_id     item_id  item_price  item_cnt_day\n",
              "count     2935849.000 2935849.000 2935849.000 2935849.000   2935849.000\n",
              "mean           14.570      33.002   10197.227     890.853         1.243\n",
              "std             9.423      16.227    6324.297    1729.800         2.619\n",
              "min             0.000       0.000       0.000      -1.000       -22.000\n",
              "25%             7.000      22.000    4476.000     249.000         1.000\n",
              "50%            14.000      31.000    9343.000     399.000         1.000\n",
              "75%            23.000      47.000   15684.000     999.000         1.000\n",
              "max            33.000      59.000   22169.000  307980.000      2169.000"
            ]
          },
          "metadata": {
            "tags": []
          },
          "execution_count": 40
        }
      ]
    },
    {
      "cell_type": "markdown",
      "metadata": {
        "id": "uAyL-1wKPdV-"
      },
      "source": [
        "## Control values on dates\r\n",
        "\r\n",
        "parse_dates in pandas does not classify correctly, therefore:"
      ]
    },
    {
      "cell_type": "code",
      "metadata": {
        "colab": {
          "base_uri": "https://localhost:8080/",
          "height": 204
        },
        "id": "unfv4EoXMLUE",
        "outputId": "a3cd16d9-76f6-4a0e-ade0-a5a9d1523bd4"
      },
      "source": [
        "# to_datetime or strptime\r\n",
        "sales.date = sales.date.apply(lambda x:dt.datetime.strptime(x, '%d.%m.%Y'))\r\n",
        "\r\n",
        "# Sort date feature so I can plot by dates.\r\n",
        "sales = sales.sort_values(by='date')\r\n",
        "sales.head()"
      ],
      "execution_count": 41,
      "outputs": [
        {
          "output_type": "execute_result",
          "data": {
            "text/html": [
              "<div>\n",
              "<style scoped>\n",
              "    .dataframe tbody tr th:only-of-type {\n",
              "        vertical-align: middle;\n",
              "    }\n",
              "\n",
              "    .dataframe tbody tr th {\n",
              "        vertical-align: top;\n",
              "    }\n",
              "\n",
              "    .dataframe thead th {\n",
              "        text-align: right;\n",
              "    }\n",
              "</style>\n",
              "<table border=\"1\" class=\"dataframe\">\n",
              "  <thead>\n",
              "    <tr style=\"text-align: right;\">\n",
              "      <th></th>\n",
              "      <th>date</th>\n",
              "      <th>date_block_num</th>\n",
              "      <th>shop_id</th>\n",
              "      <th>item_id</th>\n",
              "      <th>item_price</th>\n",
              "      <th>item_cnt_day</th>\n",
              "    </tr>\n",
              "  </thead>\n",
              "  <tbody>\n",
              "    <tr>\n",
              "      <th>49800</th>\n",
              "      <td>2013-01-01</td>\n",
              "      <td>0</td>\n",
              "      <td>18</td>\n",
              "      <td>5823</td>\n",
              "      <td>2500.000</td>\n",
              "      <td>1.000</td>\n",
              "    </tr>\n",
              "    <tr>\n",
              "      <th>29784</th>\n",
              "      <td>2013-01-01</td>\n",
              "      <td>0</td>\n",
              "      <td>27</td>\n",
              "      <td>5573</td>\n",
              "      <td>849.000</td>\n",
              "      <td>1.000</td>\n",
              "    </tr>\n",
              "    <tr>\n",
              "      <th>35476</th>\n",
              "      <td>2013-01-01</td>\n",
              "      <td>0</td>\n",
              "      <td>7</td>\n",
              "      <td>1006</td>\n",
              "      <td>399.000</td>\n",
              "      <td>1.000</td>\n",
              "    </tr>\n",
              "    <tr>\n",
              "      <th>8330</th>\n",
              "      <td>2013-01-01</td>\n",
              "      <td>0</td>\n",
              "      <td>19</td>\n",
              "      <td>17707</td>\n",
              "      <td>899.000</td>\n",
              "      <td>1.000</td>\n",
              "    </tr>\n",
              "    <tr>\n",
              "      <th>57384</th>\n",
              "      <td>2013-01-01</td>\n",
              "      <td>0</td>\n",
              "      <td>14</td>\n",
              "      <td>19548</td>\n",
              "      <td>149.000</td>\n",
              "      <td>1.000</td>\n",
              "    </tr>\n",
              "  </tbody>\n",
              "</table>\n",
              "</div>"
            ],
            "text/plain": [
              "            date  date_block_num  shop_id  item_id  item_price  item_cnt_day\n",
              "49800 2013-01-01               0       18     5823    2500.000         1.000\n",
              "29784 2013-01-01               0       27     5573     849.000         1.000\n",
              "35476 2013-01-01               0        7     1006     399.000         1.000\n",
              "8330  2013-01-01               0       19    17707     899.000         1.000\n",
              "57384 2013-01-01               0       14    19548     149.000         1.000"
            ]
          },
          "metadata": {
            "tags": []
          },
          "execution_count": 41
        }
      ]
    },
    {
      "cell_type": "code",
      "metadata": {
        "colab": {
          "base_uri": "https://localhost:8080/"
        },
        "id": "MUQ1SkKj0uHV",
        "outputId": "11a82f57-a4de-4bb8-88f5-ab4268cc3fdc"
      },
      "source": [
        "sales_dtmin = sales.date.min()\r\n",
        "sales_dtmax = sales.date.max()\r\n",
        "\r\n",
        "print('Dataset goes from {} to {}'.format(sales_dtmin,sales_dtmax))"
      ],
      "execution_count": 42,
      "outputs": [
        {
          "output_type": "stream",
          "text": [
            "Dataset goes from 2013-01-01 00:00:00 to 2015-10-31 00:00:00\n"
          ],
          "name": "stdout"
        }
      ]
    },
    {
      "cell_type": "markdown",
      "metadata": {
        "id": "y4MOCME15JBl"
      },
      "source": [
        "## Control values on item_cnt_day "
      ]
    },
    {
      "cell_type": "markdown",
      "metadata": {
        "id": "hsEm-4x_A8Xw"
      },
      "source": [
        "It seems there are some outliers on item_cnt_day:"
      ]
    },
    {
      "cell_type": "code",
      "metadata": {
        "colab": {
          "base_uri": "https://localhost:8080/",
          "height": 299
        },
        "id": "C8yEdCup4ani",
        "outputId": "6f01fac0-8767-4bf3-b4f9-8dc5409fdcae"
      },
      "source": [
        "# Plot item_cnt_day Histplot:\r\n",
        "sns.histplot(sales.item_cnt_day, stat='density', label='count')\r\n",
        "plt.title('Frequency of item sold per day')\r\n",
        "plt.xlabel('Q of item sold in a day')\r\n",
        "plt.show()"
      ],
      "execution_count": 43,
      "outputs": [
        {
          "output_type": "display_data",
          "data": {
            "image/png": "[encoded data removed]",
            "text/plain": [
              "<Figure size 432x288 with 1 Axes>"
            ]
          },
          "metadata": {
            "tags": []
          }
        }
      ]
    },
    {
      "cell_type": "code",
      "metadata": {
        "colab": {
          "base_uri": "https://localhost:8080/",
          "height": 204
        },
        "id": "XdP0Zng2BB96",
        "outputId": "2d223c61-b80c-4ae7-f05a-70e165f5c5a6"
      },
      "source": [
        "# Previous bar chart depicts it might be count of 2000 items sold in a day.\r\n",
        "rare_q = sales[sales.item_cnt_day>600]\r\n",
        "display(rare_q)"
      ],
      "execution_count": 44,
      "outputs": [
        {
          "output_type": "display_data",
          "data": {
            "text/html": [
              "<div>\n",
              "<style scoped>\n",
              "    .dataframe tbody tr th:only-of-type {\n",
              "        vertical-align: middle;\n",
              "    }\n",
              "\n",
              "    .dataframe tbody tr th {\n",
              "        vertical-align: top;\n",
              "    }\n",
              "\n",
              "    .dataframe thead th {\n",
              "        text-align: right;\n",
              "    }\n",
              "</style>\n",
              "<table border=\"1\" class=\"dataframe\">\n",
              "  <thead>\n",
              "    <tr style=\"text-align: right;\">\n",
              "      <th></th>\n",
              "      <th>date</th>\n",
              "      <th>date_block_num</th>\n",
              "      <th>shop_id</th>\n",
              "      <th>item_id</th>\n",
              "      <th>item_price</th>\n",
              "      <th>item_cnt_day</th>\n",
              "    </tr>\n",
              "  </thead>\n",
              "  <tbody>\n",
              "    <tr>\n",
              "      <th>2326930</th>\n",
              "      <td>2015-01-15</td>\n",
              "      <td>24</td>\n",
              "      <td>12</td>\n",
              "      <td>20949</td>\n",
              "      <td>4.000</td>\n",
              "      <td>1000.000</td>\n",
              "    </tr>\n",
              "    <tr>\n",
              "      <th>2608040</th>\n",
              "      <td>2015-04-14</td>\n",
              "      <td>27</td>\n",
              "      <td>12</td>\n",
              "      <td>3731</td>\n",
              "      <td>1904.548</td>\n",
              "      <td>624.000</td>\n",
              "    </tr>\n",
              "    <tr>\n",
              "      <th>2864235</th>\n",
              "      <td>2015-09-30</td>\n",
              "      <td>32</td>\n",
              "      <td>12</td>\n",
              "      <td>9248</td>\n",
              "      <td>1692.526</td>\n",
              "      <td>669.000</td>\n",
              "    </tr>\n",
              "    <tr>\n",
              "      <th>2851091</th>\n",
              "      <td>2015-09-30</td>\n",
              "      <td>32</td>\n",
              "      <td>55</td>\n",
              "      <td>9249</td>\n",
              "      <td>1702.826</td>\n",
              "      <td>637.000</td>\n",
              "    </tr>\n",
              "    <tr>\n",
              "      <th>2909818</th>\n",
              "      <td>2015-10-28</td>\n",
              "      <td>33</td>\n",
              "      <td>12</td>\n",
              "      <td>11373</td>\n",
              "      <td>0.909</td>\n",
              "      <td>2169.000</td>\n",
              "    </tr>\n",
              "  </tbody>\n",
              "</table>\n",
              "</div>"
            ],
            "text/plain": [
              "              date  date_block_num  shop_id  item_id  item_price  item_cnt_day\n",
              "2326930 2015-01-15              24       12    20949       4.000      1000.000\n",
              "2608040 2015-04-14              27       12     3731    1904.548       624.000\n",
              "2864235 2015-09-30              32       12     9248    1692.526       669.000\n",
              "2851091 2015-09-30              32       55     9249    1702.826       637.000\n",
              "2909818 2015-10-28              33       12    11373       0.909      2169.000"
            ]
          },
          "metadata": {
            "tags": []
          }
        }
      ]
    },
    {
      "cell_type": "markdown",
      "metadata": {
        "id": "mk9zvUkYCJkP"
      },
      "source": [
        "item_cnt_day feature has negative numbers. \r\n",
        "This represents some products have been returned.\r\n",
        "\r\n",
        "Let's see how many times this happened."
      ]
    },
    {
      "cell_type": "code",
      "metadata": {
        "colab": {
          "base_uri": "https://localhost:8080/"
        },
        "id": "mPFK2FFGB5nk",
        "outputId": "f9484223-f6d6-4372-818a-f2580a94e47f"
      },
      "source": [
        "# Check lower boundary of item count.\r\n",
        "min_cnt_day = sales.item_cnt_day.min()\r\n",
        "rare_q_low = sales[sales.item_cnt_day<0]\r\n",
        "\r\n",
        "print('There are {} rows with negative item_cnt_day from {} to -1.'.format(rare_q_low.shape[0], min_cnt_day))"
      ],
      "execution_count": 45,
      "outputs": [
        {
          "output_type": "stream",
          "text": [
            "There are 7356 rows with negative item_cnt_day from -22.0 to -1.\n"
          ],
          "name": "stdout"
        }
      ]
    },
    {
      "cell_type": "markdown",
      "metadata": {
        "id": "zwqKOKdmFwgZ"
      },
      "source": [
        "## Control values on item_price"
      ]
    },
    {
      "cell_type": "markdown",
      "metadata": {
        "id": "LhFMFUN6F2Sc"
      },
      "source": [
        "In describe we see there are some item_price as values -1.\r\n",
        "\r\n",
        "Let's see how many observations we have:"
      ]
    },
    {
      "cell_type": "code",
      "metadata": {
        "colab": {
          "base_uri": "https://localhost:8080/",
          "height": 97
        },
        "id": "OL3B3PckFwP9",
        "outputId": "345bcc57-9c3e-42b5-e139-165b1b3ee541"
      },
      "source": [
        "# Check lower boundary:\r\n",
        "print(sales.item_price.min())\r\n",
        "\r\n",
        "# Seems there are negative prices. Only one row.\r\n",
        "display(sales[sales.item_price<0])"
      ],
      "execution_count": 46,
      "outputs": [
        {
          "output_type": "stream",
          "text": [
            "-1.0\n"
          ],
          "name": "stdout"
        },
        {
          "output_type": "display_data",
          "data": {
            "text/html": [
              "<div>\n",
              "<style scoped>\n",
              "    .dataframe tbody tr th:only-of-type {\n",
              "        vertical-align: middle;\n",
              "    }\n",
              "\n",
              "    .dataframe tbody tr th {\n",
              "        vertical-align: top;\n",
              "    }\n",
              "\n",
              "    .dataframe thead th {\n",
              "        text-align: right;\n",
              "    }\n",
              "</style>\n",
              "<table border=\"1\" class=\"dataframe\">\n",
              "  <thead>\n",
              "    <tr style=\"text-align: right;\">\n",
              "      <th></th>\n",
              "      <th>date</th>\n",
              "      <th>date_block_num</th>\n",
              "      <th>shop_id</th>\n",
              "      <th>item_id</th>\n",
              "      <th>item_price</th>\n",
              "      <th>item_cnt_day</th>\n",
              "    </tr>\n",
              "  </thead>\n",
              "  <tbody>\n",
              "    <tr>\n",
              "      <th>484683</th>\n",
              "      <td>2013-05-15</td>\n",
              "      <td>4</td>\n",
              "      <td>32</td>\n",
              "      <td>2973</td>\n",
              "      <td>-1.000</td>\n",
              "      <td>1.000</td>\n",
              "    </tr>\n",
              "  </tbody>\n",
              "</table>\n",
              "</div>"
            ],
            "text/plain": [
              "             date  date_block_num  shop_id  item_id  item_price  item_cnt_day\n",
              "484683 2013-05-15               4       32     2973      -1.000         1.000"
            ]
          },
          "metadata": {
            "tags": []
          }
        }
      ]
    },
    {
      "cell_type": "markdown",
      "metadata": {
        "id": "DyDEpB9vGXmy"
      },
      "source": [
        "There is only one so we would just drop it."
      ]
    },
    {
      "cell_type": "code",
      "metadata": {
        "id": "Csq-V8U6GrMO"
      },
      "source": [
        "# Drop observation\r\n",
        "sales = sales.drop(sales[sales.item_price<0].index, axis=0)"
      ],
      "execution_count": 47,
      "outputs": []
    },
    {
      "cell_type": "code",
      "metadata": {
        "colab": {
          "base_uri": "https://localhost:8080/",
          "height": 142
        },
        "id": "mlFGvdwCGx8x",
        "outputId": "00bd12d6-c652-4151-b618-f4effbc2d27c"
      },
      "source": [
        "# The .describe method showed an item value of $307980.000\r\n",
        "# These are rare items that happend only three times of almost 3M transactions.\r\n",
        "\r\n",
        "rare_item_prices = sales[sales.item_price>50000]\r\n",
        "display(rare_item_prices)"
      ],
      "execution_count": 48,
      "outputs": [
        {
          "output_type": "display_data",
          "data": {
            "text/html": [
              "<div>\n",
              "<style scoped>\n",
              "    .dataframe tbody tr th:only-of-type {\n",
              "        vertical-align: middle;\n",
              "    }\n",
              "\n",
              "    .dataframe tbody tr th {\n",
              "        vertical-align: top;\n",
              "    }\n",
              "\n",
              "    .dataframe thead th {\n",
              "        text-align: right;\n",
              "    }\n",
              "</style>\n",
              "<table border=\"1\" class=\"dataframe\">\n",
              "  <thead>\n",
              "    <tr style=\"text-align: right;\">\n",
              "      <th></th>\n",
              "      <th>date</th>\n",
              "      <th>date_block_num</th>\n",
              "      <th>shop_id</th>\n",
              "      <th>item_id</th>\n",
              "      <th>item_price</th>\n",
              "      <th>item_cnt_day</th>\n",
              "    </tr>\n",
              "  </thead>\n",
              "  <tbody>\n",
              "    <tr>\n",
              "      <th>885138</th>\n",
              "      <td>2013-09-17</td>\n",
              "      <td>8</td>\n",
              "      <td>12</td>\n",
              "      <td>11365</td>\n",
              "      <td>59200.000</td>\n",
              "      <td>1.000</td>\n",
              "    </tr>\n",
              "    <tr>\n",
              "      <th>1163158</th>\n",
              "      <td>2013-12-13</td>\n",
              "      <td>11</td>\n",
              "      <td>12</td>\n",
              "      <td>6066</td>\n",
              "      <td>307980.000</td>\n",
              "      <td>1.000</td>\n",
              "    </tr>\n",
              "    <tr>\n",
              "      <th>1488135</th>\n",
              "      <td>2014-03-20</td>\n",
              "      <td>14</td>\n",
              "      <td>25</td>\n",
              "      <td>13199</td>\n",
              "      <td>50999.000</td>\n",
              "      <td>1.000</td>\n",
              "    </tr>\n",
              "  </tbody>\n",
              "</table>\n",
              "</div>"
            ],
            "text/plain": [
              "              date  date_block_num  shop_id  item_id  item_price  item_cnt_day\n",
              "885138  2013-09-17               8       12    11365   59200.000         1.000\n",
              "1163158 2013-12-13              11       12     6066  307980.000         1.000\n",
              "1488135 2014-03-20              14       25    13199   50999.000         1.000"
            ]
          },
          "metadata": {
            "tags": []
          }
        }
      ]
    },
    {
      "cell_type": "markdown",
      "metadata": {
        "id": "-m6IylxfwWgk"
      },
      "source": [
        "# Importing english dataset"
      ]
    },
    {
      "cell_type": "markdown",
      "metadata": {
        "id": "HIJN_KNMJOx_"
      },
      "source": [
        "I Download dataset that has been translated."
      ]
    },
    {
      "cell_type": "code",
      "metadata": {
        "colab": {
          "base_uri": "https://localhost:8080/",
          "height": 238
        },
        "id": "bYl5VxIBzIjP",
        "outputId": "9d747eff-9995-44a2-a190-0a8366578743"
      },
      "source": [
        "# kaggle datasets \r\n",
        "!kaggle datasets download -d kazimanil/predict-future-sales-supplementary\r\n",
        "\r\n",
        "from zipfile import ZipFile\r\n",
        "# Create a ZipFile Object and load sample.zip in it\r\n",
        "with ZipFile('/content/predict-future-sales-supplementary.zip', 'r') as zipObj:\r\n",
        "   # Unzip\r\n",
        "   zipObj.extractall()\r\n",
        "\r\n",
        "# Read Dataset\r\n",
        "item = pd.read_csv('/content/item_category.csv')\r\n",
        "\r\n",
        "print('Dataset shape is: ', item.shape)\r\n",
        "display(item.head())"
      ],
      "execution_count": 49,
      "outputs": [
        {
          "output_type": "stream",
          "text": [
            "predict-future-sales-supplementary.zip: Skipping, found more recently modified local copy (use --force to force download)\n",
            "Dataset shape is:  (22170, 4)\n"
          ],
          "name": "stdout"
        },
        {
          "output_type": "display_data",
          "data": {
            "text/html": [
              "<div>\n",
              "<style scoped>\n",
              "    .dataframe tbody tr th:only-of-type {\n",
              "        vertical-align: middle;\n",
              "    }\n",
              "\n",
              "    .dataframe tbody tr th {\n",
              "        vertical-align: top;\n",
              "    }\n",
              "\n",
              "    .dataframe thead th {\n",
              "        text-align: right;\n",
              "    }\n",
              "</style>\n",
              "<table border=\"1\" class=\"dataframe\">\n",
              "  <thead>\n",
              "    <tr style=\"text-align: right;\">\n",
              "      <th></th>\n",
              "      <th>item_id</th>\n",
              "      <th>item_name_translated</th>\n",
              "      <th>item_cat1</th>\n",
              "      <th>item_cat2</th>\n",
              "    </tr>\n",
              "  </thead>\n",
              "  <tbody>\n",
              "    <tr>\n",
              "      <th>0</th>\n",
              "      <td>5441</td>\n",
              "      <td>PC: Headset HyperX Cloud Core gaming stereo (K...</td>\n",
              "      <td>PC</td>\n",
              "      <td>Headsets / Headphones</td>\n",
              "    </tr>\n",
              "    <tr>\n",
              "      <th>1</th>\n",
              "      <td>16255</td>\n",
              "      <td>Headphones PHILIPS SBC HC8680</td>\n",
              "      <td>PC</td>\n",
              "      <td>Headsets / Headphones</td>\n",
              "    </tr>\n",
              "    <tr>\n",
              "      <th>2</th>\n",
              "      <td>16256</td>\n",
              "      <td>Headphones RITMIX RH-120</td>\n",
              "      <td>PC</td>\n",
              "      <td>Headsets / Headphones</td>\n",
              "    </tr>\n",
              "    <tr>\n",
              "      <th>3</th>\n",
              "      <td>16257</td>\n",
              "      <td>Headphones RITMIX RH-124 Black</td>\n",
              "      <td>PC</td>\n",
              "      <td>Headsets / Headphones</td>\n",
              "    </tr>\n",
              "    <tr>\n",
              "      <th>4</th>\n",
              "      <td>5606</td>\n",
              "      <td>PS2: Memory Card 8 MB Black (Memory Card 8Mb -...</td>\n",
              "      <td>Accessories</td>\n",
              "      <td>PS2</td>\n",
              "    </tr>\n",
              "  </tbody>\n",
              "</table>\n",
              "</div>"
            ],
            "text/plain": [
              "   item_id  ...              item_cat2\n",
              "0     5441  ...  Headsets / Headphones\n",
              "1    16255  ...  Headsets / Headphones\n",
              "2    16256  ...  Headsets / Headphones\n",
              "3    16257  ...  Headsets / Headphones\n",
              "4     5606  ...                    PS2\n",
              "\n",
              "[5 rows x 4 columns]"
            ]
          },
          "metadata": {
            "tags": []
          }
        }
      ]
    },
    {
      "cell_type": "markdown",
      "metadata": {
        "id": "MKbZMunq7peS"
      },
      "source": [
        "## Complete dataset"
      ]
    },
    {
      "cell_type": "code",
      "metadata": {
        "colab": {
          "base_uri": "https://localhost:8080/"
        },
        "id": "WJCxtVot7RUQ",
        "outputId": "7ce90442-430c-47a9-fd4a-73f12b5309d7"
      },
      "source": [
        "# Left merge on item_id. Dataset sales with item\r\n",
        "df = pd.merge(sales, item, on='item_id', how='left')\r\n",
        "df.shape"
      ],
      "execution_count": 50,
      "outputs": [
        {
          "output_type": "execute_result",
          "data": {
            "text/plain": [
              "(2935848, 9)"
            ]
          },
          "metadata": {
            "tags": []
          },
          "execution_count": 50
        }
      ]
    },
    {
      "cell_type": "code",
      "metadata": {
        "colab": {
          "base_uri": "https://localhost:8080/",
          "height": 357
        },
        "id": "sw0uvx8b8GUB",
        "outputId": "e0fb5eca-f942-4479-fe47-5ecbfb7b196a"
      },
      "source": [
        "display(df.isnull().sum())\r\n",
        "df = df.fillna(\"Other\")           \r\n",
        "display(df.isnull().sum())"
      ],
      "execution_count": 51,
      "outputs": [
        {
          "output_type": "display_data",
          "data": {
            "text/plain": [
              "date                        0\n",
              "date_block_num              0\n",
              "shop_id                     0\n",
              "item_id                     0\n",
              "item_price                  0\n",
              "item_cnt_day                0\n",
              "item_name_translated        0\n",
              "item_cat1                   0\n",
              "item_cat2               30403\n",
              "dtype: int64"
            ]
          },
          "metadata": {
            "tags": []
          }
        },
        {
          "output_type": "display_data",
          "data": {
            "text/plain": [
              "date                    0\n",
              "date_block_num          0\n",
              "shop_id                 0\n",
              "item_id                 0\n",
              "item_price              0\n",
              "item_cnt_day            0\n",
              "item_name_translated    0\n",
              "item_cat1               0\n",
              "item_cat2               0\n",
              "dtype: int64"
            ]
          },
          "metadata": {
            "tags": []
          }
        }
      ]
    },
    {
      "cell_type": "markdown",
      "metadata": {
        "id": "vVbbwC7KK4A2"
      },
      "source": [
        "# Create some needed features: Sales, year and year/month"
      ]
    },
    {
      "cell_type": "code",
      "metadata": {
        "colab": {
          "base_uri": "https://localhost:8080/",
          "height": 561
        },
        "id": "lxcE0Me7DfoT",
        "outputId": "9e41e983-9e6a-4e0f-cec6-23e3345390b2"
      },
      "source": [
        "df['sales'] = df['item_price'] * df['item_cnt_day']\r\n",
        "df['year'] = df['date'].dt.year\r\n",
        "df['month'] = df['date'].dt.month\r\n",
        "df['year/month'] =  df['date'].dt.strftime('%Y %m')\r\n",
        "df.head()"
      ],
      "execution_count": 248,
      "outputs": [
        {
          "output_type": "error",
          "ename": "KeyError",
          "evalue": "ignored",
          "traceback": [
            "\u001b[0;31m---------------------------------------------------------------------------\u001b[0m",
            "\u001b[0;31mKeyError\u001b[0m                                  Traceback (most recent call last)",
            "\u001b[0;32m/usr/local/lib/python3.6/dist-packages/pandas/core/indexes/base.py\u001b[0m in \u001b[0;36mget_loc\u001b[0;34m(self, key, method, tolerance)\u001b[0m\n\u001b[1;32m   2897\u001b[0m             \u001b[0;32mtry\u001b[0m\u001b[0;34m:\u001b[0m\u001b[0;34m\u001b[0m\u001b[0;34m\u001b[0m\u001b[0m\n\u001b[0;32m-> 2898\u001b[0;31m                 \u001b[0;32mreturn\u001b[0m \u001b[0mself\u001b[0m\u001b[0;34m.\u001b[0m\u001b[0m_engine\u001b[0m\u001b[0;34m.\u001b[0m\u001b[0mget_loc\u001b[0m\u001b[0;34m(\u001b[0m\u001b[0mcasted_key\u001b[0m\u001b[0;34m)\u001b[0m\u001b[0;34m\u001b[0m\u001b[0;34m\u001b[0m\u001b[0m\n\u001b[0m\u001b[1;32m   2899\u001b[0m             \u001b[0;32mexcept\u001b[0m \u001b[0mKeyError\u001b[0m \u001b[0;32mas\u001b[0m \u001b[0merr\u001b[0m\u001b[0;34m:\u001b[0m\u001b[0;34m\u001b[0m\u001b[0;34m\u001b[0m\u001b[0m\n",
            "\u001b[0;32mpandas/_libs/index.pyx\u001b[0m in \u001b[0;36mpandas._libs.index.IndexEngine.get_loc\u001b[0;34m()\u001b[0m\n",
            "\u001b[0;32mpandas/_libs/index.pyx\u001b[0m in \u001b[0;36mpandas._libs.index.IndexEngine.get_loc\u001b[0;34m()\u001b[0m\n",
            "\u001b[0;32mpandas/_libs/hashtable_class_helper.pxi\u001b[0m in \u001b[0;36mpandas._libs.hashtable.PyObjectHashTable.get_item\u001b[0;34m()\u001b[0m\n",
            "\u001b[0;32mpandas/_libs/hashtable_class_helper.pxi\u001b[0m in \u001b[0;36mpandas._libs.hashtable.PyObjectHashTable.get_item\u001b[0;34m()\u001b[0m\n",
            "\u001b[0;31mKeyError\u001b[0m: 'date'",
            "\nThe above exception was the direct cause of the following exception:\n",
            "\u001b[0;31mKeyError\u001b[0m                                  Traceback (most recent call last)",
            "\u001b[0;32m<ipython-input-248-09f71e8a7e4b>\u001b[0m in \u001b[0;36m<module>\u001b[0;34m()\u001b[0m\n\u001b[1;32m      1\u001b[0m \u001b[0mdf\u001b[0m\u001b[0;34m[\u001b[0m\u001b[0;34m'sales'\u001b[0m\u001b[0;34m]\u001b[0m \u001b[0;34m=\u001b[0m \u001b[0mdf\u001b[0m\u001b[0;34m[\u001b[0m\u001b[0;34m'item_price'\u001b[0m\u001b[0;34m]\u001b[0m \u001b[0;34m*\u001b[0m \u001b[0mdf\u001b[0m\u001b[0;34m[\u001b[0m\u001b[0;34m'item_cnt_day'\u001b[0m\u001b[0;34m]\u001b[0m\u001b[0;34m\u001b[0m\u001b[0;34m\u001b[0m\u001b[0m\n\u001b[0;32m----> 2\u001b[0;31m \u001b[0mdf\u001b[0m\u001b[0;34m[\u001b[0m\u001b[0;34m'year'\u001b[0m\u001b[0;34m]\u001b[0m \u001b[0;34m=\u001b[0m \u001b[0mdf\u001b[0m\u001b[0;34m[\u001b[0m\u001b[0;34m'date'\u001b[0m\u001b[0;34m]\u001b[0m\u001b[0;34m.\u001b[0m\u001b[0mdt\u001b[0m\u001b[0;34m.\u001b[0m\u001b[0myear\u001b[0m\u001b[0;34m\u001b[0m\u001b[0;34m\u001b[0m\u001b[0m\n\u001b[0m\u001b[1;32m      3\u001b[0m \u001b[0mdf\u001b[0m\u001b[0;34m[\u001b[0m\u001b[0;34m'month'\u001b[0m\u001b[0;34m]\u001b[0m \u001b[0;34m=\u001b[0m \u001b[0mdf\u001b[0m\u001b[0;34m[\u001b[0m\u001b[0;34m'date'\u001b[0m\u001b[0;34m]\u001b[0m\u001b[0;34m.\u001b[0m\u001b[0mdt\u001b[0m\u001b[0;34m.\u001b[0m\u001b[0mmonth\u001b[0m\u001b[0;34m\u001b[0m\u001b[0;34m\u001b[0m\u001b[0m\n\u001b[1;32m      4\u001b[0m \u001b[0mdf\u001b[0m\u001b[0;34m[\u001b[0m\u001b[0;34m'year/month'\u001b[0m\u001b[0;34m]\u001b[0m \u001b[0;34m=\u001b[0m  \u001b[0mdf\u001b[0m\u001b[0;34m[\u001b[0m\u001b[0;34m'date'\u001b[0m\u001b[0;34m]\u001b[0m\u001b[0;34m.\u001b[0m\u001b[0mdt\u001b[0m\u001b[0;34m.\u001b[0m\u001b[0mstrftime\u001b[0m\u001b[0;34m(\u001b[0m\u001b[0;34m'%Y %m'\u001b[0m\u001b[0;34m)\u001b[0m\u001b[0;34m\u001b[0m\u001b[0;34m\u001b[0m\u001b[0m\n\u001b[1;32m      5\u001b[0m \u001b[0mdf\u001b[0m\u001b[0;34m.\u001b[0m\u001b[0mhead\u001b[0m\u001b[0;34m(\u001b[0m\u001b[0;34m)\u001b[0m\u001b[0;34m\u001b[0m\u001b[0;34m\u001b[0m\u001b[0m\n",
            "\u001b[0;32m/usr/local/lib/python3.6/dist-packages/pandas/core/frame.py\u001b[0m in \u001b[0;36m__getitem__\u001b[0;34m(self, key)\u001b[0m\n\u001b[1;32m   2904\u001b[0m             \u001b[0;32mif\u001b[0m \u001b[0mself\u001b[0m\u001b[0;34m.\u001b[0m\u001b[0mcolumns\u001b[0m\u001b[0;34m.\u001b[0m\u001b[0mnlevels\u001b[0m \u001b[0;34m>\u001b[0m \u001b[0;36m1\u001b[0m\u001b[0;34m:\u001b[0m\u001b[0;34m\u001b[0m\u001b[0;34m\u001b[0m\u001b[0m\n\u001b[1;32m   2905\u001b[0m                 \u001b[0;32mreturn\u001b[0m \u001b[0mself\u001b[0m\u001b[0;34m.\u001b[0m\u001b[0m_getitem_multilevel\u001b[0m\u001b[0;34m(\u001b[0m\u001b[0mkey\u001b[0m\u001b[0;34m)\u001b[0m\u001b[0;34m\u001b[0m\u001b[0;34m\u001b[0m\u001b[0m\n\u001b[0;32m-> 2906\u001b[0;31m             \u001b[0mindexer\u001b[0m \u001b[0;34m=\u001b[0m \u001b[0mself\u001b[0m\u001b[0;34m.\u001b[0m\u001b[0mcolumns\u001b[0m\u001b[0;34m.\u001b[0m\u001b[0mget_loc\u001b[0m\u001b[0;34m(\u001b[0m\u001b[0mkey\u001b[0m\u001b[0;34m)\u001b[0m\u001b[0;34m\u001b[0m\u001b[0;34m\u001b[0m\u001b[0m\n\u001b[0m\u001b[1;32m   2907\u001b[0m             \u001b[0;32mif\u001b[0m \u001b[0mis_integer\u001b[0m\u001b[0;34m(\u001b[0m\u001b[0mindexer\u001b[0m\u001b[0;34m)\u001b[0m\u001b[0;34m:\u001b[0m\u001b[0;34m\u001b[0m\u001b[0;34m\u001b[0m\u001b[0m\n\u001b[1;32m   2908\u001b[0m                 \u001b[0mindexer\u001b[0m \u001b[0;34m=\u001b[0m \u001b[0;34m[\u001b[0m\u001b[0mindexer\u001b[0m\u001b[0;34m]\u001b[0m\u001b[0;34m\u001b[0m\u001b[0;34m\u001b[0m\u001b[0m\n",
            "\u001b[0;32m/usr/local/lib/python3.6/dist-packages/pandas/core/indexes/base.py\u001b[0m in \u001b[0;36mget_loc\u001b[0;34m(self, key, method, tolerance)\u001b[0m\n\u001b[1;32m   2898\u001b[0m                 \u001b[0;32mreturn\u001b[0m \u001b[0mself\u001b[0m\u001b[0;34m.\u001b[0m\u001b[0m_engine\u001b[0m\u001b[0;34m.\u001b[0m\u001b[0mget_loc\u001b[0m\u001b[0;34m(\u001b[0m\u001b[0mcasted_key\u001b[0m\u001b[0;34m)\u001b[0m\u001b[0;34m\u001b[0m\u001b[0;34m\u001b[0m\u001b[0m\n\u001b[1;32m   2899\u001b[0m             \u001b[0;32mexcept\u001b[0m \u001b[0mKeyError\u001b[0m \u001b[0;32mas\u001b[0m \u001b[0merr\u001b[0m\u001b[0;34m:\u001b[0m\u001b[0;34m\u001b[0m\u001b[0;34m\u001b[0m\u001b[0m\n\u001b[0;32m-> 2900\u001b[0;31m                 \u001b[0;32mraise\u001b[0m \u001b[0mKeyError\u001b[0m\u001b[0;34m(\u001b[0m\u001b[0mkey\u001b[0m\u001b[0;34m)\u001b[0m \u001b[0;32mfrom\u001b[0m \u001b[0merr\u001b[0m\u001b[0;34m\u001b[0m\u001b[0;34m\u001b[0m\u001b[0m\n\u001b[0m\u001b[1;32m   2901\u001b[0m \u001b[0;34m\u001b[0m\u001b[0m\n\u001b[1;32m   2902\u001b[0m         \u001b[0;32mif\u001b[0m \u001b[0mtolerance\u001b[0m \u001b[0;32mis\u001b[0m \u001b[0;32mnot\u001b[0m \u001b[0;32mNone\u001b[0m\u001b[0;34m:\u001b[0m\u001b[0;34m\u001b[0m\u001b[0;34m\u001b[0m\u001b[0m\n",
            "\u001b[0;31mKeyError\u001b[0m: 'date'"
          ]
        }
      ]
    },
    {
      "cell_type": "code",
      "metadata": {
        "colab": {
          "base_uri": "https://localhost:8080/",
          "height": 235
        },
        "id": "BRnLZqbVKLb0",
        "outputId": "59033b85-759f-47d8-f71d-519d6e25d9bb"
      },
      "source": [
        "# Let's put date feature on index so I can plot.\r\n",
        "df = df.set_index('date')\r\n",
        "# Display head\r\n",
        "df.head()"
      ],
      "execution_count": 54,
      "outputs": [
        {
          "output_type": "execute_result",
          "data": {
            "text/html": [
              "<div>\n",
              "<style scoped>\n",
              "    .dataframe tbody tr th:only-of-type {\n",
              "        vertical-align: middle;\n",
              "    }\n",
              "\n",
              "    .dataframe tbody tr th {\n",
              "        vertical-align: top;\n",
              "    }\n",
              "\n",
              "    .dataframe thead th {\n",
              "        text-align: right;\n",
              "    }\n",
              "</style>\n",
              "<table border=\"1\" class=\"dataframe\">\n",
              "  <thead>\n",
              "    <tr style=\"text-align: right;\">\n",
              "      <th></th>\n",
              "      <th>date_block_num</th>\n",
              "      <th>shop_id</th>\n",
              "      <th>item_id</th>\n",
              "      <th>item_price</th>\n",
              "      <th>item_cnt_day</th>\n",
              "      <th>item_name_translated</th>\n",
              "      <th>item_cat1</th>\n",
              "      <th>item_cat2</th>\n",
              "      <th>sales</th>\n",
              "      <th>year</th>\n",
              "      <th>year/month</th>\n",
              "    </tr>\n",
              "    <tr>\n",
              "      <th>date</th>\n",
              "      <th></th>\n",
              "      <th></th>\n",
              "      <th></th>\n",
              "      <th></th>\n",
              "      <th></th>\n",
              "      <th></th>\n",
              "      <th></th>\n",
              "      <th></th>\n",
              "      <th></th>\n",
              "      <th></th>\n",
              "      <th></th>\n",
              "    </tr>\n",
              "  </thead>\n",
              "  <tbody>\n",
              "    <tr>\n",
              "      <th>2013-01-01</th>\n",
              "      <td>0</td>\n",
              "      <td>18</td>\n",
              "      <td>5823</td>\n",
              "      <td>2500.000</td>\n",
              "      <td>1.000</td>\n",
              "      <td>Playstation Store replenishment of wallet: Pay...</td>\n",
              "      <td>Payment cards</td>\n",
              "      <td>PSN</td>\n",
              "      <td>2500.000</td>\n",
              "      <td>2013</td>\n",
              "      <td>2013 01</td>\n",
              "    </tr>\n",
              "    <tr>\n",
              "      <th>2013-01-01</th>\n",
              "      <td>0</td>\n",
              "      <td>27</td>\n",
              "      <td>5573</td>\n",
              "      <td>849.000</td>\n",
              "      <td>1.000</td>\n",
              "      <td>PS Move Motion Controller Charger (Charging st...</td>\n",
              "      <td>Accessories</td>\n",
              "      <td>PS3</td>\n",
              "      <td>849.000</td>\n",
              "      <td>2013</td>\n",
              "      <td>2013 01</td>\n",
              "    </tr>\n",
              "    <tr>\n",
              "      <th>2013-01-01</th>\n",
              "      <td>0</td>\n",
              "      <td>7</td>\n",
              "      <td>1006</td>\n",
              "      <td>399.000</td>\n",
              "      <td>1.000</td>\n",
              "      <td>3D Crystal Puzzle Дельфин XL</td>\n",
              "      <td>Gifts</td>\n",
              "      <td>Development</td>\n",
              "      <td>399.000</td>\n",
              "      <td>2013</td>\n",
              "      <td>2013 01</td>\n",
              "    </tr>\n",
              "    <tr>\n",
              "      <th>2013-01-01</th>\n",
              "      <td>0</td>\n",
              "      <td>19</td>\n",
              "      <td>17707</td>\n",
              "      <td>899.000</td>\n",
              "      <td>1.000</td>\n",
              "      <td>Sport holiday (Essentials) (only for PS Move) ...</td>\n",
              "      <td>Games</td>\n",
              "      <td>PS3</td>\n",
              "      <td>899.000</td>\n",
              "      <td>2013</td>\n",
              "      <td>2013 01</td>\n",
              "    </tr>\n",
              "    <tr>\n",
              "      <th>2013-01-01</th>\n",
              "      <td>0</td>\n",
              "      <td>14</td>\n",
              "      <td>19548</td>\n",
              "      <td>149.000</td>\n",
              "      <td>1.000</td>\n",
              "      <td>SUCH DIFFERENT TWINS (region)</td>\n",
              "      <td>Cinema</td>\n",
              "      <td>DVD</td>\n",
              "      <td>149.000</td>\n",
              "      <td>2013</td>\n",
              "      <td>2013 01</td>\n",
              "    </tr>\n",
              "  </tbody>\n",
              "</table>\n",
              "</div>"
            ],
            "text/plain": [
              "            date_block_num  shop_id  item_id  ...    sales  year year/month\n",
              "date                                          ...                          \n",
              "2013-01-01               0       18     5823  ... 2500.000  2013    2013 01\n",
              "2013-01-01               0       27     5573  ...  849.000  2013    2013 01\n",
              "2013-01-01               0        7     1006  ...  399.000  2013    2013 01\n",
              "2013-01-01               0       19    17707  ...  899.000  2013    2013 01\n",
              "2013-01-01               0       14    19548  ...  149.000  2013    2013 01\n",
              "\n",
              "[5 rows x 11 columns]"
            ]
          },
          "metadata": {
            "tags": []
          },
          "execution_count": 54
        }
      ]
    },
    {
      "cell_type": "markdown",
      "metadata": {
        "id": "dDilHBq1cKyu"
      },
      "source": [
        "# Analyzing sales"
      ]
    },
    {
      "cell_type": "markdown",
      "metadata": {
        "id": "TjybSkl6mfjl"
      },
      "source": [
        "## Monthly Sales during the period"
      ]
    },
    {
      "cell_type": "code",
      "metadata": {
        "colab": {
          "base_uri": "https://localhost:8080/",
          "height": 330
        },
        "id": "ietAGBfeO3fo",
        "outputId": "5b392430-722f-4846-a4fc-223243a22988"
      },
      "source": [
        "# Display float not Scientific notation:\r\n",
        "pd.set_option('display.float_format', lambda x: '%.3f' % x)\r\n",
        "\r\n",
        "# We want sales grouped by year/month\r\n",
        "sales_grouped_ym = df.groupby('year/month').sum()['sales']/1000000\r\n",
        "\r\n",
        "# Plot sales\r\n",
        "sales_grouped_ym.plot(kind='line')\r\n",
        "plt.title('Sales')\r\n",
        "plt.xticks(rotation=90)\r\n",
        "plt.ylabel('Sales in millions')\r\n",
        "plt.show()"
      ],
      "execution_count": 55,
      "outputs": [
        {
          "output_type": "display_data",
          "data": {
            "image/png": "[encoded data removed]",
            "text/plain": [
              "<Figure size 432x288 with 1 Axes>"
            ]
          },
          "metadata": {
            "tags": []
          }
        }
      ]
    },
    {
      "cell_type": "markdown",
      "metadata": {
        "id": "knH8L8wdQk45"
      },
      "source": [
        "Sells are really seasonal. November and December are the most important months in sales.\r\n",
        "\r\n",
        "Christmas and New year might be the most important events in the year. "
      ]
    },
    {
      "cell_type": "code",
      "metadata": {
        "id": "QSY51NbgRK6I",
        "colab": {
          "base_uri": "https://localhost:8080/"
        },
        "outputId": "a972e225-c728-4689-fe82-724b422e044c"
      },
      "source": [
        "important_months = sales_grouped_ym.sort_values(ascending=False).head(4)\r\n",
        "important_months"
      ],
      "execution_count": 56,
      "outputs": [
        {
          "output_type": "execute_result",
          "data": {
            "text/plain": [
              "year/month\n",
              "2014 12   232.025\n",
              "2013 12   207.572\n",
              "2014 11   152.038\n",
              "2013 11   138.665\n",
              "Name: sales, dtype: float64"
            ]
          },
          "metadata": {
            "tags": []
          },
          "execution_count": 56
        }
      ]
    },
    {
      "cell_type": "code",
      "metadata": {
        "id": "5eV_X8qXSiTG",
        "colab": {
          "base_uri": "https://localhost:8080/"
        },
        "outputId": "d3d85237-5ba4-4790-b747-f9b9b3704f8a"
      },
      "source": [
        "# 2013\r\n",
        "nov_dec_sales_2013 = important_months[['2013 11','2013 12']].sum()\r\n",
        "pct_2013 = nov_dec_sales_2013 / (df[df.year == 2013]['sales'].sum()/1000000)\r\n",
        "\r\n",
        "# 2014\r\n",
        "nov_dec_sales_2014 = important_months[['2014 11','2014 12']].sum()\r\n",
        "pct_2014 = nov_dec_sales_2014 / (df[df.year == 2014]['sales'].sum()/1000000)\r\n",
        "\r\n",
        "print(\"November and December represents {:.2f}% in 2013 and {:.2f}% in 2014\".format(pct_2013, pct_2014))"
      ],
      "execution_count": 57,
      "outputs": [
        {
          "output_type": "stream",
          "text": [
            "November and December represents 0.28% in 2013 and 0.29% in 2014\n"
          ],
          "name": "stdout"
        }
      ]
    },
    {
      "cell_type": "markdown",
      "metadata": {
        "id": "zcsa1poJUskn"
      },
      "source": [
        "Around 30% of all year sales happens on November and December."
      ]
    },
    {
      "cell_type": "markdown",
      "metadata": {
        "id": "ByAtHWrAIJEG"
      },
      "source": [
        "## Checking seasonality with statmodel SM"
      ]
    },
    {
      "cell_type": "code",
      "metadata": {
        "colab": {
          "base_uri": "https://localhost:8080/",
          "height": 299
        },
        "id": "inE8UPvPIJlD",
        "outputId": "34b93137-d532-4789-f05c-166f074f18ba"
      },
      "source": [
        "# multiplicative\r\n",
        "res = sm.tsa.seasonal_decompose(sales_grouped_ym.values,freq=12,model=\"multiplicative\")\r\n",
        "fig = res.plot()\r\n",
        "fig.show()"
      ],
      "execution_count": 199,
      "outputs": [
        {
          "output_type": "display_data",
          "data": {
            "image/png": "[encoded data removed]",
            "text/plain": [
              "<Figure size 432x288 with 4 Axes>"
            ]
          },
          "metadata": {
            "tags": []
          }
        }
      ]
    },
    {
      "cell_type": "markdown",
      "metadata": {
        "id": "n01nP8tGmc3o"
      },
      "source": [
        "## What are the categories that sells more?"
      ]
    },
    {
      "cell_type": "code",
      "metadata": {
        "id": "gg0VK48vXqy3",
        "colab": {
          "base_uri": "https://localhost:8080/",
          "height": 406
        },
        "outputId": "b4aad578-4802-48a9-b3bd-d0c84da53957"
      },
      "source": [
        "df_cat2_sales = df.groupby('item_cat2').sum().sales.sort_values()\r\n",
        "# Plot sales\r\n",
        "df_cat2_sales[df_cat2_sales>25000000].plot(kind='bar')\r\n",
        "plt.title('Sales')\r\n",
        "plt.xticks(rotation=90)\r\n",
        "plt.show()"
      ],
      "execution_count": 58,
      "outputs": [
        {
          "output_type": "display_data",
          "data": {
            "image/png": "[encoded data removed]",
            "text/plain": [
              "<Figure size 432x288 with 1 Axes>"
            ]
          },
          "metadata": {
            "tags": []
          }
        }
      ]
    },
    {
      "cell_type": "markdown",
      "metadata": {
        "id": "zgft5Bi-WVSx"
      },
      "source": [
        "Most common categories are PS4, PS3, XBOX and 'Standard Edition'. \r\n",
        "\r\n",
        "This doesn't give much information if I where working in 1C. 'Standard Edition' values requires to be mapped again."
      ]
    },
    {
      "cell_type": "code",
      "metadata": {
        "id": "sc8wKxZ3V6Th",
        "colab": {
          "base_uri": "https://localhost:8080/"
        },
        "outputId": "95b16c50-f8af-490c-bf2f-f77c1d37167e"
      },
      "source": [
        "# check different cat1 in every 'Standard Edition' cat2.\r\n",
        "df[df.item_cat2 == 'Standard Edition']['item_cat1'].unique()"
      ],
      "execution_count": 59,
      "outputs": [
        {
          "output_type": "execute_result",
          "data": {
            "text/plain": [
              "array(['PC Games'], dtype=object)"
            ]
          },
          "metadata": {
            "tags": []
          },
          "execution_count": 59
        }
      ]
    },
    {
      "cell_type": "code",
      "metadata": {
        "id": "UzudN135XHbD",
        "colab": {
          "base_uri": "https://localhost:8080/",
          "height": 406
        },
        "outputId": "5da667bc-5921-49df-c784-81664bff6c3b"
      },
      "source": [
        "df.item_cat2 = df.item_cat2.str.replace('Standard Edition', 'PC Games')\r\n",
        "\r\n",
        "df_cat2_sales = df.groupby('item_cat2').sum().sales.sort_values()\r\n",
        "# Plot sales again\r\n",
        "df_cat2_sales[df_cat2_sales>25000000].plot(kind='bar')\r\n",
        "plt.title('Sales')\r\n",
        "plt.xticks(rotation=90)\r\n",
        "plt.show()"
      ],
      "execution_count": 60,
      "outputs": [
        {
          "output_type": "display_data",
          "data": {
            "image/png": "[encoded data removed]",
            "text/plain": [
              "<Figure size 432x288 with 1 Axes>"
            ]
          },
          "metadata": {
            "tags": []
          }
        }
      ]
    },
    {
      "cell_type": "code",
      "metadata": {
        "id": "2KiDNiY_8Jsd",
        "colab": {
          "base_uri": "https://localhost:8080/",
          "height": 367
        },
        "outputId": "7d525703-cf93-40e2-8f1e-aa05b9b3495a"
      },
      "source": [
        "df_cat1_sales = df.groupby('item_cat1').sum().sales.sort_values()\r\n",
        "# Plot sales again\r\n",
        "df_cat1_sales[df_cat1_sales>25000000].plot(kind='bar')\r\n",
        "plt.title('Sales')\r\n",
        "plt.xticks(rotation=90)\r\n",
        "plt.show()"
      ],
      "execution_count": 62,
      "outputs": [
        {
          "output_type": "display_data",
          "data": {
            "image/png": "[encoded data removed]",
            "text/plain": [
              "<Figure size 432x288 with 1 Axes>"
            ]
          },
          "metadata": {
            "tags": []
          }
        }
      ]
    },
    {
      "cell_type": "markdown",
      "metadata": {
        "id": "FU9HfwiOYHDB"
      },
      "source": [
        "## What % of sales top 4 categories represent?"
      ]
    },
    {
      "cell_type": "code",
      "metadata": {
        "id": "JW2Dg98DYTQ7",
        "colab": {
          "base_uri": "https://localhost:8080/"
        },
        "outputId": "62f1e224-2e0a-4332-b941-ddaf5d79a50a"
      },
      "source": [
        "sum_sales_4cat = df_cat2_sales.sort_values(ascending=False).head(4).sum()\r\n",
        "total_sales_df = df['sales'].sum()\r\n",
        "pct_top4cat = sum_sales_4cat/total_sales_df\r\n",
        "\r\n",
        "print('Total sales of those top 4 categories in all dataset time period is {:.2f}%'.format(pct_top4cat))"
      ],
      "execution_count": 63,
      "outputs": [
        {
          "output_type": "stream",
          "text": [
            "Total sales of those top 4 categories in all dataset time period is 0.56%\n"
          ],
          "name": "stdout"
        }
      ]
    },
    {
      "cell_type": "markdown",
      "metadata": {
        "id": "9GdGfVvjaU7_"
      },
      "source": [
        "56% of all sales in dataset has been explained by PC Games, Xbox360, PS3 and PS4.\r\n",
        "\r\n",
        "This shows high dependency on those Brands."
      ]
    },
    {
      "cell_type": "markdown",
      "metadata": {
        "id": "KSop8l5pqIqE"
      },
      "source": [
        "## What percentage of total sales are Play Station products?"
      ]
    },
    {
      "cell_type": "code",
      "metadata": {
        "id": "jswFXVh2qIK2",
        "colab": {
          "base_uri": "https://localhost:8080/",
          "height": 330
        },
        "outputId": "9c02979c-04b2-40cc-e79d-43a1aaf955d1"
      },
      "source": [
        "# Calculate year/month sales of trnsactions that are only Play Station\r\n",
        "df_ps_grouped = df[df['item_cat2'].str.contains(\"PS\")].groupby('year/month').sum()['sales']/1000000\r\n",
        "\r\n",
        "# Plot sales and PS sales\r\n",
        "sales_grouped_ym.plot(kind='line', label='Total sales')\r\n",
        "df_ps_grouped.plot(kind='line', label='PS')\r\n",
        "plt.title('Sales')\r\n",
        "plt.xticks(rotation=90)\r\n",
        "plt.ylabel('Sales in millions')\r\n",
        "plt.legend()\r\n",
        "plt.show()"
      ],
      "execution_count": 64,
      "outputs": [
        {
          "output_type": "display_data",
          "data": {
            "image/png": "[encoded data removed]",
            "text/plain": [
              "<Figure size 432x288 with 1 Axes>"
            ]
          },
          "metadata": {
            "tags": []
          }
        }
      ]
    },
    {
      "cell_type": "code",
      "metadata": {
        "id": "CO9crZLFatpj",
        "colab": {
          "base_uri": "https://localhost:8080/"
        },
        "outputId": "3ceee512-72c9-4aa2-91c3-c7d5e7c04dcb"
      },
      "source": [
        "sum_play = df_ps_grouped.sum()*1000000\r\n",
        "pct_playstation = sum_play/total_sales_df\r\n",
        "\r\n",
        "print('Total sales of PS in all dataset time period is {:.2f}%'.format(pct_playstation))"
      ],
      "execution_count": 65,
      "outputs": [
        {
          "output_type": "stream",
          "text": [
            "Total sales of PS in all dataset time period is 0.41%\n"
          ],
          "name": "stdout"
        }
      ]
    },
    {
      "cell_type": "markdown",
      "metadata": {
        "id": "XrYvQ6D0yKt6"
      },
      "source": [
        "Play station products goes around 40% of total sales. This means 1C has a dependency in PS products quality, design and demand.\r\n"
      ]
    },
    {
      "cell_type": "markdown",
      "metadata": {
        "id": "UjcCqP-Eca6c"
      },
      "source": [
        "# Analyzing shops"
      ]
    },
    {
      "cell_type": "markdown",
      "metadata": {
        "id": "BlahipXAEhJv"
      },
      "source": [
        "## How many shops are there? Are all open and selling? Some new ones?\r\n",
        " "
      ]
    },
    {
      "cell_type": "code",
      "metadata": {
        "id": "VauIzY4SEcTs",
        "colab": {
          "base_uri": "https://localhost:8080/"
        },
        "outputId": "2476f6ab-1c52-4375-d85e-5c07d23ecf8d"
      },
      "source": [
        "unique_shops = df.shop_id.unique()\r\n",
        "print('There are {} shops in the dataset'.format(len(unique_shops)))"
      ],
      "execution_count": 66,
      "outputs": [
        {
          "output_type": "stream",
          "text": [
            "There are 60 shops in the dataset\n"
          ],
          "name": "stdout"
        }
      ]
    },
    {
      "cell_type": "markdown",
      "metadata": {
        "id": "HqwNoRnRe5-k"
      },
      "source": [
        "## Pivot Table"
      ]
    },
    {
      "cell_type": "code",
      "metadata": {
        "id": "TMMdQTszk8GH",
        "colab": {
          "base_uri": "https://localhost:8080/",
          "height": 224
        },
        "outputId": "812fa980-65d4-40d4-8685-e8b5a918e90c"
      },
      "source": [
        "# I create a pivot table where \r\n",
        "sales_by_shop_id = df.pivot_table(index=['shop_id'],values=['item_cnt_day'], \r\n",
        "                                        columns='date_block_num', aggfunc=np.sum, fill_value=0).reset_index()\r\n",
        "                                        \r\n",
        "sales_by_shop_id.columns = sales_by_shop_id.columns.droplevel().map(str)\r\n",
        "sales_by_shop_id = sales_by_shop_id.reset_index(drop=True).rename_axis(None, axis=1)\r\n",
        "sales_by_shop_id.columns.values[0] = 'shop_id'\r\n",
        "\r\n",
        "sales_by_shop_id.head()"
      ],
      "execution_count": 67,
      "outputs": [
        {
          "output_type": "execute_result",
          "data": {
            "text/html": [
              "<div>\n",
              "<style scoped>\n",
              "    .dataframe tbody tr th:only-of-type {\n",
              "        vertical-align: middle;\n",
              "    }\n",
              "\n",
              "    .dataframe tbody tr th {\n",
              "        vertical-align: top;\n",
              "    }\n",
              "\n",
              "    .dataframe thead th {\n",
              "        text-align: right;\n",
              "    }\n",
              "</style>\n",
              "<table border=\"1\" class=\"dataframe\">\n",
              "  <thead>\n",
              "    <tr style=\"text-align: right;\">\n",
              "      <th></th>\n",
              "      <th>shop_id</th>\n",
              "      <th>0</th>\n",
              "      <th>1</th>\n",
              "      <th>2</th>\n",
              "      <th>3</th>\n",
              "      <th>4</th>\n",
              "      <th>5</th>\n",
              "      <th>6</th>\n",
              "      <th>7</th>\n",
              "      <th>8</th>\n",
              "      <th>9</th>\n",
              "      <th>10</th>\n",
              "      <th>11</th>\n",
              "      <th>12</th>\n",
              "      <th>13</th>\n",
              "      <th>14</th>\n",
              "      <th>15</th>\n",
              "      <th>16</th>\n",
              "      <th>17</th>\n",
              "      <th>18</th>\n",
              "      <th>19</th>\n",
              "      <th>20</th>\n",
              "      <th>21</th>\n",
              "      <th>22</th>\n",
              "      <th>23</th>\n",
              "      <th>24</th>\n",
              "      <th>25</th>\n",
              "      <th>26</th>\n",
              "      <th>27</th>\n",
              "      <th>28</th>\n",
              "      <th>29</th>\n",
              "      <th>30</th>\n",
              "      <th>31</th>\n",
              "      <th>32</th>\n",
              "      <th>33</th>\n",
              "    </tr>\n",
              "  </thead>\n",
              "  <tbody>\n",
              "    <tr>\n",
              "      <th>0</th>\n",
              "      <td>0</td>\n",
              "      <td>5578</td>\n",
              "      <td>6127</td>\n",
              "      <td>0</td>\n",
              "      <td>0</td>\n",
              "      <td>0</td>\n",
              "      <td>0</td>\n",
              "      <td>0</td>\n",
              "      <td>0</td>\n",
              "      <td>0</td>\n",
              "      <td>0</td>\n",
              "      <td>0</td>\n",
              "      <td>0</td>\n",
              "      <td>0</td>\n",
              "      <td>0</td>\n",
              "      <td>0</td>\n",
              "      <td>0</td>\n",
              "      <td>0</td>\n",
              "      <td>0</td>\n",
              "      <td>0</td>\n",
              "      <td>0</td>\n",
              "      <td>0</td>\n",
              "      <td>0</td>\n",
              "      <td>0</td>\n",
              "      <td>0</td>\n",
              "      <td>0</td>\n",
              "      <td>0</td>\n",
              "      <td>0</td>\n",
              "      <td>0</td>\n",
              "      <td>0</td>\n",
              "      <td>0</td>\n",
              "      <td>0</td>\n",
              "      <td>0</td>\n",
              "      <td>0</td>\n",
              "      <td>0</td>\n",
              "    </tr>\n",
              "    <tr>\n",
              "      <th>1</th>\n",
              "      <td>1</td>\n",
              "      <td>2947</td>\n",
              "      <td>3364</td>\n",
              "      <td>0</td>\n",
              "      <td>0</td>\n",
              "      <td>0</td>\n",
              "      <td>0</td>\n",
              "      <td>0</td>\n",
              "      <td>0</td>\n",
              "      <td>0</td>\n",
              "      <td>0</td>\n",
              "      <td>0</td>\n",
              "      <td>0</td>\n",
              "      <td>0</td>\n",
              "      <td>0</td>\n",
              "      <td>0</td>\n",
              "      <td>0</td>\n",
              "      <td>0</td>\n",
              "      <td>0</td>\n",
              "      <td>0</td>\n",
              "      <td>0</td>\n",
              "      <td>0</td>\n",
              "      <td>0</td>\n",
              "      <td>0</td>\n",
              "      <td>0</td>\n",
              "      <td>0</td>\n",
              "      <td>0</td>\n",
              "      <td>0</td>\n",
              "      <td>0</td>\n",
              "      <td>0</td>\n",
              "      <td>0</td>\n",
              "      <td>0</td>\n",
              "      <td>0</td>\n",
              "      <td>0</td>\n",
              "      <td>0</td>\n",
              "    </tr>\n",
              "    <tr>\n",
              "      <th>2</th>\n",
              "      <td>2</td>\n",
              "      <td>1146</td>\n",
              "      <td>488</td>\n",
              "      <td>753</td>\n",
              "      <td>583</td>\n",
              "      <td>553</td>\n",
              "      <td>832</td>\n",
              "      <td>807</td>\n",
              "      <td>875</td>\n",
              "      <td>945</td>\n",
              "      <td>795</td>\n",
              "      <td>862</td>\n",
              "      <td>1322</td>\n",
              "      <td>890</td>\n",
              "      <td>911</td>\n",
              "      <td>990</td>\n",
              "      <td>791</td>\n",
              "      <td>910</td>\n",
              "      <td>957</td>\n",
              "      <td>838</td>\n",
              "      <td>956</td>\n",
              "      <td>920</td>\n",
              "      <td>945</td>\n",
              "      <td>1192</td>\n",
              "      <td>1921</td>\n",
              "      <td>987</td>\n",
              "      <td>907</td>\n",
              "      <td>762</td>\n",
              "      <td>859</td>\n",
              "      <td>843</td>\n",
              "      <td>804</td>\n",
              "      <td>785</td>\n",
              "      <td>942</td>\n",
              "      <td>822</td>\n",
              "      <td>727</td>\n",
              "    </tr>\n",
              "    <tr>\n",
              "      <th>3</th>\n",
              "      <td>3</td>\n",
              "      <td>767</td>\n",
              "      <td>798</td>\n",
              "      <td>959</td>\n",
              "      <td>647</td>\n",
              "      <td>710</td>\n",
              "      <td>784</td>\n",
              "      <td>721</td>\n",
              "      <td>890</td>\n",
              "      <td>1026</td>\n",
              "      <td>793</td>\n",
              "      <td>970</td>\n",
              "      <td>1134</td>\n",
              "      <td>968</td>\n",
              "      <td>873</td>\n",
              "      <td>1105</td>\n",
              "      <td>685</td>\n",
              "      <td>776</td>\n",
              "      <td>828</td>\n",
              "      <td>758</td>\n",
              "      <td>902</td>\n",
              "      <td>960</td>\n",
              "      <td>805</td>\n",
              "      <td>1063</td>\n",
              "      <td>1275</td>\n",
              "      <td>977</td>\n",
              "      <td>738</td>\n",
              "      <td>741</td>\n",
              "      <td>740</td>\n",
              "      <td>731</td>\n",
              "      <td>672</td>\n",
              "      <td>535</td>\n",
              "      <td>666</td>\n",
              "      <td>745</td>\n",
              "      <td>613</td>\n",
              "    </tr>\n",
              "    <tr>\n",
              "      <th>4</th>\n",
              "      <td>4</td>\n",
              "      <td>2114</td>\n",
              "      <td>2025</td>\n",
              "      <td>2060</td>\n",
              "      <td>285</td>\n",
              "      <td>1211</td>\n",
              "      <td>1464</td>\n",
              "      <td>1378</td>\n",
              "      <td>1713</td>\n",
              "      <td>1536</td>\n",
              "      <td>1482</td>\n",
              "      <td>1486</td>\n",
              "      <td>2248</td>\n",
              "      <td>1430</td>\n",
              "      <td>1299</td>\n",
              "      <td>1246</td>\n",
              "      <td>1155</td>\n",
              "      <td>1324</td>\n",
              "      <td>1213</td>\n",
              "      <td>1091</td>\n",
              "      <td>1387</td>\n",
              "      <td>1090</td>\n",
              "      <td>1180</td>\n",
              "      <td>1371</td>\n",
              "      <td>2071</td>\n",
              "      <td>1188</td>\n",
              "      <td>980</td>\n",
              "      <td>978</td>\n",
              "      <td>899</td>\n",
              "      <td>893</td>\n",
              "      <td>793</td>\n",
              "      <td>842</td>\n",
              "      <td>947</td>\n",
              "      <td>732</td>\n",
              "      <td>831</td>\n",
              "    </tr>\n",
              "  </tbody>\n",
              "</table>\n",
              "</div>"
            ],
            "text/plain": [
              "   shop_id     0     1     2    3     4  ...   28   29   30   31   32   33\n",
              "0        0  5578  6127     0    0     0  ...    0    0    0    0    0    0\n",
              "1        1  2947  3364     0    0     0  ...    0    0    0    0    0    0\n",
              "2        2  1146   488   753  583   553  ...  843  804  785  942  822  727\n",
              "3        3   767   798   959  647   710  ...  731  672  535  666  745  613\n",
              "4        4  2114  2025  2060  285  1211  ...  893  793  842  947  732  831\n",
              "\n",
              "[5 rows x 35 columns]"
            ]
          },
          "metadata": {
            "tags": []
          },
          "execution_count": 67
        }
      ]
    },
    {
      "cell_type": "markdown",
      "metadata": {
        "id": "vFil2JJa1BNn"
      },
      "source": [
        "### New shops and other that no longer exists."
      ]
    },
    {
      "cell_type": "code",
      "metadata": {
        "id": "MPWJBApUthpm",
        "colab": {
          "base_uri": "https://localhost:8080/"
        },
        "outputId": "020d566e-9cff-4c72-a04c-260ec9c590c3"
      },
      "source": [
        "for i in range(6,34):\r\n",
        "    print('Not exists in month',i,sales_by_shop_id['shop_id'][sales_by_shop_id.loc[:,'0':str(i)].sum(axis=1)==0].values)\r\n",
        "\r\n",
        "for i in range(6,34):\r\n",
        "    print('Shop is outdated for month',i,sales_by_shop_id['shop_id'][sales_by_shop_id.loc[:,str(i):].sum(axis=1)==0].values)"
      ],
      "execution_count": 68,
      "outputs": [
        {
          "output_type": "stream",
          "text": [
            "Not exists in month 6 [ 9 11 20 33 34 36 39 40 48 49]\n",
            "Not exists in month 7 [ 9 11 20 33 34 36 39 40 48 49]\n",
            "Not exists in month 8 [ 9 11 20 33 34 36 39 40 48 49]\n",
            "Not exists in month 9 [11 20 33 34 36 39 40 48 49]\n",
            "Not exists in month 10 [11 20 33 34 36 39 40 48 49]\n",
            "Not exists in month 11 [11 20 33 34 36 39 40 48]\n",
            "Not exists in month 12 [11 20 33 34 36 39 40 48]\n",
            "Not exists in month 13 [11 20 33 34 36 39 40 48]\n",
            "Not exists in month 14 [11 20 33 34 36 48]\n",
            "Not exists in month 15 [11 20 33 34 36]\n",
            "Not exists in month 16 [11 20 33 34 36]\n",
            "Not exists in month 17 [11 20 33 34 36]\n",
            "Not exists in month 18 [11 20 33 36]\n",
            "Not exists in month 19 [11 20 36]\n",
            "Not exists in month 20 [11 20 36]\n",
            "Not exists in month 21 [11 36]\n",
            "Not exists in month 22 [11 36]\n",
            "Not exists in month 23 [11 36]\n",
            "Not exists in month 24 [11 36]\n",
            "Not exists in month 25 [36]\n",
            "Not exists in month 26 [36]\n",
            "Not exists in month 27 [36]\n",
            "Not exists in month 28 [36]\n",
            "Not exists in month 29 [36]\n",
            "Not exists in month 30 [36]\n",
            "Not exists in month 31 [36]\n",
            "Not exists in month 32 [36]\n",
            "Not exists in month 33 []\n",
            "Shop is outdated for month 6 [ 0  1  8 23]\n",
            "Shop is outdated for month 7 [ 0  1  8 23 32]\n",
            "Shop is outdated for month 8 [ 0  1  8 23 32]\n",
            "Shop is outdated for month 9 [ 0  1  8 23 32]\n",
            "Shop is outdated for month 10 [ 0  1  8 23 32]\n",
            "Shop is outdated for month 11 [ 0  1  8 23 32]\n",
            "Shop is outdated for month 12 [ 0  1  8 23 32]\n",
            "Shop is outdated for month 13 [ 0  1  8 23 32]\n",
            "Shop is outdated for month 14 [ 0  1  8 23 32]\n",
            "Shop is outdated for month 15 [ 0  1  8 23 32]\n",
            "Shop is outdated for month 16 [ 0  1  8 23 32]\n",
            "Shop is outdated for month 17 [ 0  1  8 23 32]\n",
            "Shop is outdated for month 18 [ 0  1  8 23 32]\n",
            "Shop is outdated for month 19 [ 0  1  8 23 32]\n",
            "Shop is outdated for month 20 [ 0  1  8 13 23 32]\n",
            "Shop is outdated for month 21 [ 0  1  8 13 23 32]\n",
            "Shop is outdated for month 22 [ 0  1  8 13 23 32]\n",
            "Shop is outdated for month 23 [ 0  1  8 13 23 32]\n",
            "Shop is outdated for month 24 [ 0  1  8 13 23 32]\n",
            "Shop is outdated for month 25 [ 0  1  8 13 17 23 32 40 43]\n",
            "Shop is outdated for month 26 [ 0  1  8 11 13 17 23 30 32 40 43]\n",
            "Shop is outdated for month 27 [ 0  1  8 11 13 17 23 30 32 40 43]\n",
            "Shop is outdated for month 28 [ 0  1  8 11 13 17 23 30 32 33 40 43 54]\n",
            "Shop is outdated for month 29 [ 0  1  8 11 13 17 23 29 30 32 33 40 43 54]\n",
            "Shop is outdated for month 30 [ 0  1  8 11 13 17 23 29 30 32 33 40 43 54]\n",
            "Shop is outdated for month 31 [ 0  1  8 11 13 17 23 29 30 32 33 40 43 54]\n",
            "Shop is outdated for month 32 [ 0  1  8 11 13 17 23 29 30 32 33 40 43 54]\n",
            "Shop is outdated for month 33 [ 0  1  8 11 13 17 23 27 29 30 32 33 40 43 51 54]\n"
          ],
          "name": "stdout"
        }
      ]
    },
    {
      "cell_type": "markdown",
      "metadata": {
        "id": "8Havpb6C8NU_"
      },
      "source": [
        "### How many shops where open in November and December 2015?"
      ]
    },
    {
      "cell_type": "code",
      "metadata": {
        "id": "g9fYLVv_vJO0",
        "colab": {
          "base_uri": "https://localhost:8080/"
        },
        "outputId": "b73cf03b-cad4-47cd-b0ab-1b54ad82ed8c"
      },
      "source": [
        "# Months 32 and 33 shouldn't be 0:\r\n",
        "q_shops_running = sales_by_shop_id[sales_by_shop_id.loc[:,'32':].sum(axis=1)!=0].shape[0]\r\n",
        "\r\n",
        "print('There are {} shops up and running in November and December 2015'.format(q_shops_running))"
      ],
      "execution_count": 69,
      "outputs": [
        {
          "output_type": "stream",
          "text": [
            "There are 46 shops up and running in November and December 2015\n"
          ],
          "name": "stdout"
        }
      ]
    },
    {
      "cell_type": "markdown",
      "metadata": {
        "id": "M1VXpZKE1frL"
      },
      "source": [
        "### Shops that were created after 2014 01 01"
      ]
    },
    {
      "cell_type": "code",
      "metadata": {
        "id": "clDmm9cRmNMb",
        "colab": {
          "base_uri": "https://localhost:8080/",
          "height": 299
        },
        "outputId": "1c6aa61e-4210-4696-f4e1-80c934507726"
      },
      "source": [
        "sales_by_shop_id.set_index('shop_id', inplace=True)\r\n",
        "\r\n",
        "# Plot shops created after 2014 01 01\r\n",
        "for i in range(len(sales_by_shop_id.index+1)):\r\n",
        "  if sales_by_shop_id.iloc[i,:12].sum() == 0:\r\n",
        "    sns.lineplot(y=sales_by_shop_id.iloc[i].values[10:], x=sales_by_shop_id.columns[10:], label=i)\r\n",
        "    plt.ylabel('Number sales')\r\n",
        "    plt.xlabel('Month Number')\r\n",
        "    plt.title('Q sales by month for shops created after 2014 01 01')\r\n",
        "# Plot legend outside figure\r\n",
        "plt.legend(bbox_to_anchor=(1.2, 1.01))\r\n",
        "plt.show()"
      ],
      "execution_count": 70,
      "outputs": [
        {
          "output_type": "display_data",
          "data": {
            "image/png": "[encoded data removed]",
            "text/plain": [
              "<Figure size 432x288 with 1 Axes>"
            ]
          },
          "metadata": {
            "tags": []
          }
        }
      ]
    },
    {
      "cell_type": "markdown",
      "metadata": {
        "id": "Ys65jRef-1o7"
      },
      "source": [
        "## Evolution of open shops"
      ]
    },
    {
      "cell_type": "code",
      "metadata": {
        "id": "xgsuV2qt-yks",
        "colab": {
          "base_uri": "https://localhost:8080/",
          "height": 299
        },
        "outputId": "af80857c-5fa2-4c24-f581-41e96e404f8f"
      },
      "source": [
        "n_shops = sales_by_shop_id.apply(lambda x: x.map({0:0})).fillna(1).sum(axis=0)\r\n",
        "\r\n",
        "# Plot sales and PS sales\r\n",
        "n_shops.plot(kind='line')\r\n",
        "plt.title('Evolution of open shops from 2013 to 2015')\r\n",
        "plt.yticks(np.arange(40,56,2))\r\n",
        "plt.ylabel('Q of shops')\r\n",
        "plt.xlabel('Month number')\r\n",
        "plt.show()"
      ],
      "execution_count": 71,
      "outputs": [
        {
          "output_type": "display_data",
          "data": {
            "image/png": "[encoded data removed]",
            "text/plain": [
              "<Figure size 432x288 with 1 Axes>"
            ]
          },
          "metadata": {
            "tags": []
          }
        }
      ]
    },
    {
      "cell_type": "markdown",
      "metadata": {
        "id": "KnALBcu_Il6y"
      },
      "source": [
        "## Combined time series plot of number of shops and total sales "
      ]
    },
    {
      "cell_type": "markdown",
      "metadata": {
        "id": "unI0xKXiKuwY"
      },
      "source": [
        "Plot with combined y axis"
      ]
    },
    {
      "cell_type": "code",
      "metadata": {
        "id": "JNPbR28HDjE-",
        "colab": {
          "base_uri": "https://localhost:8080/",
          "height": 500
        },
        "outputId": "8d7097a9-fab4-43a2-96e5-2a218b9e63ae"
      },
      "source": [
        "# We want sales grouped by date_block_num\r\n",
        "sales_grouped_date = df.groupby('date_block_num').sum()['sales']/1000000\r\n",
        "\r\n",
        "# Initalize a Figure and Axes\r\n",
        "fig, ax = plt.subplots()\r\n",
        "fig.set_size_inches([12,8])\r\n",
        "ax.plot(n_shops.index, n_shops.values, color='#2795AF')\r\n",
        "# Create a twin Axes that shares the x-axis\r\n",
        "ax2 = ax.twinx()\r\n",
        "ax2.plot(sales_grouped_date.index, sales_grouped_date.values, color='#BF26B8')\r\n",
        "# Set y labels and colors\r\n",
        "ax.set_ylabel('Q of Shops', color='#2795AF')\r\n",
        "ax2.set_ylabel('Sales', color='#BF26B8')\r\n",
        "ax.set_yticks(np.arange(30,60,2))\r\n",
        "ax.tick_params(colors='#2795AF')\r\n",
        "ax2.tick_params(colors='#BF26B8')\r\n",
        "plt.title('Evolution of open shops from 2013 to 2015')\r\n",
        "plt.xlabel('Month number')\r\n",
        "plt.show()\r\n"
      ],
      "execution_count": 72,
      "outputs": [
        {
          "output_type": "display_data",
          "data": {
            "image/png": "[encoded data removed]",
            "text/plain": [
              "<Figure size 864x576 with 2 Axes>"
            ]
          },
          "metadata": {
            "tags": []
          }
        }
      ]
    },
    {
      "cell_type": "markdown",
      "metadata": {
        "id": "ZESuEmBRI77S"
      },
      "source": [
        "I see that in Dec 2013 there were 45 shops and revenue of around 205 million. In 2014 the company was creating more shops. With 5 more, the organization reached more than 230 million. But that expansions ceased at that time were they lowered it's presence to 42/44 shops in less than a year."
      ]
    },
    {
      "cell_type": "markdown",
      "metadata": {
        "id": "cm9NjfMH4EHO"
      },
      "source": [
        "### Non-permanent shops"
      ]
    },
    {
      "cell_type": "markdown",
      "metadata": {
        "id": "uCaQV9jG47yb"
      },
      "source": [
        "Next line graph depicts sales (in quantity) of shops that are not permanent.\r\n",
        "\r\n",
        "More than 'shops' they might represent sales in fairs or other ad-hoc places."
      ]
    },
    {
      "cell_type": "code",
      "metadata": {
        "id": "0rO5dGwsnee2",
        "colab": {
          "base_uri": "https://localhost:8080/",
          "height": 302
        },
        "outputId": "e3d8a270-05c6-4936-b01e-fff9d9fe1e24"
      },
      "source": [
        "for i in range(len(sales_by_shop_id.index+1)):\r\n",
        "  month_no_sales = 0\r\n",
        "  for value in sales_by_shop_id.iloc[i,:].values:\r\n",
        "    if value == 0:\r\n",
        "      month_no_sales += 1\r\n",
        "  # Filter for most of the time without any sale.\r\n",
        "  if month_no_sales >= 20:\r\n",
        "    sns.lineplot(y=sales_by_shop_id.iloc[i].values, x=sales_by_shop_id.columns, label=i)\r\n",
        "    plt.xticks(rotation=90)\r\n",
        "    plt.ylabel('Number sales')\r\n",
        "    plt.xlabel('Month Number')\r\n",
        "    plt.title('Q sales by month for non-permanent shops')\r\n",
        "# Plot legend outside figure\r\n",
        "plt.legend(bbox_to_anchor=(1.2, 1.01))\r\n",
        "plt.show()\r\n",
        "\r\n"
      ],
      "execution_count": 73,
      "outputs": [
        {
          "output_type": "display_data",
          "data": {
            "image/png": "[encoded data removed]",
            "text/plain": [
              "<Figure size 432x288 with 1 Axes>"
            ]
          },
          "metadata": {
            "tags": []
          }
        }
      ]
    },
    {
      "cell_type": "markdown",
      "metadata": {
        "id": "8Vs2_vdmcB98"
      },
      "source": [
        "There are clearly 3 shops that are non-permanent. \r\n",
        "\r\n",
        "Ids are 9,11,20. Let's check their sales."
      ]
    },
    {
      "cell_type": "code",
      "metadata": {
        "id": "HFP6SFne4LkQ",
        "colab": {
          "base_uri": "https://localhost:8080/",
          "height": 173
        },
        "outputId": "f9a8b568-e425-40fa-8d82-bf389f543546"
      },
      "source": [
        "sales_by_shop_id.loc[[9,11,20]] "
      ],
      "execution_count": 74,
      "outputs": [
        {
          "output_type": "execute_result",
          "data": {
            "text/html": [
              "<div>\n",
              "<style scoped>\n",
              "    .dataframe tbody tr th:only-of-type {\n",
              "        vertical-align: middle;\n",
              "    }\n",
              "\n",
              "    .dataframe tbody tr th {\n",
              "        vertical-align: top;\n",
              "    }\n",
              "\n",
              "    .dataframe thead th {\n",
              "        text-align: right;\n",
              "    }\n",
              "</style>\n",
              "<table border=\"1\" class=\"dataframe\">\n",
              "  <thead>\n",
              "    <tr style=\"text-align: right;\">\n",
              "      <th></th>\n",
              "      <th>0</th>\n",
              "      <th>1</th>\n",
              "      <th>2</th>\n",
              "      <th>3</th>\n",
              "      <th>4</th>\n",
              "      <th>5</th>\n",
              "      <th>6</th>\n",
              "      <th>7</th>\n",
              "      <th>8</th>\n",
              "      <th>9</th>\n",
              "      <th>10</th>\n",
              "      <th>11</th>\n",
              "      <th>12</th>\n",
              "      <th>13</th>\n",
              "      <th>14</th>\n",
              "      <th>15</th>\n",
              "      <th>16</th>\n",
              "      <th>17</th>\n",
              "      <th>18</th>\n",
              "      <th>19</th>\n",
              "      <th>20</th>\n",
              "      <th>21</th>\n",
              "      <th>22</th>\n",
              "      <th>23</th>\n",
              "      <th>24</th>\n",
              "      <th>25</th>\n",
              "      <th>26</th>\n",
              "      <th>27</th>\n",
              "      <th>28</th>\n",
              "      <th>29</th>\n",
              "      <th>30</th>\n",
              "      <th>31</th>\n",
              "      <th>32</th>\n",
              "      <th>33</th>\n",
              "    </tr>\n",
              "    <tr>\n",
              "      <th>shop_id</th>\n",
              "      <th></th>\n",
              "      <th></th>\n",
              "      <th></th>\n",
              "      <th></th>\n",
              "      <th></th>\n",
              "      <th></th>\n",
              "      <th></th>\n",
              "      <th></th>\n",
              "      <th></th>\n",
              "      <th></th>\n",
              "      <th></th>\n",
              "      <th></th>\n",
              "      <th></th>\n",
              "      <th></th>\n",
              "      <th></th>\n",
              "      <th></th>\n",
              "      <th></th>\n",
              "      <th></th>\n",
              "      <th></th>\n",
              "      <th></th>\n",
              "      <th></th>\n",
              "      <th></th>\n",
              "      <th></th>\n",
              "      <th></th>\n",
              "      <th></th>\n",
              "      <th></th>\n",
              "      <th></th>\n",
              "      <th></th>\n",
              "      <th></th>\n",
              "      <th></th>\n",
              "      <th></th>\n",
              "      <th></th>\n",
              "      <th></th>\n",
              "      <th></th>\n",
              "    </tr>\n",
              "  </thead>\n",
              "  <tbody>\n",
              "    <tr>\n",
              "      <th>9</th>\n",
              "      <td>0</td>\n",
              "      <td>0</td>\n",
              "      <td>0</td>\n",
              "      <td>0</td>\n",
              "      <td>0</td>\n",
              "      <td>0</td>\n",
              "      <td>0</td>\n",
              "      <td>0</td>\n",
              "      <td>0</td>\n",
              "      <td>6526</td>\n",
              "      <td>0</td>\n",
              "      <td>0</td>\n",
              "      <td>0</td>\n",
              "      <td>0</td>\n",
              "      <td>0</td>\n",
              "      <td>0</td>\n",
              "      <td>0</td>\n",
              "      <td>0</td>\n",
              "      <td>0</td>\n",
              "      <td>0</td>\n",
              "      <td>0</td>\n",
              "      <td>6155</td>\n",
              "      <td>0</td>\n",
              "      <td>0</td>\n",
              "      <td>0</td>\n",
              "      <td>0</td>\n",
              "      <td>0</td>\n",
              "      <td>-1</td>\n",
              "      <td>0</td>\n",
              "      <td>0</td>\n",
              "      <td>0</td>\n",
              "      <td>0</td>\n",
              "      <td>0</td>\n",
              "      <td>3186</td>\n",
              "    </tr>\n",
              "    <tr>\n",
              "      <th>11</th>\n",
              "      <td>0</td>\n",
              "      <td>0</td>\n",
              "      <td>0</td>\n",
              "      <td>0</td>\n",
              "      <td>0</td>\n",
              "      <td>0</td>\n",
              "      <td>0</td>\n",
              "      <td>0</td>\n",
              "      <td>0</td>\n",
              "      <td>0</td>\n",
              "      <td>0</td>\n",
              "      <td>0</td>\n",
              "      <td>0</td>\n",
              "      <td>0</td>\n",
              "      <td>0</td>\n",
              "      <td>0</td>\n",
              "      <td>0</td>\n",
              "      <td>0</td>\n",
              "      <td>0</td>\n",
              "      <td>0</td>\n",
              "      <td>0</td>\n",
              "      <td>0</td>\n",
              "      <td>0</td>\n",
              "      <td>0</td>\n",
              "      <td>0</td>\n",
              "      <td>572</td>\n",
              "      <td>0</td>\n",
              "      <td>0</td>\n",
              "      <td>0</td>\n",
              "      <td>0</td>\n",
              "      <td>0</td>\n",
              "      <td>0</td>\n",
              "      <td>0</td>\n",
              "      <td>0</td>\n",
              "    </tr>\n",
              "    <tr>\n",
              "      <th>20</th>\n",
              "      <td>0</td>\n",
              "      <td>0</td>\n",
              "      <td>0</td>\n",
              "      <td>0</td>\n",
              "      <td>0</td>\n",
              "      <td>0</td>\n",
              "      <td>0</td>\n",
              "      <td>0</td>\n",
              "      <td>0</td>\n",
              "      <td>0</td>\n",
              "      <td>0</td>\n",
              "      <td>0</td>\n",
              "      <td>0</td>\n",
              "      <td>0</td>\n",
              "      <td>0</td>\n",
              "      <td>0</td>\n",
              "      <td>0</td>\n",
              "      <td>0</td>\n",
              "      <td>0</td>\n",
              "      <td>0</td>\n",
              "      <td>0</td>\n",
              "      <td>3261</td>\n",
              "      <td>0</td>\n",
              "      <td>0</td>\n",
              "      <td>0</td>\n",
              "      <td>0</td>\n",
              "      <td>0</td>\n",
              "      <td>0</td>\n",
              "      <td>0</td>\n",
              "      <td>0</td>\n",
              "      <td>0</td>\n",
              "      <td>0</td>\n",
              "      <td>0</td>\n",
              "      <td>2611</td>\n",
              "    </tr>\n",
              "  </tbody>\n",
              "</table>\n",
              "</div>"
            ],
            "text/plain": [
              "         0  1  2  3  4  5  6  7  8  ...   25  26  27  28  29  30  31  32    33\n",
              "shop_id                             ...                                       \n",
              "9        0  0  0  0  0  0  0  0  0  ...    0   0  -1   0   0   0   0   0  3186\n",
              "11       0  0  0  0  0  0  0  0  0  ...  572   0   0   0   0   0   0   0     0\n",
              "20       0  0  0  0  0  0  0  0  0  ...    0   0   0   0   0   0   0   0  2611\n",
              "\n",
              "[3 rows x 34 columns]"
            ]
          },
          "metadata": {
            "tags": []
          },
          "execution_count": 74
        }
      ]
    },
    {
      "cell_type": "markdown",
      "metadata": {
        "id": "EPD_GfCI6Alv"
      },
      "source": [
        "#### What type of items are sold in these 'shops'"
      ]
    },
    {
      "cell_type": "code",
      "metadata": {
        "id": "xrTXUp8M6Gvj",
        "colab": {
          "base_uri": "https://localhost:8080/",
          "height": 136
        },
        "outputId": "26c518a6-b475-429a-898a-60ed3394b80f"
      },
      "source": [
        "# Category of most important sales of non-pemanent shops:\r\n",
        "df_nonperm_shops = df[df.shop_id.isin([9,11,20])]\r\n",
        "nonperm_5ban = df_nonperm_shops.groupby('item_cat1').sum()['sales'].sort_values(ascending=False).head(5)\r\n",
        "nonperm_most_imp_cat1 = nonperm_5ban / df_nonperm_shops.sales.sum()\r\n",
        "display(nonperm_most_imp_cat1)"
      ],
      "execution_count": 75,
      "outputs": [
        {
          "output_type": "display_data",
          "data": {
            "text/plain": [
              "item_cat1\n",
              "Gifts           0.580\n",
              "Games           0.178\n",
              "PC Games        0.137\n",
              "Game Consoles   0.034\n",
              "Books           0.034\n",
              "Name: sales, dtype: float64"
            ]
          },
          "metadata": {
            "tags": []
          }
        }
      ]
    },
    {
      "cell_type": "code",
      "metadata": {
        "id": "XSOnqGPW8hEc",
        "colab": {
          "base_uri": "https://localhost:8080/",
          "height": 136
        },
        "outputId": "bd9bf6ae-2be3-4bd1-d6bc-fd9e6705eeab"
      },
      "source": [
        "# Category of most important sales of all shops of the firms:\r\n",
        "df_5ban = df_cat1_sales.sort_values(ascending=False).head(5)\r\n",
        "df_most_imp_cat1 = df_5ban / df_cat1_sales.sum()\r\n",
        "display(df_most_imp_cat1)"
      ],
      "execution_count": 76,
      "outputs": [
        {
          "output_type": "display_data",
          "data": {
            "text/plain": [
              "item_cat1\n",
              "Games           0.339\n",
              "Game Consoles   0.155\n",
              "PC Games        0.141\n",
              "Cinema          0.099\n",
              "Gifts           0.091\n",
              "Name: sales, dtype: float64"
            ]
          },
          "metadata": {
            "tags": []
          }
        }
      ]
    },
    {
      "cell_type": "markdown",
      "metadata": {
        "id": "V5rYgwWqEADT"
      },
      "source": [
        "### Difference between shops"
      ]
    },
    {
      "cell_type": "markdown",
      "metadata": {
        "id": "6cDSeOPnCcqs"
      },
      "source": [
        "Last 2 tables show that non-perm shops has 58% of it's sales in Gifts category whilst it represents 9% of total sales company.\r\n",
        "\r\n",
        "Secondly, non-perm shops has irrelevant Game Consoles sale with 3.4% of sales, in contrast to other normal shops that has 15.5%.\r\n",
        "\r\n",
        "Thirdly, there aren't any relevant Cinema sales but this category explains 9% of total C1 revenue.\r\n",
        "\r\n",
        "In conclusion non-perm shops ids: 9,11,20, are really different from the average of 1C shops.\r\n"
      ]
    },
    {
      "cell_type": "markdown",
      "metadata": {
        "id": "WHHSPDddCPjq"
      },
      "source": [
        "## What are the most important shops in sales? Where are they located? 80/20 rule?"
      ]
    },
    {
      "cell_type": "markdown",
      "metadata": {
        "id": "b-0IN3CxeWDC"
      },
      "source": [
        "As explained in Kaggle, item_price feature represents current price of an item. \r\n",
        "\r\n",
        "This price is in homogeneous currency so It would be ready for analyzing."
      ]
    },
    {
      "cell_type": "code",
      "metadata": {
        "id": "dA9jkZoXf0tM",
        "colab": {
          "base_uri": "https://localhost:8080/"
        },
        "outputId": "ace011a5-6eb7-40c6-f0c5-ba6d3528032b"
      },
      "source": [
        "# Let's create a new series with shop_id as index and sales\r\n",
        "df_id_sales = df.groupby('shop_id').sum().sales.sort_values()\r\n",
        "df_id_sales.head()"
      ],
      "execution_count": 77,
      "outputs": [
        {
          "output_type": "execute_result",
          "data": {
            "text/plain": [
              "shop_id\n",
              "36    377714.000\n",
              "11    521655.140\n",
              "8    2349358.000\n",
              "1    3238207.000\n",
              "40   4293586.850\n",
              "Name: sales, dtype: float64"
            ]
          },
          "metadata": {
            "tags": []
          },
          "execution_count": 77
        }
      ]
    },
    {
      "cell_type": "code",
      "metadata": {
        "id": "gvY39K3HfKaI",
        "colab": {
          "base_uri": "https://localhost:8080/",
          "height": 302
        },
        "outputId": "6053f234-2e8d-483a-dc50-91cd6cc8fefa"
      },
      "source": [
        "df_id_sales_to_plot = df_id_sales.reset_index()\r\n",
        "\r\n",
        "# Create a bar plot of interest in math, separated by gender\r\n",
        "sns.barplot(x='shop_id', y=\"sales\",\r\n",
        "            data=df_id_sales_to_plot, order=df_id_sales_to_plot.sort_values(by='sales').shop_id)\r\n",
        "\r\n",
        "# Show plot\r\n",
        "plt.title('Sales by shop')\r\n",
        "plt.xticks(rotation=90)\r\n",
        "plt.show()"
      ],
      "execution_count": 78,
      "outputs": [
        {
          "output_type": "display_data",
          "data": {
            "image/png": "[encoded data removed]",
            "text/plain": [
              "<Figure size 432x288 with 1 Axes>"
            ]
          },
          "metadata": {
            "tags": []
          }
        }
      ]
    },
    {
      "cell_type": "code",
      "metadata": {
        "id": "Ly3qOl_-f_uF",
        "colab": {
          "base_uri": "https://localhost:8080/",
          "height": 299
        },
        "outputId": "2b7346ae-683b-4c34-8063-f47bd37178d0"
      },
      "source": [
        "# Calculate empirical cumulative function\r\n",
        "a,b = dcst.ecdf(df_id_sales)\r\n",
        "\r\n",
        "# Make max cumulative sale == 1\r\n",
        "a = a/a.max()\r\n",
        "\r\n",
        "# Make the plot\r\n",
        "plt.plot(a,b, marker='.', linestyle='none')\r\n",
        "plt.xlabel('Sales')\r\n",
        "plt.ylabel('ECDF')\r\n",
        "plt.title('ECDF of shops')\r\n",
        "plt.xticks(np.linspace(0,1,11))\r\n",
        "plt.show()"
      ],
      "execution_count": 79,
      "outputs": [
        {
          "output_type": "display_data",
          "data": {
            "image/png": "[encoded data removed]",
            "text/plain": [
              "<Figure size 432x288 with 1 Axes>"
            ]
          },
          "metadata": {
            "tags": []
          }
        }
      ]
    },
    {
      "cell_type": "markdown",
      "metadata": {
        "id": "bnjuv1HCjTwL"
      },
      "source": [
        "### 20% of the shops explains ?% of sales?"
      ]
    },
    {
      "cell_type": "code",
      "metadata": {
        "id": "vXjy8jjBp_Lz",
        "colab": {
          "base_uri": "https://localhost:8080/"
        },
        "outputId": "97a32dca-e6b7-4fcb-cc78-16dca73abe92"
      },
      "source": [
        "# Visually I can see that 80% of less succesfull shops explains 30% of sales.\r\n",
        "# Making exact calculations:\r\n",
        "\r\n",
        "result = np.array(np.where(b >= 0.8)).reshape(-1)\r\n",
        "print('{:.2f}% of shops makes {:.2f}% of total sales'.format(b[result[0]]*100, a[result[0]]*100))\r\n",
        "\r\n",
        "# Then, 20% of shops make sales of:\r\n",
        "print('{:.2f}% of shops makes {:.2f}% of total sales'.format(-b[result[0]]*100+100, -a[result[0]]*100+100))"
      ],
      "execution_count": 80,
      "outputs": [
        {
          "output_type": "stream",
          "text": [
            "80.00% of shops makes 31.54% of total sales\n",
            "20.00% of shops makes 68.46% of total sales\n"
          ],
          "name": "stdout"
        }
      ]
    },
    {
      "cell_type": "markdown",
      "metadata": {
        "id": "W1pl-thOstl0"
      },
      "source": [
        "We can say it has an 70/20 paretto rule.\r\n"
      ]
    },
    {
      "cell_type": "markdown",
      "metadata": {
        "id": "qjt9lb1_2VoZ"
      },
      "source": [
        "### Where are the most important shops located?"
      ]
    },
    {
      "cell_type": "code",
      "metadata": {
        "id": "S8Ra0FwJv_LQ"
      },
      "source": [
        "df_id_sales.tail(9).index\r\n",
        "\r\n",
        "# Import shops dataset\r\n",
        "shops = pd.read_csv('/content/shops-translated.csv')"
      ],
      "execution_count": 81,
      "outputs": []
    },
    {
      "cell_type": "code",
      "metadata": {
        "id": "I9UwSgmu5xge",
        "colab": {
          "base_uri": "https://localhost:8080/",
          "height": 328
        },
        "outputId": "e425144d-1ade-48ec-b867-17f042563e92"
      },
      "source": [
        "shops[shops.shop_id.isin(df_id_sales.tail(9).index)]"
      ],
      "execution_count": 82,
      "outputs": [
        {
          "output_type": "execute_result",
          "data": {
            "text/html": [
              "<div>\n",
              "<style scoped>\n",
              "    .dataframe tbody tr th:only-of-type {\n",
              "        vertical-align: middle;\n",
              "    }\n",
              "\n",
              "    .dataframe tbody tr th {\n",
              "        vertical-align: top;\n",
              "    }\n",
              "\n",
              "    .dataframe thead th {\n",
              "        text-align: right;\n",
              "    }\n",
              "</style>\n",
              "<table border=\"1\" class=\"dataframe\">\n",
              "  <thead>\n",
              "    <tr style=\"text-align: right;\">\n",
              "      <th></th>\n",
              "      <th>shop_id</th>\n",
              "      <th>City</th>\n",
              "      <th>Type</th>\n",
              "      <th>Name</th>\n",
              "    </tr>\n",
              "  </thead>\n",
              "  <tbody>\n",
              "    <tr>\n",
              "      <th>6</th>\n",
              "      <td>6</td>\n",
              "      <td>Voronezh</td>\n",
              "      <td>Shop</td>\n",
              "      <td>(Plekhanovskaya, 13)</td>\n",
              "    </tr>\n",
              "    <tr>\n",
              "      <th>12</th>\n",
              "      <td>12</td>\n",
              "      <td>Web</td>\n",
              "      <td>Web</td>\n",
              "      <td>Online Shop Emergency</td>\n",
              "    </tr>\n",
              "    <tr>\n",
              "      <th>25</th>\n",
              "      <td>25</td>\n",
              "      <td>Moscow</td>\n",
              "      <td>TRC</td>\n",
              "      <td>Atrium</td>\n",
              "    </tr>\n",
              "    <tr>\n",
              "      <th>27</th>\n",
              "      <td>27</td>\n",
              "      <td>Moscow</td>\n",
              "      <td>TC</td>\n",
              "      <td>MEGA Belaya Dacha II</td>\n",
              "    </tr>\n",
              "    <tr>\n",
              "      <th>28</th>\n",
              "      <td>28</td>\n",
              "      <td>Moscow</td>\n",
              "      <td>TC</td>\n",
              "      <td>MEGA Teply Stan II\"</td>\n",
              "    </tr>\n",
              "    <tr>\n",
              "      <th>31</th>\n",
              "      <td>31</td>\n",
              "      <td>Moscow</td>\n",
              "      <td>TC</td>\n",
              "      <td>Семеновский</td>\n",
              "    </tr>\n",
              "    <tr>\n",
              "      <th>42</th>\n",
              "      <td>42</td>\n",
              "      <td>SanktPetersburg</td>\n",
              "      <td>TC</td>\n",
              "      <td>Nevsky Center</td>\n",
              "    </tr>\n",
              "    <tr>\n",
              "      <th>54</th>\n",
              "      <td>54</td>\n",
              "      <td>Khimki</td>\n",
              "      <td>TC</td>\n",
              "      <td>Mega</td>\n",
              "    </tr>\n",
              "    <tr>\n",
              "      <th>57</th>\n",
              "      <td>57</td>\n",
              "      <td>Yakutsk</td>\n",
              "      <td>Shop</td>\n",
              "      <td>Ordzhonikidze, 56</td>\n",
              "    </tr>\n",
              "  </tbody>\n",
              "</table>\n",
              "</div>"
            ],
            "text/plain": [
              "    shop_id             City  Type                   Name\n",
              "6         6         Voronezh  Shop   (Plekhanovskaya, 13)\n",
              "12       12              Web   Web  Online Shop Emergency\n",
              "25       25           Moscow   TRC                 Atrium\n",
              "27       27           Moscow    TC   MEGA Belaya Dacha II\n",
              "28       28           Moscow    TC    MEGA Teply Stan II\"\n",
              "31       31           Moscow    TC            Семеновский\n",
              "42       42  SanktPetersburg    TC          Nevsky Center\n",
              "54       54           Khimki    TC                   Mega\n",
              "57       57          Yakutsk  Shop      Ordzhonikidze, 56"
            ]
          },
          "metadata": {
            "tags": []
          },
          "execution_count": 82
        }
      ]
    },
    {
      "cell_type": "markdown",
      "metadata": {
        "id": "X3oSuxOU77Gy"
      },
      "source": [
        "# Analyzing items"
      ]
    },
    {
      "cell_type": "markdown",
      "metadata": {
        "id": "S92Ndi1o-0YJ"
      },
      "source": [
        "## Is the company adding new products to sale?"
      ]
    },
    {
      "cell_type": "code",
      "metadata": {
        "id": "DDTof2_u-83T",
        "colab": {
          "base_uri": "https://localhost:8080/",
          "height": 235
        },
        "outputId": "af22ebe2-18a6-4372-a184-60b68a956f3c"
      },
      "source": [
        "df.head()"
      ],
      "execution_count": 84,
      "outputs": [
        {
          "output_type": "execute_result",
          "data": {
            "text/html": [
              "<div>\n",
              "<style scoped>\n",
              "    .dataframe tbody tr th:only-of-type {\n",
              "        vertical-align: middle;\n",
              "    }\n",
              "\n",
              "    .dataframe tbody tr th {\n",
              "        vertical-align: top;\n",
              "    }\n",
              "\n",
              "    .dataframe thead th {\n",
              "        text-align: right;\n",
              "    }\n",
              "</style>\n",
              "<table border=\"1\" class=\"dataframe\">\n",
              "  <thead>\n",
              "    <tr style=\"text-align: right;\">\n",
              "      <th></th>\n",
              "      <th>date_block_num</th>\n",
              "      <th>shop_id</th>\n",
              "      <th>item_id</th>\n",
              "      <th>item_price</th>\n",
              "      <th>item_cnt_day</th>\n",
              "      <th>item_name_translated</th>\n",
              "      <th>item_cat1</th>\n",
              "      <th>item_cat2</th>\n",
              "      <th>sales</th>\n",
              "      <th>year</th>\n",
              "      <th>year/month</th>\n",
              "    </tr>\n",
              "    <tr>\n",
              "      <th>date</th>\n",
              "      <th></th>\n",
              "      <th></th>\n",
              "      <th></th>\n",
              "      <th></th>\n",
              "      <th></th>\n",
              "      <th></th>\n",
              "      <th></th>\n",
              "      <th></th>\n",
              "      <th></th>\n",
              "      <th></th>\n",
              "      <th></th>\n",
              "    </tr>\n",
              "  </thead>\n",
              "  <tbody>\n",
              "    <tr>\n",
              "      <th>2013-01-01</th>\n",
              "      <td>0</td>\n",
              "      <td>18</td>\n",
              "      <td>5823</td>\n",
              "      <td>2500.000</td>\n",
              "      <td>1.000</td>\n",
              "      <td>Playstation Store replenishment of wallet: Pay...</td>\n",
              "      <td>Payment cards</td>\n",
              "      <td>PSN</td>\n",
              "      <td>2500.000</td>\n",
              "      <td>2013</td>\n",
              "      <td>2013 01</td>\n",
              "    </tr>\n",
              "    <tr>\n",
              "      <th>2013-01-01</th>\n",
              "      <td>0</td>\n",
              "      <td>27</td>\n",
              "      <td>5573</td>\n",
              "      <td>849.000</td>\n",
              "      <td>1.000</td>\n",
              "      <td>PS Move Motion Controller Charger (Charging st...</td>\n",
              "      <td>Accessories</td>\n",
              "      <td>PS3</td>\n",
              "      <td>849.000</td>\n",
              "      <td>2013</td>\n",
              "      <td>2013 01</td>\n",
              "    </tr>\n",
              "    <tr>\n",
              "      <th>2013-01-01</th>\n",
              "      <td>0</td>\n",
              "      <td>7</td>\n",
              "      <td>1006</td>\n",
              "      <td>399.000</td>\n",
              "      <td>1.000</td>\n",
              "      <td>3D Crystal Puzzle Дельфин XL</td>\n",
              "      <td>Gifts</td>\n",
              "      <td>Development</td>\n",
              "      <td>399.000</td>\n",
              "      <td>2013</td>\n",
              "      <td>2013 01</td>\n",
              "    </tr>\n",
              "    <tr>\n",
              "      <th>2013-01-01</th>\n",
              "      <td>0</td>\n",
              "      <td>19</td>\n",
              "      <td>17707</td>\n",
              "      <td>899.000</td>\n",
              "      <td>1.000</td>\n",
              "      <td>Sport holiday (Essentials) (only for PS Move) ...</td>\n",
              "      <td>Games</td>\n",
              "      <td>PS3</td>\n",
              "      <td>899.000</td>\n",
              "      <td>2013</td>\n",
              "      <td>2013 01</td>\n",
              "    </tr>\n",
              "    <tr>\n",
              "      <th>2013-01-01</th>\n",
              "      <td>0</td>\n",
              "      <td>14</td>\n",
              "      <td>19548</td>\n",
              "      <td>149.000</td>\n",
              "      <td>1.000</td>\n",
              "      <td>SUCH DIFFERENT TWINS (region)</td>\n",
              "      <td>Cinema</td>\n",
              "      <td>DVD</td>\n",
              "      <td>149.000</td>\n",
              "      <td>2013</td>\n",
              "      <td>2013 01</td>\n",
              "    </tr>\n",
              "  </tbody>\n",
              "</table>\n",
              "</div>"
            ],
            "text/plain": [
              "            date_block_num  shop_id  item_id  ...    sales  year year/month\n",
              "date                                          ...                          \n",
              "2013-01-01               0       18     5823  ... 2500.000  2013    2013 01\n",
              "2013-01-01               0       27     5573  ...  849.000  2013    2013 01\n",
              "2013-01-01               0        7     1006  ...  399.000  2013    2013 01\n",
              "2013-01-01               0       19    17707  ...  899.000  2013    2013 01\n",
              "2013-01-01               0       14    19548  ...  149.000  2013    2013 01\n",
              "\n",
              "[5 rows x 11 columns]"
            ]
          },
          "metadata": {
            "tags": []
          },
          "execution_count": 84
        }
      ]
    },
    {
      "cell_type": "markdown",
      "metadata": {
        "id": "w33Fahx3C4PY"
      },
      "source": [
        "### Groupby with .transform"
      ]
    },
    {
      "cell_type": "code",
      "metadata": {
        "id": "gS76umx3_9w0",
        "colab": {
          "base_uri": "https://localhost:8080/"
        },
        "outputId": "e93c59b8-f9cd-439c-d1a5-515c51a3d2a4"
      },
      "source": [
        "# creating a first sale day feature.\r\n",
        "\r\n",
        "df['first_sale_day'] = df.index.dayofyear \r\n",
        "df['first_sale_day'] = df['first_sale_day'] + 365 * (df.index.year - 2013)\r\n",
        "df['first_sale_day'] = df.groupby('item_id')['first_sale_day'].transform('min').astype('int16')\r\n",
        "df['first_sale_day']"
      ],
      "execution_count": 91,
      "outputs": [
        {
          "output_type": "execute_result",
          "data": {
            "text/plain": [
              "date\n",
              "2013-01-01       1\n",
              "2013-01-01       1\n",
              "2013-01-01       1\n",
              "2013-01-01       1\n",
              "2013-01-01       1\n",
              "              ... \n",
              "2015-10-31     661\n",
              "2015-10-31     225\n",
              "2015-10-31     190\n",
              "2015-10-31     868\n",
              "2015-10-31    1019\n",
              "Name: first_sale_day, Length: 2935848, dtype: int16"
            ]
          },
          "metadata": {
            "tags": []
          },
          "execution_count": 91
        }
      ]
    },
    {
      "cell_type": "markdown",
      "metadata": {
        "id": "D6rjpufyDT-s"
      },
      "source": [
        "### What percentage of items where released in 2014/5?"
      ]
    },
    {
      "cell_type": "code",
      "metadata": {
        "id": "8PPvOS0aC6bm",
        "colab": {
          "base_uri": "https://localhost:8080/"
        },
        "outputId": "c2f1ace3-70ae-4343-9f9e-8eb6919978c6"
      },
      "source": [
        "# Check how many new products were in 2014 and 2015.\r\n",
        "released_2014 = df[(df.first_sale_day>365) & (df.first_sale_day<365*2)]\r\n",
        "print('There where {0} new products on sale in 2014. This means {1:.2f}% of all products available.'.format(len(released_2014.item_id.unique()), len(released_2014.item_id.unique())/len(df.item_id.unique())*100))\r\n",
        "\r\n",
        "released_2015 = df[df.first_sale_day>365*2]\r\n",
        "print('There where {0} new products on sale in 2015. This means {1:.2f}% of all products available.'.format(len(released_2015.item_id.unique()), len(released_2015.item_id.unique())/len(df.item_id.unique())*100))"
      ],
      "execution_count": 110,
      "outputs": [
        {
          "output_type": "stream",
          "text": [
            "There where 4064 new products on sale in 2014. This means 18.64% of all products available.\n",
            "There where 2760 new products on sale in 2015. This means 12.66% of all products available.\n"
          ],
          "name": "stdout"
        }
      ]
    },
    {
      "cell_type": "markdown",
      "metadata": {
        "id": "BE6PA6e_Ffsf"
      },
      "source": [
        "### Does new products sells more than older ones?"
      ]
    },
    {
      "cell_type": "code",
      "metadata": {
        "colab": {
          "base_uri": "https://localhost:8080/",
          "height": 365
        },
        "id": "6Zhk-ELK1jhe",
        "outputId": "5c3fdb85-c2cf-4b49-dd12-ca8f28f4515a"
      },
      "source": [
        "# With dataset of products released in 2014 I groupby by year and month and plot sale:\r\n",
        "new_2014 = released_2014.groupby('year/month').sum()['sales'].reset_index()\r\n",
        "new_2015 = released_2015.groupby('year/month').sum()['sales'].reset_index()\r\n",
        "not_released_2014 = df[(df.first_sale_day<365) & (df['year/month'].isin(released_2014['year/month']))].groupby('year/month').sum()['sales'].reset_index()\r\n",
        "\r\n",
        "# Plot \r\n",
        "sns.lineplot(y='sales', x='year/month', data=new_2014)\r\n",
        "sns.lineplot(y='sales', x='year/month', data=not_released_2014)\r\n",
        "sns.lineplot(y='sales', x='year/month', data=new_2015)\r\n",
        "plt.xticks(rotation=90)\r\n",
        "plt.ylabel('Number sales')\r\n",
        "plt.xlabel('Month Number')\r\n",
        "plt.title('Sales for items released in 2014 vs old ones', y=1.08, alpha=0.8)"
      ],
      "execution_count": 146,
      "outputs": [
        {
          "output_type": "execute_result",
          "data": {
            "text/plain": [
              "Text(0.5, 1.08, 'Sales for items released in 2014 vs old ones')"
            ]
          },
          "metadata": {
            "tags": []
          },
          "execution_count": 146
        },
        {
          "output_type": "display_data",
          "data": {
            "image/png": "[encoded data removed]",
            "text/plain": [
              "<Figure size 432x288 with 1 Axes>"
            ]
          },
          "metadata": {
            "tags": []
          }
        }
      ]
    },
    {
      "cell_type": "markdown",
      "metadata": {
        "id": "eWQwxADcOOM8"
      },
      "source": [
        "Visually it is really clear that new items outperform other released in past years.\r\n",
        "\r\n",
        "This company sells products that may be tied to the 'latest', the 'new', the 'trend'. \r\n",
        "\r\n",
        "So new released products are really important in the sales of this company. It rellies on latest products to keep sales up. This could be a metric to follow periodicly for predicting future sales and a great metric for company performance. \r\n",
        "\r\n",
        "I'll undoubtedly going to use it in machine learning prediction. Maybe creating a feature released_this_year 1 if yes, 0 if it doesn't."
      ]
    },
    {
      "cell_type": "markdown",
      "metadata": {
        "id": "U2SGx_pjGxjw"
      },
      "source": [
        "## Visualizing Product lifespan after first purchase."
      ]
    },
    {
      "cell_type": "markdown",
      "metadata": {
        "id": "SpJvhfBhEn3S"
      },
      "source": [
        "For this feature I am going to calculate 'days old'. It's birthday is the day of the first made sale of the item ('first_sale_day')"
      ]
    },
    {
      "cell_type": "code",
      "metadata": {
        "id": "F2S8O9tFLGv5"
      },
      "source": [
        "df['first_sale_day'] = df.index.dayofyear \r\n",
        "df['first_sale_day'] = df['first_sale_day'] + 365 * (df.index.year - 2013)"
      ],
      "execution_count": null,
      "outputs": []
    },
    {
      "cell_type": "code",
      "metadata": {
        "colab": {
          "base_uri": "https://localhost:8080/"
        },
        "id": "gvFNj2I1HfGe",
        "outputId": "8b180ebd-02c6-4c5e-d430-3302b5a7db24"
      },
      "source": [
        "df['day_number'] = df.index.dayofyear\r\n",
        "df['day_number'] = df['day_number'] + 365 * (df.index.year - 2013)\r\n",
        "df['item_days_old'] = df['day_number'] - df['first_sale_day']\r\n",
        "df['item_days_old'].tail(10)"
      ],
      "execution_count": 216,
      "outputs": [
        {
          "output_type": "execute_result",
          "data": {
            "text/plain": [
              "date\n",
              "2015-10-31     982\n",
              "2015-10-31       7\n",
              "2015-10-31     955\n",
              "2015-10-31    1033\n",
              "2015-10-31     806\n",
              "2015-10-31     373\n",
              "2015-10-31     809\n",
              "2015-10-31     844\n",
              "2015-10-31     166\n",
              "2015-10-31      15\n",
              "Name: item_days_old, dtype: int64"
            ]
          },
          "metadata": {
            "tags": []
          },
          "execution_count": 216
        }
      ]
    },
    {
      "cell_type": "code",
      "metadata": {
        "colab": {
          "base_uri": "https://localhost:8080/",
          "height": 419
        },
        "id": "xV97Ur7PNIvD",
        "outputId": "f7cf1f6e-5d59-402d-d26c-725535017a33"
      },
      "source": [
        "product_age_sales.reset_index()"
      ],
      "execution_count": 218,
      "outputs": [
        {
          "output_type": "execute_result",
          "data": {
            "text/html": [
              "<div>\n",
              "<style scoped>\n",
              "    .dataframe tbody tr th:only-of-type {\n",
              "        vertical-align: middle;\n",
              "    }\n",
              "\n",
              "    .dataframe tbody tr th {\n",
              "        vertical-align: top;\n",
              "    }\n",
              "\n",
              "    .dataframe thead th {\n",
              "        text-align: right;\n",
              "    }\n",
              "</style>\n",
              "<table border=\"1\" class=\"dataframe\">\n",
              "  <thead>\n",
              "    <tr style=\"text-align: right;\">\n",
              "      <th></th>\n",
              "      <th>item_days_old</th>\n",
              "      <th>sales</th>\n",
              "    </tr>\n",
              "  </thead>\n",
              "  <tbody>\n",
              "    <tr>\n",
              "      <th>0</th>\n",
              "      <td>0</td>\n",
              "      <td>5154.842</td>\n",
              "    </tr>\n",
              "    <tr>\n",
              "      <th>1</th>\n",
              "      <td>1</td>\n",
              "      <td>4106.091</td>\n",
              "    </tr>\n",
              "    <tr>\n",
              "      <th>2</th>\n",
              "      <td>2</td>\n",
              "      <td>2692.025</td>\n",
              "    </tr>\n",
              "    <tr>\n",
              "      <th>3</th>\n",
              "      <td>3</td>\n",
              "      <td>2235.569</td>\n",
              "    </tr>\n",
              "    <tr>\n",
              "      <th>4</th>\n",
              "      <td>4</td>\n",
              "      <td>1953.075</td>\n",
              "    </tr>\n",
              "    <tr>\n",
              "      <th>...</th>\n",
              "      <td>...</td>\n",
              "      <td>...</td>\n",
              "    </tr>\n",
              "    <tr>\n",
              "      <th>1029</th>\n",
              "      <td>1029</td>\n",
              "      <td>808.302</td>\n",
              "    </tr>\n",
              "    <tr>\n",
              "      <th>1030</th>\n",
              "      <td>1030</td>\n",
              "      <td>768.415</td>\n",
              "    </tr>\n",
              "    <tr>\n",
              "      <th>1031</th>\n",
              "      <td>1031</td>\n",
              "      <td>822.237</td>\n",
              "    </tr>\n",
              "    <tr>\n",
              "      <th>1032</th>\n",
              "      <td>1032</td>\n",
              "      <td>972.265</td>\n",
              "    </tr>\n",
              "    <tr>\n",
              "      <th>1033</th>\n",
              "      <td>1033</td>\n",
              "      <td>1128.677</td>\n",
              "    </tr>\n",
              "  </tbody>\n",
              "</table>\n",
              "<p>1034 rows × 2 columns</p>\n",
              "</div>"
            ],
            "text/plain": [
              "      item_days_old    sales\n",
              "0                 0 5154.842\n",
              "1                 1 4106.091\n",
              "2                 2 2692.025\n",
              "3                 3 2235.569\n",
              "4                 4 1953.075\n",
              "...             ...      ...\n",
              "1029           1029  808.302\n",
              "1030           1030  768.415\n",
              "1031           1031  822.237\n",
              "1032           1032  972.265\n",
              "1033           1033 1128.677\n",
              "\n",
              "[1034 rows x 2 columns]"
            ]
          },
          "metadata": {
            "tags": []
          },
          "execution_count": 218
        }
      ]
    },
    {
      "cell_type": "code",
      "metadata": {
        "colab": {
          "base_uri": "https://localhost:8080/",
          "height": 871
        },
        "id": "iDynAtnsLbVR",
        "outputId": "5a0e7ce4-f743-42dd-ac84-3546d8ba4bd1"
      },
      "source": [
        "# Create the table with item_days_old\tand average sales\r\n",
        "product_age_sales = df.groupby('item_days_old').sum()['sales'].reset_index()\r\n",
        "print(product_age_sales.head(10))\r\n",
        "\r\n",
        "# Plot \r\n",
        "# Initalize a Figure and Axes\r\n",
        "fig, ax = plt.subplots()\r\n",
        "fig.set_size_inches([15,10])\r\n",
        "sns.lineplot(ax=ax, y='sales', x='item_days_old', data=product_age_sales)\r\n",
        "plt.xticks(rotation=90)\r\n",
        "#ax.set_yscale('log') # If I want to see it logarithmic\r\n",
        "plt.ylabel('Average sale')\r\n",
        "plt.xlabel('Day Old')\r\n",
        "plt.title('Sales by day_old products', y=1.08, alpha=0.8)\r\n",
        "plt.show()"
      ],
      "execution_count": 241,
      "outputs": [
        {
          "output_type": "stream",
          "text": [
            "   item_days_old         sales\n",
            "0              0 209503104.780\n",
            "1              1 120912054.940\n",
            "2              2  80055430.730\n",
            "3              3  63677957.160\n",
            "4              4  52867781.110\n",
            "5              5  41828220.430\n",
            "6              6  36382482.750\n",
            "7              7  37416914.350\n",
            "8              8  34182373.030\n",
            "9              9  30734740.780\n"
          ],
          "name": "stdout"
        },
        {
          "output_type": "display_data",
          "data": {
            "image/png": "[encoded data removed]",
            "text/plain": [
              "<Figure size 1080x720 with 1 Axes>"
            ]
          },
          "metadata": {
            "tags": []
          }
        }
      ]
    },
    {
      "cell_type": "markdown",
      "metadata": {
        "id": "38dalFUhPY9_"
      },
      "source": [
        "## Does sales changes by day of the week?"
      ]
    },
    {
      "cell_type": "code",
      "metadata": {
        "id": "HShWgREfPAKe",
        "colab": {
          "base_uri": "https://localhost:8080/",
          "height": 365
        },
        "outputId": "a1efd804-d37c-4a32-b595-99149b4f22df"
      },
      "source": [
        "df['weekday'] = df.index.day_name()\r\n",
        "\r\n",
        "weekday_plot = df.groupby('weekday').mean()['sales']\r\n",
        "weekday_plot = weekday_plot / weekday_plot.max() * 100\r\n",
        "\r\n",
        "# Plot sales through the week as % of best the ay\r\n",
        "weekday_plot.plot(kind='line')\r\n",
        "plt.title('Sales through the week', y=1.08, alpha=0.8)\r\n",
        "plt.xticks(np.arange(0,7,1), ['Monday', 'Tuesday', 'Wednesday', 'Thursday', 'Friday', 'Saturday', 'Sunday'], rotation=90)\r\n",
        "plt.ylabel('Sales in % of best day')\r\n",
        "plt.show()"
      ],
      "execution_count": 203,
      "outputs": [
        {
          "output_type": "display_data",
          "data": {
            "image/png": "[encoded data removed]",
            "text/plain": [
              "<Figure size 432x288 with 1 Axes>"
            ]
          },
          "metadata": {
            "tags": []
          }
        }
      ]
    },
    {
      "cell_type": "markdown",
      "metadata": {
        "id": "DfNxC3uCQsK-"
      },
      "source": [
        "Saturdays are the busiest days."
      ]
    }
  ]
}