{
  "nbformat": 4,
  "nbformat_minor": 0,
  "metadata": {
    "colab": {
      "name": "Ames house price prediction Kaggle competition TPOT 0.128",
      "provenance": [],
      "collapsed_sections": [],
      "toc_visible": true,
      "authorship_tag": "ABX9TyPa+OffX+kQo4WijdwoJ+19",
      "include_colab_link": true
    },
    "kernelspec": {
      "name": "python3",
      "display_name": "Python 3"
    },
    "widgets": {
      "application/vnd.jupyter.widget-state+json": {
        "cf47c1d2c76a43c88fd5eb6250b4e8c9": {
          "model_module": "@jupyter-widgets/controls",
          "model_name": "HBoxModel",
          "state": {
            "_view_name": "HBoxView",
            "_dom_classes": [],
            "_model_name": "HBoxModel",
            "_view_module": "@jupyter-widgets/controls",
            "_model_module_version": "1.5.0",
            "_view_count": null,
            "_view_module_version": "1.5.0",
            "box_style": "",
            "layout": "IPY_MODEL_27bd1780ee8d4af8b6772081e0a49c36",
            "_model_module": "@jupyter-widgets/controls",
            "children": [
              "IPY_MODEL_c8383239ed27436f9ee25ccfdcc75bca",
              "IPY_MODEL_66c5de89577b47cca453687280503936"
            ]
          }
        },
        "27bd1780ee8d4af8b6772081e0a49c36": {
          "model_module": "@jupyter-widgets/base",
          "model_name": "LayoutModel",
          "state": {
            "_view_name": "LayoutView",
            "grid_template_rows": null,
            "right": null,
            "justify_content": null,
            "_view_module": "@jupyter-widgets/base",
            "overflow": null,
            "_model_module_version": "1.2.0",
            "_view_count": null,
            "flex_flow": null,
            "width": null,
            "min_width": null,
            "border": null,
            "align_items": null,
            "bottom": null,
            "_model_module": "@jupyter-widgets/base",
            "top": null,
            "grid_column": null,
            "overflow_y": null,
            "overflow_x": null,
            "grid_auto_flow": null,
            "grid_area": null,
            "grid_template_columns": null,
            "flex": null,
            "_model_name": "LayoutModel",
            "justify_items": null,
            "grid_row": null,
            "max_height": null,
            "align_content": null,
            "visibility": null,
            "align_self": null,
            "height": null,
            "min_height": null,
            "padding": null,
            "grid_auto_rows": null,
            "grid_gap": null,
            "max_width": null,
            "order": null,
            "_view_module_version": "1.2.0",
            "grid_template_areas": null,
            "object_position": null,
            "object_fit": null,
            "grid_auto_columns": null,
            "margin": null,
            "display": null,
            "left": null
          }
        },
        "c8383239ed27436f9ee25ccfdcc75bca": {
          "model_module": "@jupyter-widgets/controls",
          "model_name": "FloatProgressModel",
          "state": {
            "_view_name": "ProgressView",
            "style": "IPY_MODEL_86a459e4f1664f0da4f5b5201d1c87b7",
            "_dom_classes": [],
            "description": "Optimization Progress: ",
            "_model_name": "FloatProgressModel",
            "bar_style": "",
            "max": 1680,
            "_view_module": "@jupyter-widgets/controls",
            "_model_module_version": "1.5.0",
            "value": 1680,
            "_view_count": null,
            "_view_module_version": "1.5.0",
            "orientation": "horizontal",
            "min": 0,
            "description_tooltip": null,
            "_model_module": "@jupyter-widgets/controls",
            "layout": "IPY_MODEL_44ca0538f329447e85d35dad18f6f2be"
          }
        },
        "66c5de89577b47cca453687280503936": {
          "model_module": "@jupyter-widgets/controls",
          "model_name": "HTMLModel",
          "state": {
            "_view_name": "HTMLView",
            "style": "IPY_MODEL_95b637c9a77342bab28c271bc4a235c1",
            "_dom_classes": [],
            "description": "",
            "_model_name": "HTMLModel",
            "placeholder": "​",
            "_view_module": "@jupyter-widgets/controls",
            "_model_module_version": "1.5.0",
            "value": " 1685/? [4:04:00&lt;00:00,  7.16s/pipeline]",
            "_view_count": null,
            "_view_module_version": "1.5.0",
            "description_tooltip": null,
            "_model_module": "@jupyter-widgets/controls",
            "layout": "IPY_MODEL_9a1d30d4f49b4f94aa5a6085160490d7"
          }
        },
        "86a459e4f1664f0da4f5b5201d1c87b7": {
          "model_module": "@jupyter-widgets/controls",
          "model_name": "ProgressStyleModel",
          "state": {
            "_view_name": "StyleView",
            "_model_name": "ProgressStyleModel",
            "description_width": "initial",
            "_view_module": "@jupyter-widgets/base",
            "_model_module_version": "1.5.0",
            "_view_count": null,
            "_view_module_version": "1.2.0",
            "bar_color": null,
            "_model_module": "@jupyter-widgets/controls"
          }
        },
        "44ca0538f329447e85d35dad18f6f2be": {
          "model_module": "@jupyter-widgets/base",
          "model_name": "LayoutModel",
          "state": {
            "_view_name": "LayoutView",
            "grid_template_rows": null,
            "right": null,
            "justify_content": null,
            "_view_module": "@jupyter-widgets/base",
            "overflow": null,
            "_model_module_version": "1.2.0",
            "_view_count": null,
            "flex_flow": null,
            "width": null,
            "min_width": null,
            "border": null,
            "align_items": null,
            "bottom": null,
            "_model_module": "@jupyter-widgets/base",
            "top": null,
            "grid_column": null,
            "overflow_y": null,
            "overflow_x": null,
            "grid_auto_flow": null,
            "grid_area": null,
            "grid_template_columns": null,
            "flex": null,
            "_model_name": "LayoutModel",
            "justify_items": null,
            "grid_row": null,
            "max_height": null,
            "align_content": null,
            "visibility": null,
            "align_self": null,
            "height": null,
            "min_height": null,
            "padding": null,
            "grid_auto_rows": null,
            "grid_gap": null,
            "max_width": null,
            "order": null,
            "_view_module_version": "1.2.0",
            "grid_template_areas": null,
            "object_position": null,
            "object_fit": null,
            "grid_auto_columns": null,
            "margin": null,
            "display": null,
            "left": null
          }
        },
        "95b637c9a77342bab28c271bc4a235c1": {
          "model_module": "@jupyter-widgets/controls",
          "model_name": "DescriptionStyleModel",
          "state": {
            "_view_name": "StyleView",
            "_model_name": "DescriptionStyleModel",
            "description_width": "",
            "_view_module": "@jupyter-widgets/base",
            "_model_module_version": "1.5.0",
            "_view_count": null,
            "_view_module_version": "1.2.0",
            "_model_module": "@jupyter-widgets/controls"
          }
        },
        "9a1d30d4f49b4f94aa5a6085160490d7": {
          "model_module": "@jupyter-widgets/base",
          "model_name": "LayoutModel",
          "state": {
            "_view_name": "LayoutView",
            "grid_template_rows": null,
            "right": null,
            "justify_content": null,
            "_view_module": "@jupyter-widgets/base",
            "overflow": null,
            "_model_module_version": "1.2.0",
            "_view_count": null,
            "flex_flow": null,
            "width": null,
            "min_width": null,
            "border": null,
            "align_items": null,
            "bottom": null,
            "_model_module": "@jupyter-widgets/base",
            "top": null,
            "grid_column": null,
            "overflow_y": null,
            "overflow_x": null,
            "grid_auto_flow": null,
            "grid_area": null,
            "grid_template_columns": null,
            "flex": null,
            "_model_name": "LayoutModel",
            "justify_items": null,
            "grid_row": null,
            "max_height": null,
            "align_content": null,
            "visibility": null,
            "align_self": null,
            "height": null,
            "min_height": null,
            "padding": null,
            "grid_auto_rows": null,
            "grid_gap": null,
            "max_width": null,
            "order": null,
            "_view_module_version": "1.2.0",
            "grid_template_areas": null,
            "object_position": null,
            "object_fit": null,
            "grid_auto_columns": null,
            "margin": null,
            "display": null,
            "left": null
          }
        }
      }
    }
  },
  "cells": [
    {
      "cell_type": "markdown",
      "metadata": {
        "id": "view-in-github",
        "colab_type": "text"
      },
      "source": [
        "<a href=\"https://colab.research.google.com/github/Ferrariagustinpablo/DataScienceprojects/blob/main/Ames_house_price_prediction_Kaggle_competition_TPOT_RMSE_0_128.ipynb\" target=\"_parent\"><img src=\"https://colab.research.google.com/assets/colab-badge.svg\" alt=\"Open In Colab\"/></a>"
      ]
    },
    {
      "cell_type": "markdown",
      "metadata": {
        "id": "5Du5lQysjv-F"
      },
      "source": [
        "Ames Kaggle competition Link and imports"
      ]
    },
    {
      "cell_type": "markdown",
      "metadata": {
        "id": "U9AGITguFDDK"
      },
      "source": [
        "https://www.kaggle.com/c/house-prices-advanced-regression-techniques/data"
      ]
    },
    {
      "cell_type": "code",
      "metadata": {
        "id": "Q5yXF0JiARnW"
      },
      "source": [
        "# Importing common used libraries\r\n",
        "import pandas as pd\r\n",
        "import numpy as np\r\n",
        "import matplotlib.pyplot as plt\r\n",
        "import seaborn as sns\r\n",
        "import datetime as dt\r\n",
        "import missingno as msno\r\n",
        "plt.style.use('ggplot')"
      ],
      "execution_count": null,
      "outputs": []
    },
    {
      "cell_type": "markdown",
      "metadata": {
        "id": "9b6wdXeX_oN2"
      },
      "source": [
        "# Importing dataset from Kaggle"
      ]
    },
    {
      "cell_type": "code",
      "metadata": {
        "colab": {
          "resources": {
            "http://localhost:8080/nbextensions/google.colab/files.js": {
              "data": "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",
              "ok": true,
              "headers": [
                [
                  "content-type",
                  "application/javascript"
                ]
              ],
              "status": 200,
              "status_text": ""
            }
          },
          "base_uri": "https://localhost:8080/",
          "height": 293
        },
        "id": "UphXfLwk-sW-",
        "outputId": "6e4e7007-72a5-4b04-f812-bcc42babe5b2"
      },
      "source": [
        "# Choose a the kaggle.json file downloaded from Kaggle.\r\n",
        "from google.colab import files\r\n",
        "files.upload()\r\n",
        "\r\n",
        "# Create a kaggle file and put kaggle.json in it.\r\n",
        "!mkdir -p ~/kaggle\r\n",
        "!cp kaggle.json ~/.kaggle/\r\n",
        "\r\n",
        "# Hide API account key.\r\n",
        "!chmod 600 /root/.kaggle/kaggle.json\r\n",
        "\r\n",
        "# kaggle datasets \r\n",
        "!kaggle competitions download -c house-prices-advanced-regression-techniques"
      ],
      "execution_count": null,
      "outputs": [
        {
          "output_type": "display_data",
          "data": {
            "text/html": [
              "\n",
              "     <input type=\"file\" id=\"files-b62ff87c-3d18-4762-a74f-ce7503c2cd0d\" name=\"files[]\" multiple disabled\n",
              "        style=\"border:none\" />\n",
              "     <output id=\"result-b62ff87c-3d18-4762-a74f-ce7503c2cd0d\">\n",
              "      Upload widget is only available when the cell has been executed in the\n",
              "      current browser session. Please rerun this cell to enable.\n",
              "      </output>\n",
              "      <script src=\"/nbextensions/google.colab/files.js\"></script> "
            ],
            "text/plain": [
              "<IPython.core.display.HTML object>"
            ]
          },
          "metadata": {
            "tags": []
          }
        },
        {
          "output_type": "stream",
          "text": [
            "Saving kaggle.json to kaggle (1).json\n",
            "Warning: Looks like you're using an outdated API Version, please consider updating (server 1.5.10 / client 1.5.4)\n",
            "Downloading data_description.txt to /content\n",
            "  0% 0.00/13.1k [00:00<?, ?B/s]\n",
            "100% 13.1k/13.1k [00:00<00:00, 4.97MB/s]\n",
            "Downloading sample_submission.csv to /content\n",
            "  0% 0.00/31.2k [00:00<?, ?B/s]\n",
            "100% 31.2k/31.2k [00:00<00:00, 34.5MB/s]\n",
            "Downloading train.csv to /content\n",
            "  0% 0.00/450k [00:00<?, ?B/s]\n",
            "100% 450k/450k [00:00<00:00, 62.6MB/s]\n",
            "Downloading test.csv to /content\n",
            "  0% 0.00/441k [00:00<?, ?B/s]\n",
            "100% 441k/441k [00:00<00:00, 59.5MB/s]\n"
          ],
          "name": "stdout"
        }
      ]
    },
    {
      "cell_type": "code",
      "metadata": {
        "colab": {
          "base_uri": "https://localhost:8080/",
          "height": 474
        },
        "id": "5r7aND5oANJD",
        "outputId": "2fa9c576-51db-4ee1-a362-d4d779f33f93"
      },
      "source": [
        "# Read train dataset\r\n",
        "ames_train = pd.read_csv('/content/train.csv')\r\n",
        "\r\n",
        "print('Dataset shape is: ', ames_train.shape)\r\n",
        "display(ames_train.head())\r\n",
        "\r\n",
        "# Read train dataset\r\n",
        "ames_test = pd.read_csv('/content/test.csv')\r\n",
        "\r\n",
        "print('Dataset shape is: ', ames_test.shape)\r\n",
        "display(ames_test.head())\r\n"
      ],
      "execution_count": null,
      "outputs": [
        {
          "output_type": "stream",
          "text": [
            "Dataset shape is:  (1460, 81)\n"
          ],
          "name": "stdout"
        },
        {
          "output_type": "display_data",
          "data": {
            "text/html": [
              "<div>\n",
              "<style scoped>\n",
              "    .dataframe tbody tr th:only-of-type {\n",
              "        vertical-align: middle;\n",
              "    }\n",
              "\n",
              "    .dataframe tbody tr th {\n",
              "        vertical-align: top;\n",
              "    }\n",
              "\n",
              "    .dataframe thead th {\n",
              "        text-align: right;\n",
              "    }\n",
              "</style>\n",
              "<table border=\"1\" class=\"dataframe\">\n",
              "  <thead>\n",
              "    <tr style=\"text-align: right;\">\n",
              "      <th></th>\n",
              "      <th>Id</th>\n",
              "      <th>MSSubClass</th>\n",
              "      <th>MSZoning</th>\n",
              "      <th>LotFrontage</th>\n",
              "      <th>LotArea</th>\n",
              "      <th>Street</th>\n",
              "      <th>Alley</th>\n",
              "      <th>LotShape</th>\n",
              "      <th>LandContour</th>\n",
              "      <th>Utilities</th>\n",
              "      <th>LotConfig</th>\n",
              "      <th>LandSlope</th>\n",
              "      <th>Neighborhood</th>\n",
              "      <th>Condition1</th>\n",
              "      <th>Condition2</th>\n",
              "      <th>BldgType</th>\n",
              "      <th>HouseStyle</th>\n",
              "      <th>OverallQual</th>\n",
              "      <th>OverallCond</th>\n",
              "      <th>YearBuilt</th>\n",
              "      <th>YearRemodAdd</th>\n",
              "      <th>RoofStyle</th>\n",
              "      <th>RoofMatl</th>\n",
              "      <th>Exterior1st</th>\n",
              "      <th>Exterior2nd</th>\n",
              "      <th>MasVnrType</th>\n",
              "      <th>MasVnrArea</th>\n",
              "      <th>ExterQual</th>\n",
              "      <th>ExterCond</th>\n",
              "      <th>Foundation</th>\n",
              "      <th>BsmtQual</th>\n",
              "      <th>BsmtCond</th>\n",
              "      <th>BsmtExposure</th>\n",
              "      <th>BsmtFinType1</th>\n",
              "      <th>BsmtFinSF1</th>\n",
              "      <th>BsmtFinType2</th>\n",
              "      <th>BsmtFinSF2</th>\n",
              "      <th>BsmtUnfSF</th>\n",
              "      <th>TotalBsmtSF</th>\n",
              "      <th>Heating</th>\n",
              "      <th>...</th>\n",
              "      <th>CentralAir</th>\n",
              "      <th>Electrical</th>\n",
              "      <th>1stFlrSF</th>\n",
              "      <th>2ndFlrSF</th>\n",
              "      <th>LowQualFinSF</th>\n",
              "      <th>GrLivArea</th>\n",
              "      <th>BsmtFullBath</th>\n",
              "      <th>BsmtHalfBath</th>\n",
              "      <th>FullBath</th>\n",
              "      <th>HalfBath</th>\n",
              "      <th>BedroomAbvGr</th>\n",
              "      <th>KitchenAbvGr</th>\n",
              "      <th>KitchenQual</th>\n",
              "      <th>TotRmsAbvGrd</th>\n",
              "      <th>Functional</th>\n",
              "      <th>Fireplaces</th>\n",
              "      <th>FireplaceQu</th>\n",
              "      <th>GarageType</th>\n",
              "      <th>GarageYrBlt</th>\n",
              "      <th>GarageFinish</th>\n",
              "      <th>GarageCars</th>\n",
              "      <th>GarageArea</th>\n",
              "      <th>GarageQual</th>\n",
              "      <th>GarageCond</th>\n",
              "      <th>PavedDrive</th>\n",
              "      <th>WoodDeckSF</th>\n",
              "      <th>OpenPorchSF</th>\n",
              "      <th>EnclosedPorch</th>\n",
              "      <th>3SsnPorch</th>\n",
              "      <th>ScreenPorch</th>\n",
              "      <th>PoolArea</th>\n",
              "      <th>PoolQC</th>\n",
              "      <th>Fence</th>\n",
              "      <th>MiscFeature</th>\n",
              "      <th>MiscVal</th>\n",
              "      <th>MoSold</th>\n",
              "      <th>YrSold</th>\n",
              "      <th>SaleType</th>\n",
              "      <th>SaleCondition</th>\n",
              "      <th>SalePrice</th>\n",
              "    </tr>\n",
              "  </thead>\n",
              "  <tbody>\n",
              "    <tr>\n",
              "      <th>0</th>\n",
              "      <td>1</td>\n",
              "      <td>60</td>\n",
              "      <td>RL</td>\n",
              "      <td>65.0</td>\n",
              "      <td>8450</td>\n",
              "      <td>Pave</td>\n",
              "      <td>NaN</td>\n",
              "      <td>Reg</td>\n",
              "      <td>Lvl</td>\n",
              "      <td>AllPub</td>\n",
              "      <td>Inside</td>\n",
              "      <td>Gtl</td>\n",
              "      <td>CollgCr</td>\n",
              "      <td>Norm</td>\n",
              "      <td>Norm</td>\n",
              "      <td>1Fam</td>\n",
              "      <td>2Story</td>\n",
              "      <td>7</td>\n",
              "      <td>5</td>\n",
              "      <td>2003</td>\n",
              "      <td>2003</td>\n",
              "      <td>Gable</td>\n",
              "      <td>CompShg</td>\n",
              "      <td>VinylSd</td>\n",
              "      <td>VinylSd</td>\n",
              "      <td>BrkFace</td>\n",
              "      <td>196.0</td>\n",
              "      <td>Gd</td>\n",
              "      <td>TA</td>\n",
              "      <td>PConc</td>\n",
              "      <td>Gd</td>\n",
              "      <td>TA</td>\n",
              "      <td>No</td>\n",
              "      <td>GLQ</td>\n",
              "      <td>706</td>\n",
              "      <td>Unf</td>\n",
              "      <td>0</td>\n",
              "      <td>150</td>\n",
              "      <td>856</td>\n",
              "      <td>GasA</td>\n",
              "      <td>...</td>\n",
              "      <td>Y</td>\n",
              "      <td>SBrkr</td>\n",
              "      <td>856</td>\n",
              "      <td>854</td>\n",
              "      <td>0</td>\n",
              "      <td>1710</td>\n",
              "      <td>1</td>\n",
              "      <td>0</td>\n",
              "      <td>2</td>\n",
              "      <td>1</td>\n",
              "      <td>3</td>\n",
              "      <td>1</td>\n",
              "      <td>Gd</td>\n",
              "      <td>8</td>\n",
              "      <td>Typ</td>\n",
              "      <td>0</td>\n",
              "      <td>NaN</td>\n",
              "      <td>Attchd</td>\n",
              "      <td>2003.0</td>\n",
              "      <td>RFn</td>\n",
              "      <td>2</td>\n",
              "      <td>548</td>\n",
              "      <td>TA</td>\n",
              "      <td>TA</td>\n",
              "      <td>Y</td>\n",
              "      <td>0</td>\n",
              "      <td>61</td>\n",
              "      <td>0</td>\n",
              "      <td>0</td>\n",
              "      <td>0</td>\n",
              "      <td>0</td>\n",
              "      <td>NaN</td>\n",
              "      <td>NaN</td>\n",
              "      <td>NaN</td>\n",
              "      <td>0</td>\n",
              "      <td>2</td>\n",
              "      <td>2008</td>\n",
              "      <td>WD</td>\n",
              "      <td>Normal</td>\n",
              "      <td>208500</td>\n",
              "    </tr>\n",
              "    <tr>\n",
              "      <th>1</th>\n",
              "      <td>2</td>\n",
              "      <td>20</td>\n",
              "      <td>RL</td>\n",
              "      <td>80.0</td>\n",
              "      <td>9600</td>\n",
              "      <td>Pave</td>\n",
              "      <td>NaN</td>\n",
              "      <td>Reg</td>\n",
              "      <td>Lvl</td>\n",
              "      <td>AllPub</td>\n",
              "      <td>FR2</td>\n",
              "      <td>Gtl</td>\n",
              "      <td>Veenker</td>\n",
              "      <td>Feedr</td>\n",
              "      <td>Norm</td>\n",
              "      <td>1Fam</td>\n",
              "      <td>1Story</td>\n",
              "      <td>6</td>\n",
              "      <td>8</td>\n",
              "      <td>1976</td>\n",
              "      <td>1976</td>\n",
              "      <td>Gable</td>\n",
              "      <td>CompShg</td>\n",
              "      <td>MetalSd</td>\n",
              "      <td>MetalSd</td>\n",
              "      <td>None</td>\n",
              "      <td>0.0</td>\n",
              "      <td>TA</td>\n",
              "      <td>TA</td>\n",
              "      <td>CBlock</td>\n",
              "      <td>Gd</td>\n",
              "      <td>TA</td>\n",
              "      <td>Gd</td>\n",
              "      <td>ALQ</td>\n",
              "      <td>978</td>\n",
              "      <td>Unf</td>\n",
              "      <td>0</td>\n",
              "      <td>284</td>\n",
              "      <td>1262</td>\n",
              "      <td>GasA</td>\n",
              "      <td>...</td>\n",
              "      <td>Y</td>\n",
              "      <td>SBrkr</td>\n",
              "      <td>1262</td>\n",
              "      <td>0</td>\n",
              "      <td>0</td>\n",
              "      <td>1262</td>\n",
              "      <td>0</td>\n",
              "      <td>1</td>\n",
              "      <td>2</td>\n",
              "      <td>0</td>\n",
              "      <td>3</td>\n",
              "      <td>1</td>\n",
              "      <td>TA</td>\n",
              "      <td>6</td>\n",
              "      <td>Typ</td>\n",
              "      <td>1</td>\n",
              "      <td>TA</td>\n",
              "      <td>Attchd</td>\n",
              "      <td>1976.0</td>\n",
              "      <td>RFn</td>\n",
              "      <td>2</td>\n",
              "      <td>460</td>\n",
              "      <td>TA</td>\n",
              "      <td>TA</td>\n",
              "      <td>Y</td>\n",
              "      <td>298</td>\n",
              "      <td>0</td>\n",
              "      <td>0</td>\n",
              "      <td>0</td>\n",
              "      <td>0</td>\n",
              "      <td>0</td>\n",
              "      <td>NaN</td>\n",
              "      <td>NaN</td>\n",
              "      <td>NaN</td>\n",
              "      <td>0</td>\n",
              "      <td>5</td>\n",
              "      <td>2007</td>\n",
              "      <td>WD</td>\n",
              "      <td>Normal</td>\n",
              "      <td>181500</td>\n",
              "    </tr>\n",
              "    <tr>\n",
              "      <th>2</th>\n",
              "      <td>3</td>\n",
              "      <td>60</td>\n",
              "      <td>RL</td>\n",
              "      <td>68.0</td>\n",
              "      <td>11250</td>\n",
              "      <td>Pave</td>\n",
              "      <td>NaN</td>\n",
              "      <td>IR1</td>\n",
              "      <td>Lvl</td>\n",
              "      <td>AllPub</td>\n",
              "      <td>Inside</td>\n",
              "      <td>Gtl</td>\n",
              "      <td>CollgCr</td>\n",
              "      <td>Norm</td>\n",
              "      <td>Norm</td>\n",
              "      <td>1Fam</td>\n",
              "      <td>2Story</td>\n",
              "      <td>7</td>\n",
              "      <td>5</td>\n",
              "      <td>2001</td>\n",
              "      <td>2002</td>\n",
              "      <td>Gable</td>\n",
              "      <td>CompShg</td>\n",
              "      <td>VinylSd</td>\n",
              "      <td>VinylSd</td>\n",
              "      <td>BrkFace</td>\n",
              "      <td>162.0</td>\n",
              "      <td>Gd</td>\n",
              "      <td>TA</td>\n",
              "      <td>PConc</td>\n",
              "      <td>Gd</td>\n",
              "      <td>TA</td>\n",
              "      <td>Mn</td>\n",
              "      <td>GLQ</td>\n",
              "      <td>486</td>\n",
              "      <td>Unf</td>\n",
              "      <td>0</td>\n",
              "      <td>434</td>\n",
              "      <td>920</td>\n",
              "      <td>GasA</td>\n",
              "      <td>...</td>\n",
              "      <td>Y</td>\n",
              "      <td>SBrkr</td>\n",
              "      <td>920</td>\n",
              "      <td>866</td>\n",
              "      <td>0</td>\n",
              "      <td>1786</td>\n",
              "      <td>1</td>\n",
              "      <td>0</td>\n",
              "      <td>2</td>\n",
              "      <td>1</td>\n",
              "      <td>3</td>\n",
              "      <td>1</td>\n",
              "      <td>Gd</td>\n",
              "      <td>6</td>\n",
              "      <td>Typ</td>\n",
              "      <td>1</td>\n",
              "      <td>TA</td>\n",
              "      <td>Attchd</td>\n",
              "      <td>2001.0</td>\n",
              "      <td>RFn</td>\n",
              "      <td>2</td>\n",
              "      <td>608</td>\n",
              "      <td>TA</td>\n",
              "      <td>TA</td>\n",
              "      <td>Y</td>\n",
              "      <td>0</td>\n",
              "      <td>42</td>\n",
              "      <td>0</td>\n",
              "      <td>0</td>\n",
              "      <td>0</td>\n",
              "      <td>0</td>\n",
              "      <td>NaN</td>\n",
              "      <td>NaN</td>\n",
              "      <td>NaN</td>\n",
              "      <td>0</td>\n",
              "      <td>9</td>\n",
              "      <td>2008</td>\n",
              "      <td>WD</td>\n",
              "      <td>Normal</td>\n",
              "      <td>223500</td>\n",
              "    </tr>\n",
              "    <tr>\n",
              "      <th>3</th>\n",
              "      <td>4</td>\n",
              "      <td>70</td>\n",
              "      <td>RL</td>\n",
              "      <td>60.0</td>\n",
              "      <td>9550</td>\n",
              "      <td>Pave</td>\n",
              "      <td>NaN</td>\n",
              "      <td>IR1</td>\n",
              "      <td>Lvl</td>\n",
              "      <td>AllPub</td>\n",
              "      <td>Corner</td>\n",
              "      <td>Gtl</td>\n",
              "      <td>Crawfor</td>\n",
              "      <td>Norm</td>\n",
              "      <td>Norm</td>\n",
              "      <td>1Fam</td>\n",
              "      <td>2Story</td>\n",
              "      <td>7</td>\n",
              "      <td>5</td>\n",
              "      <td>1915</td>\n",
              "      <td>1970</td>\n",
              "      <td>Gable</td>\n",
              "      <td>CompShg</td>\n",
              "      <td>Wd Sdng</td>\n",
              "      <td>Wd Shng</td>\n",
              "      <td>None</td>\n",
              "      <td>0.0</td>\n",
              "      <td>TA</td>\n",
              "      <td>TA</td>\n",
              "      <td>BrkTil</td>\n",
              "      <td>TA</td>\n",
              "      <td>Gd</td>\n",
              "      <td>No</td>\n",
              "      <td>ALQ</td>\n",
              "      <td>216</td>\n",
              "      <td>Unf</td>\n",
              "      <td>0</td>\n",
              "      <td>540</td>\n",
              "      <td>756</td>\n",
              "      <td>GasA</td>\n",
              "      <td>...</td>\n",
              "      <td>Y</td>\n",
              "      <td>SBrkr</td>\n",
              "      <td>961</td>\n",
              "      <td>756</td>\n",
              "      <td>0</td>\n",
              "      <td>1717</td>\n",
              "      <td>1</td>\n",
              "      <td>0</td>\n",
              "      <td>1</td>\n",
              "      <td>0</td>\n",
              "      <td>3</td>\n",
              "      <td>1</td>\n",
              "      <td>Gd</td>\n",
              "      <td>7</td>\n",
              "      <td>Typ</td>\n",
              "      <td>1</td>\n",
              "      <td>Gd</td>\n",
              "      <td>Detchd</td>\n",
              "      <td>1998.0</td>\n",
              "      <td>Unf</td>\n",
              "      <td>3</td>\n",
              "      <td>642</td>\n",
              "      <td>TA</td>\n",
              "      <td>TA</td>\n",
              "      <td>Y</td>\n",
              "      <td>0</td>\n",
              "      <td>35</td>\n",
              "      <td>272</td>\n",
              "      <td>0</td>\n",
              "      <td>0</td>\n",
              "      <td>0</td>\n",
              "      <td>NaN</td>\n",
              "      <td>NaN</td>\n",
              "      <td>NaN</td>\n",
              "      <td>0</td>\n",
              "      <td>2</td>\n",
              "      <td>2006</td>\n",
              "      <td>WD</td>\n",
              "      <td>Abnorml</td>\n",
              "      <td>140000</td>\n",
              "    </tr>\n",
              "    <tr>\n",
              "      <th>4</th>\n",
              "      <td>5</td>\n",
              "      <td>60</td>\n",
              "      <td>RL</td>\n",
              "      <td>84.0</td>\n",
              "      <td>14260</td>\n",
              "      <td>Pave</td>\n",
              "      <td>NaN</td>\n",
              "      <td>IR1</td>\n",
              "      <td>Lvl</td>\n",
              "      <td>AllPub</td>\n",
              "      <td>FR2</td>\n",
              "      <td>Gtl</td>\n",
              "      <td>NoRidge</td>\n",
              "      <td>Norm</td>\n",
              "      <td>Norm</td>\n",
              "      <td>1Fam</td>\n",
              "      <td>2Story</td>\n",
              "      <td>8</td>\n",
              "      <td>5</td>\n",
              "      <td>2000</td>\n",
              "      <td>2000</td>\n",
              "      <td>Gable</td>\n",
              "      <td>CompShg</td>\n",
              "      <td>VinylSd</td>\n",
              "      <td>VinylSd</td>\n",
              "      <td>BrkFace</td>\n",
              "      <td>350.0</td>\n",
              "      <td>Gd</td>\n",
              "      <td>TA</td>\n",
              "      <td>PConc</td>\n",
              "      <td>Gd</td>\n",
              "      <td>TA</td>\n",
              "      <td>Av</td>\n",
              "      <td>GLQ</td>\n",
              "      <td>655</td>\n",
              "      <td>Unf</td>\n",
              "      <td>0</td>\n",
              "      <td>490</td>\n",
              "      <td>1145</td>\n",
              "      <td>GasA</td>\n",
              "      <td>...</td>\n",
              "      <td>Y</td>\n",
              "      <td>SBrkr</td>\n",
              "      <td>1145</td>\n",
              "      <td>1053</td>\n",
              "      <td>0</td>\n",
              "      <td>2198</td>\n",
              "      <td>1</td>\n",
              "      <td>0</td>\n",
              "      <td>2</td>\n",
              "      <td>1</td>\n",
              "      <td>4</td>\n",
              "      <td>1</td>\n",
              "      <td>Gd</td>\n",
              "      <td>9</td>\n",
              "      <td>Typ</td>\n",
              "      <td>1</td>\n",
              "      <td>TA</td>\n",
              "      <td>Attchd</td>\n",
              "      <td>2000.0</td>\n",
              "      <td>RFn</td>\n",
              "      <td>3</td>\n",
              "      <td>836</td>\n",
              "      <td>TA</td>\n",
              "      <td>TA</td>\n",
              "      <td>Y</td>\n",
              "      <td>192</td>\n",
              "      <td>84</td>\n",
              "      <td>0</td>\n",
              "      <td>0</td>\n",
              "      <td>0</td>\n",
              "      <td>0</td>\n",
              "      <td>NaN</td>\n",
              "      <td>NaN</td>\n",
              "      <td>NaN</td>\n",
              "      <td>0</td>\n",
              "      <td>12</td>\n",
              "      <td>2008</td>\n",
              "      <td>WD</td>\n",
              "      <td>Normal</td>\n",
              "      <td>250000</td>\n",
              "    </tr>\n",
              "  </tbody>\n",
              "</table>\n",
              "<p>5 rows × 81 columns</p>\n",
              "</div>"
            ],
            "text/plain": [
              "   Id  MSSubClass MSZoning  ...  SaleType  SaleCondition SalePrice\n",
              "0   1          60       RL  ...        WD         Normal    208500\n",
              "1   2          20       RL  ...        WD         Normal    181500\n",
              "2   3          60       RL  ...        WD         Normal    223500\n",
              "3   4          70       RL  ...        WD        Abnorml    140000\n",
              "4   5          60       RL  ...        WD         Normal    250000\n",
              "\n",
              "[5 rows x 81 columns]"
            ]
          },
          "metadata": {
            "tags": []
          }
        },
        {
          "output_type": "stream",
          "text": [
            "Dataset shape is:  (1459, 80)\n"
          ],
          "name": "stdout"
        },
        {
          "output_type": "display_data",
          "data": {
            "text/html": [
              "<div>\n",
              "<style scoped>\n",
              "    .dataframe tbody tr th:only-of-type {\n",
              "        vertical-align: middle;\n",
              "    }\n",
              "\n",
              "    .dataframe tbody tr th {\n",
              "        vertical-align: top;\n",
              "    }\n",
              "\n",
              "    .dataframe thead th {\n",
              "        text-align: right;\n",
              "    }\n",
              "</style>\n",
              "<table border=\"1\" class=\"dataframe\">\n",
              "  <thead>\n",
              "    <tr style=\"text-align: right;\">\n",
              "      <th></th>\n",
              "      <th>Id</th>\n",
              "      <th>MSSubClass</th>\n",
              "      <th>MSZoning</th>\n",
              "      <th>LotFrontage</th>\n",
              "      <th>LotArea</th>\n",
              "      <th>Street</th>\n",
              "      <th>Alley</th>\n",
              "      <th>LotShape</th>\n",
              "      <th>LandContour</th>\n",
              "      <th>Utilities</th>\n",
              "      <th>LotConfig</th>\n",
              "      <th>LandSlope</th>\n",
              "      <th>Neighborhood</th>\n",
              "      <th>Condition1</th>\n",
              "      <th>Condition2</th>\n",
              "      <th>BldgType</th>\n",
              "      <th>HouseStyle</th>\n",
              "      <th>OverallQual</th>\n",
              "      <th>OverallCond</th>\n",
              "      <th>YearBuilt</th>\n",
              "      <th>YearRemodAdd</th>\n",
              "      <th>RoofStyle</th>\n",
              "      <th>RoofMatl</th>\n",
              "      <th>Exterior1st</th>\n",
              "      <th>Exterior2nd</th>\n",
              "      <th>MasVnrType</th>\n",
              "      <th>MasVnrArea</th>\n",
              "      <th>ExterQual</th>\n",
              "      <th>ExterCond</th>\n",
              "      <th>Foundation</th>\n",
              "      <th>BsmtQual</th>\n",
              "      <th>BsmtCond</th>\n",
              "      <th>BsmtExposure</th>\n",
              "      <th>BsmtFinType1</th>\n",
              "      <th>BsmtFinSF1</th>\n",
              "      <th>BsmtFinType2</th>\n",
              "      <th>BsmtFinSF2</th>\n",
              "      <th>BsmtUnfSF</th>\n",
              "      <th>TotalBsmtSF</th>\n",
              "      <th>Heating</th>\n",
              "      <th>HeatingQC</th>\n",
              "      <th>CentralAir</th>\n",
              "      <th>Electrical</th>\n",
              "      <th>1stFlrSF</th>\n",
              "      <th>2ndFlrSF</th>\n",
              "      <th>LowQualFinSF</th>\n",
              "      <th>GrLivArea</th>\n",
              "      <th>BsmtFullBath</th>\n",
              "      <th>BsmtHalfBath</th>\n",
              "      <th>FullBath</th>\n",
              "      <th>HalfBath</th>\n",
              "      <th>BedroomAbvGr</th>\n",
              "      <th>KitchenAbvGr</th>\n",
              "      <th>KitchenQual</th>\n",
              "      <th>TotRmsAbvGrd</th>\n",
              "      <th>Functional</th>\n",
              "      <th>Fireplaces</th>\n",
              "      <th>FireplaceQu</th>\n",
              "      <th>GarageType</th>\n",
              "      <th>GarageYrBlt</th>\n",
              "      <th>GarageFinish</th>\n",
              "      <th>GarageCars</th>\n",
              "      <th>GarageArea</th>\n",
              "      <th>GarageQual</th>\n",
              "      <th>GarageCond</th>\n",
              "      <th>PavedDrive</th>\n",
              "      <th>WoodDeckSF</th>\n",
              "      <th>OpenPorchSF</th>\n",
              "      <th>EnclosedPorch</th>\n",
              "      <th>3SsnPorch</th>\n",
              "      <th>ScreenPorch</th>\n",
              "      <th>PoolArea</th>\n",
              "      <th>PoolQC</th>\n",
              "      <th>Fence</th>\n",
              "      <th>MiscFeature</th>\n",
              "      <th>MiscVal</th>\n",
              "      <th>MoSold</th>\n",
              "      <th>YrSold</th>\n",
              "      <th>SaleType</th>\n",
              "      <th>SaleCondition</th>\n",
              "    </tr>\n",
              "  </thead>\n",
              "  <tbody>\n",
              "    <tr>\n",
              "      <th>0</th>\n",
              "      <td>1461</td>\n",
              "      <td>20</td>\n",
              "      <td>RH</td>\n",
              "      <td>80.0</td>\n",
              "      <td>11622</td>\n",
              "      <td>Pave</td>\n",
              "      <td>NaN</td>\n",
              "      <td>Reg</td>\n",
              "      <td>Lvl</td>\n",
              "      <td>AllPub</td>\n",
              "      <td>Inside</td>\n",
              "      <td>Gtl</td>\n",
              "      <td>NAmes</td>\n",
              "      <td>Feedr</td>\n",
              "      <td>Norm</td>\n",
              "      <td>1Fam</td>\n",
              "      <td>1Story</td>\n",
              "      <td>5</td>\n",
              "      <td>6</td>\n",
              "      <td>1961</td>\n",
              "      <td>1961</td>\n",
              "      <td>Gable</td>\n",
              "      <td>CompShg</td>\n",
              "      <td>VinylSd</td>\n",
              "      <td>VinylSd</td>\n",
              "      <td>None</td>\n",
              "      <td>0.0</td>\n",
              "      <td>TA</td>\n",
              "      <td>TA</td>\n",
              "      <td>CBlock</td>\n",
              "      <td>TA</td>\n",
              "      <td>TA</td>\n",
              "      <td>No</td>\n",
              "      <td>Rec</td>\n",
              "      <td>468.0</td>\n",
              "      <td>LwQ</td>\n",
              "      <td>144.0</td>\n",
              "      <td>270.0</td>\n",
              "      <td>882.0</td>\n",
              "      <td>GasA</td>\n",
              "      <td>TA</td>\n",
              "      <td>Y</td>\n",
              "      <td>SBrkr</td>\n",
              "      <td>896</td>\n",
              "      <td>0</td>\n",
              "      <td>0</td>\n",
              "      <td>896</td>\n",
              "      <td>0.0</td>\n",
              "      <td>0.0</td>\n",
              "      <td>1</td>\n",
              "      <td>0</td>\n",
              "      <td>2</td>\n",
              "      <td>1</td>\n",
              "      <td>TA</td>\n",
              "      <td>5</td>\n",
              "      <td>Typ</td>\n",
              "      <td>0</td>\n",
              "      <td>NaN</td>\n",
              "      <td>Attchd</td>\n",
              "      <td>1961.0</td>\n",
              "      <td>Unf</td>\n",
              "      <td>1.0</td>\n",
              "      <td>730.0</td>\n",
              "      <td>TA</td>\n",
              "      <td>TA</td>\n",
              "      <td>Y</td>\n",
              "      <td>140</td>\n",
              "      <td>0</td>\n",
              "      <td>0</td>\n",
              "      <td>0</td>\n",
              "      <td>120</td>\n",
              "      <td>0</td>\n",
              "      <td>NaN</td>\n",
              "      <td>MnPrv</td>\n",
              "      <td>NaN</td>\n",
              "      <td>0</td>\n",
              "      <td>6</td>\n",
              "      <td>2010</td>\n",
              "      <td>WD</td>\n",
              "      <td>Normal</td>\n",
              "    </tr>\n",
              "    <tr>\n",
              "      <th>1</th>\n",
              "      <td>1462</td>\n",
              "      <td>20</td>\n",
              "      <td>RL</td>\n",
              "      <td>81.0</td>\n",
              "      <td>14267</td>\n",
              "      <td>Pave</td>\n",
              "      <td>NaN</td>\n",
              "      <td>IR1</td>\n",
              "      <td>Lvl</td>\n",
              "      <td>AllPub</td>\n",
              "      <td>Corner</td>\n",
              "      <td>Gtl</td>\n",
              "      <td>NAmes</td>\n",
              "      <td>Norm</td>\n",
              "      <td>Norm</td>\n",
              "      <td>1Fam</td>\n",
              "      <td>1Story</td>\n",
              "      <td>6</td>\n",
              "      <td>6</td>\n",
              "      <td>1958</td>\n",
              "      <td>1958</td>\n",
              "      <td>Hip</td>\n",
              "      <td>CompShg</td>\n",
              "      <td>Wd Sdng</td>\n",
              "      <td>Wd Sdng</td>\n",
              "      <td>BrkFace</td>\n",
              "      <td>108.0</td>\n",
              "      <td>TA</td>\n",
              "      <td>TA</td>\n",
              "      <td>CBlock</td>\n",
              "      <td>TA</td>\n",
              "      <td>TA</td>\n",
              "      <td>No</td>\n",
              "      <td>ALQ</td>\n",
              "      <td>923.0</td>\n",
              "      <td>Unf</td>\n",
              "      <td>0.0</td>\n",
              "      <td>406.0</td>\n",
              "      <td>1329.0</td>\n",
              "      <td>GasA</td>\n",
              "      <td>TA</td>\n",
              "      <td>Y</td>\n",
              "      <td>SBrkr</td>\n",
              "      <td>1329</td>\n",
              "      <td>0</td>\n",
              "      <td>0</td>\n",
              "      <td>1329</td>\n",
              "      <td>0.0</td>\n",
              "      <td>0.0</td>\n",
              "      <td>1</td>\n",
              "      <td>1</td>\n",
              "      <td>3</td>\n",
              "      <td>1</td>\n",
              "      <td>Gd</td>\n",
              "      <td>6</td>\n",
              "      <td>Typ</td>\n",
              "      <td>0</td>\n",
              "      <td>NaN</td>\n",
              "      <td>Attchd</td>\n",
              "      <td>1958.0</td>\n",
              "      <td>Unf</td>\n",
              "      <td>1.0</td>\n",
              "      <td>312.0</td>\n",
              "      <td>TA</td>\n",
              "      <td>TA</td>\n",
              "      <td>Y</td>\n",
              "      <td>393</td>\n",
              "      <td>36</td>\n",
              "      <td>0</td>\n",
              "      <td>0</td>\n",
              "      <td>0</td>\n",
              "      <td>0</td>\n",
              "      <td>NaN</td>\n",
              "      <td>NaN</td>\n",
              "      <td>Gar2</td>\n",
              "      <td>12500</td>\n",
              "      <td>6</td>\n",
              "      <td>2010</td>\n",
              "      <td>WD</td>\n",
              "      <td>Normal</td>\n",
              "    </tr>\n",
              "    <tr>\n",
              "      <th>2</th>\n",
              "      <td>1463</td>\n",
              "      <td>60</td>\n",
              "      <td>RL</td>\n",
              "      <td>74.0</td>\n",
              "      <td>13830</td>\n",
              "      <td>Pave</td>\n",
              "      <td>NaN</td>\n",
              "      <td>IR1</td>\n",
              "      <td>Lvl</td>\n",
              "      <td>AllPub</td>\n",
              "      <td>Inside</td>\n",
              "      <td>Gtl</td>\n",
              "      <td>Gilbert</td>\n",
              "      <td>Norm</td>\n",
              "      <td>Norm</td>\n",
              "      <td>1Fam</td>\n",
              "      <td>2Story</td>\n",
              "      <td>5</td>\n",
              "      <td>5</td>\n",
              "      <td>1997</td>\n",
              "      <td>1998</td>\n",
              "      <td>Gable</td>\n",
              "      <td>CompShg</td>\n",
              "      <td>VinylSd</td>\n",
              "      <td>VinylSd</td>\n",
              "      <td>None</td>\n",
              "      <td>0.0</td>\n",
              "      <td>TA</td>\n",
              "      <td>TA</td>\n",
              "      <td>PConc</td>\n",
              "      <td>Gd</td>\n",
              "      <td>TA</td>\n",
              "      <td>No</td>\n",
              "      <td>GLQ</td>\n",
              "      <td>791.0</td>\n",
              "      <td>Unf</td>\n",
              "      <td>0.0</td>\n",
              "      <td>137.0</td>\n",
              "      <td>928.0</td>\n",
              "      <td>GasA</td>\n",
              "      <td>Gd</td>\n",
              "      <td>Y</td>\n",
              "      <td>SBrkr</td>\n",
              "      <td>928</td>\n",
              "      <td>701</td>\n",
              "      <td>0</td>\n",
              "      <td>1629</td>\n",
              "      <td>0.0</td>\n",
              "      <td>0.0</td>\n",
              "      <td>2</td>\n",
              "      <td>1</td>\n",
              "      <td>3</td>\n",
              "      <td>1</td>\n",
              "      <td>TA</td>\n",
              "      <td>6</td>\n",
              "      <td>Typ</td>\n",
              "      <td>1</td>\n",
              "      <td>TA</td>\n",
              "      <td>Attchd</td>\n",
              "      <td>1997.0</td>\n",
              "      <td>Fin</td>\n",
              "      <td>2.0</td>\n",
              "      <td>482.0</td>\n",
              "      <td>TA</td>\n",
              "      <td>TA</td>\n",
              "      <td>Y</td>\n",
              "      <td>212</td>\n",
              "      <td>34</td>\n",
              "      <td>0</td>\n",
              "      <td>0</td>\n",
              "      <td>0</td>\n",
              "      <td>0</td>\n",
              "      <td>NaN</td>\n",
              "      <td>MnPrv</td>\n",
              "      <td>NaN</td>\n",
              "      <td>0</td>\n",
              "      <td>3</td>\n",
              "      <td>2010</td>\n",
              "      <td>WD</td>\n",
              "      <td>Normal</td>\n",
              "    </tr>\n",
              "    <tr>\n",
              "      <th>3</th>\n",
              "      <td>1464</td>\n",
              "      <td>60</td>\n",
              "      <td>RL</td>\n",
              "      <td>78.0</td>\n",
              "      <td>9978</td>\n",
              "      <td>Pave</td>\n",
              "      <td>NaN</td>\n",
              "      <td>IR1</td>\n",
              "      <td>Lvl</td>\n",
              "      <td>AllPub</td>\n",
              "      <td>Inside</td>\n",
              "      <td>Gtl</td>\n",
              "      <td>Gilbert</td>\n",
              "      <td>Norm</td>\n",
              "      <td>Norm</td>\n",
              "      <td>1Fam</td>\n",
              "      <td>2Story</td>\n",
              "      <td>6</td>\n",
              "      <td>6</td>\n",
              "      <td>1998</td>\n",
              "      <td>1998</td>\n",
              "      <td>Gable</td>\n",
              "      <td>CompShg</td>\n",
              "      <td>VinylSd</td>\n",
              "      <td>VinylSd</td>\n",
              "      <td>BrkFace</td>\n",
              "      <td>20.0</td>\n",
              "      <td>TA</td>\n",
              "      <td>TA</td>\n",
              "      <td>PConc</td>\n",
              "      <td>TA</td>\n",
              "      <td>TA</td>\n",
              "      <td>No</td>\n",
              "      <td>GLQ</td>\n",
              "      <td>602.0</td>\n",
              "      <td>Unf</td>\n",
              "      <td>0.0</td>\n",
              "      <td>324.0</td>\n",
              "      <td>926.0</td>\n",
              "      <td>GasA</td>\n",
              "      <td>Ex</td>\n",
              "      <td>Y</td>\n",
              "      <td>SBrkr</td>\n",
              "      <td>926</td>\n",
              "      <td>678</td>\n",
              "      <td>0</td>\n",
              "      <td>1604</td>\n",
              "      <td>0.0</td>\n",
              "      <td>0.0</td>\n",
              "      <td>2</td>\n",
              "      <td>1</td>\n",
              "      <td>3</td>\n",
              "      <td>1</td>\n",
              "      <td>Gd</td>\n",
              "      <td>7</td>\n",
              "      <td>Typ</td>\n",
              "      <td>1</td>\n",
              "      <td>Gd</td>\n",
              "      <td>Attchd</td>\n",
              "      <td>1998.0</td>\n",
              "      <td>Fin</td>\n",
              "      <td>2.0</td>\n",
              "      <td>470.0</td>\n",
              "      <td>TA</td>\n",
              "      <td>TA</td>\n",
              "      <td>Y</td>\n",
              "      <td>360</td>\n",
              "      <td>36</td>\n",
              "      <td>0</td>\n",
              "      <td>0</td>\n",
              "      <td>0</td>\n",
              "      <td>0</td>\n",
              "      <td>NaN</td>\n",
              "      <td>NaN</td>\n",
              "      <td>NaN</td>\n",
              "      <td>0</td>\n",
              "      <td>6</td>\n",
              "      <td>2010</td>\n",
              "      <td>WD</td>\n",
              "      <td>Normal</td>\n",
              "    </tr>\n",
              "    <tr>\n",
              "      <th>4</th>\n",
              "      <td>1465</td>\n",
              "      <td>120</td>\n",
              "      <td>RL</td>\n",
              "      <td>43.0</td>\n",
              "      <td>5005</td>\n",
              "      <td>Pave</td>\n",
              "      <td>NaN</td>\n",
              "      <td>IR1</td>\n",
              "      <td>HLS</td>\n",
              "      <td>AllPub</td>\n",
              "      <td>Inside</td>\n",
              "      <td>Gtl</td>\n",
              "      <td>StoneBr</td>\n",
              "      <td>Norm</td>\n",
              "      <td>Norm</td>\n",
              "      <td>TwnhsE</td>\n",
              "      <td>1Story</td>\n",
              "      <td>8</td>\n",
              "      <td>5</td>\n",
              "      <td>1992</td>\n",
              "      <td>1992</td>\n",
              "      <td>Gable</td>\n",
              "      <td>CompShg</td>\n",
              "      <td>HdBoard</td>\n",
              "      <td>HdBoard</td>\n",
              "      <td>None</td>\n",
              "      <td>0.0</td>\n",
              "      <td>Gd</td>\n",
              "      <td>TA</td>\n",
              "      <td>PConc</td>\n",
              "      <td>Gd</td>\n",
              "      <td>TA</td>\n",
              "      <td>No</td>\n",
              "      <td>ALQ</td>\n",
              "      <td>263.0</td>\n",
              "      <td>Unf</td>\n",
              "      <td>0.0</td>\n",
              "      <td>1017.0</td>\n",
              "      <td>1280.0</td>\n",
              "      <td>GasA</td>\n",
              "      <td>Ex</td>\n",
              "      <td>Y</td>\n",
              "      <td>SBrkr</td>\n",
              "      <td>1280</td>\n",
              "      <td>0</td>\n",
              "      <td>0</td>\n",
              "      <td>1280</td>\n",
              "      <td>0.0</td>\n",
              "      <td>0.0</td>\n",
              "      <td>2</td>\n",
              "      <td>0</td>\n",
              "      <td>2</td>\n",
              "      <td>1</td>\n",
              "      <td>Gd</td>\n",
              "      <td>5</td>\n",
              "      <td>Typ</td>\n",
              "      <td>0</td>\n",
              "      <td>NaN</td>\n",
              "      <td>Attchd</td>\n",
              "      <td>1992.0</td>\n",
              "      <td>RFn</td>\n",
              "      <td>2.0</td>\n",
              "      <td>506.0</td>\n",
              "      <td>TA</td>\n",
              "      <td>TA</td>\n",
              "      <td>Y</td>\n",
              "      <td>0</td>\n",
              "      <td>82</td>\n",
              "      <td>0</td>\n",
              "      <td>0</td>\n",
              "      <td>144</td>\n",
              "      <td>0</td>\n",
              "      <td>NaN</td>\n",
              "      <td>NaN</td>\n",
              "      <td>NaN</td>\n",
              "      <td>0</td>\n",
              "      <td>1</td>\n",
              "      <td>2010</td>\n",
              "      <td>WD</td>\n",
              "      <td>Normal</td>\n",
              "    </tr>\n",
              "  </tbody>\n",
              "</table>\n",
              "</div>"
            ],
            "text/plain": [
              "     Id  MSSubClass MSZoning  ...  YrSold  SaleType SaleCondition\n",
              "0  1461          20       RH  ...    2010        WD        Normal\n",
              "1  1462          20       RL  ...    2010        WD        Normal\n",
              "2  1463          60       RL  ...    2010        WD        Normal\n",
              "3  1464          60       RL  ...    2010        WD        Normal\n",
              "4  1465         120       RL  ...    2010        WD        Normal\n",
              "\n",
              "[5 rows x 80 columns]"
            ]
          },
          "metadata": {
            "tags": []
          }
        }
      ]
    },
    {
      "cell_type": "code",
      "metadata": {
        "colab": {
          "base_uri": "https://localhost:8080/",
          "height": 374
        },
        "id": "ltevVD_i9eJc",
        "outputId": "6109d227-e116-407a-9a3f-ab6520d64cbb"
      },
      "source": [
        "# Drop target feature from the train dataset \r\n",
        "ames_train.drop('SalePrice', inplace=True, axis=1)\r\n",
        "\r\n",
        "# Create a columns to determine which row is train or test before concatenating\r\n",
        "ames_train['train_test'] = 'train'\r\n",
        "ames_test['train_test'] = 'test'\r\n",
        "\r\n",
        "# Concatenate bioth \r\n",
        "ames = pd.concat([ames_train,ames_test])\r\n",
        "print('ames shape is: ', ames_test.shape)\r\n",
        "ames.head()"
      ],
      "execution_count": null,
      "outputs": [
        {
          "output_type": "error",
          "ename": "KeyError",
          "evalue": "ignored",
          "traceback": [
            "\u001b[0;31m---------------------------------------------------------------------------\u001b[0m",
            "\u001b[0;31mKeyError\u001b[0m                                  Traceback (most recent call last)",
            "\u001b[0;32m<ipython-input-6-483e038c81f4>\u001b[0m in \u001b[0;36m<module>\u001b[0;34m()\u001b[0m\n\u001b[1;32m      1\u001b[0m \u001b[0;31m# Drop target feature from the train dataset\u001b[0m\u001b[0;34m\u001b[0m\u001b[0;34m\u001b[0m\u001b[0;34m\u001b[0m\u001b[0m\n\u001b[0;32m----> 2\u001b[0;31m \u001b[0mames_train\u001b[0m\u001b[0;34m.\u001b[0m\u001b[0mdrop\u001b[0m\u001b[0;34m(\u001b[0m\u001b[0;34m'SalePrice'\u001b[0m\u001b[0;34m,\u001b[0m \u001b[0minplace\u001b[0m\u001b[0;34m=\u001b[0m\u001b[0;32mTrue\u001b[0m\u001b[0;34m,\u001b[0m \u001b[0maxis\u001b[0m\u001b[0;34m=\u001b[0m\u001b[0;36m1\u001b[0m\u001b[0;34m)\u001b[0m\u001b[0;34m\u001b[0m\u001b[0;34m\u001b[0m\u001b[0m\n\u001b[0m\u001b[1;32m      3\u001b[0m \u001b[0;34m\u001b[0m\u001b[0m\n\u001b[1;32m      4\u001b[0m \u001b[0;31m# Create a columns to determine which row is train or test before concatenating\u001b[0m\u001b[0;34m\u001b[0m\u001b[0;34m\u001b[0m\u001b[0;34m\u001b[0m\u001b[0m\n\u001b[1;32m      5\u001b[0m \u001b[0mames_train\u001b[0m\u001b[0;34m[\u001b[0m\u001b[0;34m'train_test'\u001b[0m\u001b[0;34m]\u001b[0m \u001b[0;34m=\u001b[0m \u001b[0;34m'train'\u001b[0m\u001b[0;34m\u001b[0m\u001b[0;34m\u001b[0m\u001b[0m\n",
            "\u001b[0;32m/usr/local/lib/python3.6/dist-packages/pandas/core/frame.py\u001b[0m in \u001b[0;36mdrop\u001b[0;34m(self, labels, axis, index, columns, level, inplace, errors)\u001b[0m\n\u001b[1;32m   4172\u001b[0m             \u001b[0mlevel\u001b[0m\u001b[0;34m=\u001b[0m\u001b[0mlevel\u001b[0m\u001b[0;34m,\u001b[0m\u001b[0;34m\u001b[0m\u001b[0;34m\u001b[0m\u001b[0m\n\u001b[1;32m   4173\u001b[0m             \u001b[0minplace\u001b[0m\u001b[0;34m=\u001b[0m\u001b[0minplace\u001b[0m\u001b[0;34m,\u001b[0m\u001b[0;34m\u001b[0m\u001b[0;34m\u001b[0m\u001b[0m\n\u001b[0;32m-> 4174\u001b[0;31m             \u001b[0merrors\u001b[0m\u001b[0;34m=\u001b[0m\u001b[0merrors\u001b[0m\u001b[0;34m,\u001b[0m\u001b[0;34m\u001b[0m\u001b[0;34m\u001b[0m\u001b[0m\n\u001b[0m\u001b[1;32m   4175\u001b[0m         )\n\u001b[1;32m   4176\u001b[0m \u001b[0;34m\u001b[0m\u001b[0m\n",
            "\u001b[0;32m/usr/local/lib/python3.6/dist-packages/pandas/core/generic.py\u001b[0m in \u001b[0;36mdrop\u001b[0;34m(self, labels, axis, index, columns, level, inplace, errors)\u001b[0m\n\u001b[1;32m   3887\u001b[0m         \u001b[0;32mfor\u001b[0m \u001b[0maxis\u001b[0m\u001b[0;34m,\u001b[0m \u001b[0mlabels\u001b[0m \u001b[0;32min\u001b[0m \u001b[0maxes\u001b[0m\u001b[0;34m.\u001b[0m\u001b[0mitems\u001b[0m\u001b[0;34m(\u001b[0m\u001b[0;34m)\u001b[0m\u001b[0;34m:\u001b[0m\u001b[0;34m\u001b[0m\u001b[0;34m\u001b[0m\u001b[0m\n\u001b[1;32m   3888\u001b[0m             \u001b[0;32mif\u001b[0m \u001b[0mlabels\u001b[0m \u001b[0;32mis\u001b[0m \u001b[0;32mnot\u001b[0m \u001b[0;32mNone\u001b[0m\u001b[0;34m:\u001b[0m\u001b[0;34m\u001b[0m\u001b[0;34m\u001b[0m\u001b[0m\n\u001b[0;32m-> 3889\u001b[0;31m                 \u001b[0mobj\u001b[0m \u001b[0;34m=\u001b[0m \u001b[0mobj\u001b[0m\u001b[0;34m.\u001b[0m\u001b[0m_drop_axis\u001b[0m\u001b[0;34m(\u001b[0m\u001b[0mlabels\u001b[0m\u001b[0;34m,\u001b[0m \u001b[0maxis\u001b[0m\u001b[0;34m,\u001b[0m \u001b[0mlevel\u001b[0m\u001b[0;34m=\u001b[0m\u001b[0mlevel\u001b[0m\u001b[0;34m,\u001b[0m \u001b[0merrors\u001b[0m\u001b[0;34m=\u001b[0m\u001b[0merrors\u001b[0m\u001b[0;34m)\u001b[0m\u001b[0;34m\u001b[0m\u001b[0;34m\u001b[0m\u001b[0m\n\u001b[0m\u001b[1;32m   3890\u001b[0m \u001b[0;34m\u001b[0m\u001b[0m\n\u001b[1;32m   3891\u001b[0m         \u001b[0;32mif\u001b[0m \u001b[0minplace\u001b[0m\u001b[0;34m:\u001b[0m\u001b[0;34m\u001b[0m\u001b[0;34m\u001b[0m\u001b[0m\n",
            "\u001b[0;32m/usr/local/lib/python3.6/dist-packages/pandas/core/generic.py\u001b[0m in \u001b[0;36m_drop_axis\u001b[0;34m(self, labels, axis, level, errors)\u001b[0m\n\u001b[1;32m   3921\u001b[0m                 \u001b[0mnew_axis\u001b[0m \u001b[0;34m=\u001b[0m \u001b[0maxis\u001b[0m\u001b[0;34m.\u001b[0m\u001b[0mdrop\u001b[0m\u001b[0;34m(\u001b[0m\u001b[0mlabels\u001b[0m\u001b[0;34m,\u001b[0m \u001b[0mlevel\u001b[0m\u001b[0;34m=\u001b[0m\u001b[0mlevel\u001b[0m\u001b[0;34m,\u001b[0m \u001b[0merrors\u001b[0m\u001b[0;34m=\u001b[0m\u001b[0merrors\u001b[0m\u001b[0;34m)\u001b[0m\u001b[0;34m\u001b[0m\u001b[0;34m\u001b[0m\u001b[0m\n\u001b[1;32m   3922\u001b[0m             \u001b[0;32melse\u001b[0m\u001b[0;34m:\u001b[0m\u001b[0;34m\u001b[0m\u001b[0;34m\u001b[0m\u001b[0m\n\u001b[0;32m-> 3923\u001b[0;31m                 \u001b[0mnew_axis\u001b[0m \u001b[0;34m=\u001b[0m \u001b[0maxis\u001b[0m\u001b[0;34m.\u001b[0m\u001b[0mdrop\u001b[0m\u001b[0;34m(\u001b[0m\u001b[0mlabels\u001b[0m\u001b[0;34m,\u001b[0m \u001b[0merrors\u001b[0m\u001b[0;34m=\u001b[0m\u001b[0merrors\u001b[0m\u001b[0;34m)\u001b[0m\u001b[0;34m\u001b[0m\u001b[0;34m\u001b[0m\u001b[0m\n\u001b[0m\u001b[1;32m   3924\u001b[0m             \u001b[0mresult\u001b[0m \u001b[0;34m=\u001b[0m \u001b[0mself\u001b[0m\u001b[0;34m.\u001b[0m\u001b[0mreindex\u001b[0m\u001b[0;34m(\u001b[0m\u001b[0;34m**\u001b[0m\u001b[0;34m{\u001b[0m\u001b[0maxis_name\u001b[0m\u001b[0;34m:\u001b[0m \u001b[0mnew_axis\u001b[0m\u001b[0;34m}\u001b[0m\u001b[0;34m)\u001b[0m\u001b[0;34m\u001b[0m\u001b[0;34m\u001b[0m\u001b[0m\n\u001b[1;32m   3925\u001b[0m \u001b[0;34m\u001b[0m\u001b[0m\n",
            "\u001b[0;32m/usr/local/lib/python3.6/dist-packages/pandas/core/indexes/base.py\u001b[0m in \u001b[0;36mdrop\u001b[0;34m(self, labels, errors)\u001b[0m\n\u001b[1;32m   5285\u001b[0m         \u001b[0;32mif\u001b[0m \u001b[0mmask\u001b[0m\u001b[0;34m.\u001b[0m\u001b[0many\u001b[0m\u001b[0;34m(\u001b[0m\u001b[0;34m)\u001b[0m\u001b[0;34m:\u001b[0m\u001b[0;34m\u001b[0m\u001b[0;34m\u001b[0m\u001b[0m\n\u001b[1;32m   5286\u001b[0m             \u001b[0;32mif\u001b[0m \u001b[0merrors\u001b[0m \u001b[0;34m!=\u001b[0m \u001b[0;34m\"ignore\"\u001b[0m\u001b[0;34m:\u001b[0m\u001b[0;34m\u001b[0m\u001b[0;34m\u001b[0m\u001b[0m\n\u001b[0;32m-> 5287\u001b[0;31m                 \u001b[0;32mraise\u001b[0m \u001b[0mKeyError\u001b[0m\u001b[0;34m(\u001b[0m\u001b[0;34mf\"{labels[mask]} not found in axis\"\u001b[0m\u001b[0;34m)\u001b[0m\u001b[0;34m\u001b[0m\u001b[0;34m\u001b[0m\u001b[0m\n\u001b[0m\u001b[1;32m   5288\u001b[0m             \u001b[0mindexer\u001b[0m \u001b[0;34m=\u001b[0m \u001b[0mindexer\u001b[0m\u001b[0;34m[\u001b[0m\u001b[0;34m~\u001b[0m\u001b[0mmask\u001b[0m\u001b[0;34m]\u001b[0m\u001b[0;34m\u001b[0m\u001b[0;34m\u001b[0m\u001b[0m\n\u001b[1;32m   5289\u001b[0m         \u001b[0;32mreturn\u001b[0m \u001b[0mself\u001b[0m\u001b[0;34m.\u001b[0m\u001b[0mdelete\u001b[0m\u001b[0;34m(\u001b[0m\u001b[0mindexer\u001b[0m\u001b[0;34m)\u001b[0m\u001b[0;34m\u001b[0m\u001b[0;34m\u001b[0m\u001b[0m\n",
            "\u001b[0;31mKeyError\u001b[0m: \"['SalePrice'] not found in axis\""
          ]
        }
      ]
    },
    {
      "cell_type": "markdown",
      "metadata": {
        "id": "JIbnsS5xC3Gq"
      },
      "source": [
        "# Handling missing values"
      ]
    },
    {
      "cell_type": "code",
      "metadata": {
        "colab": {
          "base_uri": "https://localhost:8080/"
        },
        "id": "WYWj_jsqANC0",
        "outputId": "15f5dda0-91a5-4e5c-b9e1-e99bb4ab20b8"
      },
      "source": [
        "# Number of missing values for each column\r\n",
        "\r\n",
        "def missing_cols(dataset):\r\n",
        "  columns_missing_values = dataset.isna().sum().sort_values(ascending=False)\r\n",
        "  columns_missing_values = columns_missing_values[columns_missing_values>0]\r\n",
        "  return columns_missing_values\r\n",
        "\r\n",
        "columns_missing_values = missing_cols(ames)\r\n",
        "columns_missing_values"
      ],
      "execution_count": null,
      "outputs": [
        {
          "output_type": "execute_result",
          "data": {
            "text/plain": [
              "PoolQC          2909\n",
              "MiscFeature     2814\n",
              "Alley           2721\n",
              "Fence           2348\n",
              "FireplaceQu     1420\n",
              "LotFrontage      486\n",
              "GarageCond       159\n",
              "GarageYrBlt      159\n",
              "GarageFinish     159\n",
              "GarageQual       159\n",
              "GarageType       157\n",
              "BsmtCond          82\n",
              "BsmtExposure      82\n",
              "BsmtQual          81\n",
              "BsmtFinType2      80\n",
              "BsmtFinType1      79\n",
              "MasVnrType        24\n",
              "MasVnrArea        23\n",
              "MSZoning           4\n",
              "Utilities          2\n",
              "BsmtHalfBath       2\n",
              "BsmtFullBath       2\n",
              "Functional         2\n",
              "Exterior1st        1\n",
              "TotalBsmtSF        1\n",
              "BsmtUnfSF          1\n",
              "BsmtFinSF2         1\n",
              "GarageArea         1\n",
              "KitchenQual        1\n",
              "GarageCars         1\n",
              "BsmtFinSF1         1\n",
              "Exterior2nd        1\n",
              "SaleType           1\n",
              "Electrical         1\n",
              "dtype: int64"
            ]
          },
          "metadata": {
            "tags": []
          },
          "execution_count": 7
        }
      ]
    },
    {
      "cell_type": "code",
      "metadata": {
        "colab": {
          "base_uri": "https://localhost:8080/",
          "height": 685
        },
        "id": "68iBhiEqDwkC",
        "outputId": "d44724f8-2dc5-4771-d9b4-2bda93db85fd"
      },
      "source": [
        "# Visualize missingness matrix only for columns that found NaN values.\r\n",
        "msno.matrix(ames[columns_missing_values.index])\r\n",
        "plt.show()"
      ],
      "execution_count": null,
      "outputs": [
        {
          "output_type": "display_data",
          "data": {
            "image/png": "[encoded data removed]",
            "text/plain": [
              "<Figure size 1800x720 with 2 Axes>"
            ]
          },
          "metadata": {
            "tags": [],
            "needs_background": "light"
          }
        }
      ]
    },
    {
      "cell_type": "markdown",
      "metadata": {
        "id": "qkGJZ51BrCpc"
      },
      "source": [
        "## Dropping columns"
      ]
    },
    {
      "cell_type": "markdown",
      "metadata": {
        "id": "eoAPaIppGOOe"
      },
      "source": [
        "As we can see for PoolQC, MiscFeature, Alley, Fence and FireplaceQ there are lot more missing values than actual values. We wouldn't be able to draw conclusions from those features.\r\n",
        "\r\n",
        "For this columns I followed this steps:\r\n",
        "- 1) Selected the columns that have more than 40% missing values.\r\n",
        "- 2) Check if any of those are crucial to dataset.\r\n",
        "\r\n",
        "PoolQC: Pool quality\r\n",
        "MiscFeature: Miscellaneous feature not covered in other categories\r\n",
        "Alley: Type of alley access\r\n",
        "Fence: Fence quality\r\n",
        "FireplaceQu: Fireplace quality\r\n",
        "\r\n",
        "None of these features represent main information for the dataset.\r\n",
        "\r\n",
        "- 3) Decision: Proceed eliminating the entire columns."
      ]
    },
    {
      "cell_type": "code",
      "metadata": {
        "colab": {
          "base_uri": "https://localhost:8080/"
        },
        "id": "U34MMBFVEkUv",
        "outputId": "c397e161-858b-4d6e-ebe8-610ce68abbbd"
      },
      "source": [
        "# Select columns that have more than 40% missing values.\r\n",
        "cols_to_drop = columns_missing_values[columns_missing_values> ames.shape[0]*.40].index\r\n",
        "print(cols_to_drop)"
      ],
      "execution_count": null,
      "outputs": [
        {
          "output_type": "stream",
          "text": [
            "Index(['PoolQC', 'MiscFeature', 'Alley', 'Fence', 'FireplaceQu'], dtype='object')\n"
          ],
          "name": "stdout"
        }
      ]
    },
    {
      "cell_type": "code",
      "metadata": {
        "colab": {
          "base_uri": "https://localhost:8080/",
          "height": 241
        },
        "id": "68TPsv28GxhF",
        "outputId": "5924742d-0374-419e-a05b-a08f8cc3fbb4"
      },
      "source": [
        "# Drop columns and show new dataset.\r\n",
        "ames.drop(cols_to_drop, axis=1, inplace=True)\r\n",
        "print(ames.shape)\r\n",
        "ames.head()"
      ],
      "execution_count": null,
      "outputs": [
        {
          "output_type": "stream",
          "text": [
            "(2919, 76)\n"
          ],
          "name": "stdout"
        },
        {
          "output_type": "execute_result",
          "data": {
            "text/html": [
              "<div>\n",
              "<style scoped>\n",
              "    .dataframe tbody tr th:only-of-type {\n",
              "        vertical-align: middle;\n",
              "    }\n",
              "\n",
              "    .dataframe tbody tr th {\n",
              "        vertical-align: top;\n",
              "    }\n",
              "\n",
              "    .dataframe thead th {\n",
              "        text-align: right;\n",
              "    }\n",
              "</style>\n",
              "<table border=\"1\" class=\"dataframe\">\n",
              "  <thead>\n",
              "    <tr style=\"text-align: right;\">\n",
              "      <th></th>\n",
              "      <th>Id</th>\n",
              "      <th>MSSubClass</th>\n",
              "      <th>MSZoning</th>\n",
              "      <th>LotFrontage</th>\n",
              "      <th>LotArea</th>\n",
              "      <th>Street</th>\n",
              "      <th>LotShape</th>\n",
              "      <th>LandContour</th>\n",
              "      <th>Utilities</th>\n",
              "      <th>LotConfig</th>\n",
              "      <th>LandSlope</th>\n",
              "      <th>Neighborhood</th>\n",
              "      <th>Condition1</th>\n",
              "      <th>Condition2</th>\n",
              "      <th>BldgType</th>\n",
              "      <th>HouseStyle</th>\n",
              "      <th>OverallQual</th>\n",
              "      <th>OverallCond</th>\n",
              "      <th>YearBuilt</th>\n",
              "      <th>YearRemodAdd</th>\n",
              "      <th>RoofStyle</th>\n",
              "      <th>RoofMatl</th>\n",
              "      <th>Exterior1st</th>\n",
              "      <th>Exterior2nd</th>\n",
              "      <th>MasVnrType</th>\n",
              "      <th>MasVnrArea</th>\n",
              "      <th>ExterQual</th>\n",
              "      <th>ExterCond</th>\n",
              "      <th>Foundation</th>\n",
              "      <th>BsmtQual</th>\n",
              "      <th>BsmtCond</th>\n",
              "      <th>BsmtExposure</th>\n",
              "      <th>BsmtFinType1</th>\n",
              "      <th>BsmtFinSF1</th>\n",
              "      <th>BsmtFinType2</th>\n",
              "      <th>BsmtFinSF2</th>\n",
              "      <th>BsmtUnfSF</th>\n",
              "      <th>TotalBsmtSF</th>\n",
              "      <th>Heating</th>\n",
              "      <th>HeatingQC</th>\n",
              "      <th>CentralAir</th>\n",
              "      <th>Electrical</th>\n",
              "      <th>1stFlrSF</th>\n",
              "      <th>2ndFlrSF</th>\n",
              "      <th>LowQualFinSF</th>\n",
              "      <th>GrLivArea</th>\n",
              "      <th>BsmtFullBath</th>\n",
              "      <th>BsmtHalfBath</th>\n",
              "      <th>FullBath</th>\n",
              "      <th>HalfBath</th>\n",
              "      <th>BedroomAbvGr</th>\n",
              "      <th>KitchenAbvGr</th>\n",
              "      <th>KitchenQual</th>\n",
              "      <th>TotRmsAbvGrd</th>\n",
              "      <th>Functional</th>\n",
              "      <th>Fireplaces</th>\n",
              "      <th>GarageType</th>\n",
              "      <th>GarageYrBlt</th>\n",
              "      <th>GarageFinish</th>\n",
              "      <th>GarageCars</th>\n",
              "      <th>GarageArea</th>\n",
              "      <th>GarageQual</th>\n",
              "      <th>GarageCond</th>\n",
              "      <th>PavedDrive</th>\n",
              "      <th>WoodDeckSF</th>\n",
              "      <th>OpenPorchSF</th>\n",
              "      <th>EnclosedPorch</th>\n",
              "      <th>3SsnPorch</th>\n",
              "      <th>ScreenPorch</th>\n",
              "      <th>PoolArea</th>\n",
              "      <th>MiscVal</th>\n",
              "      <th>MoSold</th>\n",
              "      <th>YrSold</th>\n",
              "      <th>SaleType</th>\n",
              "      <th>SaleCondition</th>\n",
              "      <th>train_test</th>\n",
              "    </tr>\n",
              "  </thead>\n",
              "  <tbody>\n",
              "    <tr>\n",
              "      <th>0</th>\n",
              "      <td>1</td>\n",
              "      <td>60</td>\n",
              "      <td>RL</td>\n",
              "      <td>65.0</td>\n",
              "      <td>8450</td>\n",
              "      <td>Pave</td>\n",
              "      <td>Reg</td>\n",
              "      <td>Lvl</td>\n",
              "      <td>AllPub</td>\n",
              "      <td>Inside</td>\n",
              "      <td>Gtl</td>\n",
              "      <td>CollgCr</td>\n",
              "      <td>Norm</td>\n",
              "      <td>Norm</td>\n",
              "      <td>1Fam</td>\n",
              "      <td>2Story</td>\n",
              "      <td>7</td>\n",
              "      <td>5</td>\n",
              "      <td>2003</td>\n",
              "      <td>2003</td>\n",
              "      <td>Gable</td>\n",
              "      <td>CompShg</td>\n",
              "      <td>VinylSd</td>\n",
              "      <td>VinylSd</td>\n",
              "      <td>BrkFace</td>\n",
              "      <td>196.0</td>\n",
              "      <td>Gd</td>\n",
              "      <td>TA</td>\n",
              "      <td>PConc</td>\n",
              "      <td>Gd</td>\n",
              "      <td>TA</td>\n",
              "      <td>No</td>\n",
              "      <td>GLQ</td>\n",
              "      <td>706.0</td>\n",
              "      <td>Unf</td>\n",
              "      <td>0.0</td>\n",
              "      <td>150.0</td>\n",
              "      <td>856.0</td>\n",
              "      <td>GasA</td>\n",
              "      <td>Ex</td>\n",
              "      <td>Y</td>\n",
              "      <td>SBrkr</td>\n",
              "      <td>856</td>\n",
              "      <td>854</td>\n",
              "      <td>0</td>\n",
              "      <td>1710</td>\n",
              "      <td>1.0</td>\n",
              "      <td>0.0</td>\n",
              "      <td>2</td>\n",
              "      <td>1</td>\n",
              "      <td>3</td>\n",
              "      <td>1</td>\n",
              "      <td>Gd</td>\n",
              "      <td>8</td>\n",
              "      <td>Typ</td>\n",
              "      <td>0</td>\n",
              "      <td>Attchd</td>\n",
              "      <td>2003.0</td>\n",
              "      <td>RFn</td>\n",
              "      <td>2.0</td>\n",
              "      <td>548.0</td>\n",
              "      <td>TA</td>\n",
              "      <td>TA</td>\n",
              "      <td>Y</td>\n",
              "      <td>0</td>\n",
              "      <td>61</td>\n",
              "      <td>0</td>\n",
              "      <td>0</td>\n",
              "      <td>0</td>\n",
              "      <td>0</td>\n",
              "      <td>0</td>\n",
              "      <td>2</td>\n",
              "      <td>2008</td>\n",
              "      <td>WD</td>\n",
              "      <td>Normal</td>\n",
              "      <td>train</td>\n",
              "    </tr>\n",
              "    <tr>\n",
              "      <th>1</th>\n",
              "      <td>2</td>\n",
              "      <td>20</td>\n",
              "      <td>RL</td>\n",
              "      <td>80.0</td>\n",
              "      <td>9600</td>\n",
              "      <td>Pave</td>\n",
              "      <td>Reg</td>\n",
              "      <td>Lvl</td>\n",
              "      <td>AllPub</td>\n",
              "      <td>FR2</td>\n",
              "      <td>Gtl</td>\n",
              "      <td>Veenker</td>\n",
              "      <td>Feedr</td>\n",
              "      <td>Norm</td>\n",
              "      <td>1Fam</td>\n",
              "      <td>1Story</td>\n",
              "      <td>6</td>\n",
              "      <td>8</td>\n",
              "      <td>1976</td>\n",
              "      <td>1976</td>\n",
              "      <td>Gable</td>\n",
              "      <td>CompShg</td>\n",
              "      <td>MetalSd</td>\n",
              "      <td>MetalSd</td>\n",
              "      <td>None</td>\n",
              "      <td>0.0</td>\n",
              "      <td>TA</td>\n",
              "      <td>TA</td>\n",
              "      <td>CBlock</td>\n",
              "      <td>Gd</td>\n",
              "      <td>TA</td>\n",
              "      <td>Gd</td>\n",
              "      <td>ALQ</td>\n",
              "      <td>978.0</td>\n",
              "      <td>Unf</td>\n",
              "      <td>0.0</td>\n",
              "      <td>284.0</td>\n",
              "      <td>1262.0</td>\n",
              "      <td>GasA</td>\n",
              "      <td>Ex</td>\n",
              "      <td>Y</td>\n",
              "      <td>SBrkr</td>\n",
              "      <td>1262</td>\n",
              "      <td>0</td>\n",
              "      <td>0</td>\n",
              "      <td>1262</td>\n",
              "      <td>0.0</td>\n",
              "      <td>1.0</td>\n",
              "      <td>2</td>\n",
              "      <td>0</td>\n",
              "      <td>3</td>\n",
              "      <td>1</td>\n",
              "      <td>TA</td>\n",
              "      <td>6</td>\n",
              "      <td>Typ</td>\n",
              "      <td>1</td>\n",
              "      <td>Attchd</td>\n",
              "      <td>1976.0</td>\n",
              "      <td>RFn</td>\n",
              "      <td>2.0</td>\n",
              "      <td>460.0</td>\n",
              "      <td>TA</td>\n",
              "      <td>TA</td>\n",
              "      <td>Y</td>\n",
              "      <td>298</td>\n",
              "      <td>0</td>\n",
              "      <td>0</td>\n",
              "      <td>0</td>\n",
              "      <td>0</td>\n",
              "      <td>0</td>\n",
              "      <td>0</td>\n",
              "      <td>5</td>\n",
              "      <td>2007</td>\n",
              "      <td>WD</td>\n",
              "      <td>Normal</td>\n",
              "      <td>train</td>\n",
              "    </tr>\n",
              "    <tr>\n",
              "      <th>2</th>\n",
              "      <td>3</td>\n",
              "      <td>60</td>\n",
              "      <td>RL</td>\n",
              "      <td>68.0</td>\n",
              "      <td>11250</td>\n",
              "      <td>Pave</td>\n",
              "      <td>IR1</td>\n",
              "      <td>Lvl</td>\n",
              "      <td>AllPub</td>\n",
              "      <td>Inside</td>\n",
              "      <td>Gtl</td>\n",
              "      <td>CollgCr</td>\n",
              "      <td>Norm</td>\n",
              "      <td>Norm</td>\n",
              "      <td>1Fam</td>\n",
              "      <td>2Story</td>\n",
              "      <td>7</td>\n",
              "      <td>5</td>\n",
              "      <td>2001</td>\n",
              "      <td>2002</td>\n",
              "      <td>Gable</td>\n",
              "      <td>CompShg</td>\n",
              "      <td>VinylSd</td>\n",
              "      <td>VinylSd</td>\n",
              "      <td>BrkFace</td>\n",
              "      <td>162.0</td>\n",
              "      <td>Gd</td>\n",
              "      <td>TA</td>\n",
              "      <td>PConc</td>\n",
              "      <td>Gd</td>\n",
              "      <td>TA</td>\n",
              "      <td>Mn</td>\n",
              "      <td>GLQ</td>\n",
              "      <td>486.0</td>\n",
              "      <td>Unf</td>\n",
              "      <td>0.0</td>\n",
              "      <td>434.0</td>\n",
              "      <td>920.0</td>\n",
              "      <td>GasA</td>\n",
              "      <td>Ex</td>\n",
              "      <td>Y</td>\n",
              "      <td>SBrkr</td>\n",
              "      <td>920</td>\n",
              "      <td>866</td>\n",
              "      <td>0</td>\n",
              "      <td>1786</td>\n",
              "      <td>1.0</td>\n",
              "      <td>0.0</td>\n",
              "      <td>2</td>\n",
              "      <td>1</td>\n",
              "      <td>3</td>\n",
              "      <td>1</td>\n",
              "      <td>Gd</td>\n",
              "      <td>6</td>\n",
              "      <td>Typ</td>\n",
              "      <td>1</td>\n",
              "      <td>Attchd</td>\n",
              "      <td>2001.0</td>\n",
              "      <td>RFn</td>\n",
              "      <td>2.0</td>\n",
              "      <td>608.0</td>\n",
              "      <td>TA</td>\n",
              "      <td>TA</td>\n",
              "      <td>Y</td>\n",
              "      <td>0</td>\n",
              "      <td>42</td>\n",
              "      <td>0</td>\n",
              "      <td>0</td>\n",
              "      <td>0</td>\n",
              "      <td>0</td>\n",
              "      <td>0</td>\n",
              "      <td>9</td>\n",
              "      <td>2008</td>\n",
              "      <td>WD</td>\n",
              "      <td>Normal</td>\n",
              "      <td>train</td>\n",
              "    </tr>\n",
              "    <tr>\n",
              "      <th>3</th>\n",
              "      <td>4</td>\n",
              "      <td>70</td>\n",
              "      <td>RL</td>\n",
              "      <td>60.0</td>\n",
              "      <td>9550</td>\n",
              "      <td>Pave</td>\n",
              "      <td>IR1</td>\n",
              "      <td>Lvl</td>\n",
              "      <td>AllPub</td>\n",
              "      <td>Corner</td>\n",
              "      <td>Gtl</td>\n",
              "      <td>Crawfor</td>\n",
              "      <td>Norm</td>\n",
              "      <td>Norm</td>\n",
              "      <td>1Fam</td>\n",
              "      <td>2Story</td>\n",
              "      <td>7</td>\n",
              "      <td>5</td>\n",
              "      <td>1915</td>\n",
              "      <td>1970</td>\n",
              "      <td>Gable</td>\n",
              "      <td>CompShg</td>\n",
              "      <td>Wd Sdng</td>\n",
              "      <td>Wd Shng</td>\n",
              "      <td>None</td>\n",
              "      <td>0.0</td>\n",
              "      <td>TA</td>\n",
              "      <td>TA</td>\n",
              "      <td>BrkTil</td>\n",
              "      <td>TA</td>\n",
              "      <td>Gd</td>\n",
              "      <td>No</td>\n",
              "      <td>ALQ</td>\n",
              "      <td>216.0</td>\n",
              "      <td>Unf</td>\n",
              "      <td>0.0</td>\n",
              "      <td>540.0</td>\n",
              "      <td>756.0</td>\n",
              "      <td>GasA</td>\n",
              "      <td>Gd</td>\n",
              "      <td>Y</td>\n",
              "      <td>SBrkr</td>\n",
              "      <td>961</td>\n",
              "      <td>756</td>\n",
              "      <td>0</td>\n",
              "      <td>1717</td>\n",
              "      <td>1.0</td>\n",
              "      <td>0.0</td>\n",
              "      <td>1</td>\n",
              "      <td>0</td>\n",
              "      <td>3</td>\n",
              "      <td>1</td>\n",
              "      <td>Gd</td>\n",
              "      <td>7</td>\n",
              "      <td>Typ</td>\n",
              "      <td>1</td>\n",
              "      <td>Detchd</td>\n",
              "      <td>1998.0</td>\n",
              "      <td>Unf</td>\n",
              "      <td>3.0</td>\n",
              "      <td>642.0</td>\n",
              "      <td>TA</td>\n",
              "      <td>TA</td>\n",
              "      <td>Y</td>\n",
              "      <td>0</td>\n",
              "      <td>35</td>\n",
              "      <td>272</td>\n",
              "      <td>0</td>\n",
              "      <td>0</td>\n",
              "      <td>0</td>\n",
              "      <td>0</td>\n",
              "      <td>2</td>\n",
              "      <td>2006</td>\n",
              "      <td>WD</td>\n",
              "      <td>Abnorml</td>\n",
              "      <td>train</td>\n",
              "    </tr>\n",
              "    <tr>\n",
              "      <th>4</th>\n",
              "      <td>5</td>\n",
              "      <td>60</td>\n",
              "      <td>RL</td>\n",
              "      <td>84.0</td>\n",
              "      <td>14260</td>\n",
              "      <td>Pave</td>\n",
              "      <td>IR1</td>\n",
              "      <td>Lvl</td>\n",
              "      <td>AllPub</td>\n",
              "      <td>FR2</td>\n",
              "      <td>Gtl</td>\n",
              "      <td>NoRidge</td>\n",
              "      <td>Norm</td>\n",
              "      <td>Norm</td>\n",
              "      <td>1Fam</td>\n",
              "      <td>2Story</td>\n",
              "      <td>8</td>\n",
              "      <td>5</td>\n",
              "      <td>2000</td>\n",
              "      <td>2000</td>\n",
              "      <td>Gable</td>\n",
              "      <td>CompShg</td>\n",
              "      <td>VinylSd</td>\n",
              "      <td>VinylSd</td>\n",
              "      <td>BrkFace</td>\n",
              "      <td>350.0</td>\n",
              "      <td>Gd</td>\n",
              "      <td>TA</td>\n",
              "      <td>PConc</td>\n",
              "      <td>Gd</td>\n",
              "      <td>TA</td>\n",
              "      <td>Av</td>\n",
              "      <td>GLQ</td>\n",
              "      <td>655.0</td>\n",
              "      <td>Unf</td>\n",
              "      <td>0.0</td>\n",
              "      <td>490.0</td>\n",
              "      <td>1145.0</td>\n",
              "      <td>GasA</td>\n",
              "      <td>Ex</td>\n",
              "      <td>Y</td>\n",
              "      <td>SBrkr</td>\n",
              "      <td>1145</td>\n",
              "      <td>1053</td>\n",
              "      <td>0</td>\n",
              "      <td>2198</td>\n",
              "      <td>1.0</td>\n",
              "      <td>0.0</td>\n",
              "      <td>2</td>\n",
              "      <td>1</td>\n",
              "      <td>4</td>\n",
              "      <td>1</td>\n",
              "      <td>Gd</td>\n",
              "      <td>9</td>\n",
              "      <td>Typ</td>\n",
              "      <td>1</td>\n",
              "      <td>Attchd</td>\n",
              "      <td>2000.0</td>\n",
              "      <td>RFn</td>\n",
              "      <td>3.0</td>\n",
              "      <td>836.0</td>\n",
              "      <td>TA</td>\n",
              "      <td>TA</td>\n",
              "      <td>Y</td>\n",
              "      <td>192</td>\n",
              "      <td>84</td>\n",
              "      <td>0</td>\n",
              "      <td>0</td>\n",
              "      <td>0</td>\n",
              "      <td>0</td>\n",
              "      <td>0</td>\n",
              "      <td>12</td>\n",
              "      <td>2008</td>\n",
              "      <td>WD</td>\n",
              "      <td>Normal</td>\n",
              "      <td>train</td>\n",
              "    </tr>\n",
              "  </tbody>\n",
              "</table>\n",
              "</div>"
            ],
            "text/plain": [
              "   Id  MSSubClass MSZoning  ...  SaleType  SaleCondition train_test\n",
              "0   1          60       RL  ...        WD         Normal      train\n",
              "1   2          20       RL  ...        WD         Normal      train\n",
              "2   3          60       RL  ...        WD         Normal      train\n",
              "3   4          70       RL  ...        WD        Abnorml      train\n",
              "4   5          60       RL  ...        WD         Normal      train\n",
              "\n",
              "[5 rows x 76 columns]"
            ]
          },
          "metadata": {
            "tags": []
          },
          "execution_count": 10
        }
      ]
    },
    {
      "cell_type": "code",
      "metadata": {
        "colab": {
          "base_uri": "https://localhost:8080/"
        },
        "id": "DKxPUsD_EtUH",
        "outputId": "e83db91f-79c4-4cdd-eb85-1144106ca0e9"
      },
      "source": [
        "# Number of missing values for each column\r\n",
        "columns_missing_values = missing_cols(ames)\r\n",
        "columns_missing_values"
      ],
      "execution_count": null,
      "outputs": [
        {
          "output_type": "execute_result",
          "data": {
            "text/plain": [
              "LotFrontage     486\n",
              "GarageYrBlt     159\n",
              "GarageFinish    159\n",
              "GarageCond      159\n",
              "GarageQual      159\n",
              "GarageType      157\n",
              "BsmtCond         82\n",
              "BsmtExposure     82\n",
              "BsmtQual         81\n",
              "BsmtFinType2     80\n",
              "BsmtFinType1     79\n",
              "MasVnrType       24\n",
              "MasVnrArea       23\n",
              "MSZoning          4\n",
              "Functional        2\n",
              "BsmtFullBath      2\n",
              "BsmtHalfBath      2\n",
              "Utilities         2\n",
              "Exterior2nd       1\n",
              "BsmtFinSF2        1\n",
              "Exterior1st       1\n",
              "BsmtFinSF1        1\n",
              "Electrical        1\n",
              "BsmtUnfSF         1\n",
              "TotalBsmtSF       1\n",
              "GarageCars        1\n",
              "SaleType          1\n",
              "KitchenQual       1\n",
              "GarageArea        1\n",
              "dtype: int64"
            ]
          },
          "metadata": {
            "tags": []
          },
          "execution_count": 11
        }
      ]
    },
    {
      "cell_type": "code",
      "metadata": {
        "colab": {
          "base_uri": "https://localhost:8080/",
          "height": 685
        },
        "id": "GA6w1QYwJ-5N",
        "outputId": "746b35b1-1703-4d80-e125-3a215a4d096b"
      },
      "source": [
        "# Visualize missingness matrix only for columns that found NaN values.\r\n",
        "msno.matrix(ames[columns_missing_values.index])\r\n",
        "plt.show()"
      ],
      "execution_count": null,
      "outputs": [
        {
          "output_type": "display_data",
          "data": {
            "image/png": "[encoded data removed]",
            "text/plain": [
              "<Figure size 1800x720 with 2 Axes>"
            ]
          },
          "metadata": {
            "tags": [],
            "needs_background": "light"
          }
        }
      ]
    },
    {
      "cell_type": "markdown",
      "metadata": {
        "id": "LBwwC5vvKnxa"
      },
      "source": [
        "## Missing Data Imputation using Regression for LotFrontage\r\n",
        "\r\n",
        "We have to deal with LotFrontage values. It might be a useful feature, at this stage we don't know.\r\n",
        "\r\n",
        "Imputing the missing data with a Measure of Central Tendency, we would under(over)estimate it. I wouldn't add any bias to my estimations.\r\n",
        "\r\n",
        "For this float feature it's better to use a more accurate approach. Regression Imputation using LotArea, that is the Lot size in square feet."
      ]
    },
    {
      "cell_type": "code",
      "metadata": {
        "colab": {
          "base_uri": "https://localhost:8080/"
        },
        "id": "zexH_eSHODlm",
        "outputId": "11a16f9c-67ce-45a0-ce02-b1ff6c7feca5"
      },
      "source": [
        "# Why LotFrontage? Is LotAreas highest correlation feature. \r\n",
        "ames.corr()['LotArea'].sort_values(ascending=False).head(2)"
      ],
      "execution_count": null,
      "outputs": [
        {
          "output_type": "execute_result",
          "data": {
            "text/plain": [
              "LotArea        1.000000\n",
              "LotFrontage    0.489896\n",
              "Name: LotArea, dtype: float64"
            ]
          },
          "metadata": {
            "tags": []
          },
          "execution_count": 13
        }
      ]
    },
    {
      "cell_type": "code",
      "metadata": {
        "colab": {
          "base_uri": "https://localhost:8080/"
        },
        "id": "rNcSa5MlSTS1",
        "outputId": "ba549c2e-dec3-47e8-e92c-7c4ef25fe9c6"
      },
      "source": [
        "# Calculate a linear regression of the relationship.\r\n",
        "lot_area_front = ames[['LotArea', 'LotFrontage']].dropna()\r\n",
        "\r\n",
        "slope, intercept = np.polyfit(lot_area_front.LotArea, lot_area_front.LotFrontage, 1)\r\n",
        "\r\n",
        "print('slope =', slope)\r\n",
        "print('intercept =', intercept)"
      ],
      "execution_count": null,
      "outputs": [
        {
          "output_type": "stream",
          "text": [
            "slope = 0.0017797941237565795\n",
            "intercept = 51.99510362506275\n"
          ],
          "name": "stdout"
        }
      ]
    },
    {
      "cell_type": "code",
      "metadata": {
        "colab": {
          "base_uri": "https://localhost:8080/",
          "height": 299
        },
        "id": "7PiTwhjvKvUp",
        "outputId": "5ccdcfa0-00e8-4bc6-aa58-f00eb04775ec"
      },
      "source": [
        "# Show scatter plot for LotArea and LotFrontage\r\n",
        "plt.scatter(ames.LotArea, ames.LotFrontage)\r\n",
        "plt.title('Relationship between LotArea and LotFrontage')\r\n",
        "plt.ylabel('LotFrontage')\r\n",
        "plt.xlabel('LotArea')\r\n",
        "plt.axhline(y=ames.LotFrontage.mean(), color='grey', linestyle='-', label='mean')\r\n",
        "\r\n",
        "# Make theoretical line to plot\r\n",
        "x = np.array([0, ames.LotArea.max()])\r\n",
        "y = slope * x + intercept\r\n",
        "plt.plot(x, y, color='grey')\r\n",
        "\r\n",
        "plt.show()"
      ],
      "execution_count": null,
      "outputs": [
        {
          "output_type": "display_data",
          "data": {
            "image/png": "[encoded data removed]",
            "text/plain": [
              "<Figure size 432x288 with 1 Axes>"
            ]
          },
          "metadata": {
            "tags": [],
            "needs_background": "light"
          }
        }
      ]
    },
    {
      "cell_type": "markdown",
      "metadata": {
        "id": "SXTT6cpMM8QG"
      },
      "source": [
        "We see in plot there is a relationship between those features, therefore it would me more accurate to impute NaN values through this regression instead of just a measure of central tendency."
      ]
    },
    {
      "cell_type": "code",
      "metadata": {
        "colab": {
          "base_uri": "https://localhost:8080/"
        },
        "id": "XsUdTAFEi8LD",
        "outputId": "3cce5bef-ea92-4d33-fc15-4f444b358fb2"
      },
      "source": [
        "# For every LotFrontage nan value compute: 'LotFrontage' = slope * 'LotArea' + intercept\r\n",
        "ames['LotFrontage'] = ames.apply(lambda x: slope * x['LotArea'] + intercept if pd.isnull(x['LotFrontage']) else x['LotFrontage'], axis=1)\r\n",
        "\r\n",
        "# Check if LotFrontage has nan values\r\n",
        "ames['LotFrontage'].isna().sum()"
      ],
      "execution_count": null,
      "outputs": [
        {
          "output_type": "execute_result",
          "data": {
            "text/plain": [
              "0"
            ]
          },
          "metadata": {
            "tags": []
          },
          "execution_count": 16
        }
      ]
    },
    {
      "cell_type": "markdown",
      "metadata": {
        "id": "ihWMkYz8prkW"
      },
      "source": [
        "## Imputing Garage columns:\r\n",
        "\r\n",
        "GarageQual: Garage quality\r\n",
        "\r\n",
        "       Ex\tExcellent\r\n",
        "       Gd\tGood\r\n",
        "       TA\tTypical/Average\r\n",
        "       Fa\tFair\r\n",
        "       Po\tPoor\r\n",
        "       NA\tNo Garage\r\n",
        "\r\n",
        "The missing values are because the house doesn't have a garage. Let's make a NA category as string."
      ]
    },
    {
      "cell_type": "code",
      "metadata": {
        "colab": {
          "base_uri": "https://localhost:8080/"
        },
        "id": "3HLXeffTFbEJ",
        "outputId": "9bd81498-d666-48b0-cf59-5a06caecdb68"
      },
      "source": [
        "# Number of missing values for each column\r\n",
        "columns_missing_values = missing_cols(ames)\r\n",
        "columns_missing_values"
      ],
      "execution_count": null,
      "outputs": [
        {
          "output_type": "execute_result",
          "data": {
            "text/plain": [
              "GarageQual      159\n",
              "GarageYrBlt     159\n",
              "GarageFinish    159\n",
              "GarageCond      159\n",
              "GarageType      157\n",
              "BsmtCond         82\n",
              "BsmtExposure     82\n",
              "BsmtQual         81\n",
              "BsmtFinType2     80\n",
              "BsmtFinType1     79\n",
              "MasVnrType       24\n",
              "MasVnrArea       23\n",
              "MSZoning          4\n",
              "Functional        2\n",
              "BsmtFullBath      2\n",
              "BsmtHalfBath      2\n",
              "Utilities         2\n",
              "Exterior2nd       1\n",
              "Exterior1st       1\n",
              "BsmtFinSF2        1\n",
              "Electrical        1\n",
              "BsmtFinSF1        1\n",
              "BsmtUnfSF         1\n",
              "TotalBsmtSF       1\n",
              "GarageCars        1\n",
              "GarageArea        1\n",
              "SaleType          1\n",
              "KitchenQual       1\n",
              "dtype: int64"
            ]
          },
          "metadata": {
            "tags": []
          },
          "execution_count": 17
        }
      ]
    },
    {
      "cell_type": "code",
      "metadata": {
        "colab": {
          "base_uri": "https://localhost:8080/"
        },
        "id": "RUcVxx3rod_-",
        "outputId": "ffc08f65-2fa7-4e9c-e643-ff1f78a958d5"
      },
      "source": [
        "# I filter garage columns \r\n",
        "garage_columns = columns_missing_values[columns_missing_values > 150].index\r\n",
        "print(garage_columns)\r\n",
        "\r\n",
        "# Create a new category of 'NA' that means No garage, instead of NaN value.\r\n",
        "for columns in garage_columns:\r\n",
        "  ames[columns] = ames.apply(lambda x: 'NA' if pd.isnull(x[columns]) else x[columns], axis=1)\r\n",
        "\r\n",
        "# Check if LotFrontage has nan values\r\n",
        "ames[garage_columns].isna().sum()"
      ],
      "execution_count": null,
      "outputs": [
        {
          "output_type": "stream",
          "text": [
            "Index(['GarageQual', 'GarageYrBlt', 'GarageFinish', 'GarageCond',\n",
            "       'GarageType'],\n",
            "      dtype='object')\n"
          ],
          "name": "stdout"
        },
        {
          "output_type": "execute_result",
          "data": {
            "text/plain": [
              "GarageQual      0\n",
              "GarageYrBlt     0\n",
              "GarageFinish    0\n",
              "GarageCond      0\n",
              "GarageType      0\n",
              "dtype: int64"
            ]
          },
          "metadata": {
            "tags": []
          },
          "execution_count": 18
        }
      ]
    },
    {
      "cell_type": "markdown",
      "metadata": {
        "id": "g2cgtzMYrbY0"
      },
      "source": [
        "## Mode imputation for all other columns"
      ]
    },
    {
      "cell_type": "markdown",
      "metadata": {
        "id": "atcOsJkJrgXG"
      },
      "source": [
        "For the last columns we need to handle values, we are going to impute with mode."
      ]
    },
    {
      "cell_type": "code",
      "metadata": {
        "colab": {
          "base_uri": "https://localhost:8080/"
        },
        "id": "oyesn_PnGF9v",
        "outputId": "a9f729af-a6c0-45bd-8f59-b1c995fcfc87"
      },
      "source": [
        "# Number of missing values for each column\r\n",
        "columns_missing_values = missing_cols(ames)\r\n",
        "columns_missing_values"
      ],
      "execution_count": null,
      "outputs": [
        {
          "output_type": "execute_result",
          "data": {
            "text/plain": [
              "BsmtExposure    82\n",
              "BsmtCond        82\n",
              "BsmtQual        81\n",
              "BsmtFinType2    80\n",
              "BsmtFinType1    79\n",
              "MasVnrType      24\n",
              "MasVnrArea      23\n",
              "MSZoning         4\n",
              "BsmtHalfBath     2\n",
              "BsmtFullBath     2\n",
              "Utilities        2\n",
              "Functional       2\n",
              "BsmtFinSF1       1\n",
              "Exterior2nd      1\n",
              "Exterior1st      1\n",
              "BsmtUnfSF        1\n",
              "BsmtFinSF2       1\n",
              "KitchenQual      1\n",
              "Electrical       1\n",
              "TotalBsmtSF      1\n",
              "SaleType         1\n",
              "GarageCars       1\n",
              "GarageArea       1\n",
              "dtype: int64"
            ]
          },
          "metadata": {
            "tags": []
          },
          "execution_count": 19
        }
      ]
    },
    {
      "cell_type": "code",
      "metadata": {
        "colab": {
          "base_uri": "https://localhost:8080/"
        },
        "id": "XmnkesEEqi-A",
        "outputId": "c413cef3-bc8c-4d35-baed-26c52f7654a9"
      },
      "source": [
        "# Make an array of all columns to impute mode.\r\n",
        "cols_impute_mode = columns_missing_values.index\r\n",
        "\r\n",
        "for col in cols_impute_mode:\r\n",
        "  ames[col] = ames[col].fillna(ames[col].mode()[0])\r\n",
        "\r\n",
        "# Check last time if no missing values\r\n",
        "if ames.isna().sum().sum() == 0:\r\n",
        "  print(\"Nan values are handled, Let's continue!!\")"
      ],
      "execution_count": null,
      "outputs": [
        {
          "output_type": "stream",
          "text": [
            "Nan values are handled, Let's continue!!\n"
          ],
          "name": "stdout"
        }
      ]
    },
    {
      "cell_type": "markdown",
      "metadata": {
        "id": "S5aY8JzT7mq6"
      },
      "source": [
        "# Target Variable analysis and transformation (y)"
      ]
    },
    {
      "cell_type": "code",
      "metadata": {
        "colab": {
          "base_uri": "https://localhost:8080/",
          "height": 276
        },
        "id": "6aBYAJna7ptz",
        "outputId": "6a140c33-4144-4e7a-d7cf-ea729cff0810"
      },
      "source": [
        "from scipy.stats import norm\r\n",
        "from scipy import stats\r\n",
        "\r\n",
        "y = pd.read_csv('/content/train.csv', usecols=['SalePrice'])\r\n",
        "normal = np.random.normal(y.mean(), y.std(), size=10000)\r\n",
        "\r\n",
        "# Histplot:\r\n",
        "sns.histplot(y, kde=True, stat='density', label='y')\r\n",
        "sns.histplot(normal, kde=True, color='#94A7B1', stat='density', label='normal function')\r\n",
        "plt.show()"
      ],
      "execution_count": null,
      "outputs": [
        {
          "output_type": "display_data",
          "data": {
            "image/png": "[encoded data removed]",
            "text/plain": [
              "<Figure size 432x288 with 1 Axes>"
            ]
          },
          "metadata": {
            "tags": [],
            "needs_background": "light"
          }
        }
      ]
    },
    {
      "cell_type": "code",
      "metadata": {
        "colab": {
          "base_uri": "https://localhost:8080/",
          "height": 265
        },
        "id": "dupWb1fVA3XF",
        "outputId": "1c6b9ef8-6325-4298-ed32-903f15212008"
      },
      "source": [
        "# Fit y \r\n",
        "y = np.log1p(y)\r\n",
        "normal = np.random.normal(y.mean(), y.std(), size=10000)\r\n",
        "\r\n",
        "# Histplot:\r\n",
        "sns.histplot(y, kde=True, stat='density', label='normal_y')\r\n",
        "sns.histplot(normal, kde=True, color='#94A7B1', stat='density', label='normal function')\r\n",
        "plt.show()"
      ],
      "execution_count": null,
      "outputs": [
        {
          "output_type": "display_data",
          "data": {
            "image/png": "[encoded data removed]",
            "text/plain": [
              "<Figure size 432x288 with 1 Axes>"
            ]
          },
          "metadata": {
            "tags": [],
            "needs_background": "light"
          }
        }
      ]
    },
    {
      "cell_type": "markdown",
      "metadata": {
        "id": "m2uzNBuQNyTD"
      },
      "source": [
        "# Feature selection and engineering"
      ]
    },
    {
      "cell_type": "markdown",
      "metadata": {
        "id": "1ow0AQd21akK"
      },
      "source": [
        "## For Feature engineering on categorical columns see Feature Engineering of ames.ipynb"
      ]
    },
    {
      "cell_type": "code",
      "metadata": {
        "colab": {
          "base_uri": "https://localhost:8080/"
        },
        "id": "Vvo3KV_6vsm-",
        "outputId": "11700ca4-4c6e-4da7-b0f9-2fa45a63076b"
      },
      "source": [
        "cat_cols = []\r\n",
        "\r\n",
        "for column in ames.columns:\r\n",
        "  if ames[column].dtype == 'object':\r\n",
        "    cat_cols.append(column)\r\n",
        "\r\n",
        "print(cat_cols)"
      ],
      "execution_count": null,
      "outputs": [
        {
          "output_type": "stream",
          "text": [
            "['MSZoning', 'Street', 'LotShape', 'LandContour', 'Utilities', 'LotConfig', 'LandSlope', 'Neighborhood', 'Condition1', 'Condition2', 'BldgType', 'HouseStyle', 'RoofStyle', 'RoofMatl', 'Exterior1st', 'Exterior2nd', 'MasVnrType', 'ExterQual', 'ExterCond', 'Foundation', 'BsmtQual', 'BsmtCond', 'BsmtExposure', 'BsmtFinType1', 'BsmtFinType2', 'Heating', 'HeatingQC', 'CentralAir', 'Electrical', 'KitchenQual', 'Functional', 'GarageType', 'GarageYrBlt', 'GarageFinish', 'GarageQual', 'GarageCond', 'PavedDrive', 'SaleType', 'SaleCondition', 'train_test']\n"
          ],
          "name": "stdout"
        }
      ]
    },
    {
      "cell_type": "code",
      "metadata": {
        "colab": {
          "base_uri": "https://localhost:8080/"
        },
        "id": "2Zo7DtnfWTG5",
        "outputId": "d885fcf2-0403-44c1-bfaa-f9b3cb42de14"
      },
      "source": [
        "ames['MSZoning'].unique()"
      ],
      "execution_count": null,
      "outputs": [
        {
          "output_type": "execute_result",
          "data": {
            "text/plain": [
              "array(['RL', 'RM', 'C (all)', 'FV', 'RH'], dtype=object)"
            ]
          },
          "metadata": {
            "tags": []
          },
          "execution_count": 24
        }
      ]
    },
    {
      "cell_type": "code",
      "metadata": {
        "colab": {
          "base_uri": "https://localhost:8080/"
        },
        "id": "_5sT_-7t3zJa",
        "outputId": "f3251381-9748-4d80-cb33-ec6a5a4e977c"
      },
      "source": [
        "# MS Zoning for C and RH merge into one category Other.\r\n",
        "map_ms = {'C (all)': 'OTHER', 'FV': 'FV', 'RH': 'OTHER', 'RL': 'RL', 'RM': 'RM'}\r\n",
        "ames['MSZoning2'] = ames['MSZoning'].map(map_ms)\r\n",
        "ames['MSZoning2'].value_counts()"
      ],
      "execution_count": null,
      "outputs": [
        {
          "output_type": "execute_result",
          "data": {
            "text/plain": [
              "RL       2269\n",
              "RM        460\n",
              "FV        139\n",
              "OTHER      51\n",
              "Name: MSZoning2, dtype: int64"
            ]
          },
          "metadata": {
            "tags": []
          },
          "execution_count": 25
        }
      ]
    },
    {
      "cell_type": "markdown",
      "metadata": {
        "id": "nmPRXE_L4qx2"
      },
      "source": [
        "## mean encode"
      ]
    },
    {
      "cell_type": "code",
      "metadata": {
        "id": "XpkPHS3RA-Gm"
      },
      "source": [
        "train_ames_df = pd.read_csv('/content/train.csv')"
      ],
      "execution_count": null,
      "outputs": []
    },
    {
      "cell_type": "code",
      "metadata": {
        "id": "13xVro5b8dR_"
      },
      "source": [
        "# Make dictionaries to map\r\n",
        "dict_neighborhood = train_ames_df.groupby('Neighborhood')['SalePrice'].mean().to_dict()\r\n",
        "dict_ext_1st = train_ames_df.groupby('Exterior1st')['SalePrice'].mean().to_dict()\r\n",
        "dict_ext_2nd = train_ames_df.groupby('Exterior2nd')['SalePrice'].mean().to_dict()\r\n",
        "\r\n",
        "# Map them all\r\n",
        "ames['Neighborhood'] = ames['Neighborhood'].map(dict_neighborhood)\r\n",
        "ames['Exterior1st'] = ames['Exterior1st'].map(dict_ext_1st)\r\n",
        "ames['Exterior2nd'] = ames['Exterior2nd'].map(dict_ext_2nd)\r\n",
        "\r\n",
        "# Merge 'Exterior1st', 'Exterior2nd' into one.\r\n",
        "ames['Exterior_material'] = ames['Exterior1st']/2 + ames['Exterior1st']/2"
      ],
      "execution_count": null,
      "outputs": []
    },
    {
      "cell_type": "markdown",
      "metadata": {
        "id": "MV5pgDGe7Val"
      },
      "source": [
        "## Drop columns"
      ]
    },
    {
      "cell_type": "code",
      "metadata": {
        "id": "xiJl54rMEGzM"
      },
      "source": [
        "def drop_feature(column):\r\n",
        "  ames.drop(column, inplace=True, axis=1)"
      ],
      "execution_count": null,
      "outputs": []
    },
    {
      "cell_type": "code",
      "metadata": {
        "id": "737aO9AD3zG7"
      },
      "source": [
        "columns_to_drop = ['Street','LotShape','LandContour', 'Utilities', 'LotConfig', 'LandSlope', 'Condition1', 'Condition2', 'BldgType', 'HouseStyle','RoofStyle', 'RoofMatl','ExterCond', 'BsmtCond', 'BsmtExposure', 'BsmtFinType1', 'BsmtFinType2', 'Heating', 'Electrical', 'Functional', 'GarageQual', 'GarageCond', 'PavedDrive', 'Exterior1st', 'Exterior2nd']\r\n",
        "\r\n",
        "# Drop features that are not relevant after EDA and other calculations.\r\n",
        "for column in columns_to_drop:\r\n",
        "  drop_feature(column)\r\n"
      ],
      "execution_count": null,
      "outputs": []
    },
    {
      "cell_type": "markdown",
      "metadata": {
        "id": "dBIEbMq_9hQ8"
      },
      "source": [
        "## Remap categories"
      ]
    },
    {
      "cell_type": "code",
      "metadata": {
        "colab": {
          "base_uri": "https://localhost:8080/",
          "height": 119
        },
        "id": "dP242MLp3zCH",
        "outputId": "511d11bf-88c1-4e6e-9f64-be88c440e062"
      },
      "source": [
        "# Foundation category.\r\n",
        "foundation_vc = ames.Foundation.value_counts()\r\n",
        "found_categories_reduce = foundation_vc[foundation_vc<100].index\r\n",
        "foundation_dict = foundation_vc.to_dict()\r\n",
        "\r\n",
        "# In this for loop I create dictionary to map\r\n",
        "for key,value in foundation_dict.items():\r\n",
        "  foundation_dict[key] = key\r\n",
        "  for category in found_categories_reduce:\r\n",
        "    foundation_dict[category] = 'Slab/Stone/Wood'\r\n",
        "\r\n",
        "# Show foundation_dict\r\n",
        "display(foundation_dict)\r\n",
        "\r\n",
        "# Foundation map\r\n",
        "ames['Foundation'] = ames['Foundation'].map(foundation_dict)"
      ],
      "execution_count": null,
      "outputs": [
        {
          "output_type": "display_data",
          "data": {
            "text/plain": [
              "{'BrkTil': 'BrkTil',\n",
              " 'CBlock': 'CBlock',\n",
              " 'PConc': 'PConc',\n",
              " 'Slab': 'Slab/Stone/Wood',\n",
              " 'Stone': 'Slab/Stone/Wood',\n",
              " 'Wood': 'Slab/Stone/Wood'}"
            ]
          },
          "metadata": {
            "tags": []
          }
        }
      ]
    },
    {
      "cell_type": "code",
      "metadata": {
        "colab": {
          "base_uri": "https://localhost:8080/",
          "height": 170
        },
        "id": "JhI3VIb-_Aet",
        "outputId": "d60a18fd-604c-4f6b-d623-47cb05ac5eea"
      },
      "source": [
        "# SaleType\r\n",
        "SaleType_vc = ames.SaleType.value_counts()\r\n",
        "saletype_categories_reduce = SaleType_vc[SaleType_vc<100].index\r\n",
        "saletype_dict = SaleType_vc.to_dict()\r\n",
        "\r\n",
        "# In this for loop I create dictionary to map\r\n",
        "for key,value in saletype_dict.items():\r\n",
        "  saletype_dict[key] = key\r\n",
        "  for category in saletype_categories_reduce:\r\n",
        "    saletype_dict[category] = 'WD'\r\n",
        "\r\n",
        "# Show saletype_dict\r\n",
        "display(saletype_dict)\r\n",
        "\r\n",
        "# Foundation map\r\n",
        "ames['SaleType'] = ames['SaleType'].map(saletype_dict)"
      ],
      "execution_count": null,
      "outputs": [
        {
          "output_type": "display_data",
          "data": {
            "text/plain": [
              "{'COD': 'WD',\n",
              " 'CWD': 'WD',\n",
              " 'Con': 'WD',\n",
              " 'ConLD': 'WD',\n",
              " 'ConLI': 'WD',\n",
              " 'ConLw': 'WD',\n",
              " 'New': 'New',\n",
              " 'Oth': 'WD',\n",
              " 'WD': 'WD'}"
            ]
          },
          "metadata": {
            "tags": []
          }
        }
      ]
    },
    {
      "cell_type": "code",
      "metadata": {
        "colab": {
          "base_uri": "https://localhost:8080/",
          "height": 119
        },
        "id": "8PknthlS3y_F",
        "outputId": "fd8aa436-cb38-4e90-afcf-6cb19bfb3053"
      },
      "source": [
        "# SaleCondition\r\n",
        "SaleCondition_vc = ames.SaleCondition.value_counts()\r\n",
        "SaleCondition_categories_reduce = SaleCondition_vc[SaleCondition_vc<100].index\r\n",
        "SaleCondition_dict = SaleCondition_vc.to_dict()\r\n",
        "\r\n",
        "# In this for loop I create dictionary to map\r\n",
        "for key,value in SaleCondition_dict.items():\r\n",
        "  SaleCondition_dict[key] = key\r\n",
        "  for category in SaleCondition_categories_reduce:\r\n",
        "    SaleCondition_dict[category] = 'Normal'\r\n",
        "\r\n",
        "# Show SaleCondition_dict\r\n",
        "display(SaleCondition_dict)\r\n",
        "\r\n",
        "# Foundation map\r\n",
        "ames['SaleCondition'] = ames['SaleCondition'].map(SaleCondition_dict)"
      ],
      "execution_count": null,
      "outputs": [
        {
          "output_type": "display_data",
          "data": {
            "text/plain": [
              "{'Abnorml': 'Abnorml',\n",
              " 'AdjLand': 'Normal',\n",
              " 'Alloca': 'Normal',\n",
              " 'Family': 'Normal',\n",
              " 'Normal': 'Normal',\n",
              " 'Partial': 'Partial'}"
            ]
          },
          "metadata": {
            "tags": []
          }
        }
      ]
    },
    {
      "cell_type": "markdown",
      "metadata": {
        "id": "S_joR08Pb1Km"
      },
      "source": [
        "# Numerical features"
      ]
    },
    {
      "cell_type": "markdown",
      "metadata": {
        "id": "d1ohbldbe0ei"
      },
      "source": [
        "# Square feet features."
      ]
    },
    {
      "cell_type": "markdown",
      "metadata": {
        "id": "zaAflWIMeU1k"
      },
      "source": [
        "1stFlrSF: First Floor square feet\r\n",
        "\r\n",
        "2ndFlrSF: Second floor square feet\r\n",
        "\r\n",
        "\r\n",
        "LowQualFinSF: Low quality finished square feet (all floors)\r\n",
        "\r\n",
        "WoodDeckSF: Wood deck area in square feet\r\n",
        "\r\n",
        "OpenPorchSF: Open porch area in square feet\r\n",
        "\r\n",
        "BsmtFinSF1: Type 1 finished square feet\r\n",
        "\r\n",
        "BsmtFinSF2: Type 2 finished square feet\r\n",
        "\r\n",
        "GrLivArea: Above grade (ground) living area square feet"
      ]
    },
    {
      "cell_type": "code",
      "metadata": {
        "id": "6dwlAQvmeF4L"
      },
      "source": [
        "# Create an only feature that has square feet of all house.\r\n",
        "ames['TotalSF'] = ames['1stFlrSF'] + ames['2ndFlrSF'] + ames['TotalBsmtSF'] \r\n",
        "ames.drop(['1stFlrSF', '2ndFlrSF', 'TotalBsmtSF'], inplace=True, axis=1)"
      ],
      "execution_count": null,
      "outputs": []
    },
    {
      "cell_type": "markdown",
      "metadata": {
        "id": "7qUI3yYDRjn5"
      },
      "source": [
        "## Eliminate highly correlated features"
      ]
    },
    {
      "cell_type": "code",
      "metadata": {
        "colab": {
          "base_uri": "https://localhost:8080/"
        },
        "id": "hZ79R5GUR7ar",
        "outputId": "f1a628c4-ae7a-4c9b-9474-93e349e6d8da"
      },
      "source": [
        "# Calculate the correlation matrix and take the absolute value\r\n",
        "corr_matrix = ames.corr().abs()\r\n",
        "\r\n",
        "# Create a True/False mask and apply it\r\n",
        "mask = np.triu(np.ones_like(corr_matrix, dtype=bool))\r\n",
        "tri_df = corr_matrix.mask(mask)\r\n",
        "\r\n",
        "# List column names of highly correlated features (r > 0.85)\r\n",
        "to_drop = [c for c in tri_df.columns if any(tri_df[c] > 0.85)]\r\n",
        "to_drop"
      ],
      "execution_count": null,
      "outputs": [
        {
          "output_type": "execute_result",
          "data": {
            "text/plain": [
              "['GrLivArea', 'GarageCars']"
            ]
          },
          "metadata": {
            "tags": []
          },
          "execution_count": 34
        }
      ]
    },
    {
      "cell_type": "code",
      "metadata": {
        "colab": {
          "base_uri": "https://localhost:8080/",
          "height": 142
        },
        "id": "PKhmfYykN0x4",
        "outputId": "2d624344-e500-4827-cf4f-9792bd835b54"
      },
      "source": [
        "corr = ames.corr()[to_drop]\r\n",
        "to_plot = corr[(corr>abs(0.8)) & (corr<abs(1))].dropna(how='all')\r\n",
        "to_plot"
      ],
      "execution_count": null,
      "outputs": [
        {
          "output_type": "execute_result",
          "data": {
            "text/html": [
              "<div>\n",
              "<style scoped>\n",
              "    .dataframe tbody tr th:only-of-type {\n",
              "        vertical-align: middle;\n",
              "    }\n",
              "\n",
              "    .dataframe tbody tr th {\n",
              "        vertical-align: top;\n",
              "    }\n",
              "\n",
              "    .dataframe thead th {\n",
              "        text-align: right;\n",
              "    }\n",
              "</style>\n",
              "<table border=\"1\" class=\"dataframe\">\n",
              "  <thead>\n",
              "    <tr style=\"text-align: right;\">\n",
              "      <th></th>\n",
              "      <th>GrLivArea</th>\n",
              "      <th>GarageCars</th>\n",
              "    </tr>\n",
              "  </thead>\n",
              "  <tbody>\n",
              "    <tr>\n",
              "      <th>TotRmsAbvGrd</th>\n",
              "      <td>0.808354</td>\n",
              "      <td>NaN</td>\n",
              "    </tr>\n",
              "    <tr>\n",
              "      <th>GarageArea</th>\n",
              "      <td>NaN</td>\n",
              "      <td>0.888722</td>\n",
              "    </tr>\n",
              "    <tr>\n",
              "      <th>TotalSF</th>\n",
              "      <td>0.867157</td>\n",
              "      <td>NaN</td>\n",
              "    </tr>\n",
              "  </tbody>\n",
              "</table>\n",
              "</div>"
            ],
            "text/plain": [
              "              GrLivArea  GarageCars\n",
              "TotRmsAbvGrd   0.808354         NaN\n",
              "GarageArea          NaN    0.888722\n",
              "TotalSF        0.867157         NaN"
            ]
          },
          "metadata": {
            "tags": []
          },
          "execution_count": 35
        }
      ]
    },
    {
      "cell_type": "code",
      "metadata": {
        "colab": {
          "base_uri": "https://localhost:8080/"
        },
        "id": "JbERYRwo5kgp",
        "outputId": "bd668771-4acb-4dd2-9a60-427448f32448"
      },
      "source": [
        "# Drop highly correlated columns\r\n",
        "ames.drop(to_drop, axis=1, inplace=True)\r\n",
        "print('New shape of Df:', ames.shape)"
      ],
      "execution_count": null,
      "outputs": [
        {
          "output_type": "stream",
          "text": [
            "New shape of Df: (2919, 49)\n"
          ],
          "name": "stdout"
        }
      ]
    },
    {
      "cell_type": "markdown",
      "metadata": {
        "id": "iNOD4esheA_7"
      },
      "source": [
        "# Manual Feature engineering"
      ]
    },
    {
      "cell_type": "code",
      "metadata": {
        "id": "OlKiSWrPffQe"
      },
      "source": [
        "ames['LotFrontage_log'] = np.log1p(ames['LotFrontage'])\r\n",
        "ames['LotArea_log'] = np.log1p(ames['LotArea'])\r\n",
        "ames['BsmtUnfSF_log'] = np.log1p(ames['BsmtUnfSF'])"
      ],
      "execution_count": null,
      "outputs": []
    },
    {
      "cell_type": "markdown",
      "metadata": {
        "id": "Fdr-NjeX1kg6"
      },
      "source": [
        "### Dummy encoding"
      ]
    },
    {
      "cell_type": "code",
      "metadata": {
        "colab": {
          "base_uri": "https://localhost:8080/"
        },
        "id": "qLtFLVoAppZz",
        "outputId": "0552eab8-1b68-4d6d-e4a0-46179026627f"
      },
      "source": [
        "# Create X dataset\r\n",
        "X = ames[ames['train_test']=='train'].drop('train_test', axis=1)\r\n",
        "X = pd.get_dummies(X, drop_first=True)\r\n",
        "print('X shape:', X.shape)\r\n",
        "\r\n",
        "# Create y target dataset\r\n",
        "y = pd.read_csv('/content/train.csv', usecols=['SalePrice'])\r\n",
        "print('y shape', y.shape)\r\n",
        "y = np.log1p(y)"
      ],
      "execution_count": null,
      "outputs": [
        {
          "output_type": "stream",
          "text": [
            "X shape: (1460, 173)\n",
            "y shape (1460, 1)\n"
          ],
          "name": "stdout"
        }
      ]
    },
    {
      "cell_type": "markdown",
      "metadata": {
        "id": "h5Q7UQaAgNjH"
      },
      "source": [
        "# Lasso feature selection"
      ]
    },
    {
      "cell_type": "code",
      "metadata": {
        "colab": {
          "base_uri": "https://localhost:8080/"
        },
        "id": "zNCLBh3ygG87",
        "outputId": "d8232958-84cc-4547-9ad9-d490673826a7"
      },
      "source": [
        "# First LassoCV\r\n",
        "from sklearn.preprocessing import StandardScaler\r\n",
        "from sklearn.model_selection import train_test_split\r\n",
        "from sklearn.linear_model import LassoCV\r\n",
        "\r\n",
        "# Create the training and test sets\r\n",
        "X_train, X_test, y_train, y_test= train_test_split(X, y, test_size=0.2, random_state=123)\r\n",
        "\r\n",
        "scaler = StandardScaler()\r\n",
        "\r\n",
        "# Create and fit the LassoCV model on the training set\r\n",
        "lcv = LassoCV()\r\n",
        "X_train_std = scaler.fit_transform(X_train)\r\n",
        "X_test_std = scaler.fit_transform(X_test)\r\n",
        "\r\n",
        "lcv.fit(X_train_std, y_train)\r\n",
        "print('Optimal alpha = {0:.3f}'.format(lcv.alpha_))\r\n",
        "\r\n",
        "# Calculate R squared on the test set\r\n",
        "r_squared = lcv.score(X_test_std, y_test)\r\n",
        "print('The model explains {0:.1%} of the test set variance'.format(r_squared))\r\n",
        "\r\n",
        "# Create a mask for coefficients not equal to zero\r\n",
        "lcv_mask = lcv.coef_ != 0\r\n",
        "print('{} features out of {} selected'.format(sum(lcv_mask), len(lcv_mask)))"
      ],
      "execution_count": null,
      "outputs": [
        {
          "output_type": "stream",
          "text": [
            "/usr/local/lib/python3.6/dist-packages/sklearn/linear_model/_coordinate_descent.py:1088: DataConversionWarning: A column-vector y was passed when a 1d array was expected. Please change the shape of y to (n_samples, ), for example using ravel().\n",
            "  y = column_or_1d(y, warn=True)\n"
          ],
          "name": "stderr"
        },
        {
          "output_type": "stream",
          "text": [
            "Optimal alpha = 0.004\n",
            "The model explains 91.2% of the test set variance\n",
            "80 features out of 173 selected\n"
          ],
          "name": "stdout"
        }
      ]
    },
    {
      "cell_type": "code",
      "metadata": {
        "colab": {
          "base_uri": "https://localhost:8080/"
        },
        "id": "Xi4olh8RgSPh",
        "outputId": "a1c293a1-072a-4dd2-c39c-4c84c87fbe03"
      },
      "source": [
        "# Second GradiendBoostingRegressor\r\n",
        "\r\n",
        "from sklearn.feature_selection import RFE\r\n",
        "from sklearn.ensemble import GradientBoostingRegressor\r\n",
        "\r\n",
        "# Select sum(lcv_mask) features with RFE on a GradientBoostingRegressor, drop 3 features on each step\r\n",
        "rfe_gb = RFE(estimator=GradientBoostingRegressor(), \r\n",
        "             n_features_to_select=sum(lcv_mask), step=3, verbose=1)\r\n",
        "rfe_gb.fit(X_train, y_train)\r\n",
        "\r\n",
        "# Calculate the R squared on the test set\r\n",
        "r_squared = rfe_gb.score(X_test, y_test)\r\n",
        "print('The model can explain {0:.1%} of the variance in the test set'.format(r_squared))\r\n",
        "\r\n",
        "# Assign the support array to gb_mask\r\n",
        "gb_mask = rfe_gb.support_"
      ],
      "execution_count": null,
      "outputs": [
        {
          "output_type": "stream",
          "text": [
            "/usr/local/lib/python3.6/dist-packages/sklearn/utils/validation.py:760: DataConversionWarning: A column-vector y was passed when a 1d array was expected. Please change the shape of y to (n_samples, ), for example using ravel().\n",
            "  y = column_or_1d(y, warn=True)\n"
          ],
          "name": "stderr"
        },
        {
          "output_type": "stream",
          "text": [
            "Fitting estimator with 173 features.\n",
            "Fitting estimator with 170 features.\n",
            "Fitting estimator with 167 features.\n",
            "Fitting estimator with 164 features.\n",
            "Fitting estimator with 161 features.\n",
            "Fitting estimator with 158 features.\n",
            "Fitting estimator with 155 features.\n",
            "Fitting estimator with 152 features.\n",
            "Fitting estimator with 149 features.\n",
            "Fitting estimator with 146 features.\n",
            "Fitting estimator with 143 features.\n",
            "Fitting estimator with 140 features.\n",
            "Fitting estimator with 137 features.\n",
            "Fitting estimator with 134 features.\n",
            "Fitting estimator with 131 features.\n",
            "Fitting estimator with 128 features.\n",
            "Fitting estimator with 125 features.\n",
            "Fitting estimator with 122 features.\n",
            "Fitting estimator with 119 features.\n",
            "Fitting estimator with 116 features.\n",
            "Fitting estimator with 113 features.\n",
            "Fitting estimator with 110 features.\n",
            "Fitting estimator with 107 features.\n",
            "Fitting estimator with 104 features.\n",
            "Fitting estimator with 101 features.\n",
            "Fitting estimator with 98 features.\n",
            "Fitting estimator with 95 features.\n",
            "Fitting estimator with 92 features.\n",
            "Fitting estimator with 89 features.\n",
            "Fitting estimator with 86 features.\n",
            "Fitting estimator with 83 features.\n",
            "The model can explain 91.0% of the variance in the test set\n"
          ],
          "name": "stdout"
        }
      ]
    },
    {
      "cell_type": "code",
      "metadata": {
        "colab": {
          "base_uri": "https://localhost:8080/"
        },
        "id": "NWndHvSOgTz0",
        "outputId": "08d86e70-28e7-4d35-ae91-42099057d591"
      },
      "source": [
        "# Third RandomForestRegressor\r\n",
        "\r\n",
        "from sklearn.feature_selection import RFE\r\n",
        "from sklearn.ensemble import RandomForestRegressor\r\n",
        "\r\n",
        "# Select sum(lcv_mask) features with RFE on a RandomForestRegressor, drop 3 features on each step\r\n",
        "rfe_rf = RFE(estimator=RandomForestRegressor(), \r\n",
        "             n_features_to_select=sum(lcv_mask), step=3, verbose=1)\r\n",
        "rfe_rf.fit(X_train, y_train)\r\n",
        "\r\n",
        "# Calculate the R squared on the test set\r\n",
        "r_squared = rfe_rf.score(X_test, y_test)\r\n",
        "print('The model can explain {0:.1%} of the variance in the test set'.format(r_squared))\r\n",
        "\r\n",
        "# Assign the support array to gb_mask\r\n",
        "rf_mask = rfe_rf.support_\r\n"
      ],
      "execution_count": null,
      "outputs": [
        {
          "output_type": "stream",
          "text": [
            "Fitting estimator with 173 features.\n"
          ],
          "name": "stdout"
        },
        {
          "output_type": "stream",
          "text": [
            "/usr/local/lib/python3.6/dist-packages/sklearn/utils/validation.py:760: DataConversionWarning: A column-vector y was passed when a 1d array was expected. Please change the shape of y to (n_samples, ), for example using ravel().\n",
            "  y = column_or_1d(y, warn=True)\n"
          ],
          "name": "stderr"
        },
        {
          "output_type": "stream",
          "text": [
            "Fitting estimator with 170 features.\n",
            "Fitting estimator with 167 features.\n",
            "Fitting estimator with 164 features.\n",
            "Fitting estimator with 161 features.\n",
            "Fitting estimator with 158 features.\n",
            "Fitting estimator with 155 features.\n",
            "Fitting estimator with 152 features.\n",
            "Fitting estimator with 149 features.\n",
            "Fitting estimator with 146 features.\n",
            "Fitting estimator with 143 features.\n",
            "Fitting estimator with 140 features.\n",
            "Fitting estimator with 137 features.\n",
            "Fitting estimator with 134 features.\n",
            "Fitting estimator with 131 features.\n",
            "Fitting estimator with 128 features.\n",
            "Fitting estimator with 125 features.\n",
            "Fitting estimator with 122 features.\n",
            "Fitting estimator with 119 features.\n",
            "Fitting estimator with 116 features.\n",
            "Fitting estimator with 113 features.\n",
            "Fitting estimator with 110 features.\n",
            "Fitting estimator with 107 features.\n",
            "Fitting estimator with 104 features.\n",
            "Fitting estimator with 101 features.\n",
            "Fitting estimator with 98 features.\n",
            "Fitting estimator with 95 features.\n",
            "Fitting estimator with 92 features.\n",
            "Fitting estimator with 89 features.\n",
            "Fitting estimator with 86 features.\n",
            "Fitting estimator with 83 features.\n",
            "The model can explain 89.1% of the variance in the test set\n"
          ],
          "name": "stdout"
        }
      ]
    },
    {
      "cell_type": "code",
      "metadata": {
        "colab": {
          "base_uri": "https://localhost:8080/",
          "height": 374
        },
        "id": "FdBZBnmFgV13",
        "outputId": "8e65976e-fc83-4b4d-d798-dfb6b4271f0e"
      },
      "source": [
        "# Fourth Step: Voting\r\n",
        "\r\n",
        "# Sum the votes of the three models\r\n",
        "votes = np.sum([lcv_mask, rf_mask, gb_mask], axis=0)\r\n",
        "display(votes)\r\n",
        "\r\n",
        "# Create a mask for features selected by all 3 models\r\n",
        "meta_mask = votes >= 3\r\n",
        "\r\n",
        "# Apply the dimensionality reduction on X\r\n",
        "X = X.loc[:, meta_mask]\r\n",
        "columnsx = X.columns\r\n",
        "columnsx"
      ],
      "execution_count": null,
      "outputs": [
        {
          "output_type": "display_data",
          "data": {
            "text/plain": [
              "array([2, 2, 3, 2, 3, 3, 3, 3, 3, 2, 2, 2, 3, 1, 3, 3, 3, 3, 2, 3, 3, 3,\n",
              "       3, 3, 2, 2, 2, 3, 2, 1, 2, 3, 3, 3, 3, 3, 2, 1, 2, 2, 3, 1, 1, 1,\n",
              "       2, 1, 1, 2, 2, 0, 2, 1, 2, 1, 3, 0, 3, 3, 1, 2, 3, 3, 0, 3, 1, 3,\n",
              "       2, 0, 0, 0, 0, 0, 0, 0, 3, 0, 1, 2, 1, 0, 0, 0, 3, 0, 0, 0, 1, 0,\n",
              "       1, 0, 2, 0, 1, 0, 1, 3, 1, 3, 0, 0, 2, 0, 1, 1, 2, 0, 0, 0, 1, 1,\n",
              "       2, 1, 0, 0, 0, 0, 2, 3, 2, 0, 1, 0, 0, 1, 0, 1, 1, 0, 1, 3, 1, 0,\n",
              "       0, 0, 0, 0, 1, 0, 0, 0, 0, 1, 0, 0, 1, 0, 0, 0, 2, 2, 0, 0, 0, 0,\n",
              "       1, 2, 0, 0, 1, 2, 2, 2, 2, 3, 3, 2, 3, 3, 3, 2, 3, 1, 2])"
            ]
          },
          "metadata": {
            "tags": []
          }
        },
        {
          "output_type": "execute_result",
          "data": {
            "text/plain": [
              "Index(['LotFrontage', 'Neighborhood', 'OverallQual', 'OverallCond',\n",
              "       'YearBuilt', 'YearRemodAdd', 'BsmtUnfSF', 'BsmtFullBath',\n",
              "       'BsmtHalfBath', 'FullBath', 'HalfBath', 'KitchenAbvGr', 'TotRmsAbvGrd',\n",
              "       'Fireplaces', 'GarageArea', 'WoodDeckSF', 'ScreenPorch', 'YrSold',\n",
              "       'Exterior_material', 'TotalSF', 'LotFrontage_log', 'LotArea_log',\n",
              "       'MSZoning_RM', 'HeatingQC_Gd', 'HeatingQC_TA', 'CentralAir_Y',\n",
              "       'KitchenQual_TA', 'GarageType_Attchd', 'GarageType_BuiltIn',\n",
              "       'GarageType_Detchd', 'GarageYrBlt_1920.0', 'GarageYrBlt_1928.0',\n",
              "       'GarageYrBlt_1941.0', 'GarageYrBlt_1945.0', 'GarageYrBlt_1965.0',\n",
              "       'GarageYrBlt_1977.0', 'GarageYrBlt_NA', 'GarageFinish_NA',\n",
              "       'GarageFinish_Unf', 'SaleType_WD', 'SaleCondition_Normal',\n",
              "       'MSZoning2_OTHER'],\n",
              "      dtype='object')"
            ]
          },
          "metadata": {
            "tags": []
          },
          "execution_count": 43
        }
      ]
    },
    {
      "cell_type": "markdown",
      "metadata": {
        "id": "SilR7_lBadkv"
      },
      "source": [
        "# TPOT"
      ]
    },
    {
      "cell_type": "code",
      "metadata": {
        "colab": {
          "base_uri": "https://localhost:8080/"
        },
        "id": "TvcSlr-VbLs3",
        "outputId": "84d86a96-b47d-4a86-85ff-27dde92ed67c"
      },
      "source": [
        "!pip install tpot"
      ],
      "execution_count": null,
      "outputs": [
        {
          "output_type": "stream",
          "text": [
            "Collecting tpot\n",
            "\u001b[?25l  Downloading https://files.pythonhosted.org/packages/21/55/08a98dbd10e6bd764c7a572d05d9d9eb80e3cc77d292541d097981abf35b/TPOT-0.11.6.post3-py3-none-any.whl (86kB)\n",
            "\r\u001b[K     |███▉                            | 10kB 17.7MB/s eta 0:00:01\r\u001b[K     |███████▋                        | 20kB 15.8MB/s eta 0:00:01\r\u001b[K     |███████████▍                    | 30kB 9.4MB/s eta 0:00:01\r\u001b[K     |███████████████▏                | 40kB 8.9MB/s eta 0:00:01\r\u001b[K     |███████████████████             | 51kB 4.5MB/s eta 0:00:01\r\u001b[K     |██████████████████████▉         | 61kB 4.7MB/s eta 0:00:01\r\u001b[K     |██████████████████████████▋     | 71kB 5.3MB/s eta 0:00:01\r\u001b[K     |██████████████████████████████▍ | 81kB 5.5MB/s eta 0:00:01\r\u001b[K     |████████████████████████████████| 92kB 3.8MB/s \n",
            "\u001b[?25hRequirement already satisfied: numpy>=1.16.3 in /usr/local/lib/python3.6/dist-packages (from tpot) (1.19.4)\n",
            "Collecting stopit>=1.1.1\n",
            "  Downloading https://files.pythonhosted.org/packages/35/58/e8bb0b0fb05baf07bbac1450c447d753da65f9701f551dca79823ce15d50/stopit-1.1.2.tar.gz\n",
            "Collecting xgboost>=1.1.0\n",
            "\u001b[?25l  Downloading https://files.pythonhosted.org/packages/29/c8/d6ff9fe39cb93ef2e66bb411c69e0135dd1b1ea98827eadbb2ba8baecb44/xgboost-1.3.1-py3-none-manylinux2010_x86_64.whl (157.5MB)\n",
            "\u001b[K     |████████████████████████████████| 157.5MB 88kB/s \n",
            "\u001b[?25hRequirement already satisfied: pandas>=0.24.2 in /usr/local/lib/python3.6/dist-packages (from tpot) (1.1.5)\n",
            "Collecting deap>=1.2\n",
            "\u001b[?25l  Downloading https://files.pythonhosted.org/packages/0a/eb/2bd0a32e3ce757fb26264765abbaedd6d4d3640d90219a513aeabd08ee2b/deap-1.3.1-cp36-cp36m-manylinux2010_x86_64.whl (157kB)\n",
            "\u001b[K     |████████████████████████████████| 163kB 36.0MB/s \n",
            "\u001b[?25hRequirement already satisfied: scipy>=1.3.1 in /usr/local/lib/python3.6/dist-packages (from tpot) (1.4.1)\n",
            "Requirement already satisfied: tqdm>=4.36.1 in /usr/local/lib/python3.6/dist-packages (from tpot) (4.41.1)\n",
            "Requirement already satisfied: joblib>=0.13.2 in /usr/local/lib/python3.6/dist-packages (from tpot) (1.0.0)\n",
            "Requirement already satisfied: scikit-learn>=0.22.0 in /usr/local/lib/python3.6/dist-packages (from tpot) (0.22.2.post1)\n",
            "Collecting update-checker>=0.16\n",
            "  Downloading https://files.pythonhosted.org/packages/0c/ba/8dd7fa5f0b1c6a8ac62f8f57f7e794160c1f86f31c6d0fb00f582372a3e4/update_checker-0.18.0-py3-none-any.whl\n",
            "Requirement already satisfied: pytz>=2017.2 in /usr/local/lib/python3.6/dist-packages (from pandas>=0.24.2->tpot) (2018.9)\n",
            "Requirement already satisfied: python-dateutil>=2.7.3 in /usr/local/lib/python3.6/dist-packages (from pandas>=0.24.2->tpot) (2.8.1)\n",
            "Requirement already satisfied: requests>=2.3.0 in /usr/local/lib/python3.6/dist-packages (from update-checker>=0.16->tpot) (2.23.0)\n",
            "Requirement already satisfied: six>=1.5 in /usr/local/lib/python3.6/dist-packages (from python-dateutil>=2.7.3->pandas>=0.24.2->tpot) (1.15.0)\n",
            "Requirement already satisfied: chardet<4,>=3.0.2 in /usr/local/lib/python3.6/dist-packages (from requests>=2.3.0->update-checker>=0.16->tpot) (3.0.4)\n",
            "Requirement already satisfied: idna<3,>=2.5 in /usr/local/lib/python3.6/dist-packages (from requests>=2.3.0->update-checker>=0.16->tpot) (2.10)\n",
            "Requirement already satisfied: certifi>=2017.4.17 in /usr/local/lib/python3.6/dist-packages (from requests>=2.3.0->update-checker>=0.16->tpot) (2020.12.5)\n",
            "Requirement already satisfied: urllib3!=1.25.0,!=1.25.1,<1.26,>=1.21.1 in /usr/local/lib/python3.6/dist-packages (from requests>=2.3.0->update-checker>=0.16->tpot) (1.24.3)\n",
            "Building wheels for collected packages: stopit\n",
            "  Building wheel for stopit (setup.py) ... \u001b[?25l\u001b[?25hdone\n",
            "  Created wheel for stopit: filename=stopit-1.1.2-cp36-none-any.whl size=11957 sha256=182976bf4a4754bd92cf69e93db4a72c24c6ccec7e83b6655b1654002bc02fc4\n",
            "  Stored in directory: /root/.cache/pip/wheels/3c/85/2b/2580190404636bfc63e8de3dff629c03bb795021e1983a6cc7\n",
            "Successfully built stopit\n",
            "Installing collected packages: stopit, xgboost, deap, update-checker, tpot\n",
            "  Found existing installation: xgboost 0.90\n",
            "    Uninstalling xgboost-0.90:\n",
            "      Successfully uninstalled xgboost-0.90\n",
            "Successfully installed deap-1.3.1 stopit-1.1.2 tpot-0.11.6.post3 update-checker-0.18.0 xgboost-1.3.1\n"
          ],
          "name": "stdout"
        }
      ]
    },
    {
      "cell_type": "code",
      "metadata": {
        "colab": {
          "base_uri": "https://localhost:8080/",
          "height": 1000,
          "referenced_widgets": [
            "cf47c1d2c76a43c88fd5eb6250b4e8c9",
            "27bd1780ee8d4af8b6772081e0a49c36",
            "c8383239ed27436f9ee25ccfdcc75bca",
            "66c5de89577b47cca453687280503936",
            "86a459e4f1664f0da4f5b5201d1c87b7",
            "44ca0538f329447e85d35dad18f6f2be",
            "95b637c9a77342bab28c271bc4a235c1",
            "9a1d30d4f49b4f94aa5a6085160490d7"
          ]
        },
        "id": "8tn_DKT6ac89",
        "outputId": "f91636d3-c9fb-4c45-d8aa-e33fcf81aa12"
      },
      "source": [
        "from tpot import TPOTRegressor\r\n",
        "import timeit\r\n",
        "\r\n",
        "tpot = TPOTRegressor(verbosity=3,  \r\n",
        "                    random_state=55, \r\n",
        "                    #scoring=rmsle,\r\n",
        "                    periodic_checkpoint_folder=\"intermediate_results\",\r\n",
        "                    n_jobs=-1, \r\n",
        "                    warm_start = True,\r\n",
        "                    generations=20, \r\n",
        "                    population_size=80,\r\n",
        "                    early_stop=8)\r\n",
        "times = []\r\n",
        "scores = []\r\n",
        "winning_pipes = []\r\n",
        "\r\n",
        "# run 2 iterations\r\n",
        "for x in range(1):\r\n",
        "    start_time = timeit.default_timer()\r\n",
        "    tpot.fit(X_train, y_train)\r\n",
        "    elapsed = timeit.default_timer() - start_time\r\n",
        "    times.append(elapsed)\r\n",
        "    winning_pipes.append(tpot.fitted_pipeline_)\r\n",
        "    scores.append(tpot.score(X_test, y_test))\r\n",
        "    tpot.export('tpot_ames.py')\r\n",
        "\r\n",
        "# output results\r\n",
        "times = [time/60 for time in times]\r\n",
        "print('Times:', times)\r\n",
        "print('Scores:', scores)   \r\n",
        "print('Winning pipelines:', winning_pipes)"
      ],
      "execution_count": null,
      "outputs": [
        {
          "output_type": "stream",
          "text": [
            "30 operators have been imported by TPOT.\n"
          ],
          "name": "stdout"
        },
        {
          "output_type": "stream",
          "text": [
            "/usr/local/lib/python3.6/dist-packages/sklearn/utils/validation.py:760: DataConversionWarning: A column-vector y was passed when a 1d array was expected. Please change the shape of y to (n_samples, ), for example using ravel().\n",
            "  y = column_or_1d(y, warn=True)\n"
          ],
          "name": "stderr"
        },
        {
          "output_type": "display_data",
          "data": {
            "application/vnd.jupyter.widget-view+json": {
              "model_id": "cf47c1d2c76a43c88fd5eb6250b4e8c9",
              "version_minor": 0,
              "version_major": 2
            },
            "text/plain": [
              "HBox(children=(FloatProgress(value=0.0, description='Optimization Progress', max=1680.0, style=ProgressStyle(d…"
            ]
          },
          "metadata": {
            "tags": []
          }
        },
        {
          "output_type": "stream",
          "text": [
            "_pre_test decorator: _mate_operator: num_test=0 Found array with 0 feature(s) (shape=(50, 0)) while a minimum of 1 is required..\n",
            "_pre_test decorator: _random_mutation_operator: num_test=0 Unsupported set of arguments: The combination of penalty='l2' and loss='epsilon_insensitive' are not supported when dual=False, Parameters: penalty='l2', loss='epsilon_insensitive', dual=False.\n",
            "_pre_test decorator: _random_mutation_operator: num_test=0 Cosine affinity cannot be used when X contains zero vectors.\n",
            "_pre_test decorator: _random_mutation_operator: num_test=0 Automatic alpha grid generation is not supported for l1_ratio=0. Please supply a grid by providing your estimator with the appropriate `alphas=` argument..\n",
            "Skipped pipeline #93 due to time out. Continuing to the next pipeline.\n",
            "\n",
            "Generation 1 - Current Pareto front scores:\n",
            "\n",
            "-1\t-0.018035432937463923\tGradientBoostingRegressor(input_matrix, GradientBoostingRegressor__alpha=0.8, GradientBoostingRegressor__learning_rate=0.1, GradientBoostingRegressor__loss=huber, GradientBoostingRegressor__max_depth=8, GradientBoostingRegressor__max_features=0.6000000000000001, GradientBoostingRegressor__min_samples_leaf=19, GradientBoostingRegressor__min_samples_split=5, GradientBoostingRegressor__n_estimators=100, GradientBoostingRegressor__subsample=0.6500000000000001)\n",
            "\n",
            "-2\t-0.01781028352276073\tGradientBoostingRegressor(RidgeCV(input_matrix), GradientBoostingRegressor__alpha=0.8, GradientBoostingRegressor__learning_rate=0.1, GradientBoostingRegressor__loss=huber, GradientBoostingRegressor__max_depth=8, GradientBoostingRegressor__max_features=0.6000000000000001, GradientBoostingRegressor__min_samples_leaf=19, GradientBoostingRegressor__min_samples_split=5, GradientBoostingRegressor__n_estimators=100, GradientBoostingRegressor__subsample=0.6500000000000001)\n",
            "Created new folder to save periodic pipeline: intermediate_results\n",
            "Saving periodic pipeline from pareto front to intermediate_results/pipeline_gen_1_idx_0_2021.01.05_17-29-39.py\n",
            "Saving periodic pipeline from pareto front to intermediate_results/pipeline_gen_1_idx_1_2021.01.05_17-29-39.py\n",
            "_pre_test decorator: _random_mutation_operator: num_test=0 '(slice(None, None, None), 0)' is an invalid key.\n",
            "_pre_test decorator: _random_mutation_operator: num_test=0 '(slice(None, None, None), 0)' is an invalid key.\n",
            "_pre_test decorator: _random_mutation_operator: num_test=0 Found array with 0 feature(s) (shape=(50, 0)) while a minimum of 1 is required..\n",
            "_pre_test decorator: _random_mutation_operator: num_test=0 cosine was provided as affinity. Ward can only work with euclidean distances..\n",
            "_pre_test decorator: _random_mutation_operator: num_test=0 feature_names mismatch: ['Id', 'MSSubClass', 'LotFrontage', 'LotArea', 'Neighborhood', 'OverallQual', 'OverallCond', 'YearBuilt', 'YearRemodAdd', 'MasVnrArea', 'BsmtFinSF1', 'BsmtFinSF2', 'BsmtUnfSF', 'LowQualFinSF', 'BsmtFullBath', 'BsmtHalfBath', 'FullBath', 'HalfBath', 'BedroomAbvGr', 'KitchenAbvGr', 'TotRmsAbvGrd', 'Fireplaces', 'GarageArea', 'WoodDeckSF', 'OpenPorchSF', 'EnclosedPorch', '3SsnPorch', 'ScreenPorch', 'PoolArea', 'MiscVal', 'MoSold', 'YrSold', 'Exterior_material', 'TotalSF', 'LotFrontage_log', 'LotArea_log', 'BsmtUnfSF_log', 'MSZoning_FV', 'MSZoning_RH', 'MSZoning_RL', 'MSZoning_RM', 'MasVnrType_BrkFace', 'MasVnrType_None', 'MasVnrType_Stone', 'ExterQual_Fa', 'ExterQual_Gd', 'ExterQual_TA', 'Foundation_CBlock', 'Foundation_PConc', 'Foundation_Slab/Stone/Wood', 'BsmtQual_Fa', 'BsmtQual_Gd', 'BsmtQual_TA', 'HeatingQC_Fa', 'HeatingQC_Gd', 'HeatingQC_Po', 'HeatingQC_TA', 'CentralAir_Y', 'KitchenQual_Fa', 'KitchenQual_Gd', 'KitchenQual_TA', 'GarageType_Attchd', 'GarageType_Basment', 'GarageType_BuiltIn', 'GarageType_CarPort', 'GarageType_Detchd', 'GarageType_NA', 'GarageYrBlt_1906.0', 'GarageYrBlt_1908.0', 'GarageYrBlt_1910.0', 'GarageYrBlt_1914.0', 'GarageYrBlt_1915.0', 'GarageYrBlt_1916.0', 'GarageYrBlt_1918.0', 'GarageYrBlt_1920.0', 'GarageYrBlt_1921.0', 'GarageYrBlt_1922.0', 'GarageYrBlt_1923.0', 'GarageYrBlt_1924.0', 'GarageYrBlt_1925.0', 'GarageYrBlt_1926.0', 'GarageYrBlt_1927.0', 'GarageYrBlt_1928.0', 'GarageYrBlt_1929.0', 'GarageYrBlt_1930.0', 'GarageYrBlt_1931.0', 'GarageYrBlt_1932.0', 'GarageYrBlt_1933.0', 'GarageYrBlt_1934.0', 'GarageYrBlt_1935.0', 'GarageYrBlt_1936.0', 'GarageYrBlt_1937.0', 'GarageYrBlt_1938.0', 'GarageYrBlt_1939.0', 'GarageYrBlt_1940.0', 'GarageYrBlt_1941.0', 'GarageYrBlt_1942.0', 'GarageYrBlt_1945.0', 'GarageYrBlt_1946.0', 'GarageYrBlt_1947.0', 'GarageYrBlt_1948.0', 'GarageYrBlt_1949.0', 'GarageYrBlt_1950.0', 'GarageYrBlt_1951.0', 'GarageYrBlt_1952.0', 'GarageYrBlt_1953.0', 'GarageYrBlt_1954.0', 'GarageYrBlt_1955.0', 'GarageYrBlt_1956.0', 'GarageYrBlt_1957.0', 'GarageYrBlt_1958.0', 'GarageYrBlt_1959.0', 'GarageYrBlt_1960.0', 'GarageYrBlt_1961.0', 'GarageYrBlt_1962.0', 'GarageYrBlt_1963.0', 'GarageYrBlt_1964.0', 'GarageYrBlt_1965.0', 'GarageYrBlt_1966.0', 'GarageYrBlt_1967.0', 'GarageYrBlt_1968.0', 'GarageYrBlt_1969.0', 'GarageYrBlt_1970.0', 'GarageYrBlt_1971.0', 'GarageYrBlt_1972.0', 'GarageYrBlt_1973.0', 'GarageYrBlt_1974.0', 'GarageYrBlt_1975.0', 'GarageYrBlt_1976.0', 'GarageYrBlt_1977.0', 'GarageYrBlt_1978.0', 'GarageYrBlt_1979.0', 'GarageYrBlt_1980.0', 'GarageYrBlt_1981.0', 'GarageYrBlt_1982.0', 'GarageYrBlt_1983.0', 'GarageYrBlt_1984.0', 'GarageYrBlt_1985.0', 'GarageYrBlt_1986.0', 'GarageYrBlt_1987.0', 'GarageYrBlt_1988.0', 'GarageYrBlt_1989.0', 'GarageYrBlt_1990.0', 'GarageYrBlt_1991.0', 'GarageYrBlt_1992.0', 'GarageYrBlt_1993.0', 'GarageYrBlt_1994.0', 'GarageYrBlt_1995.0', 'GarageYrBlt_1996.0', 'GarageYrBlt_1997.0', 'GarageYrBlt_1998.0', 'GarageYrBlt_1999.0', 'GarageYrBlt_2000.0', 'GarageYrBlt_2001.0', 'GarageYrBlt_2002.0', 'GarageYrBlt_2003.0', 'GarageYrBlt_2004.0', 'GarageYrBlt_2005.0', 'GarageYrBlt_2006.0', 'GarageYrBlt_2007.0', 'GarageYrBlt_2008.0', 'GarageYrBlt_2009.0', 'GarageYrBlt_2010.0', 'GarageYrBlt_NA', 'GarageFinish_NA', 'GarageFinish_RFn', 'GarageFinish_Unf', 'SaleType_WD', 'SaleCondition_Normal', 'SaleCondition_Partial', 'MSZoning2_OTHER', 'MSZoning2_RL', 'MSZoning2_RM'] ['f0', 'f1', 'f2', 'f3', 'f4', 'f5', 'f6', 'f7', 'f8', 'f9', 'f10', 'f11', 'f12', 'f13', 'f14', 'f15', 'f16', 'f17', 'f18', 'f19', 'f20', 'f21', 'f22', 'f23', 'f24', 'f25', 'f26', 'f27', 'f28', 'f29', 'f30', 'f31', 'f32', 'f33', 'f34', 'f35', 'f36', 'f37', 'f38', 'f39', 'f40', 'f41', 'f42', 'f43', 'f44', 'f45', 'f46', 'f47', 'f48', 'f49', 'f50', 'f51', 'f52', 'f53', 'f54', 'f55', 'f56', 'f57', 'f58', 'f59', 'f60', 'f61', 'f62', 'f63', 'f64', 'f65', 'f66', 'f67', 'f68', 'f69', 'f70', 'f71', 'f72', 'f73', 'f74', 'f75', 'f76', 'f77', 'f78', 'f79', 'f80', 'f81', 'f82', 'f83', 'f84', 'f85', 'f86', 'f87', 'f88', 'f89', 'f90', 'f91', 'f92', 'f93', 'f94', 'f95', 'f96', 'f97', 'f98', 'f99', 'f100', 'f101', 'f102', 'f103', 'f104', 'f105', 'f106', 'f107', 'f108', 'f109', 'f110', 'f111', 'f112', 'f113', 'f114', 'f115', 'f116', 'f117', 'f118', 'f119', 'f120', 'f121', 'f122', 'f123', 'f124', 'f125', 'f126', 'f127', 'f128', 'f129', 'f130', 'f131', 'f132', 'f133', 'f134', 'f135', 'f136', 'f137', 'f138', 'f139', 'f140', 'f141', 'f142', 'f143', 'f144', 'f145', 'f146', 'f147', 'f148', 'f149', 'f150', 'f151', 'f152', 'f153', 'f154', 'f155', 'f156', 'f157', 'f158', 'f159', 'f160', 'f161', 'f162', 'f163', 'f164', 'f165', 'f166', 'f167', 'f168', 'f169', 'f170', 'f171', 'f172']\n",
            "expected GarageYrBlt_2006.0, BedroomAbvGr, HeatingQC_Fa, GarageYrBlt_1939.0, GarageType_NA, GarageYrBlt_2000.0, ExterQual_Fa, GarageYrBlt_1993.0, MSZoning_FV, GarageYrBlt_1959.0, GarageYrBlt_2008.0, MoSold, GarageType_BuiltIn, GarageYrBlt_1931.0, BsmtFinSF2, Foundation_Slab/Stone/Wood, GarageYrBlt_1978.0, GarageFinish_RFn, 3SsnPorch, Fireplaces, GarageYrBlt_1942.0, GarageYrBlt_1925.0, GarageYrBlt_1920.0, GarageYrBlt_1986.0, GarageYrBlt_2002.0, GarageType_Attchd, GarageYrBlt_1934.0, GarageYrBlt_1973.0, GarageYrBlt_1964.0, SaleCondition_Partial, GarageYrBlt_1965.0, GarageYrBlt_1947.0, GarageYrBlt_1999.0, GarageYrBlt_NA, GarageYrBlt_1970.0, BsmtQual_TA, ExterQual_TA, BsmtUnfSF, GarageYrBlt_1990.0, GarageYrBlt_1954.0, Exterior_material, GarageFinish_NA, OpenPorchSF, GarageYrBlt_1940.0, GarageYrBlt_1906.0, GarageYrBlt_2004.0, GarageYrBlt_1980.0, GarageYrBlt_1981.0, GarageYrBlt_1971.0, MasVnrType_None, BsmtFullBath, GarageArea, MSZoning_RL, Neighborhood, GarageYrBlt_1969.0, BsmtQual_Fa, GarageYrBlt_1946.0, GarageYrBlt_1951.0, EnclosedPorch, MiscVal, GarageYrBlt_1910.0, HeatingQC_TA, BsmtQual_Gd, GarageYrBlt_1938.0, ExterQual_Gd, GarageYrBlt_1957.0, Foundation_PConc, GarageYrBlt_1968.0, WoodDeckSF, LotFrontage_log, GarageYrBlt_1922.0, KitchenAbvGr, GarageYrBlt_1956.0, GarageYrBlt_1923.0, GarageYrBlt_1929.0, GarageYrBlt_1996.0, BsmtHalfBath, GarageYrBlt_1998.0, BsmtFinSF1, MSSubClass, GarageYrBlt_1908.0, LotArea, FullBath, GarageYrBlt_1984.0, GarageYrBlt_1924.0, GarageYrBlt_2007.0, KitchenQual_Fa, GarageYrBlt_1949.0, GarageYrBlt_1950.0, HeatingQC_Po, GarageYrBlt_1982.0, GarageYrBlt_1961.0, GarageYrBlt_1916.0, GarageFinish_Unf, YrSold, MasVnrArea, OverallCond, GarageYrBlt_1926.0, MSZoning2_OTHER, ScreenPorch, GarageYrBlt_1958.0, GarageYrBlt_1948.0, GarageYrBlt_2005.0, GarageYrBlt_1967.0, GarageYrBlt_1962.0, GarageYrBlt_1963.0, GarageYrBlt_1955.0, GarageYrBlt_1921.0, LotFrontage, GarageYrBlt_1945.0, GarageYrBlt_1974.0, MSZoning_RH, GarageYrBlt_1914.0, GarageType_Detchd, TotRmsAbvGrd, LotArea_log, MasVnrType_BrkFace, KitchenQual_TA, GarageYrBlt_1928.0, GarageYrBlt_1992.0, MasVnrType_Stone, HeatingQC_Gd, MSZoning_RM, GarageYrBlt_1995.0, SaleCondition_Normal, GarageYrBlt_1972.0, GarageYrBlt_1975.0, GarageYrBlt_1918.0, GarageYrBlt_1966.0, GarageYrBlt_2003.0, GarageYrBlt_1953.0, LowQualFinSF, GarageYrBlt_1936.0, MSZoning2_RL, GarageYrBlt_1935.0, GarageYrBlt_1952.0, GarageYrBlt_2001.0, GarageYrBlt_1960.0, HalfBath, PoolArea, GarageYrBlt_1979.0, Foundation_CBlock, GarageType_Basment, GarageYrBlt_1941.0, CentralAir_Y, GarageYrBlt_1930.0, GarageYrBlt_1976.0, GarageYrBlt_1977.0, GarageYrBlt_1983.0, SaleType_WD, GarageYrBlt_1932.0, GarageYrBlt_1985.0, YearRemodAdd, GarageYrBlt_1997.0, KitchenQual_Gd, GarageYrBlt_2009.0, GarageYrBlt_1989.0, GarageYrBlt_1991.0, GarageYrBlt_1987.0, GarageYrBlt_1994.0, Id, GarageYrBlt_2010.0, GarageYrBlt_1915.0, OverallQual, GarageYrBlt_1988.0, GarageYrBlt_1927.0, TotalSF, GarageYrBlt_1933.0, MSZoning2_RM, BsmtUnfSF_log, YearBuilt, GarageType_CarPort, GarageYrBlt_1937.0 in input data\n",
            "training data did not have the following fields: f9, f87, f63, f90, f121, f162, f13, f24, f146, f46, f99, f137, f152, f103, f64, f123, f8, f102, f119, f144, f136, f117, f125, f47, f52, f62, f172, f34, f114, f134, f100, f91, f18, f51, f80, f78, f115, f110, f54, f141, f1, f161, f118, f16, f128, f151, f76, f113, f126, f68, f86, f25, f160, f32, f71, f127, f17, f2, f49, f159, f131, f20, f98, f109, f72, f33, f171, f163, f157, f10, f145, f94, f58, f67, f37, f61, f82, f48, f92, f4, f149, f23, f167, f3, f36, f7, f139, f53, f138, f142, f43, f132, f12, f50, f40, f35, f60, f169, f11, f154, f26, f89, f30, f29, f45, f28, f165, f77, f74, f153, f155, f97, f116, f44, f101, f31, f85, f56, f156, f122, f84, f66, f108, f42, f0, f6, f168, f57, f38, f65, f95, f111, f120, f148, f150, f14, f59, f93, f143, f27, f88, f19, f107, f166, f158, f73, f79, f140, f75, f105, f106, f21, f147, f5, f15, f170, f96, f83, f39, f124, f104, f130, f41, f22, f112, f129, f55, f133, f135, f81, f69, f164, f70.\n",
            "_pre_test decorator: _random_mutation_operator: num_test=1 x and y arrays must have at least 2 entries.\n",
            "_pre_test decorator: _random_mutation_operator: num_test=0 feature_names mismatch: ['Id', 'MSSubClass', 'LotFrontage', 'LotArea', 'Neighborhood', 'OverallQual', 'OverallCond', 'YearBuilt', 'YearRemodAdd', 'MasVnrArea', 'BsmtFinSF1', 'BsmtFinSF2', 'BsmtUnfSF', 'LowQualFinSF', 'BsmtFullBath', 'BsmtHalfBath', 'FullBath', 'HalfBath', 'BedroomAbvGr', 'KitchenAbvGr', 'TotRmsAbvGrd', 'Fireplaces', 'GarageArea', 'WoodDeckSF', 'OpenPorchSF', 'EnclosedPorch', '3SsnPorch', 'ScreenPorch', 'PoolArea', 'MiscVal', 'MoSold', 'YrSold', 'Exterior_material', 'TotalSF', 'LotFrontage_log', 'LotArea_log', 'BsmtUnfSF_log', 'MSZoning_FV', 'MSZoning_RH', 'MSZoning_RL', 'MSZoning_RM', 'MasVnrType_BrkFace', 'MasVnrType_None', 'MasVnrType_Stone', 'ExterQual_Fa', 'ExterQual_Gd', 'ExterQual_TA', 'Foundation_CBlock', 'Foundation_PConc', 'Foundation_Slab/Stone/Wood', 'BsmtQual_Fa', 'BsmtQual_Gd', 'BsmtQual_TA', 'HeatingQC_Fa', 'HeatingQC_Gd', 'HeatingQC_Po', 'HeatingQC_TA', 'CentralAir_Y', 'KitchenQual_Fa', 'KitchenQual_Gd', 'KitchenQual_TA', 'GarageType_Attchd', 'GarageType_Basment', 'GarageType_BuiltIn', 'GarageType_CarPort', 'GarageType_Detchd', 'GarageType_NA', 'GarageYrBlt_1906.0', 'GarageYrBlt_1908.0', 'GarageYrBlt_1910.0', 'GarageYrBlt_1914.0', 'GarageYrBlt_1915.0', 'GarageYrBlt_1916.0', 'GarageYrBlt_1918.0', 'GarageYrBlt_1920.0', 'GarageYrBlt_1921.0', 'GarageYrBlt_1922.0', 'GarageYrBlt_1923.0', 'GarageYrBlt_1924.0', 'GarageYrBlt_1925.0', 'GarageYrBlt_1926.0', 'GarageYrBlt_1927.0', 'GarageYrBlt_1928.0', 'GarageYrBlt_1929.0', 'GarageYrBlt_1930.0', 'GarageYrBlt_1931.0', 'GarageYrBlt_1932.0', 'GarageYrBlt_1933.0', 'GarageYrBlt_1934.0', 'GarageYrBlt_1935.0', 'GarageYrBlt_1936.0', 'GarageYrBlt_1937.0', 'GarageYrBlt_1938.0', 'GarageYrBlt_1939.0', 'GarageYrBlt_1940.0', 'GarageYrBlt_1941.0', 'GarageYrBlt_1942.0', 'GarageYrBlt_1945.0', 'GarageYrBlt_1946.0', 'GarageYrBlt_1947.0', 'GarageYrBlt_1948.0', 'GarageYrBlt_1949.0', 'GarageYrBlt_1950.0', 'GarageYrBlt_1951.0', 'GarageYrBlt_1952.0', 'GarageYrBlt_1953.0', 'GarageYrBlt_1954.0', 'GarageYrBlt_1955.0', 'GarageYrBlt_1956.0', 'GarageYrBlt_1957.0', 'GarageYrBlt_1958.0', 'GarageYrBlt_1959.0', 'GarageYrBlt_1960.0', 'GarageYrBlt_1961.0', 'GarageYrBlt_1962.0', 'GarageYrBlt_1963.0', 'GarageYrBlt_1964.0', 'GarageYrBlt_1965.0', 'GarageYrBlt_1966.0', 'GarageYrBlt_1967.0', 'GarageYrBlt_1968.0', 'GarageYrBlt_1969.0', 'GarageYrBlt_1970.0', 'GarageYrBlt_1971.0', 'GarageYrBlt_1972.0', 'GarageYrBlt_1973.0', 'GarageYrBlt_1974.0', 'GarageYrBlt_1975.0', 'GarageYrBlt_1976.0', 'GarageYrBlt_1977.0', 'GarageYrBlt_1978.0', 'GarageYrBlt_1979.0', 'GarageYrBlt_1980.0', 'GarageYrBlt_1981.0', 'GarageYrBlt_1982.0', 'GarageYrBlt_1983.0', 'GarageYrBlt_1984.0', 'GarageYrBlt_1985.0', 'GarageYrBlt_1986.0', 'GarageYrBlt_1987.0', 'GarageYrBlt_1988.0', 'GarageYrBlt_1989.0', 'GarageYrBlt_1990.0', 'GarageYrBlt_1991.0', 'GarageYrBlt_1992.0', 'GarageYrBlt_1993.0', 'GarageYrBlt_1994.0', 'GarageYrBlt_1995.0', 'GarageYrBlt_1996.0', 'GarageYrBlt_1997.0', 'GarageYrBlt_1998.0', 'GarageYrBlt_1999.0', 'GarageYrBlt_2000.0', 'GarageYrBlt_2001.0', 'GarageYrBlt_2002.0', 'GarageYrBlt_2003.0', 'GarageYrBlt_2004.0', 'GarageYrBlt_2005.0', 'GarageYrBlt_2006.0', 'GarageYrBlt_2007.0', 'GarageYrBlt_2008.0', 'GarageYrBlt_2009.0', 'GarageYrBlt_2010.0', 'GarageYrBlt_NA', 'GarageFinish_NA', 'GarageFinish_RFn', 'GarageFinish_Unf', 'SaleType_WD', 'SaleCondition_Normal', 'SaleCondition_Partial', 'MSZoning2_OTHER', 'MSZoning2_RL', 'MSZoning2_RM'] ['f0', 'f1', 'f2', 'f3', 'f4', 'f5', 'f6', 'f7', 'f8', 'f9', 'f10', 'f11', 'f12', 'f13', 'f14', 'f15', 'f16', 'f17', 'f18', 'f19', 'f20', 'f21', 'f22', 'f23', 'f24', 'f25', 'f26', 'f27', 'f28', 'f29', 'f30', 'f31', 'f32', 'f33', 'f34', 'f35', 'f36', 'f37', 'f38', 'f39', 'f40', 'f41', 'f42', 'f43', 'f44', 'f45', 'f46', 'f47', 'f48', 'f49', 'f50', 'f51', 'f52', 'f53', 'f54', 'f55', 'f56', 'f57', 'f58', 'f59', 'f60', 'f61', 'f62', 'f63', 'f64', 'f65', 'f66', 'f67', 'f68', 'f69', 'f70', 'f71', 'f72', 'f73', 'f74', 'f75', 'f76', 'f77', 'f78', 'f79', 'f80', 'f81', 'f82', 'f83', 'f84', 'f85', 'f86', 'f87', 'f88', 'f89', 'f90', 'f91', 'f92', 'f93', 'f94', 'f95', 'f96', 'f97', 'f98', 'f99', 'f100', 'f101', 'f102', 'f103', 'f104', 'f105', 'f106', 'f107', 'f108', 'f109', 'f110', 'f111', 'f112', 'f113', 'f114', 'f115', 'f116', 'f117', 'f118', 'f119', 'f120', 'f121', 'f122', 'f123', 'f124', 'f125', 'f126', 'f127', 'f128', 'f129', 'f130', 'f131', 'f132', 'f133', 'f134', 'f135', 'f136', 'f137', 'f138', 'f139', 'f140', 'f141', 'f142', 'f143', 'f144', 'f145', 'f146', 'f147', 'f148', 'f149', 'f150', 'f151', 'f152', 'f153', 'f154', 'f155', 'f156', 'f157', 'f158', 'f159', 'f160', 'f161', 'f162', 'f163', 'f164', 'f165', 'f166', 'f167', 'f168', 'f169', 'f170', 'f171', 'f172']\n",
            "expected GarageYrBlt_2006.0, BedroomAbvGr, HeatingQC_Fa, GarageYrBlt_1939.0, GarageType_NA, GarageYrBlt_2000.0, ExterQual_Fa, GarageYrBlt_1993.0, MSZoning_FV, GarageYrBlt_1959.0, GarageYrBlt_2008.0, MoSold, GarageType_BuiltIn, GarageYrBlt_1931.0, BsmtFinSF2, Foundation_Slab/Stone/Wood, GarageYrBlt_1978.0, GarageFinish_RFn, 3SsnPorch, Fireplaces, GarageYrBlt_1942.0, GarageYrBlt_1925.0, GarageYrBlt_1920.0, GarageYrBlt_1986.0, GarageYrBlt_2002.0, GarageType_Attchd, GarageYrBlt_1934.0, GarageYrBlt_1973.0, GarageYrBlt_1964.0, SaleCondition_Partial, GarageYrBlt_1965.0, GarageYrBlt_1947.0, GarageYrBlt_1999.0, GarageYrBlt_NA, GarageYrBlt_1970.0, BsmtQual_TA, ExterQual_TA, BsmtUnfSF, GarageYrBlt_1990.0, GarageYrBlt_1954.0, Exterior_material, GarageFinish_NA, OpenPorchSF, GarageYrBlt_1940.0, GarageYrBlt_1906.0, GarageYrBlt_2004.0, GarageYrBlt_1980.0, GarageYrBlt_1981.0, GarageYrBlt_1971.0, MasVnrType_None, BsmtFullBath, GarageArea, MSZoning_RL, Neighborhood, GarageYrBlt_1969.0, BsmtQual_Fa, GarageYrBlt_1946.0, GarageYrBlt_1951.0, EnclosedPorch, MiscVal, GarageYrBlt_1910.0, HeatingQC_TA, BsmtQual_Gd, GarageYrBlt_1938.0, ExterQual_Gd, GarageYrBlt_1957.0, Foundation_PConc, GarageYrBlt_1968.0, WoodDeckSF, LotFrontage_log, GarageYrBlt_1922.0, KitchenAbvGr, GarageYrBlt_1956.0, GarageYrBlt_1923.0, GarageYrBlt_1929.0, GarageYrBlt_1996.0, BsmtHalfBath, GarageYrBlt_1998.0, BsmtFinSF1, MSSubClass, GarageYrBlt_1908.0, LotArea, FullBath, GarageYrBlt_1984.0, GarageYrBlt_1924.0, GarageYrBlt_2007.0, KitchenQual_Fa, GarageYrBlt_1949.0, GarageYrBlt_1950.0, HeatingQC_Po, GarageYrBlt_1982.0, GarageYrBlt_1961.0, GarageYrBlt_1916.0, GarageFinish_Unf, YrSold, MasVnrArea, OverallCond, GarageYrBlt_1926.0, MSZoning2_OTHER, ScreenPorch, GarageYrBlt_1958.0, GarageYrBlt_1948.0, GarageYrBlt_2005.0, GarageYrBlt_1967.0, GarageYrBlt_1962.0, GarageYrBlt_1963.0, GarageYrBlt_1955.0, GarageYrBlt_1921.0, LotFrontage, GarageYrBlt_1945.0, GarageYrBlt_1974.0, MSZoning_RH, GarageYrBlt_1914.0, GarageType_Detchd, TotRmsAbvGrd, LotArea_log, MasVnrType_BrkFace, KitchenQual_TA, GarageYrBlt_1928.0, GarageYrBlt_1992.0, MasVnrType_Stone, HeatingQC_Gd, MSZoning_RM, GarageYrBlt_1995.0, SaleCondition_Normal, GarageYrBlt_1972.0, GarageYrBlt_1975.0, GarageYrBlt_1918.0, GarageYrBlt_1966.0, GarageYrBlt_2003.0, GarageYrBlt_1953.0, LowQualFinSF, GarageYrBlt_1936.0, MSZoning2_RL, GarageYrBlt_1935.0, GarageYrBlt_1952.0, GarageYrBlt_2001.0, GarageYrBlt_1960.0, HalfBath, PoolArea, GarageYrBlt_1979.0, Foundation_CBlock, GarageType_Basment, GarageYrBlt_1941.0, CentralAir_Y, GarageYrBlt_1930.0, GarageYrBlt_1976.0, GarageYrBlt_1977.0, GarageYrBlt_1983.0, SaleType_WD, GarageYrBlt_1932.0, GarageYrBlt_1985.0, YearRemodAdd, GarageYrBlt_1997.0, KitchenQual_Gd, GarageYrBlt_2009.0, GarageYrBlt_1989.0, GarageYrBlt_1991.0, GarageYrBlt_1987.0, GarageYrBlt_1994.0, Id, GarageYrBlt_2010.0, GarageYrBlt_1915.0, OverallQual, GarageYrBlt_1988.0, GarageYrBlt_1927.0, TotalSF, GarageYrBlt_1933.0, MSZoning2_RM, BsmtUnfSF_log, YearBuilt, GarageType_CarPort, GarageYrBlt_1937.0 in input data\n",
            "training data did not have the following fields: f9, f87, f63, f90, f121, f162, f13, f24, f146, f46, f99, f137, f152, f103, f64, f123, f8, f102, f119, f144, f136, f117, f125, f47, f52, f62, f172, f34, f114, f134, f100, f91, f18, f51, f80, f78, f115, f110, f54, f141, f1, f161, f118, f16, f128, f151, f76, f113, f126, f68, f86, f25, f160, f32, f71, f127, f17, f2, f49, f159, f131, f20, f98, f109, f72, f33, f171, f163, f157, f10, f145, f94, f58, f67, f37, f61, f82, f48, f92, f4, f149, f23, f167, f3, f36, f7, f139, f53, f138, f142, f43, f132, f12, f50, f40, f35, f60, f169, f11, f154, f26, f89, f30, f29, f45, f28, f165, f77, f74, f153, f155, f97, f116, f44, f101, f31, f85, f56, f156, f122, f84, f66, f108, f42, f0, f6, f168, f57, f38, f65, f95, f111, f120, f148, f150, f14, f59, f93, f143, f27, f88, f19, f107, f166, f158, f73, f79, f140, f75, f105, f106, f21, f147, f5, f15, f170, f96, f83, f39, f124, f104, f130, f41, f22, f112, f129, f55, f133, f135, f81, f69, f164, f70.\n",
            "Pipeline encountered that has previously been evaluated during the optimization process. Using the score from the previous evaluation.\n",
            "\n",
            "Generation 2 - Current Pareto front scores:\n",
            "\n",
            "-1\t-0.01793267448066584\tGradientBoostingRegressor(input_matrix, GradientBoostingRegressor__alpha=0.8, GradientBoostingRegressor__learning_rate=0.1, GradientBoostingRegressor__loss=huber, GradientBoostingRegressor__max_depth=10, GradientBoostingRegressor__max_features=0.6000000000000001, GradientBoostingRegressor__min_samples_leaf=19, GradientBoostingRegressor__min_samples_split=5, GradientBoostingRegressor__n_estimators=100, GradientBoostingRegressor__subsample=0.6500000000000001)\n",
            "\n",
            "-2\t-0.01781028352276073\tGradientBoostingRegressor(RidgeCV(input_matrix), GradientBoostingRegressor__alpha=0.8, GradientBoostingRegressor__learning_rate=0.1, GradientBoostingRegressor__loss=huber, GradientBoostingRegressor__max_depth=8, GradientBoostingRegressor__max_features=0.6000000000000001, GradientBoostingRegressor__min_samples_leaf=19, GradientBoostingRegressor__min_samples_split=5, GradientBoostingRegressor__n_estimators=100, GradientBoostingRegressor__subsample=0.6500000000000001)\n",
            "Saving periodic pipeline from pareto front to intermediate_results/pipeline_gen_2_idx_0_2021.01.05_17-34-25.py\n",
            "Periodic pipeline was not saved, probably saved before...\n",
            "_pre_test decorator: _random_mutation_operator: num_test=0 '(slice(None, None, None), 0)' is an invalid key.\n",
            "_pre_test decorator: _random_mutation_operator: num_test=0 Unsupported set of arguments: The combination of penalty='l2' and loss='epsilon_insensitive' are not supported when dual=False, Parameters: penalty='l2', loss='epsilon_insensitive', dual=False.\n",
            "_pre_test decorator: _random_mutation_operator: num_test=1 Expected n_neighbors <= n_samples,  but n_samples = 50, n_neighbors = 93.\n",
            "_pre_test decorator: _random_mutation_operator: num_test=0 Found array with 0 feature(s) (shape=(50, 0)) while a minimum of 1 is required..\n",
            "_pre_test decorator: _random_mutation_operator: num_test=0 Unsupported set of arguments: The combination of penalty='l2' and loss='epsilon_insensitive' are not supported when dual=False, Parameters: penalty='l2', loss='epsilon_insensitive', dual=False.\n",
            "_pre_test decorator: _random_mutation_operator: num_test=0 l2 was provided as affinity. Ward can only work with euclidean distances..\n",
            "_pre_test decorator: _random_mutation_operator: num_test=0 Found array with 0 feature(s) (shape=(50, 0)) while a minimum of 1 is required..\n",
            "_pre_test decorator: _random_mutation_operator: num_test=0 feature_names mismatch: ['Id', 'MSSubClass', 'LotFrontage', 'LotArea', 'Neighborhood', 'OverallQual', 'OverallCond', 'YearBuilt', 'YearRemodAdd', 'MasVnrArea', 'BsmtFinSF1', 'BsmtFinSF2', 'BsmtUnfSF', 'LowQualFinSF', 'BsmtFullBath', 'BsmtHalfBath', 'FullBath', 'HalfBath', 'BedroomAbvGr', 'KitchenAbvGr', 'TotRmsAbvGrd', 'Fireplaces', 'GarageArea', 'WoodDeckSF', 'OpenPorchSF', 'EnclosedPorch', '3SsnPorch', 'ScreenPorch', 'PoolArea', 'MiscVal', 'MoSold', 'YrSold', 'Exterior_material', 'TotalSF', 'LotFrontage_log', 'LotArea_log', 'BsmtUnfSF_log', 'MSZoning_FV', 'MSZoning_RH', 'MSZoning_RL', 'MSZoning_RM', 'MasVnrType_BrkFace', 'MasVnrType_None', 'MasVnrType_Stone', 'ExterQual_Fa', 'ExterQual_Gd', 'ExterQual_TA', 'Foundation_CBlock', 'Foundation_PConc', 'Foundation_Slab/Stone/Wood', 'BsmtQual_Fa', 'BsmtQual_Gd', 'BsmtQual_TA', 'HeatingQC_Fa', 'HeatingQC_Gd', 'HeatingQC_Po', 'HeatingQC_TA', 'CentralAir_Y', 'KitchenQual_Fa', 'KitchenQual_Gd', 'KitchenQual_TA', 'GarageType_Attchd', 'GarageType_Basment', 'GarageType_BuiltIn', 'GarageType_CarPort', 'GarageType_Detchd', 'GarageType_NA', 'GarageYrBlt_1906.0', 'GarageYrBlt_1908.0', 'GarageYrBlt_1910.0', 'GarageYrBlt_1914.0', 'GarageYrBlt_1915.0', 'GarageYrBlt_1916.0', 'GarageYrBlt_1918.0', 'GarageYrBlt_1920.0', 'GarageYrBlt_1921.0', 'GarageYrBlt_1922.0', 'GarageYrBlt_1923.0', 'GarageYrBlt_1924.0', 'GarageYrBlt_1925.0', 'GarageYrBlt_1926.0', 'GarageYrBlt_1927.0', 'GarageYrBlt_1928.0', 'GarageYrBlt_1929.0', 'GarageYrBlt_1930.0', 'GarageYrBlt_1931.0', 'GarageYrBlt_1932.0', 'GarageYrBlt_1933.0', 'GarageYrBlt_1934.0', 'GarageYrBlt_1935.0', 'GarageYrBlt_1936.0', 'GarageYrBlt_1937.0', 'GarageYrBlt_1938.0', 'GarageYrBlt_1939.0', 'GarageYrBlt_1940.0', 'GarageYrBlt_1941.0', 'GarageYrBlt_1942.0', 'GarageYrBlt_1945.0', 'GarageYrBlt_1946.0', 'GarageYrBlt_1947.0', 'GarageYrBlt_1948.0', 'GarageYrBlt_1949.0', 'GarageYrBlt_1950.0', 'GarageYrBlt_1951.0', 'GarageYrBlt_1952.0', 'GarageYrBlt_1953.0', 'GarageYrBlt_1954.0', 'GarageYrBlt_1955.0', 'GarageYrBlt_1956.0', 'GarageYrBlt_1957.0', 'GarageYrBlt_1958.0', 'GarageYrBlt_1959.0', 'GarageYrBlt_1960.0', 'GarageYrBlt_1961.0', 'GarageYrBlt_1962.0', 'GarageYrBlt_1963.0', 'GarageYrBlt_1964.0', 'GarageYrBlt_1965.0', 'GarageYrBlt_1966.0', 'GarageYrBlt_1967.0', 'GarageYrBlt_1968.0', 'GarageYrBlt_1969.0', 'GarageYrBlt_1970.0', 'GarageYrBlt_1971.0', 'GarageYrBlt_1972.0', 'GarageYrBlt_1973.0', 'GarageYrBlt_1974.0', 'GarageYrBlt_1975.0', 'GarageYrBlt_1976.0', 'GarageYrBlt_1977.0', 'GarageYrBlt_1978.0', 'GarageYrBlt_1979.0', 'GarageYrBlt_1980.0', 'GarageYrBlt_1981.0', 'GarageYrBlt_1982.0', 'GarageYrBlt_1983.0', 'GarageYrBlt_1984.0', 'GarageYrBlt_1985.0', 'GarageYrBlt_1986.0', 'GarageYrBlt_1987.0', 'GarageYrBlt_1988.0', 'GarageYrBlt_1989.0', 'GarageYrBlt_1990.0', 'GarageYrBlt_1991.0', 'GarageYrBlt_1992.0', 'GarageYrBlt_1993.0', 'GarageYrBlt_1994.0', 'GarageYrBlt_1995.0', 'GarageYrBlt_1996.0', 'GarageYrBlt_1997.0', 'GarageYrBlt_1998.0', 'GarageYrBlt_1999.0', 'GarageYrBlt_2000.0', 'GarageYrBlt_2001.0', 'GarageYrBlt_2002.0', 'GarageYrBlt_2003.0', 'GarageYrBlt_2004.0', 'GarageYrBlt_2005.0', 'GarageYrBlt_2006.0', 'GarageYrBlt_2007.0', 'GarageYrBlt_2008.0', 'GarageYrBlt_2009.0', 'GarageYrBlt_2010.0', 'GarageYrBlt_NA', 'GarageFinish_NA', 'GarageFinish_RFn', 'GarageFinish_Unf', 'SaleType_WD', 'SaleCondition_Normal', 'SaleCondition_Partial', 'MSZoning2_OTHER', 'MSZoning2_RL', 'MSZoning2_RM'] ['f0', 'f1', 'f2', 'f3', 'f4', 'f5', 'f6', 'f7', 'f8', 'f9', 'f10', 'f11', 'f12', 'f13', 'f14', 'f15', 'f16', 'f17', 'f18', 'f19', 'f20', 'f21', 'f22', 'f23', 'f24', 'f25', 'f26', 'f27', 'f28', 'f29', 'f30', 'f31', 'f32', 'f33', 'f34', 'f35', 'f36', 'f37', 'f38', 'f39', 'f40', 'f41', 'f42', 'f43', 'f44', 'f45', 'f46', 'f47', 'f48', 'f49', 'f50', 'f51', 'f52', 'f53', 'f54', 'f55', 'f56', 'f57', 'f58', 'f59', 'f60', 'f61', 'f62', 'f63', 'f64', 'f65', 'f66', 'f67', 'f68', 'f69', 'f70', 'f71', 'f72', 'f73', 'f74', 'f75', 'f76', 'f77', 'f78', 'f79', 'f80', 'f81', 'f82', 'f83', 'f84', 'f85', 'f86', 'f87', 'f88', 'f89', 'f90', 'f91', 'f92', 'f93', 'f94', 'f95', 'f96', 'f97', 'f98', 'f99', 'f100', 'f101', 'f102', 'f103', 'f104', 'f105', 'f106', 'f107', 'f108', 'f109', 'f110', 'f111', 'f112', 'f113', 'f114', 'f115', 'f116', 'f117', 'f118', 'f119', 'f120', 'f121', 'f122', 'f123', 'f124', 'f125', 'f126', 'f127', 'f128', 'f129', 'f130', 'f131', 'f132', 'f133', 'f134', 'f135', 'f136', 'f137', 'f138', 'f139', 'f140', 'f141', 'f142', 'f143', 'f144', 'f145', 'f146', 'f147', 'f148', 'f149', 'f150', 'f151', 'f152', 'f153', 'f154', 'f155', 'f156', 'f157', 'f158', 'f159', 'f160', 'f161', 'f162', 'f163', 'f164', 'f165', 'f166', 'f167', 'f168', 'f169', 'f170', 'f171', 'f172']\n",
            "expected GarageYrBlt_2006.0, BedroomAbvGr, HeatingQC_Fa, GarageYrBlt_1939.0, GarageType_NA, GarageYrBlt_2000.0, ExterQual_Fa, GarageYrBlt_1993.0, MSZoning_FV, GarageYrBlt_1959.0, GarageYrBlt_2008.0, MoSold, GarageType_BuiltIn, GarageYrBlt_1931.0, BsmtFinSF2, Foundation_Slab/Stone/Wood, GarageYrBlt_1978.0, GarageFinish_RFn, 3SsnPorch, Fireplaces, GarageYrBlt_1942.0, GarageYrBlt_1925.0, GarageYrBlt_1920.0, GarageYrBlt_1986.0, GarageYrBlt_2002.0, GarageType_Attchd, GarageYrBlt_1934.0, GarageYrBlt_1973.0, GarageYrBlt_1964.0, SaleCondition_Partial, GarageYrBlt_1965.0, GarageYrBlt_1947.0, GarageYrBlt_1999.0, GarageYrBlt_NA, GarageYrBlt_1970.0, BsmtQual_TA, ExterQual_TA, BsmtUnfSF, GarageYrBlt_1990.0, GarageYrBlt_1954.0, Exterior_material, GarageFinish_NA, OpenPorchSF, GarageYrBlt_1940.0, GarageYrBlt_1906.0, GarageYrBlt_2004.0, GarageYrBlt_1980.0, GarageYrBlt_1981.0, GarageYrBlt_1971.0, MasVnrType_None, BsmtFullBath, GarageArea, MSZoning_RL, Neighborhood, GarageYrBlt_1969.0, BsmtQual_Fa, GarageYrBlt_1946.0, GarageYrBlt_1951.0, EnclosedPorch, MiscVal, GarageYrBlt_1910.0, HeatingQC_TA, BsmtQual_Gd, GarageYrBlt_1938.0, ExterQual_Gd, GarageYrBlt_1957.0, Foundation_PConc, GarageYrBlt_1968.0, WoodDeckSF, LotFrontage_log, GarageYrBlt_1922.0, KitchenAbvGr, GarageYrBlt_1956.0, GarageYrBlt_1923.0, GarageYrBlt_1929.0, GarageYrBlt_1996.0, BsmtHalfBath, GarageYrBlt_1998.0, BsmtFinSF1, MSSubClass, GarageYrBlt_1908.0, LotArea, FullBath, GarageYrBlt_1984.0, GarageYrBlt_1924.0, GarageYrBlt_2007.0, KitchenQual_Fa, GarageYrBlt_1949.0, GarageYrBlt_1950.0, HeatingQC_Po, GarageYrBlt_1982.0, GarageYrBlt_1961.0, GarageYrBlt_1916.0, GarageFinish_Unf, YrSold, MasVnrArea, OverallCond, GarageYrBlt_1926.0, MSZoning2_OTHER, ScreenPorch, GarageYrBlt_1958.0, GarageYrBlt_1948.0, GarageYrBlt_2005.0, GarageYrBlt_1967.0, GarageYrBlt_1962.0, GarageYrBlt_1963.0, GarageYrBlt_1955.0, GarageYrBlt_1921.0, LotFrontage, GarageYrBlt_1945.0, GarageYrBlt_1974.0, MSZoning_RH, GarageYrBlt_1914.0, GarageType_Detchd, TotRmsAbvGrd, LotArea_log, MasVnrType_BrkFace, KitchenQual_TA, GarageYrBlt_1928.0, GarageYrBlt_1992.0, MasVnrType_Stone, HeatingQC_Gd, MSZoning_RM, GarageYrBlt_1995.0, SaleCondition_Normal, GarageYrBlt_1972.0, GarageYrBlt_1975.0, GarageYrBlt_1918.0, GarageYrBlt_1966.0, GarageYrBlt_2003.0, GarageYrBlt_1953.0, LowQualFinSF, GarageYrBlt_1936.0, MSZoning2_RL, GarageYrBlt_1935.0, GarageYrBlt_1952.0, GarageYrBlt_2001.0, GarageYrBlt_1960.0, HalfBath, PoolArea, GarageYrBlt_1979.0, Foundation_CBlock, GarageType_Basment, GarageYrBlt_1941.0, CentralAir_Y, GarageYrBlt_1930.0, GarageYrBlt_1976.0, GarageYrBlt_1977.0, GarageYrBlt_1983.0, SaleType_WD, GarageYrBlt_1932.0, GarageYrBlt_1985.0, YearRemodAdd, GarageYrBlt_1997.0, KitchenQual_Gd, GarageYrBlt_2009.0, GarageYrBlt_1989.0, GarageYrBlt_1991.0, GarageYrBlt_1987.0, GarageYrBlt_1994.0, Id, GarageYrBlt_2010.0, GarageYrBlt_1915.0, OverallQual, GarageYrBlt_1988.0, GarageYrBlt_1927.0, TotalSF, GarageYrBlt_1933.0, MSZoning2_RM, BsmtUnfSF_log, YearBuilt, GarageType_CarPort, GarageYrBlt_1937.0 in input data\n",
            "training data did not have the following fields: f9, f87, f63, f90, f121, f162, f13, f24, f146, f46, f99, f137, f152, f103, f64, f123, f8, f102, f119, f144, f136, f117, f125, f47, f52, f62, f172, f34, f114, f134, f100, f91, f18, f51, f80, f78, f115, f110, f54, f141, f1, f161, f118, f16, f128, f151, f76, f113, f126, f68, f86, f25, f160, f32, f71, f127, f17, f2, f49, f159, f131, f20, f98, f109, f72, f33, f171, f163, f157, f10, f145, f94, f58, f67, f37, f61, f82, f48, f92, f4, f149, f23, f167, f3, f36, f7, f139, f53, f138, f142, f43, f132, f12, f50, f40, f35, f60, f169, f11, f154, f26, f89, f30, f29, f45, f28, f165, f77, f74, f153, f155, f97, f116, f44, f101, f31, f85, f56, f156, f122, f84, f66, f108, f42, f0, f6, f168, f57, f38, f65, f95, f111, f120, f148, f150, f14, f59, f93, f143, f27, f88, f19, f107, f166, f158, f73, f79, f140, f75, f105, f106, f21, f147, f5, f15, f170, f96, f83, f39, f124, f104, f130, f41, f22, f112, f129, f55, f133, f135, f81, f69, f164, f70.\n",
            "_pre_test decorator: _random_mutation_operator: num_test=0 Cosine affinity cannot be used when X contains zero vectors.\n",
            "Pipeline encountered that has previously been evaluated during the optimization process. Using the score from the previous evaluation.\n",
            "Pipeline encountered that has previously been evaluated during the optimization process. Using the score from the previous evaluation.\n",
            "Skipped pipeline #272 due to time out. Continuing to the next pipeline.\n",
            "\n",
            "Generation 3 - Current Pareto front scores:\n",
            "\n",
            "-1\t-0.01793267448066584\tGradientBoostingRegressor(input_matrix, GradientBoostingRegressor__alpha=0.8, GradientBoostingRegressor__learning_rate=0.1, GradientBoostingRegressor__loss=huber, GradientBoostingRegressor__max_depth=10, GradientBoostingRegressor__max_features=0.6000000000000001, GradientBoostingRegressor__min_samples_leaf=19, GradientBoostingRegressor__min_samples_split=5, GradientBoostingRegressor__n_estimators=100, GradientBoostingRegressor__subsample=0.6500000000000001)\n",
            "\n",
            "-2\t-0.017575421737729212\tGradientBoostingRegressor(RidgeCV(input_matrix), GradientBoostingRegressor__alpha=0.99, GradientBoostingRegressor__learning_rate=0.1, GradientBoostingRegressor__loss=huber, GradientBoostingRegressor__max_depth=8, GradientBoostingRegressor__max_features=0.6000000000000001, GradientBoostingRegressor__min_samples_leaf=19, GradientBoostingRegressor__min_samples_split=12, GradientBoostingRegressor__n_estimators=100, GradientBoostingRegressor__subsample=0.6500000000000001)\n",
            "Periodic pipeline was not saved, probably saved before...\n",
            "Saving periodic pipeline from pareto front to intermediate_results/pipeline_gen_3_idx_1_2021.01.05_17-50-37.py\n",
            "_pre_test decorator: _random_mutation_operator: num_test=0 Found array with 0 feature(s) (shape=(50, 0)) while a minimum of 1 is required..\n",
            "_pre_test decorator: _random_mutation_operator: num_test=0 cosine was provided as affinity. Ward can only work with euclidean distances..\n",
            "_pre_test decorator: _random_mutation_operator: num_test=0 Found array with 0 feature(s) (shape=(50, 0)) while a minimum of 1 is required..\n",
            "_pre_test decorator: _random_mutation_operator: num_test=0 Found array with 0 feature(s) (shape=(50, 0)) while a minimum of 1 is required..\n",
            "_pre_test decorator: _random_mutation_operator: num_test=0 l1 was provided as affinity. Ward can only work with euclidean distances..\n",
            "_pre_test decorator: _random_mutation_operator: num_test=0 [17:50:58] ../src/learner.cc:567: Check failed: mparam_.num_feature != 0 (0 vs. 0) : 0 feature is supplied.  Are you using raw Booster interface?\n",
            "Stack trace:\n",
            "  [bt] (0) /usr/local/lib/python3.6/dist-packages/xgboost/lib/libxgboost.so(+0x8d264) [0x7fe847508264]\n",
            "  [bt] (1) /usr/local/lib/python3.6/dist-packages/xgboost/lib/libxgboost.so(+0x1ae8d2) [0x7fe8476298d2]\n",
            "  [bt] (2) /usr/local/lib/python3.6/dist-packages/xgboost/lib/libxgboost.so(+0x1bc0ac) [0x7fe8476370ac]\n",
            "  [bt] (3) /usr/local/lib/python3.6/dist-packages/xgboost/lib/libxgboost.so(+0x1a29cb) [0x7fe84761d9cb]\n",
            "  [bt] (4) /usr/local/lib/python3.6/dist-packages/xgboost/lib/libxgboost.so(XGBoosterUpdateOneIter+0x58) [0x7fe8474fb0c8]\n",
            "  [bt] (5) /usr/lib/x86_64-linux-gnu/libffi.so.6(ffi_call_unix64+0x4c) [0x7fe8e5155dae]\n",
            "  [bt] (6) /usr/lib/x86_64-linux-gnu/libffi.so.6(ffi_call+0x22f) [0x7fe8e515571f]\n",
            "  [bt] (7) /usr/lib/python3.6/lib-dynload/_ctypes.cpython-36m-x86_64-linux-gnu.so(_ctypes_callproc+0x2b4) [0x7fe8e53695c4]\n",
            "  [bt] (8) /usr/lib/python3.6/lib-dynload/_ctypes.cpython-36m-x86_64-linux-gnu.so(+0x11c33) [0x7fe8e5369c33]\n",
            "\n",
            ".\n",
            "_pre_test decorator: _random_mutation_operator: num_test=0 Unsupported set of arguments: The combination of penalty='l2' and loss='epsilon_insensitive' are not supported when dual=False, Parameters: penalty='l2', loss='epsilon_insensitive', dual=False.\n",
            "Invalid pipeline encountered. Skipping its evaluation.\n",
            "Skipped pipeline #370 due to time out. Continuing to the next pipeline.\n",
            "\n",
            "Generation 4 - Current Pareto front scores:\n",
            "\n",
            "-1\t-0.017414628200901793\tGradientBoostingRegressor(input_matrix, GradientBoostingRegressor__alpha=0.99, GradientBoostingRegressor__learning_rate=0.1, GradientBoostingRegressor__loss=huber, GradientBoostingRegressor__max_depth=8, GradientBoostingRegressor__max_features=0.6000000000000001, GradientBoostingRegressor__min_samples_leaf=19, GradientBoostingRegressor__min_samples_split=5, GradientBoostingRegressor__n_estimators=100, GradientBoostingRegressor__subsample=0.6500000000000001)\n",
            "Saving periodic pipeline from pareto front to intermediate_results/pipeline_gen_4_idx_0_2021.01.05_18-10-44.py\n",
            "_pre_test decorator: _random_mutation_operator: num_test=0 Expected n_neighbors <= n_samples,  but n_samples = 50, n_neighbors = 100.\n",
            "_pre_test decorator: _random_mutation_operator: num_test=0 feature_names mismatch: ['Id', 'MSSubClass', 'LotFrontage', 'LotArea', 'Neighborhood', 'OverallQual', 'OverallCond', 'YearBuilt', 'YearRemodAdd', 'MasVnrArea', 'BsmtFinSF1', 'BsmtFinSF2', 'BsmtUnfSF', 'LowQualFinSF', 'BsmtFullBath', 'BsmtHalfBath', 'FullBath', 'HalfBath', 'BedroomAbvGr', 'KitchenAbvGr', 'TotRmsAbvGrd', 'Fireplaces', 'GarageArea', 'WoodDeckSF', 'OpenPorchSF', 'EnclosedPorch', '3SsnPorch', 'ScreenPorch', 'PoolArea', 'MiscVal', 'MoSold', 'YrSold', 'Exterior_material', 'TotalSF', 'LotFrontage_log', 'LotArea_log', 'BsmtUnfSF_log', 'MSZoning_FV', 'MSZoning_RH', 'MSZoning_RL', 'MSZoning_RM', 'MasVnrType_BrkFace', 'MasVnrType_None', 'MasVnrType_Stone', 'ExterQual_Fa', 'ExterQual_Gd', 'ExterQual_TA', 'Foundation_CBlock', 'Foundation_PConc', 'Foundation_Slab/Stone/Wood', 'BsmtQual_Fa', 'BsmtQual_Gd', 'BsmtQual_TA', 'HeatingQC_Fa', 'HeatingQC_Gd', 'HeatingQC_Po', 'HeatingQC_TA', 'CentralAir_Y', 'KitchenQual_Fa', 'KitchenQual_Gd', 'KitchenQual_TA', 'GarageType_Attchd', 'GarageType_Basment', 'GarageType_BuiltIn', 'GarageType_CarPort', 'GarageType_Detchd', 'GarageType_NA', 'GarageYrBlt_1906.0', 'GarageYrBlt_1908.0', 'GarageYrBlt_1910.0', 'GarageYrBlt_1914.0', 'GarageYrBlt_1915.0', 'GarageYrBlt_1916.0', 'GarageYrBlt_1918.0', 'GarageYrBlt_1920.0', 'GarageYrBlt_1921.0', 'GarageYrBlt_1922.0', 'GarageYrBlt_1923.0', 'GarageYrBlt_1924.0', 'GarageYrBlt_1925.0', 'GarageYrBlt_1926.0', 'GarageYrBlt_1927.0', 'GarageYrBlt_1928.0', 'GarageYrBlt_1929.0', 'GarageYrBlt_1930.0', 'GarageYrBlt_1931.0', 'GarageYrBlt_1932.0', 'GarageYrBlt_1933.0', 'GarageYrBlt_1934.0', 'GarageYrBlt_1935.0', 'GarageYrBlt_1936.0', 'GarageYrBlt_1937.0', 'GarageYrBlt_1938.0', 'GarageYrBlt_1939.0', 'GarageYrBlt_1940.0', 'GarageYrBlt_1941.0', 'GarageYrBlt_1942.0', 'GarageYrBlt_1945.0', 'GarageYrBlt_1946.0', 'GarageYrBlt_1947.0', 'GarageYrBlt_1948.0', 'GarageYrBlt_1949.0', 'GarageYrBlt_1950.0', 'GarageYrBlt_1951.0', 'GarageYrBlt_1952.0', 'GarageYrBlt_1953.0', 'GarageYrBlt_1954.0', 'GarageYrBlt_1955.0', 'GarageYrBlt_1956.0', 'GarageYrBlt_1957.0', 'GarageYrBlt_1958.0', 'GarageYrBlt_1959.0', 'GarageYrBlt_1960.0', 'GarageYrBlt_1961.0', 'GarageYrBlt_1962.0', 'GarageYrBlt_1963.0', 'GarageYrBlt_1964.0', 'GarageYrBlt_1965.0', 'GarageYrBlt_1966.0', 'GarageYrBlt_1967.0', 'GarageYrBlt_1968.0', 'GarageYrBlt_1969.0', 'GarageYrBlt_1970.0', 'GarageYrBlt_1971.0', 'GarageYrBlt_1972.0', 'GarageYrBlt_1973.0', 'GarageYrBlt_1974.0', 'GarageYrBlt_1975.0', 'GarageYrBlt_1976.0', 'GarageYrBlt_1977.0', 'GarageYrBlt_1978.0', 'GarageYrBlt_1979.0', 'GarageYrBlt_1980.0', 'GarageYrBlt_1981.0', 'GarageYrBlt_1982.0', 'GarageYrBlt_1983.0', 'GarageYrBlt_1984.0', 'GarageYrBlt_1985.0', 'GarageYrBlt_1986.0', 'GarageYrBlt_1987.0', 'GarageYrBlt_1988.0', 'GarageYrBlt_1989.0', 'GarageYrBlt_1990.0', 'GarageYrBlt_1991.0', 'GarageYrBlt_1992.0', 'GarageYrBlt_1993.0', 'GarageYrBlt_1994.0', 'GarageYrBlt_1995.0', 'GarageYrBlt_1996.0', 'GarageYrBlt_1997.0', 'GarageYrBlt_1998.0', 'GarageYrBlt_1999.0', 'GarageYrBlt_2000.0', 'GarageYrBlt_2001.0', 'GarageYrBlt_2002.0', 'GarageYrBlt_2003.0', 'GarageYrBlt_2004.0', 'GarageYrBlt_2005.0', 'GarageYrBlt_2006.0', 'GarageYrBlt_2007.0', 'GarageYrBlt_2008.0', 'GarageYrBlt_2009.0', 'GarageYrBlt_2010.0', 'GarageYrBlt_NA', 'GarageFinish_NA', 'GarageFinish_RFn', 'GarageFinish_Unf', 'SaleType_WD', 'SaleCondition_Normal', 'SaleCondition_Partial', 'MSZoning2_OTHER', 'MSZoning2_RL', 'MSZoning2_RM'] ['f0', 'f1', 'f2', 'f3', 'f4', 'f5', 'f6', 'f7', 'f8', 'f9', 'f10', 'f11', 'f12', 'f13', 'f14', 'f15', 'f16', 'f17', 'f18', 'f19', 'f20', 'f21', 'f22', 'f23', 'f24', 'f25', 'f26', 'f27', 'f28', 'f29', 'f30', 'f31', 'f32', 'f33', 'f34', 'f35', 'f36', 'f37', 'f38', 'f39', 'f40', 'f41', 'f42', 'f43', 'f44', 'f45', 'f46', 'f47', 'f48', 'f49', 'f50', 'f51', 'f52', 'f53', 'f54', 'f55', 'f56', 'f57', 'f58', 'f59', 'f60', 'f61', 'f62', 'f63', 'f64', 'f65', 'f66', 'f67', 'f68', 'f69', 'f70', 'f71', 'f72', 'f73', 'f74', 'f75', 'f76', 'f77', 'f78', 'f79', 'f80', 'f81', 'f82', 'f83', 'f84', 'f85', 'f86', 'f87', 'f88', 'f89', 'f90', 'f91', 'f92', 'f93', 'f94', 'f95', 'f96', 'f97', 'f98', 'f99', 'f100', 'f101', 'f102', 'f103', 'f104', 'f105', 'f106', 'f107', 'f108', 'f109', 'f110', 'f111', 'f112', 'f113', 'f114', 'f115', 'f116', 'f117', 'f118', 'f119', 'f120', 'f121', 'f122', 'f123', 'f124', 'f125', 'f126', 'f127', 'f128', 'f129', 'f130', 'f131', 'f132', 'f133', 'f134', 'f135', 'f136', 'f137', 'f138', 'f139', 'f140', 'f141', 'f142', 'f143', 'f144', 'f145', 'f146', 'f147', 'f148', 'f149', 'f150', 'f151', 'f152', 'f153', 'f154', 'f155', 'f156', 'f157', 'f158', 'f159', 'f160', 'f161', 'f162', 'f163', 'f164', 'f165', 'f166', 'f167', 'f168', 'f169', 'f170', 'f171', 'f172']\n",
            "expected GarageYrBlt_2006.0, BedroomAbvGr, HeatingQC_Fa, GarageYrBlt_1939.0, GarageType_NA, GarageYrBlt_2000.0, ExterQual_Fa, GarageYrBlt_1993.0, MSZoning_FV, GarageYrBlt_1959.0, GarageYrBlt_2008.0, MoSold, GarageType_BuiltIn, GarageYrBlt_1931.0, BsmtFinSF2, Foundation_Slab/Stone/Wood, GarageYrBlt_1978.0, GarageFinish_RFn, 3SsnPorch, Fireplaces, GarageYrBlt_1942.0, GarageYrBlt_1925.0, GarageYrBlt_1920.0, GarageYrBlt_1986.0, GarageYrBlt_2002.0, GarageType_Attchd, GarageYrBlt_1934.0, GarageYrBlt_1973.0, GarageYrBlt_1964.0, SaleCondition_Partial, GarageYrBlt_1965.0, GarageYrBlt_1947.0, GarageYrBlt_1999.0, GarageYrBlt_NA, GarageYrBlt_1970.0, BsmtQual_TA, ExterQual_TA, BsmtUnfSF, GarageYrBlt_1990.0, GarageYrBlt_1954.0, Exterior_material, GarageFinish_NA, OpenPorchSF, GarageYrBlt_1940.0, GarageYrBlt_1906.0, GarageYrBlt_2004.0, GarageYrBlt_1980.0, GarageYrBlt_1981.0, GarageYrBlt_1971.0, MasVnrType_None, BsmtFullBath, GarageArea, MSZoning_RL, Neighborhood, GarageYrBlt_1969.0, BsmtQual_Fa, GarageYrBlt_1946.0, GarageYrBlt_1951.0, EnclosedPorch, MiscVal, GarageYrBlt_1910.0, HeatingQC_TA, BsmtQual_Gd, GarageYrBlt_1938.0, ExterQual_Gd, GarageYrBlt_1957.0, Foundation_PConc, GarageYrBlt_1968.0, WoodDeckSF, LotFrontage_log, GarageYrBlt_1922.0, KitchenAbvGr, GarageYrBlt_1956.0, GarageYrBlt_1923.0, GarageYrBlt_1929.0, GarageYrBlt_1996.0, BsmtHalfBath, GarageYrBlt_1998.0, BsmtFinSF1, MSSubClass, GarageYrBlt_1908.0, LotArea, FullBath, GarageYrBlt_1984.0, GarageYrBlt_1924.0, GarageYrBlt_2007.0, KitchenQual_Fa, GarageYrBlt_1949.0, GarageYrBlt_1950.0, HeatingQC_Po, GarageYrBlt_1982.0, GarageYrBlt_1961.0, GarageYrBlt_1916.0, GarageFinish_Unf, YrSold, MasVnrArea, OverallCond, GarageYrBlt_1926.0, MSZoning2_OTHER, ScreenPorch, GarageYrBlt_1958.0, GarageYrBlt_1948.0, GarageYrBlt_2005.0, GarageYrBlt_1967.0, GarageYrBlt_1962.0, GarageYrBlt_1963.0, GarageYrBlt_1955.0, GarageYrBlt_1921.0, LotFrontage, GarageYrBlt_1945.0, GarageYrBlt_1974.0, MSZoning_RH, GarageYrBlt_1914.0, GarageType_Detchd, TotRmsAbvGrd, LotArea_log, MasVnrType_BrkFace, KitchenQual_TA, GarageYrBlt_1928.0, GarageYrBlt_1992.0, MasVnrType_Stone, HeatingQC_Gd, MSZoning_RM, GarageYrBlt_1995.0, SaleCondition_Normal, GarageYrBlt_1972.0, GarageYrBlt_1975.0, GarageYrBlt_1918.0, GarageYrBlt_1966.0, GarageYrBlt_2003.0, GarageYrBlt_1953.0, LowQualFinSF, GarageYrBlt_1936.0, MSZoning2_RL, GarageYrBlt_1935.0, GarageYrBlt_1952.0, GarageYrBlt_2001.0, GarageYrBlt_1960.0, HalfBath, PoolArea, GarageYrBlt_1979.0, Foundation_CBlock, GarageType_Basment, GarageYrBlt_1941.0, CentralAir_Y, GarageYrBlt_1930.0, GarageYrBlt_1976.0, GarageYrBlt_1977.0, GarageYrBlt_1983.0, SaleType_WD, GarageYrBlt_1932.0, GarageYrBlt_1985.0, YearRemodAdd, GarageYrBlt_1997.0, KitchenQual_Gd, GarageYrBlt_2009.0, GarageYrBlt_1989.0, GarageYrBlt_1991.0, GarageYrBlt_1987.0, GarageYrBlt_1994.0, Id, GarageYrBlt_2010.0, GarageYrBlt_1915.0, OverallQual, GarageYrBlt_1988.0, GarageYrBlt_1927.0, TotalSF, GarageYrBlt_1933.0, MSZoning2_RM, BsmtUnfSF_log, YearBuilt, GarageType_CarPort, GarageYrBlt_1937.0 in input data\n",
            "training data did not have the following fields: f9, f87, f63, f90, f121, f162, f13, f24, f146, f46, f99, f137, f152, f103, f64, f123, f8, f102, f119, f144, f136, f117, f125, f47, f52, f62, f172, f34, f114, f134, f100, f91, f18, f51, f80, f78, f115, f110, f54, f141, f1, f161, f118, f16, f128, f151, f76, f113, f126, f68, f86, f25, f160, f32, f71, f127, f17, f2, f49, f159, f131, f20, f98, f109, f72, f33, f171, f163, f157, f10, f145, f94, f58, f67, f37, f61, f82, f48, f92, f4, f149, f23, f167, f3, f36, f7, f139, f53, f138, f142, f43, f132, f12, f50, f40, f35, f60, f169, f11, f154, f26, f89, f30, f29, f45, f28, f165, f77, f74, f153, f155, f97, f116, f44, f101, f31, f85, f56, f156, f122, f84, f66, f108, f42, f0, f6, f168, f57, f38, f65, f95, f111, f120, f148, f150, f14, f59, f93, f143, f27, f88, f19, f107, f166, f158, f73, f79, f140, f75, f105, f106, f21, f147, f5, f15, f170, f96, f83, f39, f124, f104, f130, f41, f22, f112, f129, f55, f133, f135, f81, f69, f164, f70.\n",
            "_pre_test decorator: _random_mutation_operator: num_test=0 '(slice(None, None, None), 0)' is an invalid key.\n",
            "_pre_test decorator: _random_mutation_operator: num_test=0 Expected n_neighbors <= n_samples,  but n_samples = 50, n_neighbors = 79.\n",
            "Pipeline encountered that has previously been evaluated during the optimization process. Using the score from the previous evaluation.\n",
            "Skipped pipeline #411 due to time out. Continuing to the next pipeline.\n",
            "\n",
            "Generation 5 - Current Pareto front scores:\n",
            "\n",
            "-1\t-0.017414628200901793\tGradientBoostingRegressor(input_matrix, GradientBoostingRegressor__alpha=0.99, GradientBoostingRegressor__learning_rate=0.1, GradientBoostingRegressor__loss=huber, GradientBoostingRegressor__max_depth=8, GradientBoostingRegressor__max_features=0.6000000000000001, GradientBoostingRegressor__min_samples_leaf=19, GradientBoostingRegressor__min_samples_split=5, GradientBoostingRegressor__n_estimators=100, GradientBoostingRegressor__subsample=0.6500000000000001)\n",
            "Periodic pipeline was not saved, probably saved before...\n",
            "_pre_test decorator: _random_mutation_operator: num_test=0 Found array with 0 feature(s) (shape=(50, 0)) while a minimum of 1 is required..\n",
            "_pre_test decorator: _random_mutation_operator: num_test=0 Unsupported set of arguments: The combination of penalty='l2' and loss='epsilon_insensitive' are not supported when dual=False, Parameters: penalty='l2', loss='epsilon_insensitive', dual=False.\n",
            "Invalid pipeline encountered. Skipping its evaluation.\n",
            "\n",
            "Generation 6 - Current Pareto front scores:\n",
            "\n",
            "-1\t-0.017414628200901793\tGradientBoostingRegressor(input_matrix, GradientBoostingRegressor__alpha=0.99, GradientBoostingRegressor__learning_rate=0.1, GradientBoostingRegressor__loss=huber, GradientBoostingRegressor__max_depth=8, GradientBoostingRegressor__max_features=0.6000000000000001, GradientBoostingRegressor__min_samples_leaf=19, GradientBoostingRegressor__min_samples_split=5, GradientBoostingRegressor__n_estimators=100, GradientBoostingRegressor__subsample=0.6500000000000001)\n",
            "\n",
            "-2\t-0.01723327291139063\tGradientBoostingRegressor(RidgeCV(input_matrix), GradientBoostingRegressor__alpha=0.85, GradientBoostingRegressor__learning_rate=0.1, GradientBoostingRegressor__loss=huber, GradientBoostingRegressor__max_depth=8, GradientBoostingRegressor__max_features=0.6000000000000001, GradientBoostingRegressor__min_samples_leaf=19, GradientBoostingRegressor__min_samples_split=5, GradientBoostingRegressor__n_estimators=100, GradientBoostingRegressor__subsample=0.6500000000000001)\n",
            "Periodic pipeline was not saved, probably saved before...\n",
            "Saving periodic pipeline from pareto front to intermediate_results/pipeline_gen_6_idx_1_2021.01.05_18-58-59.py\n",
            "_pre_test decorator: _random_mutation_operator: num_test=0 Found array with 0 feature(s) (shape=(50, 0)) while a minimum of 1 is required..\n",
            "\n",
            "Generation 7 - Current Pareto front scores:\n",
            "\n",
            "-1\t-0.017414628200901793\tGradientBoostingRegressor(input_matrix, GradientBoostingRegressor__alpha=0.99, GradientBoostingRegressor__learning_rate=0.1, GradientBoostingRegressor__loss=huber, GradientBoostingRegressor__max_depth=8, GradientBoostingRegressor__max_features=0.6000000000000001, GradientBoostingRegressor__min_samples_leaf=19, GradientBoostingRegressor__min_samples_split=5, GradientBoostingRegressor__n_estimators=100, GradientBoostingRegressor__subsample=0.6500000000000001)\n",
            "\n",
            "-2\t-0.01723327291139063\tGradientBoostingRegressor(RidgeCV(input_matrix), GradientBoostingRegressor__alpha=0.85, GradientBoostingRegressor__learning_rate=0.1, GradientBoostingRegressor__loss=huber, GradientBoostingRegressor__max_depth=8, GradientBoostingRegressor__max_features=0.6000000000000001, GradientBoostingRegressor__min_samples_leaf=19, GradientBoostingRegressor__min_samples_split=5, GradientBoostingRegressor__n_estimators=100, GradientBoostingRegressor__subsample=0.6500000000000001)\n",
            "Periodic pipeline was not saved, probably saved before...\n",
            "Periodic pipeline was not saved, probably saved before...\n",
            "_pre_test decorator: _random_mutation_operator: num_test=0 '(slice(None, None, None), 0)' is an invalid key.\n",
            "_pre_test decorator: _random_mutation_operator: num_test=0 Found array with 0 feature(s) (shape=(50, 0)) while a minimum of 1 is required..\n",
            "_pre_test decorator: _random_mutation_operator: num_test=0 '(slice(None, None, None), 0)' is an invalid key.\n",
            "Pipeline encountered that has previously been evaluated during the optimization process. Using the score from the previous evaluation.\n",
            "Invalid pipeline encountered. Skipping its evaluation.\n",
            "\n",
            "Generation 8 - Current Pareto front scores:\n",
            "\n",
            "-1\t-0.017414628200901793\tGradientBoostingRegressor(input_matrix, GradientBoostingRegressor__alpha=0.99, GradientBoostingRegressor__learning_rate=0.1, GradientBoostingRegressor__loss=huber, GradientBoostingRegressor__max_depth=8, GradientBoostingRegressor__max_features=0.6000000000000001, GradientBoostingRegressor__min_samples_leaf=19, GradientBoostingRegressor__min_samples_split=5, GradientBoostingRegressor__n_estimators=100, GradientBoostingRegressor__subsample=0.6500000000000001)\n",
            "\n",
            "-2\t-0.01717202858427672\tGradientBoostingRegressor(RidgeCV(input_matrix), GradientBoostingRegressor__alpha=0.8, GradientBoostingRegressor__learning_rate=0.1, GradientBoostingRegressor__loss=huber, GradientBoostingRegressor__max_depth=8, GradientBoostingRegressor__max_features=0.6000000000000001, GradientBoostingRegressor__min_samples_leaf=19, GradientBoostingRegressor__min_samples_split=15, GradientBoostingRegressor__n_estimators=100, GradientBoostingRegressor__subsample=0.7500000000000001)\n",
            "Periodic pipeline was not saved, probably saved before...\n",
            "Saving periodic pipeline from pareto front to intermediate_results/pipeline_gen_8_idx_1_2021.01.05_19-35-31.py\n",
            "_pre_test decorator: _random_mutation_operator: num_test=0 '(slice(None, None, None), 0)' is an invalid key.\n",
            "Pipeline encountered that has previously been evaluated during the optimization process. Using the score from the previous evaluation.\n",
            "Pipeline encountered that has previously been evaluated during the optimization process. Using the score from the previous evaluation.\n",
            "\n",
            "Generation 9 - Current Pareto front scores:\n",
            "\n",
            "-1\t-0.017414628200901793\tGradientBoostingRegressor(input_matrix, GradientBoostingRegressor__alpha=0.99, GradientBoostingRegressor__learning_rate=0.1, GradientBoostingRegressor__loss=huber, GradientBoostingRegressor__max_depth=8, GradientBoostingRegressor__max_features=0.6000000000000001, GradientBoostingRegressor__min_samples_leaf=19, GradientBoostingRegressor__min_samples_split=5, GradientBoostingRegressor__n_estimators=100, GradientBoostingRegressor__subsample=0.6500000000000001)\n",
            "\n",
            "-2\t-0.01717202858427672\tGradientBoostingRegressor(RidgeCV(input_matrix), GradientBoostingRegressor__alpha=0.8, GradientBoostingRegressor__learning_rate=0.1, GradientBoostingRegressor__loss=huber, GradientBoostingRegressor__max_depth=8, GradientBoostingRegressor__max_features=0.6000000000000001, GradientBoostingRegressor__min_samples_leaf=19, GradientBoostingRegressor__min_samples_split=15, GradientBoostingRegressor__n_estimators=100, GradientBoostingRegressor__subsample=0.7500000000000001)\n",
            "\n",
            "-3\t-0.017098043041512436\tGradientBoostingRegressor(RidgeCV(RobustScaler(input_matrix)), GradientBoostingRegressor__alpha=0.85, GradientBoostingRegressor__learning_rate=0.1, GradientBoostingRegressor__loss=huber, GradientBoostingRegressor__max_depth=8, GradientBoostingRegressor__max_features=0.6000000000000001, GradientBoostingRegressor__min_samples_leaf=5, GradientBoostingRegressor__min_samples_split=12, GradientBoostingRegressor__n_estimators=100, GradientBoostingRegressor__subsample=0.6500000000000001)\n",
            "Periodic pipeline was not saved, probably saved before...\n",
            "Periodic pipeline was not saved, probably saved before...\n",
            "Saving periodic pipeline from pareto front to intermediate_results/pipeline_gen_9_idx_2_2021.01.05_19-43-34.py\n",
            "_pre_test decorator: _random_mutation_operator: num_test=0 Found array with 0 feature(s) (shape=(50, 0)) while a minimum of 1 is required..\n",
            "_pre_test decorator: _random_mutation_operator: num_test=0 '(slice(None, None, None), 0)' is an invalid key.\n",
            "_pre_test decorator: _random_mutation_operator: num_test=0 feature_names mismatch: ['Id', 'MSSubClass', 'LotFrontage', 'LotArea', 'Neighborhood', 'OverallQual', 'OverallCond', 'YearBuilt', 'YearRemodAdd', 'MasVnrArea', 'BsmtFinSF1', 'BsmtFinSF2', 'BsmtUnfSF', 'LowQualFinSF', 'BsmtFullBath', 'BsmtHalfBath', 'FullBath', 'HalfBath', 'BedroomAbvGr', 'KitchenAbvGr', 'TotRmsAbvGrd', 'Fireplaces', 'GarageArea', 'WoodDeckSF', 'OpenPorchSF', 'EnclosedPorch', '3SsnPorch', 'ScreenPorch', 'PoolArea', 'MiscVal', 'MoSold', 'YrSold', 'Exterior_material', 'TotalSF', 'LotFrontage_log', 'LotArea_log', 'BsmtUnfSF_log', 'MSZoning_FV', 'MSZoning_RH', 'MSZoning_RL', 'MSZoning_RM', 'MasVnrType_BrkFace', 'MasVnrType_None', 'MasVnrType_Stone', 'ExterQual_Fa', 'ExterQual_Gd', 'ExterQual_TA', 'Foundation_CBlock', 'Foundation_PConc', 'Foundation_Slab/Stone/Wood', 'BsmtQual_Fa', 'BsmtQual_Gd', 'BsmtQual_TA', 'HeatingQC_Fa', 'HeatingQC_Gd', 'HeatingQC_Po', 'HeatingQC_TA', 'CentralAir_Y', 'KitchenQual_Fa', 'KitchenQual_Gd', 'KitchenQual_TA', 'GarageType_Attchd', 'GarageType_Basment', 'GarageType_BuiltIn', 'GarageType_CarPort', 'GarageType_Detchd', 'GarageType_NA', 'GarageYrBlt_1906.0', 'GarageYrBlt_1908.0', 'GarageYrBlt_1910.0', 'GarageYrBlt_1914.0', 'GarageYrBlt_1915.0', 'GarageYrBlt_1916.0', 'GarageYrBlt_1918.0', 'GarageYrBlt_1920.0', 'GarageYrBlt_1921.0', 'GarageYrBlt_1922.0', 'GarageYrBlt_1923.0', 'GarageYrBlt_1924.0', 'GarageYrBlt_1925.0', 'GarageYrBlt_1926.0', 'GarageYrBlt_1927.0', 'GarageYrBlt_1928.0', 'GarageYrBlt_1929.0', 'GarageYrBlt_1930.0', 'GarageYrBlt_1931.0', 'GarageYrBlt_1932.0', 'GarageYrBlt_1933.0', 'GarageYrBlt_1934.0', 'GarageYrBlt_1935.0', 'GarageYrBlt_1936.0', 'GarageYrBlt_1937.0', 'GarageYrBlt_1938.0', 'GarageYrBlt_1939.0', 'GarageYrBlt_1940.0', 'GarageYrBlt_1941.0', 'GarageYrBlt_1942.0', 'GarageYrBlt_1945.0', 'GarageYrBlt_1946.0', 'GarageYrBlt_1947.0', 'GarageYrBlt_1948.0', 'GarageYrBlt_1949.0', 'GarageYrBlt_1950.0', 'GarageYrBlt_1951.0', 'GarageYrBlt_1952.0', 'GarageYrBlt_1953.0', 'GarageYrBlt_1954.0', 'GarageYrBlt_1955.0', 'GarageYrBlt_1956.0', 'GarageYrBlt_1957.0', 'GarageYrBlt_1958.0', 'GarageYrBlt_1959.0', 'GarageYrBlt_1960.0', 'GarageYrBlt_1961.0', 'GarageYrBlt_1962.0', 'GarageYrBlt_1963.0', 'GarageYrBlt_1964.0', 'GarageYrBlt_1965.0', 'GarageYrBlt_1966.0', 'GarageYrBlt_1967.0', 'GarageYrBlt_1968.0', 'GarageYrBlt_1969.0', 'GarageYrBlt_1970.0', 'GarageYrBlt_1971.0', 'GarageYrBlt_1972.0', 'GarageYrBlt_1973.0', 'GarageYrBlt_1974.0', 'GarageYrBlt_1975.0', 'GarageYrBlt_1976.0', 'GarageYrBlt_1977.0', 'GarageYrBlt_1978.0', 'GarageYrBlt_1979.0', 'GarageYrBlt_1980.0', 'GarageYrBlt_1981.0', 'GarageYrBlt_1982.0', 'GarageYrBlt_1983.0', 'GarageYrBlt_1984.0', 'GarageYrBlt_1985.0', 'GarageYrBlt_1986.0', 'GarageYrBlt_1987.0', 'GarageYrBlt_1988.0', 'GarageYrBlt_1989.0', 'GarageYrBlt_1990.0', 'GarageYrBlt_1991.0', 'GarageYrBlt_1992.0', 'GarageYrBlt_1993.0', 'GarageYrBlt_1994.0', 'GarageYrBlt_1995.0', 'GarageYrBlt_1996.0', 'GarageYrBlt_1997.0', 'GarageYrBlt_1998.0', 'GarageYrBlt_1999.0', 'GarageYrBlt_2000.0', 'GarageYrBlt_2001.0', 'GarageYrBlt_2002.0', 'GarageYrBlt_2003.0', 'GarageYrBlt_2004.0', 'GarageYrBlt_2005.0', 'GarageYrBlt_2006.0', 'GarageYrBlt_2007.0', 'GarageYrBlt_2008.0', 'GarageYrBlt_2009.0', 'GarageYrBlt_2010.0', 'GarageYrBlt_NA', 'GarageFinish_NA', 'GarageFinish_RFn', 'GarageFinish_Unf', 'SaleType_WD', 'SaleCondition_Normal', 'SaleCondition_Partial', 'MSZoning2_OTHER', 'MSZoning2_RL', 'MSZoning2_RM'] ['f0', 'f1', 'f2', 'f3', 'f4', 'f5', 'f6', 'f7', 'f8', 'f9', 'f10', 'f11', 'f12', 'f13', 'f14', 'f15', 'f16', 'f17', 'f18', 'f19', 'f20', 'f21', 'f22', 'f23', 'f24', 'f25', 'f26', 'f27', 'f28', 'f29', 'f30', 'f31', 'f32', 'f33', 'f34', 'f35', 'f36', 'f37', 'f38', 'f39', 'f40', 'f41', 'f42', 'f43', 'f44', 'f45', 'f46', 'f47', 'f48', 'f49', 'f50', 'f51', 'f52', 'f53', 'f54', 'f55', 'f56', 'f57', 'f58', 'f59', 'f60', 'f61', 'f62', 'f63', 'f64', 'f65', 'f66', 'f67', 'f68', 'f69', 'f70', 'f71', 'f72', 'f73', 'f74', 'f75', 'f76', 'f77', 'f78', 'f79', 'f80', 'f81', 'f82', 'f83', 'f84', 'f85', 'f86', 'f87', 'f88', 'f89', 'f90', 'f91', 'f92', 'f93', 'f94', 'f95', 'f96', 'f97', 'f98', 'f99', 'f100', 'f101', 'f102', 'f103', 'f104', 'f105', 'f106', 'f107', 'f108', 'f109', 'f110', 'f111', 'f112', 'f113', 'f114', 'f115', 'f116', 'f117', 'f118', 'f119', 'f120', 'f121', 'f122', 'f123', 'f124', 'f125', 'f126', 'f127', 'f128', 'f129', 'f130', 'f131', 'f132', 'f133', 'f134', 'f135', 'f136', 'f137', 'f138', 'f139', 'f140', 'f141', 'f142', 'f143', 'f144', 'f145', 'f146', 'f147', 'f148', 'f149', 'f150', 'f151', 'f152', 'f153', 'f154', 'f155', 'f156', 'f157', 'f158', 'f159', 'f160', 'f161', 'f162', 'f163', 'f164', 'f165', 'f166', 'f167', 'f168', 'f169', 'f170', 'f171', 'f172']\n",
            "expected GarageYrBlt_2006.0, BedroomAbvGr, HeatingQC_Fa, GarageYrBlt_1939.0, GarageType_NA, GarageYrBlt_2000.0, ExterQual_Fa, GarageYrBlt_1993.0, MSZoning_FV, GarageYrBlt_1959.0, GarageYrBlt_2008.0, MoSold, GarageType_BuiltIn, GarageYrBlt_1931.0, BsmtFinSF2, Foundation_Slab/Stone/Wood, GarageYrBlt_1978.0, GarageFinish_RFn, 3SsnPorch, Fireplaces, GarageYrBlt_1942.0, GarageYrBlt_1925.0, GarageYrBlt_1920.0, GarageYrBlt_1986.0, GarageYrBlt_2002.0, GarageType_Attchd, GarageYrBlt_1934.0, GarageYrBlt_1973.0, GarageYrBlt_1964.0, SaleCondition_Partial, GarageYrBlt_1965.0, GarageYrBlt_1947.0, GarageYrBlt_1999.0, GarageYrBlt_NA, GarageYrBlt_1970.0, BsmtQual_TA, ExterQual_TA, BsmtUnfSF, GarageYrBlt_1990.0, GarageYrBlt_1954.0, Exterior_material, GarageFinish_NA, OpenPorchSF, GarageYrBlt_1940.0, GarageYrBlt_1906.0, GarageYrBlt_2004.0, GarageYrBlt_1980.0, GarageYrBlt_1981.0, GarageYrBlt_1971.0, MasVnrType_None, BsmtFullBath, GarageArea, MSZoning_RL, Neighborhood, GarageYrBlt_1969.0, BsmtQual_Fa, GarageYrBlt_1946.0, GarageYrBlt_1951.0, EnclosedPorch, MiscVal, GarageYrBlt_1910.0, HeatingQC_TA, BsmtQual_Gd, GarageYrBlt_1938.0, ExterQual_Gd, GarageYrBlt_1957.0, Foundation_PConc, GarageYrBlt_1968.0, WoodDeckSF, LotFrontage_log, GarageYrBlt_1922.0, KitchenAbvGr, GarageYrBlt_1956.0, GarageYrBlt_1923.0, GarageYrBlt_1929.0, GarageYrBlt_1996.0, BsmtHalfBath, GarageYrBlt_1998.0, BsmtFinSF1, MSSubClass, GarageYrBlt_1908.0, LotArea, FullBath, GarageYrBlt_1984.0, GarageYrBlt_1924.0, GarageYrBlt_2007.0, KitchenQual_Fa, GarageYrBlt_1949.0, GarageYrBlt_1950.0, HeatingQC_Po, GarageYrBlt_1982.0, GarageYrBlt_1961.0, GarageYrBlt_1916.0, GarageFinish_Unf, YrSold, MasVnrArea, OverallCond, GarageYrBlt_1926.0, MSZoning2_OTHER, ScreenPorch, GarageYrBlt_1958.0, GarageYrBlt_1948.0, GarageYrBlt_2005.0, GarageYrBlt_1967.0, GarageYrBlt_1962.0, GarageYrBlt_1963.0, GarageYrBlt_1955.0, GarageYrBlt_1921.0, LotFrontage, GarageYrBlt_1945.0, GarageYrBlt_1974.0, MSZoning_RH, GarageYrBlt_1914.0, GarageType_Detchd, TotRmsAbvGrd, LotArea_log, MasVnrType_BrkFace, KitchenQual_TA, GarageYrBlt_1928.0, GarageYrBlt_1992.0, MasVnrType_Stone, HeatingQC_Gd, MSZoning_RM, GarageYrBlt_1995.0, SaleCondition_Normal, GarageYrBlt_1972.0, GarageYrBlt_1975.0, GarageYrBlt_1918.0, GarageYrBlt_1966.0, GarageYrBlt_2003.0, GarageYrBlt_1953.0, LowQualFinSF, GarageYrBlt_1936.0, MSZoning2_RL, GarageYrBlt_1935.0, GarageYrBlt_1952.0, GarageYrBlt_2001.0, GarageYrBlt_1960.0, HalfBath, PoolArea, GarageYrBlt_1979.0, Foundation_CBlock, GarageType_Basment, GarageYrBlt_1941.0, CentralAir_Y, GarageYrBlt_1930.0, GarageYrBlt_1976.0, GarageYrBlt_1977.0, GarageYrBlt_1983.0, SaleType_WD, GarageYrBlt_1932.0, GarageYrBlt_1985.0, YearRemodAdd, GarageYrBlt_1997.0, KitchenQual_Gd, GarageYrBlt_2009.0, GarageYrBlt_1989.0, GarageYrBlt_1991.0, GarageYrBlt_1987.0, GarageYrBlt_1994.0, Id, GarageYrBlt_2010.0, GarageYrBlt_1915.0, OverallQual, GarageYrBlt_1988.0, GarageYrBlt_1927.0, TotalSF, GarageYrBlt_1933.0, MSZoning2_RM, BsmtUnfSF_log, YearBuilt, GarageType_CarPort, GarageYrBlt_1937.0 in input data\n",
            "training data did not have the following fields: f9, f87, f63, f90, f121, f162, f13, f24, f146, f46, f99, f137, f152, f103, f64, f123, f8, f102, f119, f144, f136, f117, f125, f47, f52, f62, f172, f34, f114, f134, f100, f91, f18, f51, f80, f78, f115, f110, f54, f141, f1, f161, f118, f16, f128, f151, f76, f113, f126, f68, f86, f25, f160, f32, f71, f127, f17, f2, f49, f159, f131, f20, f98, f109, f72, f33, f171, f163, f157, f10, f145, f94, f58, f67, f37, f61, f82, f48, f92, f4, f149, f23, f167, f3, f36, f7, f139, f53, f138, f142, f43, f132, f12, f50, f40, f35, f60, f169, f11, f154, f26, f89, f30, f29, f45, f28, f165, f77, f74, f153, f155, f97, f116, f44, f101, f31, f85, f56, f156, f122, f84, f66, f108, f42, f0, f6, f168, f57, f38, f65, f95, f111, f120, f148, f150, f14, f59, f93, f143, f27, f88, f19, f107, f166, f158, f73, f79, f140, f75, f105, f106, f21, f147, f5, f15, f170, f96, f83, f39, f124, f104, f130, f41, f22, f112, f129, f55, f133, f135, f81, f69, f164, f70.\n",
            "_pre_test decorator: _random_mutation_operator: num_test=0 Unsupported set of arguments: The combination of penalty='l2' and loss='epsilon_insensitive' are not supported when dual=False, Parameters: penalty='l2', loss='epsilon_insensitive', dual=False.\n",
            "_pre_test decorator: _random_mutation_operator: num_test=0 Automatic alpha grid generation is not supported for l1_ratio=0. Please supply a grid by providing your estimator with the appropriate `alphas=` argument..\n",
            "_pre_test decorator: _random_mutation_operator: num_test=0 feature_names mismatch: ['Id', 'MSSubClass', 'LotFrontage', 'LotArea', 'Neighborhood', 'OverallQual', 'OverallCond', 'YearBuilt', 'YearRemodAdd', 'MasVnrArea', 'BsmtFinSF1', 'BsmtFinSF2', 'BsmtUnfSF', 'LowQualFinSF', 'BsmtFullBath', 'BsmtHalfBath', 'FullBath', 'HalfBath', 'BedroomAbvGr', 'KitchenAbvGr', 'TotRmsAbvGrd', 'Fireplaces', 'GarageArea', 'WoodDeckSF', 'OpenPorchSF', 'EnclosedPorch', '3SsnPorch', 'ScreenPorch', 'PoolArea', 'MiscVal', 'MoSold', 'YrSold', 'Exterior_material', 'TotalSF', 'LotFrontage_log', 'LotArea_log', 'BsmtUnfSF_log', 'MSZoning_FV', 'MSZoning_RH', 'MSZoning_RL', 'MSZoning_RM', 'MasVnrType_BrkFace', 'MasVnrType_None', 'MasVnrType_Stone', 'ExterQual_Fa', 'ExterQual_Gd', 'ExterQual_TA', 'Foundation_CBlock', 'Foundation_PConc', 'Foundation_Slab/Stone/Wood', 'BsmtQual_Fa', 'BsmtQual_Gd', 'BsmtQual_TA', 'HeatingQC_Fa', 'HeatingQC_Gd', 'HeatingQC_Po', 'HeatingQC_TA', 'CentralAir_Y', 'KitchenQual_Fa', 'KitchenQual_Gd', 'KitchenQual_TA', 'GarageType_Attchd', 'GarageType_Basment', 'GarageType_BuiltIn', 'GarageType_CarPort', 'GarageType_Detchd', 'GarageType_NA', 'GarageYrBlt_1906.0', 'GarageYrBlt_1908.0', 'GarageYrBlt_1910.0', 'GarageYrBlt_1914.0', 'GarageYrBlt_1915.0', 'GarageYrBlt_1916.0', 'GarageYrBlt_1918.0', 'GarageYrBlt_1920.0', 'GarageYrBlt_1921.0', 'GarageYrBlt_1922.0', 'GarageYrBlt_1923.0', 'GarageYrBlt_1924.0', 'GarageYrBlt_1925.0', 'GarageYrBlt_1926.0', 'GarageYrBlt_1927.0', 'GarageYrBlt_1928.0', 'GarageYrBlt_1929.0', 'GarageYrBlt_1930.0', 'GarageYrBlt_1931.0', 'GarageYrBlt_1932.0', 'GarageYrBlt_1933.0', 'GarageYrBlt_1934.0', 'GarageYrBlt_1935.0', 'GarageYrBlt_1936.0', 'GarageYrBlt_1937.0', 'GarageYrBlt_1938.0', 'GarageYrBlt_1939.0', 'GarageYrBlt_1940.0', 'GarageYrBlt_1941.0', 'GarageYrBlt_1942.0', 'GarageYrBlt_1945.0', 'GarageYrBlt_1946.0', 'GarageYrBlt_1947.0', 'GarageYrBlt_1948.0', 'GarageYrBlt_1949.0', 'GarageYrBlt_1950.0', 'GarageYrBlt_1951.0', 'GarageYrBlt_1952.0', 'GarageYrBlt_1953.0', 'GarageYrBlt_1954.0', 'GarageYrBlt_1955.0', 'GarageYrBlt_1956.0', 'GarageYrBlt_1957.0', 'GarageYrBlt_1958.0', 'GarageYrBlt_1959.0', 'GarageYrBlt_1960.0', 'GarageYrBlt_1961.0', 'GarageYrBlt_1962.0', 'GarageYrBlt_1963.0', 'GarageYrBlt_1964.0', 'GarageYrBlt_1965.0', 'GarageYrBlt_1966.0', 'GarageYrBlt_1967.0', 'GarageYrBlt_1968.0', 'GarageYrBlt_1969.0', 'GarageYrBlt_1970.0', 'GarageYrBlt_1971.0', 'GarageYrBlt_1972.0', 'GarageYrBlt_1973.0', 'GarageYrBlt_1974.0', 'GarageYrBlt_1975.0', 'GarageYrBlt_1976.0', 'GarageYrBlt_1977.0', 'GarageYrBlt_1978.0', 'GarageYrBlt_1979.0', 'GarageYrBlt_1980.0', 'GarageYrBlt_1981.0', 'GarageYrBlt_1982.0', 'GarageYrBlt_1983.0', 'GarageYrBlt_1984.0', 'GarageYrBlt_1985.0', 'GarageYrBlt_1986.0', 'GarageYrBlt_1987.0', 'GarageYrBlt_1988.0', 'GarageYrBlt_1989.0', 'GarageYrBlt_1990.0', 'GarageYrBlt_1991.0', 'GarageYrBlt_1992.0', 'GarageYrBlt_1993.0', 'GarageYrBlt_1994.0', 'GarageYrBlt_1995.0', 'GarageYrBlt_1996.0', 'GarageYrBlt_1997.0', 'GarageYrBlt_1998.0', 'GarageYrBlt_1999.0', 'GarageYrBlt_2000.0', 'GarageYrBlt_2001.0', 'GarageYrBlt_2002.0', 'GarageYrBlt_2003.0', 'GarageYrBlt_2004.0', 'GarageYrBlt_2005.0', 'GarageYrBlt_2006.0', 'GarageYrBlt_2007.0', 'GarageYrBlt_2008.0', 'GarageYrBlt_2009.0', 'GarageYrBlt_2010.0', 'GarageYrBlt_NA', 'GarageFinish_NA', 'GarageFinish_RFn', 'GarageFinish_Unf', 'SaleType_WD', 'SaleCondition_Normal', 'SaleCondition_Partial', 'MSZoning2_OTHER', 'MSZoning2_RL', 'MSZoning2_RM'] ['f0', 'f1', 'f2', 'f3', 'f4', 'f5', 'f6', 'f7', 'f8', 'f9', 'f10', 'f11', 'f12', 'f13', 'f14', 'f15', 'f16', 'f17', 'f18', 'f19', 'f20', 'f21', 'f22', 'f23', 'f24', 'f25', 'f26', 'f27', 'f28', 'f29', 'f30', 'f31', 'f32', 'f33', 'f34', 'f35', 'f36', 'f37', 'f38', 'f39', 'f40', 'f41', 'f42', 'f43', 'f44', 'f45', 'f46', 'f47', 'f48', 'f49', 'f50', 'f51', 'f52', 'f53', 'f54', 'f55', 'f56', 'f57', 'f58', 'f59', 'f60', 'f61', 'f62', 'f63', 'f64', 'f65', 'f66', 'f67', 'f68', 'f69', 'f70', 'f71', 'f72', 'f73', 'f74', 'f75', 'f76', 'f77', 'f78', 'f79', 'f80', 'f81', 'f82', 'f83', 'f84', 'f85', 'f86', 'f87', 'f88', 'f89', 'f90', 'f91', 'f92', 'f93', 'f94', 'f95', 'f96', 'f97', 'f98', 'f99', 'f100', 'f101', 'f102', 'f103', 'f104', 'f105', 'f106', 'f107', 'f108', 'f109', 'f110', 'f111', 'f112', 'f113', 'f114', 'f115', 'f116', 'f117', 'f118', 'f119', 'f120', 'f121', 'f122', 'f123', 'f124', 'f125', 'f126', 'f127', 'f128', 'f129', 'f130', 'f131', 'f132', 'f133', 'f134', 'f135', 'f136', 'f137', 'f138', 'f139', 'f140', 'f141', 'f142', 'f143', 'f144', 'f145', 'f146', 'f147', 'f148', 'f149', 'f150', 'f151', 'f152', 'f153', 'f154', 'f155', 'f156', 'f157', 'f158', 'f159', 'f160', 'f161', 'f162', 'f163', 'f164', 'f165', 'f166', 'f167', 'f168', 'f169', 'f170', 'f171', 'f172']\n",
            "expected GarageYrBlt_2006.0, BedroomAbvGr, HeatingQC_Fa, GarageYrBlt_1939.0, GarageType_NA, GarageYrBlt_2000.0, ExterQual_Fa, GarageYrBlt_1993.0, MSZoning_FV, GarageYrBlt_1959.0, GarageYrBlt_2008.0, MoSold, GarageType_BuiltIn, GarageYrBlt_1931.0, BsmtFinSF2, Foundation_Slab/Stone/Wood, GarageYrBlt_1978.0, GarageFinish_RFn, 3SsnPorch, Fireplaces, GarageYrBlt_1942.0, GarageYrBlt_1925.0, GarageYrBlt_1920.0, GarageYrBlt_1986.0, GarageYrBlt_2002.0, GarageType_Attchd, GarageYrBlt_1934.0, GarageYrBlt_1973.0, GarageYrBlt_1964.0, SaleCondition_Partial, GarageYrBlt_1965.0, GarageYrBlt_1947.0, GarageYrBlt_1999.0, GarageYrBlt_NA, GarageYrBlt_1970.0, BsmtQual_TA, ExterQual_TA, BsmtUnfSF, GarageYrBlt_1990.0, GarageYrBlt_1954.0, Exterior_material, GarageFinish_NA, OpenPorchSF, GarageYrBlt_1940.0, GarageYrBlt_1906.0, GarageYrBlt_2004.0, GarageYrBlt_1980.0, GarageYrBlt_1981.0, GarageYrBlt_1971.0, MasVnrType_None, BsmtFullBath, GarageArea, MSZoning_RL, Neighborhood, GarageYrBlt_1969.0, BsmtQual_Fa, GarageYrBlt_1946.0, GarageYrBlt_1951.0, EnclosedPorch, MiscVal, GarageYrBlt_1910.0, HeatingQC_TA, BsmtQual_Gd, GarageYrBlt_1938.0, ExterQual_Gd, GarageYrBlt_1957.0, Foundation_PConc, GarageYrBlt_1968.0, WoodDeckSF, LotFrontage_log, GarageYrBlt_1922.0, KitchenAbvGr, GarageYrBlt_1956.0, GarageYrBlt_1923.0, GarageYrBlt_1929.0, GarageYrBlt_1996.0, BsmtHalfBath, GarageYrBlt_1998.0, BsmtFinSF1, MSSubClass, GarageYrBlt_1908.0, LotArea, FullBath, GarageYrBlt_1984.0, GarageYrBlt_1924.0, GarageYrBlt_2007.0, KitchenQual_Fa, GarageYrBlt_1949.0, GarageYrBlt_1950.0, HeatingQC_Po, GarageYrBlt_1982.0, GarageYrBlt_1961.0, GarageYrBlt_1916.0, GarageFinish_Unf, YrSold, MasVnrArea, OverallCond, GarageYrBlt_1926.0, MSZoning2_OTHER, ScreenPorch, GarageYrBlt_1958.0, GarageYrBlt_1948.0, GarageYrBlt_2005.0, GarageYrBlt_1967.0, GarageYrBlt_1962.0, GarageYrBlt_1963.0, GarageYrBlt_1955.0, GarageYrBlt_1921.0, LotFrontage, GarageYrBlt_1945.0, GarageYrBlt_1974.0, MSZoning_RH, GarageYrBlt_1914.0, GarageType_Detchd, TotRmsAbvGrd, LotArea_log, MasVnrType_BrkFace, KitchenQual_TA, GarageYrBlt_1928.0, GarageYrBlt_1992.0, MasVnrType_Stone, HeatingQC_Gd, MSZoning_RM, GarageYrBlt_1995.0, SaleCondition_Normal, GarageYrBlt_1972.0, GarageYrBlt_1975.0, GarageYrBlt_1918.0, GarageYrBlt_1966.0, GarageYrBlt_2003.0, GarageYrBlt_1953.0, LowQualFinSF, GarageYrBlt_1936.0, MSZoning2_RL, GarageYrBlt_1935.0, GarageYrBlt_1952.0, GarageYrBlt_2001.0, GarageYrBlt_1960.0, HalfBath, PoolArea, GarageYrBlt_1979.0, Foundation_CBlock, GarageType_Basment, GarageYrBlt_1941.0, CentralAir_Y, GarageYrBlt_1930.0, GarageYrBlt_1976.0, GarageYrBlt_1977.0, GarageYrBlt_1983.0, SaleType_WD, GarageYrBlt_1932.0, GarageYrBlt_1985.0, YearRemodAdd, GarageYrBlt_1997.0, KitchenQual_Gd, GarageYrBlt_2009.0, GarageYrBlt_1989.0, GarageYrBlt_1991.0, GarageYrBlt_1987.0, GarageYrBlt_1994.0, Id, GarageYrBlt_2010.0, GarageYrBlt_1915.0, OverallQual, GarageYrBlt_1988.0, GarageYrBlt_1927.0, TotalSF, GarageYrBlt_1933.0, MSZoning2_RM, BsmtUnfSF_log, YearBuilt, GarageType_CarPort, GarageYrBlt_1937.0 in input data\n",
            "training data did not have the following fields: f9, f87, f63, f90, f121, f162, f13, f24, f146, f46, f99, f137, f152, f103, f64, f123, f8, f102, f119, f144, f136, f117, f125, f47, f52, f62, f172, f34, f114, f134, f100, f91, f18, f51, f80, f78, f115, f110, f54, f141, f1, f161, f118, f16, f128, f151, f76, f113, f126, f68, f86, f25, f160, f32, f71, f127, f17, f2, f49, f159, f131, f20, f98, f109, f72, f33, f171, f163, f157, f10, f145, f94, f58, f67, f37, f61, f82, f48, f92, f4, f149, f23, f167, f3, f36, f7, f139, f53, f138, f142, f43, f132, f12, f50, f40, f35, f60, f169, f11, f154, f26, f89, f30, f29, f45, f28, f165, f77, f74, f153, f155, f97, f116, f44, f101, f31, f85, f56, f156, f122, f84, f66, f108, f42, f0, f6, f168, f57, f38, f65, f95, f111, f120, f148, f150, f14, f59, f93, f143, f27, f88, f19, f107, f166, f158, f73, f79, f140, f75, f105, f106, f21, f147, f5, f15, f170, f96, f83, f39, f124, f104, f130, f41, f22, f112, f129, f55, f133, f135, f81, f69, f164, f70.\n",
            "\n",
            "Generation 10 - Current Pareto front scores:\n",
            "\n",
            "-1\t-0.017414628200901793\tGradientBoostingRegressor(input_matrix, GradientBoostingRegressor__alpha=0.99, GradientBoostingRegressor__learning_rate=0.1, GradientBoostingRegressor__loss=huber, GradientBoostingRegressor__max_depth=8, GradientBoostingRegressor__max_features=0.6000000000000001, GradientBoostingRegressor__min_samples_leaf=19, GradientBoostingRegressor__min_samples_split=5, GradientBoostingRegressor__n_estimators=100, GradientBoostingRegressor__subsample=0.6500000000000001)\n",
            "\n",
            "-2\t-0.01717202858427672\tGradientBoostingRegressor(RidgeCV(input_matrix), GradientBoostingRegressor__alpha=0.8, GradientBoostingRegressor__learning_rate=0.1, GradientBoostingRegressor__loss=huber, GradientBoostingRegressor__max_depth=8, GradientBoostingRegressor__max_features=0.6000000000000001, GradientBoostingRegressor__min_samples_leaf=19, GradientBoostingRegressor__min_samples_split=15, GradientBoostingRegressor__n_estimators=100, GradientBoostingRegressor__subsample=0.7500000000000001)\n",
            "\n",
            "-3\t-0.016992093932436357\tGradientBoostingRegressor(RidgeCV(VarianceThreshold(input_matrix, VarianceThreshold__threshold=0.01)), GradientBoostingRegressor__alpha=0.8, GradientBoostingRegressor__learning_rate=0.1, GradientBoostingRegressor__loss=huber, GradientBoostingRegressor__max_depth=8, GradientBoostingRegressor__max_features=0.6000000000000001, GradientBoostingRegressor__min_samples_leaf=19, GradientBoostingRegressor__min_samples_split=5, GradientBoostingRegressor__n_estimators=100, GradientBoostingRegressor__subsample=0.9500000000000001)\n",
            "Periodic pipeline was not saved, probably saved before...\n",
            "Periodic pipeline was not saved, probably saved before...\n",
            "Saving periodic pipeline from pareto front to intermediate_results/pipeline_gen_10_idx_2_2021.01.05_19-53-38.py\n",
            "_pre_test decorator: _random_mutation_operator: num_test=0 Found array with 0 feature(s) (shape=(50, 0)) while a minimum of 1 is required..\n",
            "_pre_test decorator: _random_mutation_operator: num_test=0 feature_names mismatch: ['Id', 'MSSubClass', 'LotFrontage', 'LotArea', 'Neighborhood', 'OverallQual', 'OverallCond', 'YearBuilt', 'YearRemodAdd', 'MasVnrArea', 'BsmtFinSF1', 'BsmtFinSF2', 'BsmtUnfSF', 'LowQualFinSF', 'BsmtFullBath', 'BsmtHalfBath', 'FullBath', 'HalfBath', 'BedroomAbvGr', 'KitchenAbvGr', 'TotRmsAbvGrd', 'Fireplaces', 'GarageArea', 'WoodDeckSF', 'OpenPorchSF', 'EnclosedPorch', '3SsnPorch', 'ScreenPorch', 'PoolArea', 'MiscVal', 'MoSold', 'YrSold', 'Exterior_material', 'TotalSF', 'LotFrontage_log', 'LotArea_log', 'BsmtUnfSF_log', 'MSZoning_FV', 'MSZoning_RH', 'MSZoning_RL', 'MSZoning_RM', 'MasVnrType_BrkFace', 'MasVnrType_None', 'MasVnrType_Stone', 'ExterQual_Fa', 'ExterQual_Gd', 'ExterQual_TA', 'Foundation_CBlock', 'Foundation_PConc', 'Foundation_Slab/Stone/Wood', 'BsmtQual_Fa', 'BsmtQual_Gd', 'BsmtQual_TA', 'HeatingQC_Fa', 'HeatingQC_Gd', 'HeatingQC_Po', 'HeatingQC_TA', 'CentralAir_Y', 'KitchenQual_Fa', 'KitchenQual_Gd', 'KitchenQual_TA', 'GarageType_Attchd', 'GarageType_Basment', 'GarageType_BuiltIn', 'GarageType_CarPort', 'GarageType_Detchd', 'GarageType_NA', 'GarageYrBlt_1906.0', 'GarageYrBlt_1908.0', 'GarageYrBlt_1910.0', 'GarageYrBlt_1914.0', 'GarageYrBlt_1915.0', 'GarageYrBlt_1916.0', 'GarageYrBlt_1918.0', 'GarageYrBlt_1920.0', 'GarageYrBlt_1921.0', 'GarageYrBlt_1922.0', 'GarageYrBlt_1923.0', 'GarageYrBlt_1924.0', 'GarageYrBlt_1925.0', 'GarageYrBlt_1926.0', 'GarageYrBlt_1927.0', 'GarageYrBlt_1928.0', 'GarageYrBlt_1929.0', 'GarageYrBlt_1930.0', 'GarageYrBlt_1931.0', 'GarageYrBlt_1932.0', 'GarageYrBlt_1933.0', 'GarageYrBlt_1934.0', 'GarageYrBlt_1935.0', 'GarageYrBlt_1936.0', 'GarageYrBlt_1937.0', 'GarageYrBlt_1938.0', 'GarageYrBlt_1939.0', 'GarageYrBlt_1940.0', 'GarageYrBlt_1941.0', 'GarageYrBlt_1942.0', 'GarageYrBlt_1945.0', 'GarageYrBlt_1946.0', 'GarageYrBlt_1947.0', 'GarageYrBlt_1948.0', 'GarageYrBlt_1949.0', 'GarageYrBlt_1950.0', 'GarageYrBlt_1951.0', 'GarageYrBlt_1952.0', 'GarageYrBlt_1953.0', 'GarageYrBlt_1954.0', 'GarageYrBlt_1955.0', 'GarageYrBlt_1956.0', 'GarageYrBlt_1957.0', 'GarageYrBlt_1958.0', 'GarageYrBlt_1959.0', 'GarageYrBlt_1960.0', 'GarageYrBlt_1961.0', 'GarageYrBlt_1962.0', 'GarageYrBlt_1963.0', 'GarageYrBlt_1964.0', 'GarageYrBlt_1965.0', 'GarageYrBlt_1966.0', 'GarageYrBlt_1967.0', 'GarageYrBlt_1968.0', 'GarageYrBlt_1969.0', 'GarageYrBlt_1970.0', 'GarageYrBlt_1971.0', 'GarageYrBlt_1972.0', 'GarageYrBlt_1973.0', 'GarageYrBlt_1974.0', 'GarageYrBlt_1975.0', 'GarageYrBlt_1976.0', 'GarageYrBlt_1977.0', 'GarageYrBlt_1978.0', 'GarageYrBlt_1979.0', 'GarageYrBlt_1980.0', 'GarageYrBlt_1981.0', 'GarageYrBlt_1982.0', 'GarageYrBlt_1983.0', 'GarageYrBlt_1984.0', 'GarageYrBlt_1985.0', 'GarageYrBlt_1986.0', 'GarageYrBlt_1987.0', 'GarageYrBlt_1988.0', 'GarageYrBlt_1989.0', 'GarageYrBlt_1990.0', 'GarageYrBlt_1991.0', 'GarageYrBlt_1992.0', 'GarageYrBlt_1993.0', 'GarageYrBlt_1994.0', 'GarageYrBlt_1995.0', 'GarageYrBlt_1996.0', 'GarageYrBlt_1997.0', 'GarageYrBlt_1998.0', 'GarageYrBlt_1999.0', 'GarageYrBlt_2000.0', 'GarageYrBlt_2001.0', 'GarageYrBlt_2002.0', 'GarageYrBlt_2003.0', 'GarageYrBlt_2004.0', 'GarageYrBlt_2005.0', 'GarageYrBlt_2006.0', 'GarageYrBlt_2007.0', 'GarageYrBlt_2008.0', 'GarageYrBlt_2009.0', 'GarageYrBlt_2010.0', 'GarageYrBlt_NA', 'GarageFinish_NA', 'GarageFinish_RFn', 'GarageFinish_Unf', 'SaleType_WD', 'SaleCondition_Normal', 'SaleCondition_Partial', 'MSZoning2_OTHER', 'MSZoning2_RL', 'MSZoning2_RM'] ['f0', 'f1', 'f2', 'f3', 'f4', 'f5', 'f6', 'f7', 'f8', 'f9', 'f10', 'f11', 'f12', 'f13', 'f14', 'f15', 'f16', 'f17', 'f18', 'f19', 'f20', 'f21', 'f22', 'f23', 'f24', 'f25', 'f26', 'f27', 'f28', 'f29', 'f30', 'f31', 'f32', 'f33', 'f34', 'f35', 'f36', 'f37', 'f38', 'f39', 'f40', 'f41', 'f42', 'f43', 'f44', 'f45', 'f46', 'f47', 'f48', 'f49', 'f50', 'f51', 'f52', 'f53', 'f54', 'f55', 'f56', 'f57', 'f58', 'f59', 'f60', 'f61', 'f62', 'f63', 'f64', 'f65', 'f66', 'f67', 'f68', 'f69', 'f70', 'f71', 'f72', 'f73', 'f74', 'f75', 'f76', 'f77', 'f78', 'f79', 'f80', 'f81', 'f82', 'f83', 'f84', 'f85', 'f86', 'f87', 'f88', 'f89', 'f90', 'f91', 'f92', 'f93', 'f94', 'f95', 'f96', 'f97', 'f98', 'f99', 'f100', 'f101', 'f102', 'f103', 'f104', 'f105', 'f106', 'f107', 'f108', 'f109', 'f110', 'f111', 'f112', 'f113', 'f114', 'f115', 'f116', 'f117', 'f118', 'f119', 'f120', 'f121', 'f122', 'f123', 'f124', 'f125', 'f126', 'f127', 'f128', 'f129', 'f130', 'f131', 'f132', 'f133', 'f134', 'f135', 'f136', 'f137', 'f138', 'f139', 'f140', 'f141', 'f142', 'f143', 'f144', 'f145', 'f146', 'f147', 'f148', 'f149', 'f150', 'f151', 'f152', 'f153', 'f154', 'f155', 'f156', 'f157', 'f158', 'f159', 'f160', 'f161', 'f162', 'f163', 'f164', 'f165', 'f166', 'f167', 'f168', 'f169', 'f170', 'f171', 'f172']\n",
            "expected GarageYrBlt_2006.0, BedroomAbvGr, HeatingQC_Fa, GarageYrBlt_1939.0, GarageType_NA, GarageYrBlt_2000.0, ExterQual_Fa, GarageYrBlt_1993.0, MSZoning_FV, GarageYrBlt_1959.0, GarageYrBlt_2008.0, MoSold, GarageType_BuiltIn, GarageYrBlt_1931.0, BsmtFinSF2, Foundation_Slab/Stone/Wood, GarageYrBlt_1978.0, GarageFinish_RFn, 3SsnPorch, Fireplaces, GarageYrBlt_1942.0, GarageYrBlt_1925.0, GarageYrBlt_1920.0, GarageYrBlt_1986.0, GarageYrBlt_2002.0, GarageType_Attchd, GarageYrBlt_1934.0, GarageYrBlt_1973.0, GarageYrBlt_1964.0, SaleCondition_Partial, GarageYrBlt_1965.0, GarageYrBlt_1947.0, GarageYrBlt_1999.0, GarageYrBlt_NA, GarageYrBlt_1970.0, BsmtQual_TA, ExterQual_TA, BsmtUnfSF, GarageYrBlt_1990.0, GarageYrBlt_1954.0, Exterior_material, GarageFinish_NA, OpenPorchSF, GarageYrBlt_1940.0, GarageYrBlt_1906.0, GarageYrBlt_2004.0, GarageYrBlt_1980.0, GarageYrBlt_1981.0, GarageYrBlt_1971.0, MasVnrType_None, BsmtFullBath, GarageArea, MSZoning_RL, Neighborhood, GarageYrBlt_1969.0, BsmtQual_Fa, GarageYrBlt_1946.0, GarageYrBlt_1951.0, EnclosedPorch, MiscVal, GarageYrBlt_1910.0, HeatingQC_TA, BsmtQual_Gd, GarageYrBlt_1938.0, ExterQual_Gd, GarageYrBlt_1957.0, Foundation_PConc, GarageYrBlt_1968.0, WoodDeckSF, LotFrontage_log, GarageYrBlt_1922.0, KitchenAbvGr, GarageYrBlt_1956.0, GarageYrBlt_1923.0, GarageYrBlt_1929.0, GarageYrBlt_1996.0, BsmtHalfBath, GarageYrBlt_1998.0, BsmtFinSF1, MSSubClass, GarageYrBlt_1908.0, LotArea, FullBath, GarageYrBlt_1984.0, GarageYrBlt_1924.0, GarageYrBlt_2007.0, KitchenQual_Fa, GarageYrBlt_1949.0, GarageYrBlt_1950.0, HeatingQC_Po, GarageYrBlt_1982.0, GarageYrBlt_1961.0, GarageYrBlt_1916.0, GarageFinish_Unf, YrSold, MasVnrArea, OverallCond, GarageYrBlt_1926.0, MSZoning2_OTHER, ScreenPorch, GarageYrBlt_1958.0, GarageYrBlt_1948.0, GarageYrBlt_2005.0, GarageYrBlt_1967.0, GarageYrBlt_1962.0, GarageYrBlt_1963.0, GarageYrBlt_1955.0, GarageYrBlt_1921.0, LotFrontage, GarageYrBlt_1945.0, GarageYrBlt_1974.0, MSZoning_RH, GarageYrBlt_1914.0, GarageType_Detchd, TotRmsAbvGrd, LotArea_log, MasVnrType_BrkFace, KitchenQual_TA, GarageYrBlt_1928.0, GarageYrBlt_1992.0, MasVnrType_Stone, HeatingQC_Gd, MSZoning_RM, GarageYrBlt_1995.0, SaleCondition_Normal, GarageYrBlt_1972.0, GarageYrBlt_1975.0, GarageYrBlt_1918.0, GarageYrBlt_1966.0, GarageYrBlt_2003.0, GarageYrBlt_1953.0, LowQualFinSF, GarageYrBlt_1936.0, MSZoning2_RL, GarageYrBlt_1935.0, GarageYrBlt_1952.0, GarageYrBlt_2001.0, GarageYrBlt_1960.0, HalfBath, PoolArea, GarageYrBlt_1979.0, Foundation_CBlock, GarageType_Basment, GarageYrBlt_1941.0, CentralAir_Y, GarageYrBlt_1930.0, GarageYrBlt_1976.0, GarageYrBlt_1977.0, GarageYrBlt_1983.0, SaleType_WD, GarageYrBlt_1932.0, GarageYrBlt_1985.0, YearRemodAdd, GarageYrBlt_1997.0, KitchenQual_Gd, GarageYrBlt_2009.0, GarageYrBlt_1989.0, GarageYrBlt_1991.0, GarageYrBlt_1987.0, GarageYrBlt_1994.0, Id, GarageYrBlt_2010.0, GarageYrBlt_1915.0, OverallQual, GarageYrBlt_1988.0, GarageYrBlt_1927.0, TotalSF, GarageYrBlt_1933.0, MSZoning2_RM, BsmtUnfSF_log, YearBuilt, GarageType_CarPort, GarageYrBlt_1937.0 in input data\n",
            "training data did not have the following fields: f9, f87, f63, f90, f121, f162, f13, f24, f146, f46, f99, f137, f152, f103, f64, f123, f8, f102, f119, f144, f136, f117, f125, f47, f52, f62, f172, f34, f114, f134, f100, f91, f18, f51, f80, f78, f115, f110, f54, f141, f1, f161, f118, f16, f128, f151, f76, f113, f126, f68, f86, f25, f160, f32, f71, f127, f17, f2, f49, f159, f131, f20, f98, f109, f72, f33, f171, f163, f157, f10, f145, f94, f58, f67, f37, f61, f82, f48, f92, f4, f149, f23, f167, f3, f36, f7, f139, f53, f138, f142, f43, f132, f12, f50, f40, f35, f60, f169, f11, f154, f26, f89, f30, f29, f45, f28, f165, f77, f74, f153, f155, f97, f116, f44, f101, f31, f85, f56, f156, f122, f84, f66, f108, f42, f0, f6, f168, f57, f38, f65, f95, f111, f120, f148, f150, f14, f59, f93, f143, f27, f88, f19, f107, f166, f158, f73, f79, f140, f75, f105, f106, f21, f147, f5, f15, f170, f96, f83, f39, f124, f104, f130, f41, f22, f112, f129, f55, f133, f135, f81, f69, f164, f70.\n",
            "Pipeline encountered that has previously been evaluated during the optimization process. Using the score from the previous evaluation.\n",
            "\n",
            "Generation 11 - Current Pareto front scores:\n",
            "\n",
            "-1\t-0.017414628200901793\tGradientBoostingRegressor(input_matrix, GradientBoostingRegressor__alpha=0.99, GradientBoostingRegressor__learning_rate=0.1, GradientBoostingRegressor__loss=huber, GradientBoostingRegressor__max_depth=8, GradientBoostingRegressor__max_features=0.6000000000000001, GradientBoostingRegressor__min_samples_leaf=19, GradientBoostingRegressor__min_samples_split=5, GradientBoostingRegressor__n_estimators=100, GradientBoostingRegressor__subsample=0.6500000000000001)\n",
            "\n",
            "-2\t-0.016950532363961143\tGradientBoostingRegressor(RidgeCV(input_matrix), GradientBoostingRegressor__alpha=0.9, GradientBoostingRegressor__learning_rate=0.1, GradientBoostingRegressor__loss=huber, GradientBoostingRegressor__max_depth=8, GradientBoostingRegressor__max_features=0.6000000000000001, GradientBoostingRegressor__min_samples_leaf=19, GradientBoostingRegressor__min_samples_split=15, GradientBoostingRegressor__n_estimators=100, GradientBoostingRegressor__subsample=0.7500000000000001)\n",
            "Periodic pipeline was not saved, probably saved before...\n",
            "Saving periodic pipeline from pareto front to intermediate_results/pipeline_gen_11_idx_1_2021.01.05_20-01-19.py\n",
            "_pre_test decorator: _random_mutation_operator: num_test=0 Unsupported set of arguments: The combination of penalty='l2' and loss='epsilon_insensitive' are not supported when dual=False, Parameters: penalty='l2', loss='epsilon_insensitive', dual=False.\n",
            "_pre_test decorator: _random_mutation_operator: num_test=0 Unsupported set of arguments: The combination of penalty='l2' and loss='epsilon_insensitive' are not supported when dual=False, Parameters: penalty='l2', loss='epsilon_insensitive', dual=False.\n",
            "_pre_test decorator: _random_mutation_operator: num_test=0 Expected n_neighbors <= n_samples,  but n_samples = 50, n_neighbors = 88.\n",
            "Pipeline encountered that has previously been evaluated during the optimization process. Using the score from the previous evaluation.\n",
            "\n",
            "Generation 12 - Current Pareto front scores:\n",
            "\n",
            "-1\t-0.017414628200901793\tGradientBoostingRegressor(input_matrix, GradientBoostingRegressor__alpha=0.99, GradientBoostingRegressor__learning_rate=0.1, GradientBoostingRegressor__loss=huber, GradientBoostingRegressor__max_depth=8, GradientBoostingRegressor__max_features=0.6000000000000001, GradientBoostingRegressor__min_samples_leaf=19, GradientBoostingRegressor__min_samples_split=5, GradientBoostingRegressor__n_estimators=100, GradientBoostingRegressor__subsample=0.6500000000000001)\n",
            "\n",
            "-2\t-0.016950532363961143\tGradientBoostingRegressor(RidgeCV(input_matrix), GradientBoostingRegressor__alpha=0.9, GradientBoostingRegressor__learning_rate=0.1, GradientBoostingRegressor__loss=huber, GradientBoostingRegressor__max_depth=8, GradientBoostingRegressor__max_features=0.6000000000000001, GradientBoostingRegressor__min_samples_leaf=19, GradientBoostingRegressor__min_samples_split=15, GradientBoostingRegressor__n_estimators=100, GradientBoostingRegressor__subsample=0.7500000000000001)\n",
            "Periodic pipeline was not saved, probably saved before...\n",
            "Periodic pipeline was not saved, probably saved before...\n",
            "_pre_test decorator: _random_mutation_operator: num_test=0 '(slice(None, None, None), 0)' is an invalid key.\n",
            "_pre_test decorator: _random_mutation_operator: num_test=0 Expected n_neighbors <= n_samples,  but n_samples = 50, n_neighbors = 97.\n",
            "_pre_test decorator: _random_mutation_operator: num_test=1 Expected n_neighbors <= n_samples,  but n_samples = 50, n_neighbors = 58.\n",
            "_pre_test decorator: _random_mutation_operator: num_test=0 l2 was provided as affinity. Ward can only work with euclidean distances..\n",
            "_pre_test decorator: _random_mutation_operator: num_test=0 feature_names mismatch: ['Id', 'MSSubClass', 'LotFrontage', 'LotArea', 'Neighborhood', 'OverallQual', 'OverallCond', 'YearBuilt', 'YearRemodAdd', 'MasVnrArea', 'BsmtFinSF1', 'BsmtFinSF2', 'BsmtUnfSF', 'LowQualFinSF', 'BsmtFullBath', 'BsmtHalfBath', 'FullBath', 'HalfBath', 'BedroomAbvGr', 'KitchenAbvGr', 'TotRmsAbvGrd', 'Fireplaces', 'GarageArea', 'WoodDeckSF', 'OpenPorchSF', 'EnclosedPorch', '3SsnPorch', 'ScreenPorch', 'PoolArea', 'MiscVal', 'MoSold', 'YrSold', 'Exterior_material', 'TotalSF', 'LotFrontage_log', 'LotArea_log', 'BsmtUnfSF_log', 'MSZoning_FV', 'MSZoning_RH', 'MSZoning_RL', 'MSZoning_RM', 'MasVnrType_BrkFace', 'MasVnrType_None', 'MasVnrType_Stone', 'ExterQual_Fa', 'ExterQual_Gd', 'ExterQual_TA', 'Foundation_CBlock', 'Foundation_PConc', 'Foundation_Slab/Stone/Wood', 'BsmtQual_Fa', 'BsmtQual_Gd', 'BsmtQual_TA', 'HeatingQC_Fa', 'HeatingQC_Gd', 'HeatingQC_Po', 'HeatingQC_TA', 'CentralAir_Y', 'KitchenQual_Fa', 'KitchenQual_Gd', 'KitchenQual_TA', 'GarageType_Attchd', 'GarageType_Basment', 'GarageType_BuiltIn', 'GarageType_CarPort', 'GarageType_Detchd', 'GarageType_NA', 'GarageYrBlt_1906.0', 'GarageYrBlt_1908.0', 'GarageYrBlt_1910.0', 'GarageYrBlt_1914.0', 'GarageYrBlt_1915.0', 'GarageYrBlt_1916.0', 'GarageYrBlt_1918.0', 'GarageYrBlt_1920.0', 'GarageYrBlt_1921.0', 'GarageYrBlt_1922.0', 'GarageYrBlt_1923.0', 'GarageYrBlt_1924.0', 'GarageYrBlt_1925.0', 'GarageYrBlt_1926.0', 'GarageYrBlt_1927.0', 'GarageYrBlt_1928.0', 'GarageYrBlt_1929.0', 'GarageYrBlt_1930.0', 'GarageYrBlt_1931.0', 'GarageYrBlt_1932.0', 'GarageYrBlt_1933.0', 'GarageYrBlt_1934.0', 'GarageYrBlt_1935.0', 'GarageYrBlt_1936.0', 'GarageYrBlt_1937.0', 'GarageYrBlt_1938.0', 'GarageYrBlt_1939.0', 'GarageYrBlt_1940.0', 'GarageYrBlt_1941.0', 'GarageYrBlt_1942.0', 'GarageYrBlt_1945.0', 'GarageYrBlt_1946.0', 'GarageYrBlt_1947.0', 'GarageYrBlt_1948.0', 'GarageYrBlt_1949.0', 'GarageYrBlt_1950.0', 'GarageYrBlt_1951.0', 'GarageYrBlt_1952.0', 'GarageYrBlt_1953.0', 'GarageYrBlt_1954.0', 'GarageYrBlt_1955.0', 'GarageYrBlt_1956.0', 'GarageYrBlt_1957.0', 'GarageYrBlt_1958.0', 'GarageYrBlt_1959.0', 'GarageYrBlt_1960.0', 'GarageYrBlt_1961.0', 'GarageYrBlt_1962.0', 'GarageYrBlt_1963.0', 'GarageYrBlt_1964.0', 'GarageYrBlt_1965.0', 'GarageYrBlt_1966.0', 'GarageYrBlt_1967.0', 'GarageYrBlt_1968.0', 'GarageYrBlt_1969.0', 'GarageYrBlt_1970.0', 'GarageYrBlt_1971.0', 'GarageYrBlt_1972.0', 'GarageYrBlt_1973.0', 'GarageYrBlt_1974.0', 'GarageYrBlt_1975.0', 'GarageYrBlt_1976.0', 'GarageYrBlt_1977.0', 'GarageYrBlt_1978.0', 'GarageYrBlt_1979.0', 'GarageYrBlt_1980.0', 'GarageYrBlt_1981.0', 'GarageYrBlt_1982.0', 'GarageYrBlt_1983.0', 'GarageYrBlt_1984.0', 'GarageYrBlt_1985.0', 'GarageYrBlt_1986.0', 'GarageYrBlt_1987.0', 'GarageYrBlt_1988.0', 'GarageYrBlt_1989.0', 'GarageYrBlt_1990.0', 'GarageYrBlt_1991.0', 'GarageYrBlt_1992.0', 'GarageYrBlt_1993.0', 'GarageYrBlt_1994.0', 'GarageYrBlt_1995.0', 'GarageYrBlt_1996.0', 'GarageYrBlt_1997.0', 'GarageYrBlt_1998.0', 'GarageYrBlt_1999.0', 'GarageYrBlt_2000.0', 'GarageYrBlt_2001.0', 'GarageYrBlt_2002.0', 'GarageYrBlt_2003.0', 'GarageYrBlt_2004.0', 'GarageYrBlt_2005.0', 'GarageYrBlt_2006.0', 'GarageYrBlt_2007.0', 'GarageYrBlt_2008.0', 'GarageYrBlt_2009.0', 'GarageYrBlt_2010.0', 'GarageYrBlt_NA', 'GarageFinish_NA', 'GarageFinish_RFn', 'GarageFinish_Unf', 'SaleType_WD', 'SaleCondition_Normal', 'SaleCondition_Partial', 'MSZoning2_OTHER', 'MSZoning2_RL', 'MSZoning2_RM'] ['f0', 'f1', 'f2', 'f3', 'f4', 'f5', 'f6', 'f7', 'f8', 'f9', 'f10', 'f11', 'f12', 'f13', 'f14', 'f15', 'f16', 'f17', 'f18', 'f19', 'f20', 'f21', 'f22', 'f23', 'f24', 'f25', 'f26', 'f27', 'f28', 'f29', 'f30', 'f31', 'f32', 'f33', 'f34', 'f35', 'f36', 'f37', 'f38', 'f39', 'f40', 'f41', 'f42', 'f43', 'f44', 'f45', 'f46', 'f47', 'f48', 'f49', 'f50', 'f51', 'f52', 'f53', 'f54', 'f55', 'f56', 'f57', 'f58', 'f59', 'f60', 'f61', 'f62', 'f63', 'f64', 'f65', 'f66', 'f67', 'f68', 'f69', 'f70', 'f71', 'f72', 'f73', 'f74', 'f75', 'f76', 'f77', 'f78', 'f79', 'f80', 'f81', 'f82', 'f83', 'f84', 'f85', 'f86', 'f87', 'f88', 'f89', 'f90', 'f91', 'f92', 'f93', 'f94', 'f95', 'f96', 'f97', 'f98', 'f99', 'f100', 'f101', 'f102', 'f103', 'f104', 'f105', 'f106', 'f107', 'f108', 'f109', 'f110', 'f111', 'f112', 'f113', 'f114', 'f115', 'f116', 'f117', 'f118', 'f119', 'f120', 'f121', 'f122', 'f123', 'f124', 'f125', 'f126', 'f127', 'f128', 'f129', 'f130', 'f131', 'f132', 'f133', 'f134', 'f135', 'f136', 'f137', 'f138', 'f139', 'f140', 'f141', 'f142', 'f143', 'f144', 'f145', 'f146', 'f147', 'f148', 'f149', 'f150', 'f151', 'f152', 'f153', 'f154', 'f155', 'f156', 'f157', 'f158', 'f159', 'f160', 'f161', 'f162', 'f163', 'f164', 'f165', 'f166', 'f167', 'f168', 'f169', 'f170', 'f171', 'f172']\n",
            "expected GarageYrBlt_2006.0, BedroomAbvGr, HeatingQC_Fa, GarageYrBlt_1939.0, GarageType_NA, GarageYrBlt_2000.0, ExterQual_Fa, GarageYrBlt_1993.0, MSZoning_FV, GarageYrBlt_1959.0, GarageYrBlt_2008.0, MoSold, GarageType_BuiltIn, GarageYrBlt_1931.0, BsmtFinSF2, Foundation_Slab/Stone/Wood, GarageYrBlt_1978.0, GarageFinish_RFn, 3SsnPorch, Fireplaces, GarageYrBlt_1942.0, GarageYrBlt_1925.0, GarageYrBlt_1920.0, GarageYrBlt_1986.0, GarageYrBlt_2002.0, GarageType_Attchd, GarageYrBlt_1934.0, GarageYrBlt_1973.0, GarageYrBlt_1964.0, SaleCondition_Partial, GarageYrBlt_1965.0, GarageYrBlt_1947.0, GarageYrBlt_1999.0, GarageYrBlt_NA, GarageYrBlt_1970.0, BsmtQual_TA, ExterQual_TA, BsmtUnfSF, GarageYrBlt_1990.0, GarageYrBlt_1954.0, Exterior_material, GarageFinish_NA, OpenPorchSF, GarageYrBlt_1940.0, GarageYrBlt_1906.0, GarageYrBlt_2004.0, GarageYrBlt_1980.0, GarageYrBlt_1981.0, GarageYrBlt_1971.0, MasVnrType_None, BsmtFullBath, GarageArea, MSZoning_RL, Neighborhood, GarageYrBlt_1969.0, BsmtQual_Fa, GarageYrBlt_1946.0, GarageYrBlt_1951.0, EnclosedPorch, MiscVal, GarageYrBlt_1910.0, HeatingQC_TA, BsmtQual_Gd, GarageYrBlt_1938.0, ExterQual_Gd, GarageYrBlt_1957.0, Foundation_PConc, GarageYrBlt_1968.0, WoodDeckSF, LotFrontage_log, GarageYrBlt_1922.0, KitchenAbvGr, GarageYrBlt_1956.0, GarageYrBlt_1923.0, GarageYrBlt_1929.0, GarageYrBlt_1996.0, BsmtHalfBath, GarageYrBlt_1998.0, BsmtFinSF1, MSSubClass, GarageYrBlt_1908.0, LotArea, FullBath, GarageYrBlt_1984.0, GarageYrBlt_1924.0, GarageYrBlt_2007.0, KitchenQual_Fa, GarageYrBlt_1949.0, GarageYrBlt_1950.0, HeatingQC_Po, GarageYrBlt_1982.0, GarageYrBlt_1961.0, GarageYrBlt_1916.0, GarageFinish_Unf, YrSold, MasVnrArea, OverallCond, GarageYrBlt_1926.0, MSZoning2_OTHER, ScreenPorch, GarageYrBlt_1958.0, GarageYrBlt_1948.0, GarageYrBlt_2005.0, GarageYrBlt_1967.0, GarageYrBlt_1962.0, GarageYrBlt_1963.0, GarageYrBlt_1955.0, GarageYrBlt_1921.0, LotFrontage, GarageYrBlt_1945.0, GarageYrBlt_1974.0, MSZoning_RH, GarageYrBlt_1914.0, GarageType_Detchd, TotRmsAbvGrd, LotArea_log, MasVnrType_BrkFace, KitchenQual_TA, GarageYrBlt_1928.0, GarageYrBlt_1992.0, MasVnrType_Stone, HeatingQC_Gd, MSZoning_RM, GarageYrBlt_1995.0, SaleCondition_Normal, GarageYrBlt_1972.0, GarageYrBlt_1975.0, GarageYrBlt_1918.0, GarageYrBlt_1966.0, GarageYrBlt_2003.0, GarageYrBlt_1953.0, LowQualFinSF, GarageYrBlt_1936.0, MSZoning2_RL, GarageYrBlt_1935.0, GarageYrBlt_1952.0, GarageYrBlt_2001.0, GarageYrBlt_1960.0, HalfBath, PoolArea, GarageYrBlt_1979.0, Foundation_CBlock, GarageType_Basment, GarageYrBlt_1941.0, CentralAir_Y, GarageYrBlt_1930.0, GarageYrBlt_1976.0, GarageYrBlt_1977.0, GarageYrBlt_1983.0, SaleType_WD, GarageYrBlt_1932.0, GarageYrBlt_1985.0, YearRemodAdd, GarageYrBlt_1997.0, KitchenQual_Gd, GarageYrBlt_2009.0, GarageYrBlt_1989.0, GarageYrBlt_1991.0, GarageYrBlt_1987.0, GarageYrBlt_1994.0, Id, GarageYrBlt_2010.0, GarageYrBlt_1915.0, OverallQual, GarageYrBlt_1988.0, GarageYrBlt_1927.0, TotalSF, GarageYrBlt_1933.0, MSZoning2_RM, BsmtUnfSF_log, YearBuilt, GarageType_CarPort, GarageYrBlt_1937.0 in input data\n",
            "training data did not have the following fields: f9, f87, f63, f90, f121, f162, f13, f24, f146, f46, f99, f137, f152, f103, f64, f123, f8, f102, f119, f144, f136, f117, f125, f47, f52, f62, f172, f34, f114, f134, f100, f91, f18, f51, f80, f78, f115, f110, f54, f141, f1, f161, f118, f16, f128, f151, f76, f113, f126, f68, f86, f25, f160, f32, f71, f127, f17, f2, f49, f159, f131, f20, f98, f109, f72, f33, f171, f163, f157, f10, f145, f94, f58, f67, f37, f61, f82, f48, f92, f4, f149, f23, f167, f3, f36, f7, f139, f53, f138, f142, f43, f132, f12, f50, f40, f35, f60, f169, f11, f154, f26, f89, f30, f29, f45, f28, f165, f77, f74, f153, f155, f97, f116, f44, f101, f31, f85, f56, f156, f122, f84, f66, f108, f42, f0, f6, f168, f57, f38, f65, f95, f111, f120, f148, f150, f14, f59, f93, f143, f27, f88, f19, f107, f166, f158, f73, f79, f140, f75, f105, f106, f21, f147, f5, f15, f170, f96, f83, f39, f124, f104, f130, f41, f22, f112, f129, f55, f133, f135, f81, f69, f164, f70.\n",
            "Pipeline encountered that has previously been evaluated during the optimization process. Using the score from the previous evaluation.\n",
            "\n",
            "Generation 13 - Current Pareto front scores:\n",
            "\n",
            "-1\t-0.017414628200901793\tGradientBoostingRegressor(input_matrix, GradientBoostingRegressor__alpha=0.99, GradientBoostingRegressor__learning_rate=0.1, GradientBoostingRegressor__loss=huber, GradientBoostingRegressor__max_depth=8, GradientBoostingRegressor__max_features=0.6000000000000001, GradientBoostingRegressor__min_samples_leaf=19, GradientBoostingRegressor__min_samples_split=5, GradientBoostingRegressor__n_estimators=100, GradientBoostingRegressor__subsample=0.6500000000000001)\n",
            "\n",
            "-2\t-0.016950532363961143\tGradientBoostingRegressor(RidgeCV(input_matrix), GradientBoostingRegressor__alpha=0.9, GradientBoostingRegressor__learning_rate=0.1, GradientBoostingRegressor__loss=huber, GradientBoostingRegressor__max_depth=8, GradientBoostingRegressor__max_features=0.6000000000000001, GradientBoostingRegressor__min_samples_leaf=19, GradientBoostingRegressor__min_samples_split=15, GradientBoostingRegressor__n_estimators=100, GradientBoostingRegressor__subsample=0.7500000000000001)\n",
            "Periodic pipeline was not saved, probably saved before...\n",
            "Periodic pipeline was not saved, probably saved before...\n",
            "_pre_test decorator: _random_mutation_operator: num_test=0 '(slice(None, None, None), 0)' is an invalid key.\n",
            "_pre_test decorator: _random_mutation_operator: num_test=0 Automatic alpha grid generation is not supported for l1_ratio=0. Please supply a grid by providing your estimator with the appropriate `alphas=` argument..\n",
            "_pre_test decorator: _random_mutation_operator: num_test=0 '(slice(None, None, None), 0)' is an invalid key.\n",
            "\n",
            "Generation 14 - Current Pareto front scores:\n",
            "\n",
            "-1\t-0.017414628200901793\tGradientBoostingRegressor(input_matrix, GradientBoostingRegressor__alpha=0.99, GradientBoostingRegressor__learning_rate=0.1, GradientBoostingRegressor__loss=huber, GradientBoostingRegressor__max_depth=8, GradientBoostingRegressor__max_features=0.6000000000000001, GradientBoostingRegressor__min_samples_leaf=19, GradientBoostingRegressor__min_samples_split=5, GradientBoostingRegressor__n_estimators=100, GradientBoostingRegressor__subsample=0.6500000000000001)\n",
            "\n",
            "-2\t-0.016950532363961143\tGradientBoostingRegressor(RidgeCV(input_matrix), GradientBoostingRegressor__alpha=0.9, GradientBoostingRegressor__learning_rate=0.1, GradientBoostingRegressor__loss=huber, GradientBoostingRegressor__max_depth=8, GradientBoostingRegressor__max_features=0.6000000000000001, GradientBoostingRegressor__min_samples_leaf=19, GradientBoostingRegressor__min_samples_split=15, GradientBoostingRegressor__n_estimators=100, GradientBoostingRegressor__subsample=0.7500000000000001)\n",
            "Periodic pipeline was not saved, probably saved before...\n",
            "Periodic pipeline was not saved, probably saved before...\n",
            "_pre_test decorator: _random_mutation_operator: num_test=0 Unsupported set of arguments: The combination of penalty='l2' and loss='epsilon_insensitive' are not supported when dual=False, Parameters: penalty='l2', loss='epsilon_insensitive', dual=False.\n",
            "_pre_test decorator: _random_mutation_operator: num_test=0 feature_names mismatch: ['Id', 'MSSubClass', 'LotFrontage', 'LotArea', 'Neighborhood', 'OverallQual', 'OverallCond', 'YearBuilt', 'YearRemodAdd', 'MasVnrArea', 'BsmtFinSF1', 'BsmtFinSF2', 'BsmtUnfSF', 'LowQualFinSF', 'BsmtFullBath', 'BsmtHalfBath', 'FullBath', 'HalfBath', 'BedroomAbvGr', 'KitchenAbvGr', 'TotRmsAbvGrd', 'Fireplaces', 'GarageArea', 'WoodDeckSF', 'OpenPorchSF', 'EnclosedPorch', '3SsnPorch', 'ScreenPorch', 'PoolArea', 'MiscVal', 'MoSold', 'YrSold', 'Exterior_material', 'TotalSF', 'LotFrontage_log', 'LotArea_log', 'BsmtUnfSF_log', 'MSZoning_FV', 'MSZoning_RH', 'MSZoning_RL', 'MSZoning_RM', 'MasVnrType_BrkFace', 'MasVnrType_None', 'MasVnrType_Stone', 'ExterQual_Fa', 'ExterQual_Gd', 'ExterQual_TA', 'Foundation_CBlock', 'Foundation_PConc', 'Foundation_Slab/Stone/Wood', 'BsmtQual_Fa', 'BsmtQual_Gd', 'BsmtQual_TA', 'HeatingQC_Fa', 'HeatingQC_Gd', 'HeatingQC_Po', 'HeatingQC_TA', 'CentralAir_Y', 'KitchenQual_Fa', 'KitchenQual_Gd', 'KitchenQual_TA', 'GarageType_Attchd', 'GarageType_Basment', 'GarageType_BuiltIn', 'GarageType_CarPort', 'GarageType_Detchd', 'GarageType_NA', 'GarageYrBlt_1906.0', 'GarageYrBlt_1908.0', 'GarageYrBlt_1910.0', 'GarageYrBlt_1914.0', 'GarageYrBlt_1915.0', 'GarageYrBlt_1916.0', 'GarageYrBlt_1918.0', 'GarageYrBlt_1920.0', 'GarageYrBlt_1921.0', 'GarageYrBlt_1922.0', 'GarageYrBlt_1923.0', 'GarageYrBlt_1924.0', 'GarageYrBlt_1925.0', 'GarageYrBlt_1926.0', 'GarageYrBlt_1927.0', 'GarageYrBlt_1928.0', 'GarageYrBlt_1929.0', 'GarageYrBlt_1930.0', 'GarageYrBlt_1931.0', 'GarageYrBlt_1932.0', 'GarageYrBlt_1933.0', 'GarageYrBlt_1934.0', 'GarageYrBlt_1935.0', 'GarageYrBlt_1936.0', 'GarageYrBlt_1937.0', 'GarageYrBlt_1938.0', 'GarageYrBlt_1939.0', 'GarageYrBlt_1940.0', 'GarageYrBlt_1941.0', 'GarageYrBlt_1942.0', 'GarageYrBlt_1945.0', 'GarageYrBlt_1946.0', 'GarageYrBlt_1947.0', 'GarageYrBlt_1948.0', 'GarageYrBlt_1949.0', 'GarageYrBlt_1950.0', 'GarageYrBlt_1951.0', 'GarageYrBlt_1952.0', 'GarageYrBlt_1953.0', 'GarageYrBlt_1954.0', 'GarageYrBlt_1955.0', 'GarageYrBlt_1956.0', 'GarageYrBlt_1957.0', 'GarageYrBlt_1958.0', 'GarageYrBlt_1959.0', 'GarageYrBlt_1960.0', 'GarageYrBlt_1961.0', 'GarageYrBlt_1962.0', 'GarageYrBlt_1963.0', 'GarageYrBlt_1964.0', 'GarageYrBlt_1965.0', 'GarageYrBlt_1966.0', 'GarageYrBlt_1967.0', 'GarageYrBlt_1968.0', 'GarageYrBlt_1969.0', 'GarageYrBlt_1970.0', 'GarageYrBlt_1971.0', 'GarageYrBlt_1972.0', 'GarageYrBlt_1973.0', 'GarageYrBlt_1974.0', 'GarageYrBlt_1975.0', 'GarageYrBlt_1976.0', 'GarageYrBlt_1977.0', 'GarageYrBlt_1978.0', 'GarageYrBlt_1979.0', 'GarageYrBlt_1980.0', 'GarageYrBlt_1981.0', 'GarageYrBlt_1982.0', 'GarageYrBlt_1983.0', 'GarageYrBlt_1984.0', 'GarageYrBlt_1985.0', 'GarageYrBlt_1986.0', 'GarageYrBlt_1987.0', 'GarageYrBlt_1988.0', 'GarageYrBlt_1989.0', 'GarageYrBlt_1990.0', 'GarageYrBlt_1991.0', 'GarageYrBlt_1992.0', 'GarageYrBlt_1993.0', 'GarageYrBlt_1994.0', 'GarageYrBlt_1995.0', 'GarageYrBlt_1996.0', 'GarageYrBlt_1997.0', 'GarageYrBlt_1998.0', 'GarageYrBlt_1999.0', 'GarageYrBlt_2000.0', 'GarageYrBlt_2001.0', 'GarageYrBlt_2002.0', 'GarageYrBlt_2003.0', 'GarageYrBlt_2004.0', 'GarageYrBlt_2005.0', 'GarageYrBlt_2006.0', 'GarageYrBlt_2007.0', 'GarageYrBlt_2008.0', 'GarageYrBlt_2009.0', 'GarageYrBlt_2010.0', 'GarageYrBlt_NA', 'GarageFinish_NA', 'GarageFinish_RFn', 'GarageFinish_Unf', 'SaleType_WD', 'SaleCondition_Normal', 'SaleCondition_Partial', 'MSZoning2_OTHER', 'MSZoning2_RL', 'MSZoning2_RM'] ['f0', 'f1', 'f2', 'f3', 'f4', 'f5', 'f6', 'f7', 'f8', 'f9', 'f10', 'f11', 'f12', 'f13', 'f14', 'f15', 'f16', 'f17', 'f18', 'f19', 'f20', 'f21', 'f22', 'f23', 'f24', 'f25', 'f26', 'f27', 'f28', 'f29', 'f30', 'f31', 'f32', 'f33', 'f34', 'f35', 'f36', 'f37', 'f38', 'f39', 'f40', 'f41', 'f42', 'f43', 'f44', 'f45', 'f46', 'f47', 'f48', 'f49', 'f50', 'f51', 'f52', 'f53', 'f54', 'f55', 'f56', 'f57', 'f58', 'f59', 'f60', 'f61', 'f62', 'f63', 'f64', 'f65', 'f66', 'f67', 'f68', 'f69', 'f70', 'f71', 'f72', 'f73', 'f74', 'f75', 'f76', 'f77', 'f78', 'f79', 'f80', 'f81', 'f82', 'f83', 'f84', 'f85', 'f86', 'f87', 'f88', 'f89', 'f90', 'f91', 'f92', 'f93', 'f94', 'f95', 'f96', 'f97', 'f98', 'f99', 'f100', 'f101', 'f102', 'f103', 'f104', 'f105', 'f106', 'f107', 'f108', 'f109', 'f110', 'f111', 'f112', 'f113', 'f114', 'f115', 'f116', 'f117', 'f118', 'f119', 'f120', 'f121', 'f122', 'f123', 'f124', 'f125', 'f126', 'f127', 'f128', 'f129', 'f130', 'f131', 'f132', 'f133', 'f134', 'f135', 'f136', 'f137', 'f138', 'f139', 'f140', 'f141', 'f142', 'f143', 'f144', 'f145', 'f146', 'f147', 'f148', 'f149', 'f150', 'f151', 'f152', 'f153', 'f154', 'f155', 'f156', 'f157', 'f158', 'f159', 'f160', 'f161', 'f162', 'f163', 'f164', 'f165', 'f166', 'f167', 'f168', 'f169', 'f170', 'f171', 'f172']\n",
            "expected GarageYrBlt_2006.0, BedroomAbvGr, HeatingQC_Fa, GarageYrBlt_1939.0, GarageType_NA, GarageYrBlt_2000.0, ExterQual_Fa, GarageYrBlt_1993.0, MSZoning_FV, GarageYrBlt_1959.0, GarageYrBlt_2008.0, MoSold, GarageType_BuiltIn, GarageYrBlt_1931.0, BsmtFinSF2, Foundation_Slab/Stone/Wood, GarageYrBlt_1978.0, GarageFinish_RFn, 3SsnPorch, Fireplaces, GarageYrBlt_1942.0, GarageYrBlt_1925.0, GarageYrBlt_1920.0, GarageYrBlt_1986.0, GarageYrBlt_2002.0, GarageType_Attchd, GarageYrBlt_1934.0, GarageYrBlt_1973.0, GarageYrBlt_1964.0, SaleCondition_Partial, GarageYrBlt_1965.0, GarageYrBlt_1947.0, GarageYrBlt_1999.0, GarageYrBlt_NA, GarageYrBlt_1970.0, BsmtQual_TA, ExterQual_TA, BsmtUnfSF, GarageYrBlt_1990.0, GarageYrBlt_1954.0, Exterior_material, GarageFinish_NA, OpenPorchSF, GarageYrBlt_1940.0, GarageYrBlt_1906.0, GarageYrBlt_2004.0, GarageYrBlt_1980.0, GarageYrBlt_1981.0, GarageYrBlt_1971.0, MasVnrType_None, BsmtFullBath, GarageArea, MSZoning_RL, Neighborhood, GarageYrBlt_1969.0, BsmtQual_Fa, GarageYrBlt_1946.0, GarageYrBlt_1951.0, EnclosedPorch, MiscVal, GarageYrBlt_1910.0, HeatingQC_TA, BsmtQual_Gd, GarageYrBlt_1938.0, ExterQual_Gd, GarageYrBlt_1957.0, Foundation_PConc, GarageYrBlt_1968.0, WoodDeckSF, LotFrontage_log, GarageYrBlt_1922.0, KitchenAbvGr, GarageYrBlt_1956.0, GarageYrBlt_1923.0, GarageYrBlt_1929.0, GarageYrBlt_1996.0, BsmtHalfBath, GarageYrBlt_1998.0, BsmtFinSF1, MSSubClass, GarageYrBlt_1908.0, LotArea, FullBath, GarageYrBlt_1984.0, GarageYrBlt_1924.0, GarageYrBlt_2007.0, KitchenQual_Fa, GarageYrBlt_1949.0, GarageYrBlt_1950.0, HeatingQC_Po, GarageYrBlt_1982.0, GarageYrBlt_1961.0, GarageYrBlt_1916.0, GarageFinish_Unf, YrSold, MasVnrArea, OverallCond, GarageYrBlt_1926.0, MSZoning2_OTHER, ScreenPorch, GarageYrBlt_1958.0, GarageYrBlt_1948.0, GarageYrBlt_2005.0, GarageYrBlt_1967.0, GarageYrBlt_1962.0, GarageYrBlt_1963.0, GarageYrBlt_1955.0, GarageYrBlt_1921.0, LotFrontage, GarageYrBlt_1945.0, GarageYrBlt_1974.0, MSZoning_RH, GarageYrBlt_1914.0, GarageType_Detchd, TotRmsAbvGrd, LotArea_log, MasVnrType_BrkFace, KitchenQual_TA, GarageYrBlt_1928.0, GarageYrBlt_1992.0, MasVnrType_Stone, HeatingQC_Gd, MSZoning_RM, GarageYrBlt_1995.0, SaleCondition_Normal, GarageYrBlt_1972.0, GarageYrBlt_1975.0, GarageYrBlt_1918.0, GarageYrBlt_1966.0, GarageYrBlt_2003.0, GarageYrBlt_1953.0, LowQualFinSF, GarageYrBlt_1936.0, MSZoning2_RL, GarageYrBlt_1935.0, GarageYrBlt_1952.0, GarageYrBlt_2001.0, GarageYrBlt_1960.0, HalfBath, PoolArea, GarageYrBlt_1979.0, Foundation_CBlock, GarageType_Basment, GarageYrBlt_1941.0, CentralAir_Y, GarageYrBlt_1930.0, GarageYrBlt_1976.0, GarageYrBlt_1977.0, GarageYrBlt_1983.0, SaleType_WD, GarageYrBlt_1932.0, GarageYrBlt_1985.0, YearRemodAdd, GarageYrBlt_1997.0, KitchenQual_Gd, GarageYrBlt_2009.0, GarageYrBlt_1989.0, GarageYrBlt_1991.0, GarageYrBlt_1987.0, GarageYrBlt_1994.0, Id, GarageYrBlt_2010.0, GarageYrBlt_1915.0, OverallQual, GarageYrBlt_1988.0, GarageYrBlt_1927.0, TotalSF, GarageYrBlt_1933.0, MSZoning2_RM, BsmtUnfSF_log, YearBuilt, GarageType_CarPort, GarageYrBlt_1937.0 in input data\n",
            "training data did not have the following fields: f9, f87, f63, f90, f121, f162, f13, f24, f146, f46, f99, f137, f152, f103, f64, f123, f8, f102, f119, f144, f136, f117, f125, f47, f52, f62, f172, f34, f114, f134, f100, f91, f18, f51, f80, f78, f115, f110, f54, f141, f1, f161, f118, f16, f128, f151, f76, f113, f126, f68, f86, f25, f160, f32, f71, f127, f17, f2, f49, f159, f131, f20, f98, f109, f72, f33, f171, f163, f157, f10, f145, f94, f58, f67, f37, f61, f82, f48, f92, f4, f149, f23, f167, f3, f36, f7, f139, f53, f138, f142, f43, f132, f12, f50, f40, f35, f60, f169, f11, f154, f26, f89, f30, f29, f45, f28, f165, f77, f74, f153, f155, f97, f116, f44, f101, f31, f85, f56, f156, f122, f84, f66, f108, f42, f0, f6, f168, f57, f38, f65, f95, f111, f120, f148, f150, f14, f59, f93, f143, f27, f88, f19, f107, f166, f158, f73, f79, f140, f75, f105, f106, f21, f147, f5, f15, f170, f96, f83, f39, f124, f104, f130, f41, f22, f112, f129, f55, f133, f135, f81, f69, f164, f70.\n",
            "_pre_test decorator: _random_mutation_operator: num_test=0 Expected n_neighbors <= n_samples,  but n_samples = 50, n_neighbors = 100.\n",
            "_pre_test decorator: _random_mutation_operator: num_test=0 feature_names mismatch: ['Id', 'MSSubClass', 'LotFrontage', 'LotArea', 'Neighborhood', 'OverallQual', 'OverallCond', 'YearBuilt', 'YearRemodAdd', 'MasVnrArea', 'BsmtFinSF1', 'BsmtFinSF2', 'BsmtUnfSF', 'LowQualFinSF', 'BsmtFullBath', 'BsmtHalfBath', 'FullBath', 'HalfBath', 'BedroomAbvGr', 'KitchenAbvGr', 'TotRmsAbvGrd', 'Fireplaces', 'GarageArea', 'WoodDeckSF', 'OpenPorchSF', 'EnclosedPorch', '3SsnPorch', 'ScreenPorch', 'PoolArea', 'MiscVal', 'MoSold', 'YrSold', 'Exterior_material', 'TotalSF', 'LotFrontage_log', 'LotArea_log', 'BsmtUnfSF_log', 'MSZoning_FV', 'MSZoning_RH', 'MSZoning_RL', 'MSZoning_RM', 'MasVnrType_BrkFace', 'MasVnrType_None', 'MasVnrType_Stone', 'ExterQual_Fa', 'ExterQual_Gd', 'ExterQual_TA', 'Foundation_CBlock', 'Foundation_PConc', 'Foundation_Slab/Stone/Wood', 'BsmtQual_Fa', 'BsmtQual_Gd', 'BsmtQual_TA', 'HeatingQC_Fa', 'HeatingQC_Gd', 'HeatingQC_Po', 'HeatingQC_TA', 'CentralAir_Y', 'KitchenQual_Fa', 'KitchenQual_Gd', 'KitchenQual_TA', 'GarageType_Attchd', 'GarageType_Basment', 'GarageType_BuiltIn', 'GarageType_CarPort', 'GarageType_Detchd', 'GarageType_NA', 'GarageYrBlt_1906.0', 'GarageYrBlt_1908.0', 'GarageYrBlt_1910.0', 'GarageYrBlt_1914.0', 'GarageYrBlt_1915.0', 'GarageYrBlt_1916.0', 'GarageYrBlt_1918.0', 'GarageYrBlt_1920.0', 'GarageYrBlt_1921.0', 'GarageYrBlt_1922.0', 'GarageYrBlt_1923.0', 'GarageYrBlt_1924.0', 'GarageYrBlt_1925.0', 'GarageYrBlt_1926.0', 'GarageYrBlt_1927.0', 'GarageYrBlt_1928.0', 'GarageYrBlt_1929.0', 'GarageYrBlt_1930.0', 'GarageYrBlt_1931.0', 'GarageYrBlt_1932.0', 'GarageYrBlt_1933.0', 'GarageYrBlt_1934.0', 'GarageYrBlt_1935.0', 'GarageYrBlt_1936.0', 'GarageYrBlt_1937.0', 'GarageYrBlt_1938.0', 'GarageYrBlt_1939.0', 'GarageYrBlt_1940.0', 'GarageYrBlt_1941.0', 'GarageYrBlt_1942.0', 'GarageYrBlt_1945.0', 'GarageYrBlt_1946.0', 'GarageYrBlt_1947.0', 'GarageYrBlt_1948.0', 'GarageYrBlt_1949.0', 'GarageYrBlt_1950.0', 'GarageYrBlt_1951.0', 'GarageYrBlt_1952.0', 'GarageYrBlt_1953.0', 'GarageYrBlt_1954.0', 'GarageYrBlt_1955.0', 'GarageYrBlt_1956.0', 'GarageYrBlt_1957.0', 'GarageYrBlt_1958.0', 'GarageYrBlt_1959.0', 'GarageYrBlt_1960.0', 'GarageYrBlt_1961.0', 'GarageYrBlt_1962.0', 'GarageYrBlt_1963.0', 'GarageYrBlt_1964.0', 'GarageYrBlt_1965.0', 'GarageYrBlt_1966.0', 'GarageYrBlt_1967.0', 'GarageYrBlt_1968.0', 'GarageYrBlt_1969.0', 'GarageYrBlt_1970.0', 'GarageYrBlt_1971.0', 'GarageYrBlt_1972.0', 'GarageYrBlt_1973.0', 'GarageYrBlt_1974.0', 'GarageYrBlt_1975.0', 'GarageYrBlt_1976.0', 'GarageYrBlt_1977.0', 'GarageYrBlt_1978.0', 'GarageYrBlt_1979.0', 'GarageYrBlt_1980.0', 'GarageYrBlt_1981.0', 'GarageYrBlt_1982.0', 'GarageYrBlt_1983.0', 'GarageYrBlt_1984.0', 'GarageYrBlt_1985.0', 'GarageYrBlt_1986.0', 'GarageYrBlt_1987.0', 'GarageYrBlt_1988.0', 'GarageYrBlt_1989.0', 'GarageYrBlt_1990.0', 'GarageYrBlt_1991.0', 'GarageYrBlt_1992.0', 'GarageYrBlt_1993.0', 'GarageYrBlt_1994.0', 'GarageYrBlt_1995.0', 'GarageYrBlt_1996.0', 'GarageYrBlt_1997.0', 'GarageYrBlt_1998.0', 'GarageYrBlt_1999.0', 'GarageYrBlt_2000.0', 'GarageYrBlt_2001.0', 'GarageYrBlt_2002.0', 'GarageYrBlt_2003.0', 'GarageYrBlt_2004.0', 'GarageYrBlt_2005.0', 'GarageYrBlt_2006.0', 'GarageYrBlt_2007.0', 'GarageYrBlt_2008.0', 'GarageYrBlt_2009.0', 'GarageYrBlt_2010.0', 'GarageYrBlt_NA', 'GarageFinish_NA', 'GarageFinish_RFn', 'GarageFinish_Unf', 'SaleType_WD', 'SaleCondition_Normal', 'SaleCondition_Partial', 'MSZoning2_OTHER', 'MSZoning2_RL', 'MSZoning2_RM'] ['f0', 'f1', 'f2', 'f3', 'f4', 'f5', 'f6', 'f7', 'f8', 'f9', 'f10', 'f11', 'f12', 'f13', 'f14', 'f15', 'f16', 'f17', 'f18', 'f19', 'f20', 'f21', 'f22', 'f23', 'f24', 'f25', 'f26', 'f27', 'f28', 'f29', 'f30', 'f31', 'f32', 'f33', 'f34', 'f35', 'f36', 'f37', 'f38', 'f39', 'f40', 'f41', 'f42', 'f43', 'f44', 'f45', 'f46', 'f47', 'f48', 'f49', 'f50', 'f51', 'f52', 'f53', 'f54', 'f55', 'f56', 'f57', 'f58', 'f59', 'f60', 'f61', 'f62', 'f63', 'f64', 'f65', 'f66', 'f67', 'f68', 'f69', 'f70', 'f71', 'f72', 'f73', 'f74', 'f75', 'f76', 'f77', 'f78', 'f79', 'f80', 'f81', 'f82', 'f83', 'f84', 'f85', 'f86', 'f87', 'f88', 'f89', 'f90', 'f91', 'f92', 'f93', 'f94', 'f95', 'f96', 'f97', 'f98', 'f99', 'f100', 'f101', 'f102', 'f103', 'f104', 'f105', 'f106', 'f107', 'f108', 'f109', 'f110', 'f111', 'f112', 'f113', 'f114', 'f115', 'f116', 'f117', 'f118', 'f119', 'f120', 'f121', 'f122', 'f123', 'f124', 'f125', 'f126', 'f127', 'f128', 'f129', 'f130', 'f131', 'f132', 'f133', 'f134', 'f135', 'f136', 'f137', 'f138', 'f139', 'f140', 'f141', 'f142', 'f143', 'f144', 'f145', 'f146', 'f147', 'f148', 'f149', 'f150', 'f151', 'f152', 'f153', 'f154', 'f155', 'f156', 'f157', 'f158', 'f159', 'f160', 'f161', 'f162', 'f163', 'f164', 'f165', 'f166', 'f167', 'f168', 'f169', 'f170', 'f171', 'f172']\n",
            "expected GarageYrBlt_2006.0, BedroomAbvGr, HeatingQC_Fa, GarageYrBlt_1939.0, GarageType_NA, GarageYrBlt_2000.0, ExterQual_Fa, GarageYrBlt_1993.0, MSZoning_FV, GarageYrBlt_1959.0, GarageYrBlt_2008.0, MoSold, GarageType_BuiltIn, GarageYrBlt_1931.0, BsmtFinSF2, Foundation_Slab/Stone/Wood, GarageYrBlt_1978.0, GarageFinish_RFn, 3SsnPorch, Fireplaces, GarageYrBlt_1942.0, GarageYrBlt_1925.0, GarageYrBlt_1920.0, GarageYrBlt_1986.0, GarageYrBlt_2002.0, GarageType_Attchd, GarageYrBlt_1934.0, GarageYrBlt_1973.0, GarageYrBlt_1964.0, SaleCondition_Partial, GarageYrBlt_1965.0, GarageYrBlt_1947.0, GarageYrBlt_1999.0, GarageYrBlt_NA, GarageYrBlt_1970.0, BsmtQual_TA, ExterQual_TA, BsmtUnfSF, GarageYrBlt_1990.0, GarageYrBlt_1954.0, Exterior_material, GarageFinish_NA, OpenPorchSF, GarageYrBlt_1940.0, GarageYrBlt_1906.0, GarageYrBlt_2004.0, GarageYrBlt_1980.0, GarageYrBlt_1981.0, GarageYrBlt_1971.0, MasVnrType_None, BsmtFullBath, GarageArea, MSZoning_RL, Neighborhood, GarageYrBlt_1969.0, BsmtQual_Fa, GarageYrBlt_1946.0, GarageYrBlt_1951.0, EnclosedPorch, MiscVal, GarageYrBlt_1910.0, HeatingQC_TA, BsmtQual_Gd, GarageYrBlt_1938.0, ExterQual_Gd, GarageYrBlt_1957.0, Foundation_PConc, GarageYrBlt_1968.0, WoodDeckSF, LotFrontage_log, GarageYrBlt_1922.0, KitchenAbvGr, GarageYrBlt_1956.0, GarageYrBlt_1923.0, GarageYrBlt_1929.0, GarageYrBlt_1996.0, BsmtHalfBath, GarageYrBlt_1998.0, BsmtFinSF1, MSSubClass, GarageYrBlt_1908.0, LotArea, FullBath, GarageYrBlt_1984.0, GarageYrBlt_1924.0, GarageYrBlt_2007.0, KitchenQual_Fa, GarageYrBlt_1949.0, GarageYrBlt_1950.0, HeatingQC_Po, GarageYrBlt_1982.0, GarageYrBlt_1961.0, GarageYrBlt_1916.0, GarageFinish_Unf, YrSold, MasVnrArea, OverallCond, GarageYrBlt_1926.0, MSZoning2_OTHER, ScreenPorch, GarageYrBlt_1958.0, GarageYrBlt_1948.0, GarageYrBlt_2005.0, GarageYrBlt_1967.0, GarageYrBlt_1962.0, GarageYrBlt_1963.0, GarageYrBlt_1955.0, GarageYrBlt_1921.0, LotFrontage, GarageYrBlt_1945.0, GarageYrBlt_1974.0, MSZoning_RH, GarageYrBlt_1914.0, GarageType_Detchd, TotRmsAbvGrd, LotArea_log, MasVnrType_BrkFace, KitchenQual_TA, GarageYrBlt_1928.0, GarageYrBlt_1992.0, MasVnrType_Stone, HeatingQC_Gd, MSZoning_RM, GarageYrBlt_1995.0, SaleCondition_Normal, GarageYrBlt_1972.0, GarageYrBlt_1975.0, GarageYrBlt_1918.0, GarageYrBlt_1966.0, GarageYrBlt_2003.0, GarageYrBlt_1953.0, LowQualFinSF, GarageYrBlt_1936.0, MSZoning2_RL, GarageYrBlt_1935.0, GarageYrBlt_1952.0, GarageYrBlt_2001.0, GarageYrBlt_1960.0, HalfBath, PoolArea, GarageYrBlt_1979.0, Foundation_CBlock, GarageType_Basment, GarageYrBlt_1941.0, CentralAir_Y, GarageYrBlt_1930.0, GarageYrBlt_1976.0, GarageYrBlt_1977.0, GarageYrBlt_1983.0, SaleType_WD, GarageYrBlt_1932.0, GarageYrBlt_1985.0, YearRemodAdd, GarageYrBlt_1997.0, KitchenQual_Gd, GarageYrBlt_2009.0, GarageYrBlt_1989.0, GarageYrBlt_1991.0, GarageYrBlt_1987.0, GarageYrBlt_1994.0, Id, GarageYrBlt_2010.0, GarageYrBlt_1915.0, OverallQual, GarageYrBlt_1988.0, GarageYrBlt_1927.0, TotalSF, GarageYrBlt_1933.0, MSZoning2_RM, BsmtUnfSF_log, YearBuilt, GarageType_CarPort, GarageYrBlt_1937.0 in input data\n",
            "training data did not have the following fields: f9, f87, f63, f90, f121, f162, f13, f24, f146, f46, f99, f137, f152, f103, f64, f123, f8, f102, f119, f144, f136, f117, f125, f47, f52, f62, f172, f34, f114, f134, f100, f91, f18, f51, f80, f78, f115, f110, f54, f141, f1, f161, f118, f16, f128, f151, f76, f113, f126, f68, f86, f25, f160, f32, f71, f127, f17, f2, f49, f159, f131, f20, f98, f109, f72, f33, f171, f163, f157, f10, f145, f94, f58, f67, f37, f61, f82, f48, f92, f4, f149, f23, f167, f3, f36, f7, f139, f53, f138, f142, f43, f132, f12, f50, f40, f35, f60, f169, f11, f154, f26, f89, f30, f29, f45, f28, f165, f77, f74, f153, f155, f97, f116, f44, f101, f31, f85, f56, f156, f122, f84, f66, f108, f42, f0, f6, f168, f57, f38, f65, f95, f111, f120, f148, f150, f14, f59, f93, f143, f27, f88, f19, f107, f166, f158, f73, f79, f140, f75, f105, f106, f21, f147, f5, f15, f170, f96, f83, f39, f124, f104, f130, f41, f22, f112, f129, f55, f133, f135, f81, f69, f164, f70.\n",
            "_pre_test decorator: _random_mutation_operator: num_test=0 Found array with 0 feature(s) (shape=(50, 0)) while a minimum of 1 is required..\n",
            "_pre_test decorator: _random_mutation_operator: num_test=0 Cosine affinity cannot be used when X contains zero vectors.\n",
            "\n",
            "Generation 15 - Current Pareto front scores:\n",
            "\n",
            "-1\t-0.017414628200901793\tGradientBoostingRegressor(input_matrix, GradientBoostingRegressor__alpha=0.99, GradientBoostingRegressor__learning_rate=0.1, GradientBoostingRegressor__loss=huber, GradientBoostingRegressor__max_depth=8, GradientBoostingRegressor__max_features=0.6000000000000001, GradientBoostingRegressor__min_samples_leaf=19, GradientBoostingRegressor__min_samples_split=5, GradientBoostingRegressor__n_estimators=100, GradientBoostingRegressor__subsample=0.6500000000000001)\n",
            "\n",
            "-2\t-0.016943317165450177\tGradientBoostingRegressor(RidgeCV(input_matrix), GradientBoostingRegressor__alpha=0.85, GradientBoostingRegressor__learning_rate=0.1, GradientBoostingRegressor__loss=huber, GradientBoostingRegressor__max_depth=10, GradientBoostingRegressor__max_features=0.6000000000000001, GradientBoostingRegressor__min_samples_leaf=19, GradientBoostingRegressor__min_samples_split=15, GradientBoostingRegressor__n_estimators=100, GradientBoostingRegressor__subsample=0.7500000000000001)\n",
            "Periodic pipeline was not saved, probably saved before...\n",
            "Saving periodic pipeline from pareto front to intermediate_results/pipeline_gen_15_idx_1_2021.01.05_20-31-52.py\n",
            "_pre_test decorator: _random_mutation_operator: num_test=0 feature_names mismatch: ['Id', 'MSSubClass', 'LotFrontage', 'LotArea', 'Neighborhood', 'OverallQual', 'OverallCond', 'YearBuilt', 'YearRemodAdd', 'MasVnrArea', 'BsmtFinSF1', 'BsmtFinSF2', 'BsmtUnfSF', 'LowQualFinSF', 'BsmtFullBath', 'BsmtHalfBath', 'FullBath', 'HalfBath', 'BedroomAbvGr', 'KitchenAbvGr', 'TotRmsAbvGrd', 'Fireplaces', 'GarageArea', 'WoodDeckSF', 'OpenPorchSF', 'EnclosedPorch', '3SsnPorch', 'ScreenPorch', 'PoolArea', 'MiscVal', 'MoSold', 'YrSold', 'Exterior_material', 'TotalSF', 'LotFrontage_log', 'LotArea_log', 'BsmtUnfSF_log', 'MSZoning_FV', 'MSZoning_RH', 'MSZoning_RL', 'MSZoning_RM', 'MasVnrType_BrkFace', 'MasVnrType_None', 'MasVnrType_Stone', 'ExterQual_Fa', 'ExterQual_Gd', 'ExterQual_TA', 'Foundation_CBlock', 'Foundation_PConc', 'Foundation_Slab/Stone/Wood', 'BsmtQual_Fa', 'BsmtQual_Gd', 'BsmtQual_TA', 'HeatingQC_Fa', 'HeatingQC_Gd', 'HeatingQC_Po', 'HeatingQC_TA', 'CentralAir_Y', 'KitchenQual_Fa', 'KitchenQual_Gd', 'KitchenQual_TA', 'GarageType_Attchd', 'GarageType_Basment', 'GarageType_BuiltIn', 'GarageType_CarPort', 'GarageType_Detchd', 'GarageType_NA', 'GarageYrBlt_1906.0', 'GarageYrBlt_1908.0', 'GarageYrBlt_1910.0', 'GarageYrBlt_1914.0', 'GarageYrBlt_1915.0', 'GarageYrBlt_1916.0', 'GarageYrBlt_1918.0', 'GarageYrBlt_1920.0', 'GarageYrBlt_1921.0', 'GarageYrBlt_1922.0', 'GarageYrBlt_1923.0', 'GarageYrBlt_1924.0', 'GarageYrBlt_1925.0', 'GarageYrBlt_1926.0', 'GarageYrBlt_1927.0', 'GarageYrBlt_1928.0', 'GarageYrBlt_1929.0', 'GarageYrBlt_1930.0', 'GarageYrBlt_1931.0', 'GarageYrBlt_1932.0', 'GarageYrBlt_1933.0', 'GarageYrBlt_1934.0', 'GarageYrBlt_1935.0', 'GarageYrBlt_1936.0', 'GarageYrBlt_1937.0', 'GarageYrBlt_1938.0', 'GarageYrBlt_1939.0', 'GarageYrBlt_1940.0', 'GarageYrBlt_1941.0', 'GarageYrBlt_1942.0', 'GarageYrBlt_1945.0', 'GarageYrBlt_1946.0', 'GarageYrBlt_1947.0', 'GarageYrBlt_1948.0', 'GarageYrBlt_1949.0', 'GarageYrBlt_1950.0', 'GarageYrBlt_1951.0', 'GarageYrBlt_1952.0', 'GarageYrBlt_1953.0', 'GarageYrBlt_1954.0', 'GarageYrBlt_1955.0', 'GarageYrBlt_1956.0', 'GarageYrBlt_1957.0', 'GarageYrBlt_1958.0', 'GarageYrBlt_1959.0', 'GarageYrBlt_1960.0', 'GarageYrBlt_1961.0', 'GarageYrBlt_1962.0', 'GarageYrBlt_1963.0', 'GarageYrBlt_1964.0', 'GarageYrBlt_1965.0', 'GarageYrBlt_1966.0', 'GarageYrBlt_1967.0', 'GarageYrBlt_1968.0', 'GarageYrBlt_1969.0', 'GarageYrBlt_1970.0', 'GarageYrBlt_1971.0', 'GarageYrBlt_1972.0', 'GarageYrBlt_1973.0', 'GarageYrBlt_1974.0', 'GarageYrBlt_1975.0', 'GarageYrBlt_1976.0', 'GarageYrBlt_1977.0', 'GarageYrBlt_1978.0', 'GarageYrBlt_1979.0', 'GarageYrBlt_1980.0', 'GarageYrBlt_1981.0', 'GarageYrBlt_1982.0', 'GarageYrBlt_1983.0', 'GarageYrBlt_1984.0', 'GarageYrBlt_1985.0', 'GarageYrBlt_1986.0', 'GarageYrBlt_1987.0', 'GarageYrBlt_1988.0', 'GarageYrBlt_1989.0', 'GarageYrBlt_1990.0', 'GarageYrBlt_1991.0', 'GarageYrBlt_1992.0', 'GarageYrBlt_1993.0', 'GarageYrBlt_1994.0', 'GarageYrBlt_1995.0', 'GarageYrBlt_1996.0', 'GarageYrBlt_1997.0', 'GarageYrBlt_1998.0', 'GarageYrBlt_1999.0', 'GarageYrBlt_2000.0', 'GarageYrBlt_2001.0', 'GarageYrBlt_2002.0', 'GarageYrBlt_2003.0', 'GarageYrBlt_2004.0', 'GarageYrBlt_2005.0', 'GarageYrBlt_2006.0', 'GarageYrBlt_2007.0', 'GarageYrBlt_2008.0', 'GarageYrBlt_2009.0', 'GarageYrBlt_2010.0', 'GarageYrBlt_NA', 'GarageFinish_NA', 'GarageFinish_RFn', 'GarageFinish_Unf', 'SaleType_WD', 'SaleCondition_Normal', 'SaleCondition_Partial', 'MSZoning2_OTHER', 'MSZoning2_RL', 'MSZoning2_RM'] ['f0', 'f1', 'f2', 'f3', 'f4', 'f5', 'f6', 'f7', 'f8', 'f9', 'f10', 'f11', 'f12', 'f13', 'f14', 'f15', 'f16', 'f17', 'f18', 'f19', 'f20', 'f21', 'f22', 'f23', 'f24', 'f25', 'f26', 'f27', 'f28', 'f29', 'f30', 'f31', 'f32', 'f33', 'f34', 'f35', 'f36', 'f37', 'f38', 'f39', 'f40', 'f41', 'f42', 'f43', 'f44', 'f45', 'f46', 'f47', 'f48', 'f49', 'f50', 'f51', 'f52', 'f53', 'f54', 'f55', 'f56', 'f57', 'f58', 'f59', 'f60', 'f61', 'f62', 'f63', 'f64', 'f65', 'f66', 'f67', 'f68', 'f69', 'f70', 'f71', 'f72', 'f73', 'f74', 'f75', 'f76', 'f77', 'f78', 'f79', 'f80', 'f81', 'f82', 'f83', 'f84', 'f85', 'f86', 'f87', 'f88', 'f89', 'f90', 'f91', 'f92', 'f93', 'f94', 'f95', 'f96', 'f97', 'f98', 'f99', 'f100', 'f101', 'f102', 'f103', 'f104', 'f105', 'f106', 'f107', 'f108', 'f109', 'f110', 'f111', 'f112', 'f113', 'f114', 'f115', 'f116', 'f117', 'f118', 'f119', 'f120', 'f121', 'f122', 'f123', 'f124', 'f125', 'f126', 'f127', 'f128', 'f129', 'f130', 'f131', 'f132', 'f133', 'f134', 'f135', 'f136', 'f137', 'f138', 'f139', 'f140', 'f141', 'f142', 'f143', 'f144', 'f145', 'f146', 'f147', 'f148', 'f149', 'f150', 'f151', 'f152', 'f153', 'f154', 'f155', 'f156', 'f157', 'f158', 'f159', 'f160', 'f161', 'f162', 'f163', 'f164', 'f165', 'f166', 'f167', 'f168', 'f169', 'f170', 'f171', 'f172']\n",
            "expected GarageYrBlt_2006.0, BedroomAbvGr, HeatingQC_Fa, GarageYrBlt_1939.0, GarageType_NA, GarageYrBlt_2000.0, ExterQual_Fa, GarageYrBlt_1993.0, MSZoning_FV, GarageYrBlt_1959.0, GarageYrBlt_2008.0, MoSold, GarageType_BuiltIn, GarageYrBlt_1931.0, BsmtFinSF2, Foundation_Slab/Stone/Wood, GarageYrBlt_1978.0, GarageFinish_RFn, 3SsnPorch, Fireplaces, GarageYrBlt_1942.0, GarageYrBlt_1925.0, GarageYrBlt_1920.0, GarageYrBlt_1986.0, GarageYrBlt_2002.0, GarageType_Attchd, GarageYrBlt_1934.0, GarageYrBlt_1973.0, GarageYrBlt_1964.0, SaleCondition_Partial, GarageYrBlt_1965.0, GarageYrBlt_1947.0, GarageYrBlt_1999.0, GarageYrBlt_NA, GarageYrBlt_1970.0, BsmtQual_TA, ExterQual_TA, BsmtUnfSF, GarageYrBlt_1990.0, GarageYrBlt_1954.0, Exterior_material, GarageFinish_NA, OpenPorchSF, GarageYrBlt_1940.0, GarageYrBlt_1906.0, GarageYrBlt_2004.0, GarageYrBlt_1980.0, GarageYrBlt_1981.0, GarageYrBlt_1971.0, MasVnrType_None, BsmtFullBath, GarageArea, MSZoning_RL, Neighborhood, GarageYrBlt_1969.0, BsmtQual_Fa, GarageYrBlt_1946.0, GarageYrBlt_1951.0, EnclosedPorch, MiscVal, GarageYrBlt_1910.0, HeatingQC_TA, BsmtQual_Gd, GarageYrBlt_1938.0, ExterQual_Gd, GarageYrBlt_1957.0, Foundation_PConc, GarageYrBlt_1968.0, WoodDeckSF, LotFrontage_log, GarageYrBlt_1922.0, KitchenAbvGr, GarageYrBlt_1956.0, GarageYrBlt_1923.0, GarageYrBlt_1929.0, GarageYrBlt_1996.0, BsmtHalfBath, GarageYrBlt_1998.0, BsmtFinSF1, MSSubClass, GarageYrBlt_1908.0, LotArea, FullBath, GarageYrBlt_1984.0, GarageYrBlt_1924.0, GarageYrBlt_2007.0, KitchenQual_Fa, GarageYrBlt_1949.0, GarageYrBlt_1950.0, HeatingQC_Po, GarageYrBlt_1982.0, GarageYrBlt_1961.0, GarageYrBlt_1916.0, GarageFinish_Unf, YrSold, MasVnrArea, OverallCond, GarageYrBlt_1926.0, MSZoning2_OTHER, ScreenPorch, GarageYrBlt_1958.0, GarageYrBlt_1948.0, GarageYrBlt_2005.0, GarageYrBlt_1967.0, GarageYrBlt_1962.0, GarageYrBlt_1963.0, GarageYrBlt_1955.0, GarageYrBlt_1921.0, LotFrontage, GarageYrBlt_1945.0, GarageYrBlt_1974.0, MSZoning_RH, GarageYrBlt_1914.0, GarageType_Detchd, TotRmsAbvGrd, LotArea_log, MasVnrType_BrkFace, KitchenQual_TA, GarageYrBlt_1928.0, GarageYrBlt_1992.0, MasVnrType_Stone, HeatingQC_Gd, MSZoning_RM, GarageYrBlt_1995.0, SaleCondition_Normal, GarageYrBlt_1972.0, GarageYrBlt_1975.0, GarageYrBlt_1918.0, GarageYrBlt_1966.0, GarageYrBlt_2003.0, GarageYrBlt_1953.0, LowQualFinSF, GarageYrBlt_1936.0, MSZoning2_RL, GarageYrBlt_1935.0, GarageYrBlt_1952.0, GarageYrBlt_2001.0, GarageYrBlt_1960.0, HalfBath, PoolArea, GarageYrBlt_1979.0, Foundation_CBlock, GarageType_Basment, GarageYrBlt_1941.0, CentralAir_Y, GarageYrBlt_1930.0, GarageYrBlt_1976.0, GarageYrBlt_1977.0, GarageYrBlt_1983.0, SaleType_WD, GarageYrBlt_1932.0, GarageYrBlt_1985.0, YearRemodAdd, GarageYrBlt_1997.0, KitchenQual_Gd, GarageYrBlt_2009.0, GarageYrBlt_1989.0, GarageYrBlt_1991.0, GarageYrBlt_1987.0, GarageYrBlt_1994.0, Id, GarageYrBlt_2010.0, GarageYrBlt_1915.0, OverallQual, GarageYrBlt_1988.0, GarageYrBlt_1927.0, TotalSF, GarageYrBlt_1933.0, MSZoning2_RM, BsmtUnfSF_log, YearBuilt, GarageType_CarPort, GarageYrBlt_1937.0 in input data\n",
            "training data did not have the following fields: f9, f87, f63, f90, f121, f162, f13, f24, f146, f46, f99, f137, f152, f103, f64, f123, f8, f102, f119, f144, f136, f117, f125, f47, f52, f62, f172, f34, f114, f134, f100, f91, f18, f51, f80, f78, f115, f110, f54, f141, f1, f161, f118, f16, f128, f151, f76, f113, f126, f68, f86, f25, f160, f32, f71, f127, f17, f2, f49, f159, f131, f20, f98, f109, f72, f33, f171, f163, f157, f10, f145, f94, f58, f67, f37, f61, f82, f48, f92, f4, f149, f23, f167, f3, f36, f7, f139, f53, f138, f142, f43, f132, f12, f50, f40, f35, f60, f169, f11, f154, f26, f89, f30, f29, f45, f28, f165, f77, f74, f153, f155, f97, f116, f44, f101, f31, f85, f56, f156, f122, f84, f66, f108, f42, f0, f6, f168, f57, f38, f65, f95, f111, f120, f148, f150, f14, f59, f93, f143, f27, f88, f19, f107, f166, f158, f73, f79, f140, f75, f105, f106, f21, f147, f5, f15, f170, f96, f83, f39, f124, f104, f130, f41, f22, f112, f129, f55, f133, f135, f81, f69, f164, f70.\n",
            "_pre_test decorator: _random_mutation_operator: num_test=0 Expected n_neighbors <= n_samples,  but n_samples = 50, n_neighbors = 80.\n",
            "_pre_test decorator: _random_mutation_operator: num_test=0 '(slice(None, None, None), 0)' is an invalid key.\n",
            "_pre_test decorator: _random_mutation_operator: num_test=0 Input contains NaN, infinity or a value too large for dtype('float32')..\n",
            "_pre_test decorator: _random_mutation_operator: num_test=0 '(slice(None, None, None), 0)' is an invalid key.\n",
            "_pre_test decorator: _random_mutation_operator: num_test=0 Found array with 0 feature(s) (shape=(50, 0)) while a minimum of 1 is required..\n",
            "_pre_test decorator: _random_mutation_operator: num_test=0 Found array with 0 feature(s) (shape=(50, 0)) while a minimum of 1 is required..\n",
            "_pre_test decorator: _random_mutation_operator: num_test=0 l1 was provided as affinity. Ward can only work with euclidean distances..\n",
            "_pre_test decorator: _random_mutation_operator: num_test=0 feature_names mismatch: ['Id', 'MSSubClass', 'LotFrontage', 'LotArea', 'Neighborhood', 'OverallQual', 'OverallCond', 'YearBuilt', 'YearRemodAdd', 'MasVnrArea', 'BsmtFinSF1', 'BsmtFinSF2', 'BsmtUnfSF', 'LowQualFinSF', 'BsmtFullBath', 'BsmtHalfBath', 'FullBath', 'HalfBath', 'BedroomAbvGr', 'KitchenAbvGr', 'TotRmsAbvGrd', 'Fireplaces', 'GarageArea', 'WoodDeckSF', 'OpenPorchSF', 'EnclosedPorch', '3SsnPorch', 'ScreenPorch', 'PoolArea', 'MiscVal', 'MoSold', 'YrSold', 'Exterior_material', 'TotalSF', 'LotFrontage_log', 'LotArea_log', 'BsmtUnfSF_log', 'MSZoning_FV', 'MSZoning_RH', 'MSZoning_RL', 'MSZoning_RM', 'MasVnrType_BrkFace', 'MasVnrType_None', 'MasVnrType_Stone', 'ExterQual_Fa', 'ExterQual_Gd', 'ExterQual_TA', 'Foundation_CBlock', 'Foundation_PConc', 'Foundation_Slab/Stone/Wood', 'BsmtQual_Fa', 'BsmtQual_Gd', 'BsmtQual_TA', 'HeatingQC_Fa', 'HeatingQC_Gd', 'HeatingQC_Po', 'HeatingQC_TA', 'CentralAir_Y', 'KitchenQual_Fa', 'KitchenQual_Gd', 'KitchenQual_TA', 'GarageType_Attchd', 'GarageType_Basment', 'GarageType_BuiltIn', 'GarageType_CarPort', 'GarageType_Detchd', 'GarageType_NA', 'GarageYrBlt_1906.0', 'GarageYrBlt_1908.0', 'GarageYrBlt_1910.0', 'GarageYrBlt_1914.0', 'GarageYrBlt_1915.0', 'GarageYrBlt_1916.0', 'GarageYrBlt_1918.0', 'GarageYrBlt_1920.0', 'GarageYrBlt_1921.0', 'GarageYrBlt_1922.0', 'GarageYrBlt_1923.0', 'GarageYrBlt_1924.0', 'GarageYrBlt_1925.0', 'GarageYrBlt_1926.0', 'GarageYrBlt_1927.0', 'GarageYrBlt_1928.0', 'GarageYrBlt_1929.0', 'GarageYrBlt_1930.0', 'GarageYrBlt_1931.0', 'GarageYrBlt_1932.0', 'GarageYrBlt_1933.0', 'GarageYrBlt_1934.0', 'GarageYrBlt_1935.0', 'GarageYrBlt_1936.0', 'GarageYrBlt_1937.0', 'GarageYrBlt_1938.0', 'GarageYrBlt_1939.0', 'GarageYrBlt_1940.0', 'GarageYrBlt_1941.0', 'GarageYrBlt_1942.0', 'GarageYrBlt_1945.0', 'GarageYrBlt_1946.0', 'GarageYrBlt_1947.0', 'GarageYrBlt_1948.0', 'GarageYrBlt_1949.0', 'GarageYrBlt_1950.0', 'GarageYrBlt_1951.0', 'GarageYrBlt_1952.0', 'GarageYrBlt_1953.0', 'GarageYrBlt_1954.0', 'GarageYrBlt_1955.0', 'GarageYrBlt_1956.0', 'GarageYrBlt_1957.0', 'GarageYrBlt_1958.0', 'GarageYrBlt_1959.0', 'GarageYrBlt_1960.0', 'GarageYrBlt_1961.0', 'GarageYrBlt_1962.0', 'GarageYrBlt_1963.0', 'GarageYrBlt_1964.0', 'GarageYrBlt_1965.0', 'GarageYrBlt_1966.0', 'GarageYrBlt_1967.0', 'GarageYrBlt_1968.0', 'GarageYrBlt_1969.0', 'GarageYrBlt_1970.0', 'GarageYrBlt_1971.0', 'GarageYrBlt_1972.0', 'GarageYrBlt_1973.0', 'GarageYrBlt_1974.0', 'GarageYrBlt_1975.0', 'GarageYrBlt_1976.0', 'GarageYrBlt_1977.0', 'GarageYrBlt_1978.0', 'GarageYrBlt_1979.0', 'GarageYrBlt_1980.0', 'GarageYrBlt_1981.0', 'GarageYrBlt_1982.0', 'GarageYrBlt_1983.0', 'GarageYrBlt_1984.0', 'GarageYrBlt_1985.0', 'GarageYrBlt_1986.0', 'GarageYrBlt_1987.0', 'GarageYrBlt_1988.0', 'GarageYrBlt_1989.0', 'GarageYrBlt_1990.0', 'GarageYrBlt_1991.0', 'GarageYrBlt_1992.0', 'GarageYrBlt_1993.0', 'GarageYrBlt_1994.0', 'GarageYrBlt_1995.0', 'GarageYrBlt_1996.0', 'GarageYrBlt_1997.0', 'GarageYrBlt_1998.0', 'GarageYrBlt_1999.0', 'GarageYrBlt_2000.0', 'GarageYrBlt_2001.0', 'GarageYrBlt_2002.0', 'GarageYrBlt_2003.0', 'GarageYrBlt_2004.0', 'GarageYrBlt_2005.0', 'GarageYrBlt_2006.0', 'GarageYrBlt_2007.0', 'GarageYrBlt_2008.0', 'GarageYrBlt_2009.0', 'GarageYrBlt_2010.0', 'GarageYrBlt_NA', 'GarageFinish_NA', 'GarageFinish_RFn', 'GarageFinish_Unf', 'SaleType_WD', 'SaleCondition_Normal', 'SaleCondition_Partial', 'MSZoning2_OTHER', 'MSZoning2_RL', 'MSZoning2_RM'] ['f0', 'f1', 'f2', 'f3', 'f4', 'f5', 'f6', 'f7', 'f8', 'f9', 'f10', 'f11', 'f12', 'f13', 'f14', 'f15', 'f16', 'f17', 'f18', 'f19', 'f20', 'f21', 'f22', 'f23', 'f24', 'f25', 'f26', 'f27', 'f28', 'f29', 'f30', 'f31', 'f32', 'f33', 'f34', 'f35', 'f36', 'f37', 'f38', 'f39', 'f40', 'f41', 'f42', 'f43', 'f44', 'f45', 'f46', 'f47', 'f48', 'f49', 'f50', 'f51', 'f52', 'f53', 'f54', 'f55', 'f56', 'f57', 'f58', 'f59', 'f60', 'f61', 'f62', 'f63', 'f64', 'f65', 'f66', 'f67', 'f68', 'f69', 'f70', 'f71', 'f72', 'f73', 'f74', 'f75', 'f76', 'f77', 'f78', 'f79', 'f80', 'f81', 'f82', 'f83', 'f84', 'f85', 'f86', 'f87', 'f88', 'f89', 'f90', 'f91', 'f92', 'f93', 'f94', 'f95', 'f96', 'f97', 'f98', 'f99', 'f100', 'f101', 'f102', 'f103', 'f104', 'f105', 'f106', 'f107', 'f108', 'f109', 'f110', 'f111', 'f112', 'f113', 'f114', 'f115', 'f116', 'f117', 'f118', 'f119', 'f120', 'f121', 'f122', 'f123', 'f124', 'f125', 'f126', 'f127', 'f128', 'f129', 'f130', 'f131', 'f132', 'f133', 'f134', 'f135', 'f136', 'f137', 'f138', 'f139', 'f140', 'f141', 'f142', 'f143', 'f144', 'f145', 'f146', 'f147', 'f148', 'f149', 'f150', 'f151', 'f152', 'f153', 'f154', 'f155', 'f156', 'f157', 'f158', 'f159', 'f160', 'f161', 'f162', 'f163', 'f164', 'f165', 'f166', 'f167', 'f168', 'f169', 'f170', 'f171', 'f172']\n",
            "expected GarageYrBlt_2006.0, BedroomAbvGr, HeatingQC_Fa, GarageYrBlt_1939.0, GarageType_NA, GarageYrBlt_2000.0, ExterQual_Fa, GarageYrBlt_1993.0, MSZoning_FV, GarageYrBlt_1959.0, GarageYrBlt_2008.0, MoSold, GarageType_BuiltIn, GarageYrBlt_1931.0, BsmtFinSF2, Foundation_Slab/Stone/Wood, GarageYrBlt_1978.0, GarageFinish_RFn, 3SsnPorch, Fireplaces, GarageYrBlt_1942.0, GarageYrBlt_1925.0, GarageYrBlt_1920.0, GarageYrBlt_1986.0, GarageYrBlt_2002.0, GarageType_Attchd, GarageYrBlt_1934.0, GarageYrBlt_1973.0, GarageYrBlt_1964.0, SaleCondition_Partial, GarageYrBlt_1965.0, GarageYrBlt_1947.0, GarageYrBlt_1999.0, GarageYrBlt_NA, GarageYrBlt_1970.0, BsmtQual_TA, ExterQual_TA, BsmtUnfSF, GarageYrBlt_1990.0, GarageYrBlt_1954.0, Exterior_material, GarageFinish_NA, OpenPorchSF, GarageYrBlt_1940.0, GarageYrBlt_1906.0, GarageYrBlt_2004.0, GarageYrBlt_1980.0, GarageYrBlt_1981.0, GarageYrBlt_1971.0, MasVnrType_None, BsmtFullBath, GarageArea, MSZoning_RL, Neighborhood, GarageYrBlt_1969.0, BsmtQual_Fa, GarageYrBlt_1946.0, GarageYrBlt_1951.0, EnclosedPorch, MiscVal, GarageYrBlt_1910.0, HeatingQC_TA, BsmtQual_Gd, GarageYrBlt_1938.0, ExterQual_Gd, GarageYrBlt_1957.0, Foundation_PConc, GarageYrBlt_1968.0, WoodDeckSF, LotFrontage_log, GarageYrBlt_1922.0, KitchenAbvGr, GarageYrBlt_1956.0, GarageYrBlt_1923.0, GarageYrBlt_1929.0, GarageYrBlt_1996.0, BsmtHalfBath, GarageYrBlt_1998.0, BsmtFinSF1, MSSubClass, GarageYrBlt_1908.0, LotArea, FullBath, GarageYrBlt_1984.0, GarageYrBlt_1924.0, GarageYrBlt_2007.0, KitchenQual_Fa, GarageYrBlt_1949.0, GarageYrBlt_1950.0, HeatingQC_Po, GarageYrBlt_1982.0, GarageYrBlt_1961.0, GarageYrBlt_1916.0, GarageFinish_Unf, YrSold, MasVnrArea, OverallCond, GarageYrBlt_1926.0, MSZoning2_OTHER, ScreenPorch, GarageYrBlt_1958.0, GarageYrBlt_1948.0, GarageYrBlt_2005.0, GarageYrBlt_1967.0, GarageYrBlt_1962.0, GarageYrBlt_1963.0, GarageYrBlt_1955.0, GarageYrBlt_1921.0, LotFrontage, GarageYrBlt_1945.0, GarageYrBlt_1974.0, MSZoning_RH, GarageYrBlt_1914.0, GarageType_Detchd, TotRmsAbvGrd, LotArea_log, MasVnrType_BrkFace, KitchenQual_TA, GarageYrBlt_1928.0, GarageYrBlt_1992.0, MasVnrType_Stone, HeatingQC_Gd, MSZoning_RM, GarageYrBlt_1995.0, SaleCondition_Normal, GarageYrBlt_1972.0, GarageYrBlt_1975.0, GarageYrBlt_1918.0, GarageYrBlt_1966.0, GarageYrBlt_2003.0, GarageYrBlt_1953.0, LowQualFinSF, GarageYrBlt_1936.0, MSZoning2_RL, GarageYrBlt_1935.0, GarageYrBlt_1952.0, GarageYrBlt_2001.0, GarageYrBlt_1960.0, HalfBath, PoolArea, GarageYrBlt_1979.0, Foundation_CBlock, GarageType_Basment, GarageYrBlt_1941.0, CentralAir_Y, GarageYrBlt_1930.0, GarageYrBlt_1976.0, GarageYrBlt_1977.0, GarageYrBlt_1983.0, SaleType_WD, GarageYrBlt_1932.0, GarageYrBlt_1985.0, YearRemodAdd, GarageYrBlt_1997.0, KitchenQual_Gd, GarageYrBlt_2009.0, GarageYrBlt_1989.0, GarageYrBlt_1991.0, GarageYrBlt_1987.0, GarageYrBlt_1994.0, Id, GarageYrBlt_2010.0, GarageYrBlt_1915.0, OverallQual, GarageYrBlt_1988.0, GarageYrBlt_1927.0, TotalSF, GarageYrBlt_1933.0, MSZoning2_RM, BsmtUnfSF_log, YearBuilt, GarageType_CarPort, GarageYrBlt_1937.0 in input data\n",
            "training data did not have the following fields: f9, f87, f63, f90, f121, f162, f13, f24, f146, f46, f99, f137, f152, f103, f64, f123, f8, f102, f119, f144, f136, f117, f125, f47, f52, f62, f172, f34, f114, f134, f100, f91, f18, f51, f80, f78, f115, f110, f54, f141, f1, f161, f118, f16, f128, f151, f76, f113, f126, f68, f86, f25, f160, f32, f71, f127, f17, f2, f49, f159, f131, f20, f98, f109, f72, f33, f171, f163, f157, f10, f145, f94, f58, f67, f37, f61, f82, f48, f92, f4, f149, f23, f167, f3, f36, f7, f139, f53, f138, f142, f43, f132, f12, f50, f40, f35, f60, f169, f11, f154, f26, f89, f30, f29, f45, f28, f165, f77, f74, f153, f155, f97, f116, f44, f101, f31, f85, f56, f156, f122, f84, f66, f108, f42, f0, f6, f168, f57, f38, f65, f95, f111, f120, f148, f150, f14, f59, f93, f143, f27, f88, f19, f107, f166, f158, f73, f79, f140, f75, f105, f106, f21, f147, f5, f15, f170, f96, f83, f39, f124, f104, f130, f41, f22, f112, f129, f55, f133, f135, f81, f69, f164, f70.\n",
            "_pre_test decorator: _random_mutation_operator: num_test=1 feature_names mismatch: ['Id', 'MSSubClass', 'LotFrontage', 'LotArea', 'Neighborhood', 'OverallQual', 'OverallCond', 'YearBuilt', 'YearRemodAdd', 'MasVnrArea', 'BsmtFinSF1', 'BsmtFinSF2', 'BsmtUnfSF', 'LowQualFinSF', 'BsmtFullBath', 'BsmtHalfBath', 'FullBath', 'HalfBath', 'BedroomAbvGr', 'KitchenAbvGr', 'TotRmsAbvGrd', 'Fireplaces', 'GarageArea', 'WoodDeckSF', 'OpenPorchSF', 'EnclosedPorch', '3SsnPorch', 'ScreenPorch', 'PoolArea', 'MiscVal', 'MoSold', 'YrSold', 'Exterior_material', 'TotalSF', 'LotFrontage_log', 'LotArea_log', 'BsmtUnfSF_log', 'MSZoning_FV', 'MSZoning_RH', 'MSZoning_RL', 'MSZoning_RM', 'MasVnrType_BrkFace', 'MasVnrType_None', 'MasVnrType_Stone', 'ExterQual_Fa', 'ExterQual_Gd', 'ExterQual_TA', 'Foundation_CBlock', 'Foundation_PConc', 'Foundation_Slab/Stone/Wood', 'BsmtQual_Fa', 'BsmtQual_Gd', 'BsmtQual_TA', 'HeatingQC_Fa', 'HeatingQC_Gd', 'HeatingQC_Po', 'HeatingQC_TA', 'CentralAir_Y', 'KitchenQual_Fa', 'KitchenQual_Gd', 'KitchenQual_TA', 'GarageType_Attchd', 'GarageType_Basment', 'GarageType_BuiltIn', 'GarageType_CarPort', 'GarageType_Detchd', 'GarageType_NA', 'GarageYrBlt_1906.0', 'GarageYrBlt_1908.0', 'GarageYrBlt_1910.0', 'GarageYrBlt_1914.0', 'GarageYrBlt_1915.0', 'GarageYrBlt_1916.0', 'GarageYrBlt_1918.0', 'GarageYrBlt_1920.0', 'GarageYrBlt_1921.0', 'GarageYrBlt_1922.0', 'GarageYrBlt_1923.0', 'GarageYrBlt_1924.0', 'GarageYrBlt_1925.0', 'GarageYrBlt_1926.0', 'GarageYrBlt_1927.0', 'GarageYrBlt_1928.0', 'GarageYrBlt_1929.0', 'GarageYrBlt_1930.0', 'GarageYrBlt_1931.0', 'GarageYrBlt_1932.0', 'GarageYrBlt_1933.0', 'GarageYrBlt_1934.0', 'GarageYrBlt_1935.0', 'GarageYrBlt_1936.0', 'GarageYrBlt_1937.0', 'GarageYrBlt_1938.0', 'GarageYrBlt_1939.0', 'GarageYrBlt_1940.0', 'GarageYrBlt_1941.0', 'GarageYrBlt_1942.0', 'GarageYrBlt_1945.0', 'GarageYrBlt_1946.0', 'GarageYrBlt_1947.0', 'GarageYrBlt_1948.0', 'GarageYrBlt_1949.0', 'GarageYrBlt_1950.0', 'GarageYrBlt_1951.0', 'GarageYrBlt_1952.0', 'GarageYrBlt_1953.0', 'GarageYrBlt_1954.0', 'GarageYrBlt_1955.0', 'GarageYrBlt_1956.0', 'GarageYrBlt_1957.0', 'GarageYrBlt_1958.0', 'GarageYrBlt_1959.0', 'GarageYrBlt_1960.0', 'GarageYrBlt_1961.0', 'GarageYrBlt_1962.0', 'GarageYrBlt_1963.0', 'GarageYrBlt_1964.0', 'GarageYrBlt_1965.0', 'GarageYrBlt_1966.0', 'GarageYrBlt_1967.0', 'GarageYrBlt_1968.0', 'GarageYrBlt_1969.0', 'GarageYrBlt_1970.0', 'GarageYrBlt_1971.0', 'GarageYrBlt_1972.0', 'GarageYrBlt_1973.0', 'GarageYrBlt_1974.0', 'GarageYrBlt_1975.0', 'GarageYrBlt_1976.0', 'GarageYrBlt_1977.0', 'GarageYrBlt_1978.0', 'GarageYrBlt_1979.0', 'GarageYrBlt_1980.0', 'GarageYrBlt_1981.0', 'GarageYrBlt_1982.0', 'GarageYrBlt_1983.0', 'GarageYrBlt_1984.0', 'GarageYrBlt_1985.0', 'GarageYrBlt_1986.0', 'GarageYrBlt_1987.0', 'GarageYrBlt_1988.0', 'GarageYrBlt_1989.0', 'GarageYrBlt_1990.0', 'GarageYrBlt_1991.0', 'GarageYrBlt_1992.0', 'GarageYrBlt_1993.0', 'GarageYrBlt_1994.0', 'GarageYrBlt_1995.0', 'GarageYrBlt_1996.0', 'GarageYrBlt_1997.0', 'GarageYrBlt_1998.0', 'GarageYrBlt_1999.0', 'GarageYrBlt_2000.0', 'GarageYrBlt_2001.0', 'GarageYrBlt_2002.0', 'GarageYrBlt_2003.0', 'GarageYrBlt_2004.0', 'GarageYrBlt_2005.0', 'GarageYrBlt_2006.0', 'GarageYrBlt_2007.0', 'GarageYrBlt_2008.0', 'GarageYrBlt_2009.0', 'GarageYrBlt_2010.0', 'GarageYrBlt_NA', 'GarageFinish_NA', 'GarageFinish_RFn', 'GarageFinish_Unf', 'SaleType_WD', 'SaleCondition_Normal', 'SaleCondition_Partial', 'MSZoning2_OTHER', 'MSZoning2_RL', 'MSZoning2_RM'] ['f0', 'f1', 'f2', 'f3', 'f4', 'f5', 'f6', 'f7', 'f8', 'f9', 'f10', 'f11', 'f12', 'f13', 'f14', 'f15', 'f16', 'f17', 'f18', 'f19', 'f20', 'f21', 'f22', 'f23', 'f24', 'f25', 'f26', 'f27', 'f28', 'f29', 'f30', 'f31', 'f32', 'f33', 'f34', 'f35', 'f36', 'f37', 'f38', 'f39', 'f40', 'f41', 'f42', 'f43', 'f44', 'f45', 'f46', 'f47', 'f48', 'f49', 'f50', 'f51', 'f52', 'f53', 'f54', 'f55', 'f56', 'f57', 'f58', 'f59', 'f60', 'f61', 'f62', 'f63', 'f64', 'f65', 'f66', 'f67', 'f68', 'f69', 'f70', 'f71', 'f72', 'f73', 'f74', 'f75', 'f76', 'f77', 'f78', 'f79', 'f80', 'f81', 'f82', 'f83', 'f84', 'f85', 'f86', 'f87', 'f88', 'f89', 'f90', 'f91', 'f92', 'f93', 'f94', 'f95', 'f96', 'f97', 'f98', 'f99', 'f100', 'f101', 'f102', 'f103', 'f104', 'f105', 'f106', 'f107', 'f108', 'f109', 'f110', 'f111', 'f112', 'f113', 'f114', 'f115', 'f116', 'f117', 'f118', 'f119', 'f120', 'f121', 'f122', 'f123', 'f124', 'f125', 'f126', 'f127', 'f128', 'f129', 'f130', 'f131', 'f132', 'f133', 'f134', 'f135', 'f136', 'f137', 'f138', 'f139', 'f140', 'f141', 'f142', 'f143', 'f144', 'f145', 'f146', 'f147', 'f148', 'f149', 'f150', 'f151', 'f152', 'f153', 'f154', 'f155', 'f156', 'f157', 'f158', 'f159', 'f160', 'f161', 'f162', 'f163', 'f164', 'f165', 'f166', 'f167', 'f168', 'f169', 'f170', 'f171', 'f172']\n",
            "expected GarageYrBlt_2006.0, BedroomAbvGr, HeatingQC_Fa, GarageYrBlt_1939.0, GarageType_NA, GarageYrBlt_2000.0, ExterQual_Fa, GarageYrBlt_1993.0, MSZoning_FV, GarageYrBlt_1959.0, GarageYrBlt_2008.0, MoSold, GarageType_BuiltIn, GarageYrBlt_1931.0, BsmtFinSF2, Foundation_Slab/Stone/Wood, GarageYrBlt_1978.0, GarageFinish_RFn, 3SsnPorch, Fireplaces, GarageYrBlt_1942.0, GarageYrBlt_1925.0, GarageYrBlt_1920.0, GarageYrBlt_1986.0, GarageYrBlt_2002.0, GarageType_Attchd, GarageYrBlt_1934.0, GarageYrBlt_1973.0, GarageYrBlt_1964.0, SaleCondition_Partial, GarageYrBlt_1965.0, GarageYrBlt_1947.0, GarageYrBlt_1999.0, GarageYrBlt_NA, GarageYrBlt_1970.0, BsmtQual_TA, ExterQual_TA, BsmtUnfSF, GarageYrBlt_1990.0, GarageYrBlt_1954.0, Exterior_material, GarageFinish_NA, OpenPorchSF, GarageYrBlt_1940.0, GarageYrBlt_1906.0, GarageYrBlt_2004.0, GarageYrBlt_1980.0, GarageYrBlt_1981.0, GarageYrBlt_1971.0, MasVnrType_None, BsmtFullBath, GarageArea, MSZoning_RL, Neighborhood, GarageYrBlt_1969.0, BsmtQual_Fa, GarageYrBlt_1946.0, GarageYrBlt_1951.0, EnclosedPorch, MiscVal, GarageYrBlt_1910.0, HeatingQC_TA, BsmtQual_Gd, GarageYrBlt_1938.0, ExterQual_Gd, GarageYrBlt_1957.0, Foundation_PConc, GarageYrBlt_1968.0, WoodDeckSF, LotFrontage_log, GarageYrBlt_1922.0, KitchenAbvGr, GarageYrBlt_1956.0, GarageYrBlt_1923.0, GarageYrBlt_1929.0, GarageYrBlt_1996.0, BsmtHalfBath, GarageYrBlt_1998.0, BsmtFinSF1, MSSubClass, GarageYrBlt_1908.0, LotArea, FullBath, GarageYrBlt_1984.0, GarageYrBlt_1924.0, GarageYrBlt_2007.0, KitchenQual_Fa, GarageYrBlt_1949.0, GarageYrBlt_1950.0, HeatingQC_Po, GarageYrBlt_1982.0, GarageYrBlt_1961.0, GarageYrBlt_1916.0, GarageFinish_Unf, YrSold, MasVnrArea, OverallCond, GarageYrBlt_1926.0, MSZoning2_OTHER, ScreenPorch, GarageYrBlt_1958.0, GarageYrBlt_1948.0, GarageYrBlt_2005.0, GarageYrBlt_1967.0, GarageYrBlt_1962.0, GarageYrBlt_1963.0, GarageYrBlt_1955.0, GarageYrBlt_1921.0, LotFrontage, GarageYrBlt_1945.0, GarageYrBlt_1974.0, MSZoning_RH, GarageYrBlt_1914.0, GarageType_Detchd, TotRmsAbvGrd, LotArea_log, MasVnrType_BrkFace, KitchenQual_TA, GarageYrBlt_1928.0, GarageYrBlt_1992.0, MasVnrType_Stone, HeatingQC_Gd, MSZoning_RM, GarageYrBlt_1995.0, SaleCondition_Normal, GarageYrBlt_1972.0, GarageYrBlt_1975.0, GarageYrBlt_1918.0, GarageYrBlt_1966.0, GarageYrBlt_2003.0, GarageYrBlt_1953.0, LowQualFinSF, GarageYrBlt_1936.0, MSZoning2_RL, GarageYrBlt_1935.0, GarageYrBlt_1952.0, GarageYrBlt_2001.0, GarageYrBlt_1960.0, HalfBath, PoolArea, GarageYrBlt_1979.0, Foundation_CBlock, GarageType_Basment, GarageYrBlt_1941.0, CentralAir_Y, GarageYrBlt_1930.0, GarageYrBlt_1976.0, GarageYrBlt_1977.0, GarageYrBlt_1983.0, SaleType_WD, GarageYrBlt_1932.0, GarageYrBlt_1985.0, YearRemodAdd, GarageYrBlt_1997.0, KitchenQual_Gd, GarageYrBlt_2009.0, GarageYrBlt_1989.0, GarageYrBlt_1991.0, GarageYrBlt_1987.0, GarageYrBlt_1994.0, Id, GarageYrBlt_2010.0, GarageYrBlt_1915.0, OverallQual, GarageYrBlt_1988.0, GarageYrBlt_1927.0, TotalSF, GarageYrBlt_1933.0, MSZoning2_RM, BsmtUnfSF_log, YearBuilt, GarageType_CarPort, GarageYrBlt_1937.0 in input data\n",
            "training data did not have the following fields: f9, f87, f63, f90, f121, f162, f13, f24, f146, f46, f99, f137, f152, f103, f64, f123, f8, f102, f119, f144, f136, f117, f125, f47, f52, f62, f172, f34, f114, f134, f100, f91, f18, f51, f80, f78, f115, f110, f54, f141, f1, f161, f118, f16, f128, f151, f76, f113, f126, f68, f86, f25, f160, f32, f71, f127, f17, f2, f49, f159, f131, f20, f98, f109, f72, f33, f171, f163, f157, f10, f145, f94, f58, f67, f37, f61, f82, f48, f92, f4, f149, f23, f167, f3, f36, f7, f139, f53, f138, f142, f43, f132, f12, f50, f40, f35, f60, f169, f11, f154, f26, f89, f30, f29, f45, f28, f165, f77, f74, f153, f155, f97, f116, f44, f101, f31, f85, f56, f156, f122, f84, f66, f108, f42, f0, f6, f168, f57, f38, f65, f95, f111, f120, f148, f150, f14, f59, f93, f143, f27, f88, f19, f107, f166, f158, f73, f79, f140, f75, f105, f106, f21, f147, f5, f15, f170, f96, f83, f39, f124, f104, f130, f41, f22, f112, f129, f55, f133, f135, f81, f69, f164, f70.\n",
            "Pipeline encountered that has previously been evaluated during the optimization process. Using the score from the previous evaluation.\n",
            "\n",
            "Generation 16 - Current Pareto front scores:\n",
            "\n",
            "-1\t-0.017414628200901793\tGradientBoostingRegressor(input_matrix, GradientBoostingRegressor__alpha=0.99, GradientBoostingRegressor__learning_rate=0.1, GradientBoostingRegressor__loss=huber, GradientBoostingRegressor__max_depth=8, GradientBoostingRegressor__max_features=0.6000000000000001, GradientBoostingRegressor__min_samples_leaf=19, GradientBoostingRegressor__min_samples_split=5, GradientBoostingRegressor__n_estimators=100, GradientBoostingRegressor__subsample=0.6500000000000001)\n",
            "\n",
            "-2\t-0.016943317165450177\tGradientBoostingRegressor(RidgeCV(input_matrix), GradientBoostingRegressor__alpha=0.85, GradientBoostingRegressor__learning_rate=0.1, GradientBoostingRegressor__loss=huber, GradientBoostingRegressor__max_depth=10, GradientBoostingRegressor__max_features=0.6000000000000001, GradientBoostingRegressor__min_samples_leaf=19, GradientBoostingRegressor__min_samples_split=15, GradientBoostingRegressor__n_estimators=100, GradientBoostingRegressor__subsample=0.7500000000000001)\n",
            "\n",
            "-5\t-0.016856025190134426\tGradientBoostingRegressor(RidgeCV(SGDRegressor(KNeighborsRegressor(RidgeCV(input_matrix), KNeighborsRegressor__n_neighbors=34, KNeighborsRegressor__p=2, KNeighborsRegressor__weights=uniform), SGDRegressor__alpha=0.0, SGDRegressor__eta0=0.01, SGDRegressor__fit_intercept=False, SGDRegressor__l1_ratio=0.75, SGDRegressor__learning_rate=constant, SGDRegressor__loss=squared_loss, SGDRegressor__penalty=elasticnet, SGDRegressor__power_t=100.0)), GradientBoostingRegressor__alpha=0.8, GradientBoostingRegressor__learning_rate=0.1, GradientBoostingRegressor__loss=huber, GradientBoostingRegressor__max_depth=4, GradientBoostingRegressor__max_features=0.6000000000000001, GradientBoostingRegressor__min_samples_leaf=1, GradientBoostingRegressor__min_samples_split=5, GradientBoostingRegressor__n_estimators=100, GradientBoostingRegressor__subsample=0.6500000000000001)\n",
            "Periodic pipeline was not saved, probably saved before...\n",
            "Periodic pipeline was not saved, probably saved before...\n",
            "Saving periodic pipeline from pareto front to intermediate_results/pipeline_gen_16_idx_2_2021.01.05_20-38-15.py\n",
            "_pre_test decorator: _random_mutation_operator: num_test=0 Found array with 0 feature(s) (shape=(50, 0)) while a minimum of 1 is required..\n",
            "_pre_test decorator: _random_mutation_operator: num_test=0 Expected n_neighbors <= n_samples,  but n_samples = 50, n_neighbors = 93.\n",
            "_pre_test decorator: _random_mutation_operator: num_test=0 Expected n_neighbors <= n_samples,  but n_samples = 50, n_neighbors = 82.\n",
            "_pre_test decorator: _random_mutation_operator: num_test=0 feature_names mismatch: ['Id', 'MSSubClass', 'LotFrontage', 'LotArea', 'Neighborhood', 'OverallQual', 'OverallCond', 'YearBuilt', 'YearRemodAdd', 'MasVnrArea', 'BsmtFinSF1', 'BsmtFinSF2', 'BsmtUnfSF', 'LowQualFinSF', 'BsmtFullBath', 'BsmtHalfBath', 'FullBath', 'HalfBath', 'BedroomAbvGr', 'KitchenAbvGr', 'TotRmsAbvGrd', 'Fireplaces', 'GarageArea', 'WoodDeckSF', 'OpenPorchSF', 'EnclosedPorch', '3SsnPorch', 'ScreenPorch', 'PoolArea', 'MiscVal', 'MoSold', 'YrSold', 'Exterior_material', 'TotalSF', 'LotFrontage_log', 'LotArea_log', 'BsmtUnfSF_log', 'MSZoning_FV', 'MSZoning_RH', 'MSZoning_RL', 'MSZoning_RM', 'MasVnrType_BrkFace', 'MasVnrType_None', 'MasVnrType_Stone', 'ExterQual_Fa', 'ExterQual_Gd', 'ExterQual_TA', 'Foundation_CBlock', 'Foundation_PConc', 'Foundation_Slab/Stone/Wood', 'BsmtQual_Fa', 'BsmtQual_Gd', 'BsmtQual_TA', 'HeatingQC_Fa', 'HeatingQC_Gd', 'HeatingQC_Po', 'HeatingQC_TA', 'CentralAir_Y', 'KitchenQual_Fa', 'KitchenQual_Gd', 'KitchenQual_TA', 'GarageType_Attchd', 'GarageType_Basment', 'GarageType_BuiltIn', 'GarageType_CarPort', 'GarageType_Detchd', 'GarageType_NA', 'GarageYrBlt_1906.0', 'GarageYrBlt_1908.0', 'GarageYrBlt_1910.0', 'GarageYrBlt_1914.0', 'GarageYrBlt_1915.0', 'GarageYrBlt_1916.0', 'GarageYrBlt_1918.0', 'GarageYrBlt_1920.0', 'GarageYrBlt_1921.0', 'GarageYrBlt_1922.0', 'GarageYrBlt_1923.0', 'GarageYrBlt_1924.0', 'GarageYrBlt_1925.0', 'GarageYrBlt_1926.0', 'GarageYrBlt_1927.0', 'GarageYrBlt_1928.0', 'GarageYrBlt_1929.0', 'GarageYrBlt_1930.0', 'GarageYrBlt_1931.0', 'GarageYrBlt_1932.0', 'GarageYrBlt_1933.0', 'GarageYrBlt_1934.0', 'GarageYrBlt_1935.0', 'GarageYrBlt_1936.0', 'GarageYrBlt_1937.0', 'GarageYrBlt_1938.0', 'GarageYrBlt_1939.0', 'GarageYrBlt_1940.0', 'GarageYrBlt_1941.0', 'GarageYrBlt_1942.0', 'GarageYrBlt_1945.0', 'GarageYrBlt_1946.0', 'GarageYrBlt_1947.0', 'GarageYrBlt_1948.0', 'GarageYrBlt_1949.0', 'GarageYrBlt_1950.0', 'GarageYrBlt_1951.0', 'GarageYrBlt_1952.0', 'GarageYrBlt_1953.0', 'GarageYrBlt_1954.0', 'GarageYrBlt_1955.0', 'GarageYrBlt_1956.0', 'GarageYrBlt_1957.0', 'GarageYrBlt_1958.0', 'GarageYrBlt_1959.0', 'GarageYrBlt_1960.0', 'GarageYrBlt_1961.0', 'GarageYrBlt_1962.0', 'GarageYrBlt_1963.0', 'GarageYrBlt_1964.0', 'GarageYrBlt_1965.0', 'GarageYrBlt_1966.0', 'GarageYrBlt_1967.0', 'GarageYrBlt_1968.0', 'GarageYrBlt_1969.0', 'GarageYrBlt_1970.0', 'GarageYrBlt_1971.0', 'GarageYrBlt_1972.0', 'GarageYrBlt_1973.0', 'GarageYrBlt_1974.0', 'GarageYrBlt_1975.0', 'GarageYrBlt_1976.0', 'GarageYrBlt_1977.0', 'GarageYrBlt_1978.0', 'GarageYrBlt_1979.0', 'GarageYrBlt_1980.0', 'GarageYrBlt_1981.0', 'GarageYrBlt_1982.0', 'GarageYrBlt_1983.0', 'GarageYrBlt_1984.0', 'GarageYrBlt_1985.0', 'GarageYrBlt_1986.0', 'GarageYrBlt_1987.0', 'GarageYrBlt_1988.0', 'GarageYrBlt_1989.0', 'GarageYrBlt_1990.0', 'GarageYrBlt_1991.0', 'GarageYrBlt_1992.0', 'GarageYrBlt_1993.0', 'GarageYrBlt_1994.0', 'GarageYrBlt_1995.0', 'GarageYrBlt_1996.0', 'GarageYrBlt_1997.0', 'GarageYrBlt_1998.0', 'GarageYrBlt_1999.0', 'GarageYrBlt_2000.0', 'GarageYrBlt_2001.0', 'GarageYrBlt_2002.0', 'GarageYrBlt_2003.0', 'GarageYrBlt_2004.0', 'GarageYrBlt_2005.0', 'GarageYrBlt_2006.0', 'GarageYrBlt_2007.0', 'GarageYrBlt_2008.0', 'GarageYrBlt_2009.0', 'GarageYrBlt_2010.0', 'GarageYrBlt_NA', 'GarageFinish_NA', 'GarageFinish_RFn', 'GarageFinish_Unf', 'SaleType_WD', 'SaleCondition_Normal', 'SaleCondition_Partial', 'MSZoning2_OTHER', 'MSZoning2_RL', 'MSZoning2_RM'] ['f0', 'f1', 'f2', 'f3', 'f4', 'f5', 'f6', 'f7', 'f8', 'f9', 'f10', 'f11', 'f12', 'f13', 'f14', 'f15', 'f16', 'f17', 'f18', 'f19', 'f20', 'f21', 'f22', 'f23', 'f24', 'f25', 'f26', 'f27', 'f28', 'f29', 'f30', 'f31', 'f32', 'f33', 'f34', 'f35', 'f36', 'f37', 'f38', 'f39', 'f40', 'f41', 'f42', 'f43', 'f44', 'f45', 'f46', 'f47', 'f48', 'f49', 'f50', 'f51', 'f52', 'f53', 'f54', 'f55', 'f56', 'f57', 'f58', 'f59', 'f60', 'f61', 'f62', 'f63', 'f64', 'f65', 'f66', 'f67', 'f68', 'f69', 'f70', 'f71', 'f72', 'f73', 'f74', 'f75', 'f76', 'f77', 'f78', 'f79', 'f80', 'f81', 'f82', 'f83', 'f84', 'f85', 'f86', 'f87', 'f88', 'f89', 'f90', 'f91', 'f92', 'f93', 'f94', 'f95', 'f96', 'f97', 'f98', 'f99', 'f100', 'f101', 'f102', 'f103', 'f104', 'f105', 'f106', 'f107', 'f108', 'f109', 'f110', 'f111', 'f112', 'f113', 'f114', 'f115', 'f116', 'f117', 'f118', 'f119', 'f120', 'f121', 'f122', 'f123', 'f124', 'f125', 'f126', 'f127', 'f128', 'f129', 'f130', 'f131', 'f132', 'f133', 'f134', 'f135', 'f136', 'f137', 'f138', 'f139', 'f140', 'f141', 'f142', 'f143', 'f144', 'f145', 'f146', 'f147', 'f148', 'f149', 'f150', 'f151', 'f152', 'f153', 'f154', 'f155', 'f156', 'f157', 'f158', 'f159', 'f160', 'f161', 'f162', 'f163', 'f164', 'f165', 'f166', 'f167', 'f168', 'f169', 'f170', 'f171', 'f172']\n",
            "expected GarageYrBlt_2006.0, BedroomAbvGr, HeatingQC_Fa, GarageYrBlt_1939.0, GarageType_NA, GarageYrBlt_2000.0, ExterQual_Fa, GarageYrBlt_1993.0, MSZoning_FV, GarageYrBlt_1959.0, GarageYrBlt_2008.0, MoSold, GarageType_BuiltIn, GarageYrBlt_1931.0, BsmtFinSF2, Foundation_Slab/Stone/Wood, GarageYrBlt_1978.0, GarageFinish_RFn, 3SsnPorch, Fireplaces, GarageYrBlt_1942.0, GarageYrBlt_1925.0, GarageYrBlt_1920.0, GarageYrBlt_1986.0, GarageYrBlt_2002.0, GarageType_Attchd, GarageYrBlt_1934.0, GarageYrBlt_1973.0, GarageYrBlt_1964.0, SaleCondition_Partial, GarageYrBlt_1965.0, GarageYrBlt_1947.0, GarageYrBlt_1999.0, GarageYrBlt_NA, GarageYrBlt_1970.0, BsmtQual_TA, ExterQual_TA, BsmtUnfSF, GarageYrBlt_1990.0, GarageYrBlt_1954.0, Exterior_material, GarageFinish_NA, OpenPorchSF, GarageYrBlt_1940.0, GarageYrBlt_1906.0, GarageYrBlt_2004.0, GarageYrBlt_1980.0, GarageYrBlt_1981.0, GarageYrBlt_1971.0, MasVnrType_None, BsmtFullBath, GarageArea, MSZoning_RL, Neighborhood, GarageYrBlt_1969.0, BsmtQual_Fa, GarageYrBlt_1946.0, GarageYrBlt_1951.0, EnclosedPorch, MiscVal, GarageYrBlt_1910.0, HeatingQC_TA, BsmtQual_Gd, GarageYrBlt_1938.0, ExterQual_Gd, GarageYrBlt_1957.0, Foundation_PConc, GarageYrBlt_1968.0, WoodDeckSF, LotFrontage_log, GarageYrBlt_1922.0, KitchenAbvGr, GarageYrBlt_1956.0, GarageYrBlt_1923.0, GarageYrBlt_1929.0, GarageYrBlt_1996.0, BsmtHalfBath, GarageYrBlt_1998.0, BsmtFinSF1, MSSubClass, GarageYrBlt_1908.0, LotArea, FullBath, GarageYrBlt_1984.0, GarageYrBlt_1924.0, GarageYrBlt_2007.0, KitchenQual_Fa, GarageYrBlt_1949.0, GarageYrBlt_1950.0, HeatingQC_Po, GarageYrBlt_1982.0, GarageYrBlt_1961.0, GarageYrBlt_1916.0, GarageFinish_Unf, YrSold, MasVnrArea, OverallCond, GarageYrBlt_1926.0, MSZoning2_OTHER, ScreenPorch, GarageYrBlt_1958.0, GarageYrBlt_1948.0, GarageYrBlt_2005.0, GarageYrBlt_1967.0, GarageYrBlt_1962.0, GarageYrBlt_1963.0, GarageYrBlt_1955.0, GarageYrBlt_1921.0, LotFrontage, GarageYrBlt_1945.0, GarageYrBlt_1974.0, MSZoning_RH, GarageYrBlt_1914.0, GarageType_Detchd, TotRmsAbvGrd, LotArea_log, MasVnrType_BrkFace, KitchenQual_TA, GarageYrBlt_1928.0, GarageYrBlt_1992.0, MasVnrType_Stone, HeatingQC_Gd, MSZoning_RM, GarageYrBlt_1995.0, SaleCondition_Normal, GarageYrBlt_1972.0, GarageYrBlt_1975.0, GarageYrBlt_1918.0, GarageYrBlt_1966.0, GarageYrBlt_2003.0, GarageYrBlt_1953.0, LowQualFinSF, GarageYrBlt_1936.0, MSZoning2_RL, GarageYrBlt_1935.0, GarageYrBlt_1952.0, GarageYrBlt_2001.0, GarageYrBlt_1960.0, HalfBath, PoolArea, GarageYrBlt_1979.0, Foundation_CBlock, GarageType_Basment, GarageYrBlt_1941.0, CentralAir_Y, GarageYrBlt_1930.0, GarageYrBlt_1976.0, GarageYrBlt_1977.0, GarageYrBlt_1983.0, SaleType_WD, GarageYrBlt_1932.0, GarageYrBlt_1985.0, YearRemodAdd, GarageYrBlt_1997.0, KitchenQual_Gd, GarageYrBlt_2009.0, GarageYrBlt_1989.0, GarageYrBlt_1991.0, GarageYrBlt_1987.0, GarageYrBlt_1994.0, Id, GarageYrBlt_2010.0, GarageYrBlt_1915.0, OverallQual, GarageYrBlt_1988.0, GarageYrBlt_1927.0, TotalSF, GarageYrBlt_1933.0, MSZoning2_RM, BsmtUnfSF_log, YearBuilt, GarageType_CarPort, GarageYrBlt_1937.0 in input data\n",
            "training data did not have the following fields: f9, f87, f63, f90, f121, f162, f13, f24, f146, f46, f99, f137, f152, f103, f64, f123, f8, f102, f119, f144, f136, f117, f125, f47, f52, f62, f172, f34, f114, f134, f100, f91, f18, f51, f80, f78, f115, f110, f54, f141, f1, f161, f118, f16, f128, f151, f76, f113, f126, f68, f86, f25, f160, f32, f71, f127, f17, f2, f49, f159, f131, f20, f98, f109, f72, f33, f171, f163, f157, f10, f145, f94, f58, f67, f37, f61, f82, f48, f92, f4, f149, f23, f167, f3, f36, f7, f139, f53, f138, f142, f43, f132, f12, f50, f40, f35, f60, f169, f11, f154, f26, f89, f30, f29, f45, f28, f165, f77, f74, f153, f155, f97, f116, f44, f101, f31, f85, f56, f156, f122, f84, f66, f108, f42, f0, f6, f168, f57, f38, f65, f95, f111, f120, f148, f150, f14, f59, f93, f143, f27, f88, f19, f107, f166, f158, f73, f79, f140, f75, f105, f106, f21, f147, f5, f15, f170, f96, f83, f39, f124, f104, f130, f41, f22, f112, f129, f55, f133, f135, f81, f69, f164, f70.\n",
            "\n",
            "Generation 17 - Current Pareto front scores:\n",
            "\n",
            "-1\t-0.017414628200901793\tGradientBoostingRegressor(input_matrix, GradientBoostingRegressor__alpha=0.99, GradientBoostingRegressor__learning_rate=0.1, GradientBoostingRegressor__loss=huber, GradientBoostingRegressor__max_depth=8, GradientBoostingRegressor__max_features=0.6000000000000001, GradientBoostingRegressor__min_samples_leaf=19, GradientBoostingRegressor__min_samples_split=5, GradientBoostingRegressor__n_estimators=100, GradientBoostingRegressor__subsample=0.6500000000000001)\n",
            "\n",
            "-2\t-0.016943317165450177\tGradientBoostingRegressor(RidgeCV(input_matrix), GradientBoostingRegressor__alpha=0.85, GradientBoostingRegressor__learning_rate=0.1, GradientBoostingRegressor__loss=huber, GradientBoostingRegressor__max_depth=10, GradientBoostingRegressor__max_features=0.6000000000000001, GradientBoostingRegressor__min_samples_leaf=19, GradientBoostingRegressor__min_samples_split=15, GradientBoostingRegressor__n_estimators=100, GradientBoostingRegressor__subsample=0.7500000000000001)\n",
            "\n",
            "-5\t-0.016719495376171997\tGradientBoostingRegressor(RidgeCV(SGDRegressor(KNeighborsRegressor(RidgeCV(input_matrix), KNeighborsRegressor__n_neighbors=34, KNeighborsRegressor__p=2, KNeighborsRegressor__weights=uniform), SGDRegressor__alpha=0.01, SGDRegressor__eta0=0.01, SGDRegressor__fit_intercept=False, SGDRegressor__l1_ratio=0.75, SGDRegressor__learning_rate=constant, SGDRegressor__loss=squared_loss, SGDRegressor__penalty=elasticnet, SGDRegressor__power_t=100.0)), GradientBoostingRegressor__alpha=0.8, GradientBoostingRegressor__learning_rate=0.1, GradientBoostingRegressor__loss=huber, GradientBoostingRegressor__max_depth=5, GradientBoostingRegressor__max_features=0.6000000000000001, GradientBoostingRegressor__min_samples_leaf=7, GradientBoostingRegressor__min_samples_split=8, GradientBoostingRegressor__n_estimators=100, GradientBoostingRegressor__subsample=0.6500000000000001)\n",
            "Periodic pipeline was not saved, probably saved before...\n",
            "Periodic pipeline was not saved, probably saved before...\n",
            "Saving periodic pipeline from pareto front to intermediate_results/pipeline_gen_17_idx_2_2021.01.05_20-49-32.py\n",
            "_pre_test decorator: _random_mutation_operator: num_test=0 '(slice(None, None, None), 0)' is an invalid key.\n",
            "_pre_test decorator: _random_mutation_operator: num_test=0 Cosine affinity cannot be used when X contains zero vectors.\n",
            "_pre_test decorator: _random_mutation_operator: num_test=0 feature_names mismatch: ['Id', 'MSSubClass', 'LotFrontage', 'LotArea', 'Neighborhood', 'OverallQual', 'OverallCond', 'YearBuilt', 'YearRemodAdd', 'MasVnrArea', 'BsmtFinSF1', 'BsmtFinSF2', 'BsmtUnfSF', 'LowQualFinSF', 'BsmtFullBath', 'BsmtHalfBath', 'FullBath', 'HalfBath', 'BedroomAbvGr', 'KitchenAbvGr', 'TotRmsAbvGrd', 'Fireplaces', 'GarageArea', 'WoodDeckSF', 'OpenPorchSF', 'EnclosedPorch', '3SsnPorch', 'ScreenPorch', 'PoolArea', 'MiscVal', 'MoSold', 'YrSold', 'Exterior_material', 'TotalSF', 'LotFrontage_log', 'LotArea_log', 'BsmtUnfSF_log', 'MSZoning_FV', 'MSZoning_RH', 'MSZoning_RL', 'MSZoning_RM', 'MasVnrType_BrkFace', 'MasVnrType_None', 'MasVnrType_Stone', 'ExterQual_Fa', 'ExterQual_Gd', 'ExterQual_TA', 'Foundation_CBlock', 'Foundation_PConc', 'Foundation_Slab/Stone/Wood', 'BsmtQual_Fa', 'BsmtQual_Gd', 'BsmtQual_TA', 'HeatingQC_Fa', 'HeatingQC_Gd', 'HeatingQC_Po', 'HeatingQC_TA', 'CentralAir_Y', 'KitchenQual_Fa', 'KitchenQual_Gd', 'KitchenQual_TA', 'GarageType_Attchd', 'GarageType_Basment', 'GarageType_BuiltIn', 'GarageType_CarPort', 'GarageType_Detchd', 'GarageType_NA', 'GarageYrBlt_1906.0', 'GarageYrBlt_1908.0', 'GarageYrBlt_1910.0', 'GarageYrBlt_1914.0', 'GarageYrBlt_1915.0', 'GarageYrBlt_1916.0', 'GarageYrBlt_1918.0', 'GarageYrBlt_1920.0', 'GarageYrBlt_1921.0', 'GarageYrBlt_1922.0', 'GarageYrBlt_1923.0', 'GarageYrBlt_1924.0', 'GarageYrBlt_1925.0', 'GarageYrBlt_1926.0', 'GarageYrBlt_1927.0', 'GarageYrBlt_1928.0', 'GarageYrBlt_1929.0', 'GarageYrBlt_1930.0', 'GarageYrBlt_1931.0', 'GarageYrBlt_1932.0', 'GarageYrBlt_1933.0', 'GarageYrBlt_1934.0', 'GarageYrBlt_1935.0', 'GarageYrBlt_1936.0', 'GarageYrBlt_1937.0', 'GarageYrBlt_1938.0', 'GarageYrBlt_1939.0', 'GarageYrBlt_1940.0', 'GarageYrBlt_1941.0', 'GarageYrBlt_1942.0', 'GarageYrBlt_1945.0', 'GarageYrBlt_1946.0', 'GarageYrBlt_1947.0', 'GarageYrBlt_1948.0', 'GarageYrBlt_1949.0', 'GarageYrBlt_1950.0', 'GarageYrBlt_1951.0', 'GarageYrBlt_1952.0', 'GarageYrBlt_1953.0', 'GarageYrBlt_1954.0', 'GarageYrBlt_1955.0', 'GarageYrBlt_1956.0', 'GarageYrBlt_1957.0', 'GarageYrBlt_1958.0', 'GarageYrBlt_1959.0', 'GarageYrBlt_1960.0', 'GarageYrBlt_1961.0', 'GarageYrBlt_1962.0', 'GarageYrBlt_1963.0', 'GarageYrBlt_1964.0', 'GarageYrBlt_1965.0', 'GarageYrBlt_1966.0', 'GarageYrBlt_1967.0', 'GarageYrBlt_1968.0', 'GarageYrBlt_1969.0', 'GarageYrBlt_1970.0', 'GarageYrBlt_1971.0', 'GarageYrBlt_1972.0', 'GarageYrBlt_1973.0', 'GarageYrBlt_1974.0', 'GarageYrBlt_1975.0', 'GarageYrBlt_1976.0', 'GarageYrBlt_1977.0', 'GarageYrBlt_1978.0', 'GarageYrBlt_1979.0', 'GarageYrBlt_1980.0', 'GarageYrBlt_1981.0', 'GarageYrBlt_1982.0', 'GarageYrBlt_1983.0', 'GarageYrBlt_1984.0', 'GarageYrBlt_1985.0', 'GarageYrBlt_1986.0', 'GarageYrBlt_1987.0', 'GarageYrBlt_1988.0', 'GarageYrBlt_1989.0', 'GarageYrBlt_1990.0', 'GarageYrBlt_1991.0', 'GarageYrBlt_1992.0', 'GarageYrBlt_1993.0', 'GarageYrBlt_1994.0', 'GarageYrBlt_1995.0', 'GarageYrBlt_1996.0', 'GarageYrBlt_1997.0', 'GarageYrBlt_1998.0', 'GarageYrBlt_1999.0', 'GarageYrBlt_2000.0', 'GarageYrBlt_2001.0', 'GarageYrBlt_2002.0', 'GarageYrBlt_2003.0', 'GarageYrBlt_2004.0', 'GarageYrBlt_2005.0', 'GarageYrBlt_2006.0', 'GarageYrBlt_2007.0', 'GarageYrBlt_2008.0', 'GarageYrBlt_2009.0', 'GarageYrBlt_2010.0', 'GarageYrBlt_NA', 'GarageFinish_NA', 'GarageFinish_RFn', 'GarageFinish_Unf', 'SaleType_WD', 'SaleCondition_Normal', 'SaleCondition_Partial', 'MSZoning2_OTHER', 'MSZoning2_RL', 'MSZoning2_RM'] ['f0', 'f1', 'f2', 'f3', 'f4', 'f5', 'f6', 'f7', 'f8', 'f9', 'f10', 'f11', 'f12', 'f13', 'f14', 'f15', 'f16', 'f17', 'f18', 'f19', 'f20', 'f21', 'f22', 'f23', 'f24', 'f25', 'f26', 'f27', 'f28', 'f29', 'f30', 'f31', 'f32', 'f33', 'f34', 'f35', 'f36', 'f37', 'f38', 'f39', 'f40', 'f41', 'f42', 'f43', 'f44', 'f45', 'f46', 'f47', 'f48', 'f49', 'f50', 'f51', 'f52', 'f53', 'f54', 'f55', 'f56', 'f57', 'f58', 'f59', 'f60', 'f61', 'f62', 'f63', 'f64', 'f65', 'f66', 'f67', 'f68', 'f69', 'f70', 'f71', 'f72', 'f73', 'f74', 'f75', 'f76', 'f77', 'f78', 'f79', 'f80', 'f81', 'f82', 'f83', 'f84', 'f85', 'f86', 'f87', 'f88', 'f89', 'f90', 'f91', 'f92', 'f93', 'f94', 'f95', 'f96', 'f97', 'f98', 'f99', 'f100', 'f101', 'f102', 'f103', 'f104', 'f105', 'f106', 'f107', 'f108', 'f109', 'f110', 'f111', 'f112', 'f113', 'f114', 'f115', 'f116', 'f117', 'f118', 'f119', 'f120', 'f121', 'f122', 'f123', 'f124', 'f125', 'f126', 'f127', 'f128', 'f129', 'f130', 'f131', 'f132', 'f133', 'f134', 'f135', 'f136', 'f137', 'f138', 'f139', 'f140', 'f141', 'f142', 'f143', 'f144', 'f145', 'f146', 'f147', 'f148', 'f149', 'f150', 'f151', 'f152', 'f153', 'f154', 'f155', 'f156', 'f157', 'f158', 'f159', 'f160', 'f161', 'f162', 'f163', 'f164', 'f165', 'f166', 'f167', 'f168', 'f169', 'f170', 'f171', 'f172']\n",
            "expected GarageYrBlt_2006.0, BedroomAbvGr, HeatingQC_Fa, GarageYrBlt_1939.0, GarageType_NA, GarageYrBlt_2000.0, ExterQual_Fa, GarageYrBlt_1993.0, MSZoning_FV, GarageYrBlt_1959.0, GarageYrBlt_2008.0, MoSold, GarageType_BuiltIn, GarageYrBlt_1931.0, BsmtFinSF2, Foundation_Slab/Stone/Wood, GarageYrBlt_1978.0, GarageFinish_RFn, 3SsnPorch, Fireplaces, GarageYrBlt_1942.0, GarageYrBlt_1925.0, GarageYrBlt_1920.0, GarageYrBlt_1986.0, GarageYrBlt_2002.0, GarageType_Attchd, GarageYrBlt_1934.0, GarageYrBlt_1973.0, GarageYrBlt_1964.0, SaleCondition_Partial, GarageYrBlt_1965.0, GarageYrBlt_1947.0, GarageYrBlt_1999.0, GarageYrBlt_NA, GarageYrBlt_1970.0, BsmtQual_TA, ExterQual_TA, BsmtUnfSF, GarageYrBlt_1990.0, GarageYrBlt_1954.0, Exterior_material, GarageFinish_NA, OpenPorchSF, GarageYrBlt_1940.0, GarageYrBlt_1906.0, GarageYrBlt_2004.0, GarageYrBlt_1980.0, GarageYrBlt_1981.0, GarageYrBlt_1971.0, MasVnrType_None, BsmtFullBath, GarageArea, MSZoning_RL, Neighborhood, GarageYrBlt_1969.0, BsmtQual_Fa, GarageYrBlt_1946.0, GarageYrBlt_1951.0, EnclosedPorch, MiscVal, GarageYrBlt_1910.0, HeatingQC_TA, BsmtQual_Gd, GarageYrBlt_1938.0, ExterQual_Gd, GarageYrBlt_1957.0, Foundation_PConc, GarageYrBlt_1968.0, WoodDeckSF, LotFrontage_log, GarageYrBlt_1922.0, KitchenAbvGr, GarageYrBlt_1956.0, GarageYrBlt_1923.0, GarageYrBlt_1929.0, GarageYrBlt_1996.0, BsmtHalfBath, GarageYrBlt_1998.0, BsmtFinSF1, MSSubClass, GarageYrBlt_1908.0, LotArea, FullBath, GarageYrBlt_1984.0, GarageYrBlt_1924.0, GarageYrBlt_2007.0, KitchenQual_Fa, GarageYrBlt_1949.0, GarageYrBlt_1950.0, HeatingQC_Po, GarageYrBlt_1982.0, GarageYrBlt_1961.0, GarageYrBlt_1916.0, GarageFinish_Unf, YrSold, MasVnrArea, OverallCond, GarageYrBlt_1926.0, MSZoning2_OTHER, ScreenPorch, GarageYrBlt_1958.0, GarageYrBlt_1948.0, GarageYrBlt_2005.0, GarageYrBlt_1967.0, GarageYrBlt_1962.0, GarageYrBlt_1963.0, GarageYrBlt_1955.0, GarageYrBlt_1921.0, LotFrontage, GarageYrBlt_1945.0, GarageYrBlt_1974.0, MSZoning_RH, GarageYrBlt_1914.0, GarageType_Detchd, TotRmsAbvGrd, LotArea_log, MasVnrType_BrkFace, KitchenQual_TA, GarageYrBlt_1928.0, GarageYrBlt_1992.0, MasVnrType_Stone, HeatingQC_Gd, MSZoning_RM, GarageYrBlt_1995.0, SaleCondition_Normal, GarageYrBlt_1972.0, GarageYrBlt_1975.0, GarageYrBlt_1918.0, GarageYrBlt_1966.0, GarageYrBlt_2003.0, GarageYrBlt_1953.0, LowQualFinSF, GarageYrBlt_1936.0, MSZoning2_RL, GarageYrBlt_1935.0, GarageYrBlt_1952.0, GarageYrBlt_2001.0, GarageYrBlt_1960.0, HalfBath, PoolArea, GarageYrBlt_1979.0, Foundation_CBlock, GarageType_Basment, GarageYrBlt_1941.0, CentralAir_Y, GarageYrBlt_1930.0, GarageYrBlt_1976.0, GarageYrBlt_1977.0, GarageYrBlt_1983.0, SaleType_WD, GarageYrBlt_1932.0, GarageYrBlt_1985.0, YearRemodAdd, GarageYrBlt_1997.0, KitchenQual_Gd, GarageYrBlt_2009.0, GarageYrBlt_1989.0, GarageYrBlt_1991.0, GarageYrBlt_1987.0, GarageYrBlt_1994.0, Id, GarageYrBlt_2010.0, GarageYrBlt_1915.0, OverallQual, GarageYrBlt_1988.0, GarageYrBlt_1927.0, TotalSF, GarageYrBlt_1933.0, MSZoning2_RM, BsmtUnfSF_log, YearBuilt, GarageType_CarPort, GarageYrBlt_1937.0 in input data\n",
            "training data did not have the following fields: f9, f87, f63, f90, f121, f162, f13, f24, f146, f46, f99, f137, f152, f103, f64, f123, f8, f102, f119, f144, f136, f117, f125, f47, f52, f62, f172, f34, f114, f134, f100, f91, f18, f51, f80, f78, f115, f110, f54, f141, f1, f161, f118, f16, f128, f151, f76, f113, f126, f68, f86, f25, f160, f32, f71, f127, f17, f2, f49, f159, f131, f20, f98, f109, f72, f33, f171, f163, f157, f10, f145, f94, f58, f67, f37, f61, f82, f48, f92, f4, f149, f23, f167, f3, f36, f7, f139, f53, f138, f142, f43, f132, f12, f50, f40, f35, f60, f169, f11, f154, f26, f89, f30, f29, f45, f28, f165, f77, f74, f153, f155, f97, f116, f44, f101, f31, f85, f56, f156, f122, f84, f66, f108, f42, f0, f6, f168, f57, f38, f65, f95, f111, f120, f148, f150, f14, f59, f93, f143, f27, f88, f19, f107, f166, f158, f73, f79, f140, f75, f105, f106, f21, f147, f5, f15, f170, f96, f83, f39, f124, f104, f130, f41, f22, f112, f129, f55, f133, f135, f81, f69, f164, f70.\n",
            "_pre_test decorator: _random_mutation_operator: num_test=0 Expected n_neighbors <= n_samples,  but n_samples = 50, n_neighbors = 70.\n",
            "_pre_test decorator: _random_mutation_operator: num_test=0 l2 was provided as affinity. Ward can only work with euclidean distances..\n",
            "_pre_test decorator: _random_mutation_operator: num_test=0 Unsupported set of arguments: The combination of penalty='l2' and loss='epsilon_insensitive' are not supported when dual=False, Parameters: penalty='l2', loss='epsilon_insensitive', dual=False.\n",
            "_pre_test decorator: _random_mutation_operator: num_test=0 feature_names mismatch: ['Id', 'MSSubClass', 'LotFrontage', 'LotArea', 'Neighborhood', 'OverallQual', 'OverallCond', 'YearBuilt', 'YearRemodAdd', 'MasVnrArea', 'BsmtFinSF1', 'BsmtFinSF2', 'BsmtUnfSF', 'LowQualFinSF', 'BsmtFullBath', 'BsmtHalfBath', 'FullBath', 'HalfBath', 'BedroomAbvGr', 'KitchenAbvGr', 'TotRmsAbvGrd', 'Fireplaces', 'GarageArea', 'WoodDeckSF', 'OpenPorchSF', 'EnclosedPorch', '3SsnPorch', 'ScreenPorch', 'PoolArea', 'MiscVal', 'MoSold', 'YrSold', 'Exterior_material', 'TotalSF', 'LotFrontage_log', 'LotArea_log', 'BsmtUnfSF_log', 'MSZoning_FV', 'MSZoning_RH', 'MSZoning_RL', 'MSZoning_RM', 'MasVnrType_BrkFace', 'MasVnrType_None', 'MasVnrType_Stone', 'ExterQual_Fa', 'ExterQual_Gd', 'ExterQual_TA', 'Foundation_CBlock', 'Foundation_PConc', 'Foundation_Slab/Stone/Wood', 'BsmtQual_Fa', 'BsmtQual_Gd', 'BsmtQual_TA', 'HeatingQC_Fa', 'HeatingQC_Gd', 'HeatingQC_Po', 'HeatingQC_TA', 'CentralAir_Y', 'KitchenQual_Fa', 'KitchenQual_Gd', 'KitchenQual_TA', 'GarageType_Attchd', 'GarageType_Basment', 'GarageType_BuiltIn', 'GarageType_CarPort', 'GarageType_Detchd', 'GarageType_NA', 'GarageYrBlt_1906.0', 'GarageYrBlt_1908.0', 'GarageYrBlt_1910.0', 'GarageYrBlt_1914.0', 'GarageYrBlt_1915.0', 'GarageYrBlt_1916.0', 'GarageYrBlt_1918.0', 'GarageYrBlt_1920.0', 'GarageYrBlt_1921.0', 'GarageYrBlt_1922.0', 'GarageYrBlt_1923.0', 'GarageYrBlt_1924.0', 'GarageYrBlt_1925.0', 'GarageYrBlt_1926.0', 'GarageYrBlt_1927.0', 'GarageYrBlt_1928.0', 'GarageYrBlt_1929.0', 'GarageYrBlt_1930.0', 'GarageYrBlt_1931.0', 'GarageYrBlt_1932.0', 'GarageYrBlt_1933.0', 'GarageYrBlt_1934.0', 'GarageYrBlt_1935.0', 'GarageYrBlt_1936.0', 'GarageYrBlt_1937.0', 'GarageYrBlt_1938.0', 'GarageYrBlt_1939.0', 'GarageYrBlt_1940.0', 'GarageYrBlt_1941.0', 'GarageYrBlt_1942.0', 'GarageYrBlt_1945.0', 'GarageYrBlt_1946.0', 'GarageYrBlt_1947.0', 'GarageYrBlt_1948.0', 'GarageYrBlt_1949.0', 'GarageYrBlt_1950.0', 'GarageYrBlt_1951.0', 'GarageYrBlt_1952.0', 'GarageYrBlt_1953.0', 'GarageYrBlt_1954.0', 'GarageYrBlt_1955.0', 'GarageYrBlt_1956.0', 'GarageYrBlt_1957.0', 'GarageYrBlt_1958.0', 'GarageYrBlt_1959.0', 'GarageYrBlt_1960.0', 'GarageYrBlt_1961.0', 'GarageYrBlt_1962.0', 'GarageYrBlt_1963.0', 'GarageYrBlt_1964.0', 'GarageYrBlt_1965.0', 'GarageYrBlt_1966.0', 'GarageYrBlt_1967.0', 'GarageYrBlt_1968.0', 'GarageYrBlt_1969.0', 'GarageYrBlt_1970.0', 'GarageYrBlt_1971.0', 'GarageYrBlt_1972.0', 'GarageYrBlt_1973.0', 'GarageYrBlt_1974.0', 'GarageYrBlt_1975.0', 'GarageYrBlt_1976.0', 'GarageYrBlt_1977.0', 'GarageYrBlt_1978.0', 'GarageYrBlt_1979.0', 'GarageYrBlt_1980.0', 'GarageYrBlt_1981.0', 'GarageYrBlt_1982.0', 'GarageYrBlt_1983.0', 'GarageYrBlt_1984.0', 'GarageYrBlt_1985.0', 'GarageYrBlt_1986.0', 'GarageYrBlt_1987.0', 'GarageYrBlt_1988.0', 'GarageYrBlt_1989.0', 'GarageYrBlt_1990.0', 'GarageYrBlt_1991.0', 'GarageYrBlt_1992.0', 'GarageYrBlt_1993.0', 'GarageYrBlt_1994.0', 'GarageYrBlt_1995.0', 'GarageYrBlt_1996.0', 'GarageYrBlt_1997.0', 'GarageYrBlt_1998.0', 'GarageYrBlt_1999.0', 'GarageYrBlt_2000.0', 'GarageYrBlt_2001.0', 'GarageYrBlt_2002.0', 'GarageYrBlt_2003.0', 'GarageYrBlt_2004.0', 'GarageYrBlt_2005.0', 'GarageYrBlt_2006.0', 'GarageYrBlt_2007.0', 'GarageYrBlt_2008.0', 'GarageYrBlt_2009.0', 'GarageYrBlt_2010.0', 'GarageYrBlt_NA', 'GarageFinish_NA', 'GarageFinish_RFn', 'GarageFinish_Unf', 'SaleType_WD', 'SaleCondition_Normal', 'SaleCondition_Partial', 'MSZoning2_OTHER', 'MSZoning2_RL', 'MSZoning2_RM'] ['f0', 'f1', 'f2', 'f3', 'f4', 'f5', 'f6', 'f7', 'f8', 'f9', 'f10', 'f11', 'f12', 'f13', 'f14', 'f15', 'f16', 'f17', 'f18', 'f19', 'f20', 'f21', 'f22', 'f23', 'f24', 'f25', 'f26', 'f27', 'f28', 'f29', 'f30', 'f31', 'f32', 'f33', 'f34', 'f35', 'f36', 'f37', 'f38', 'f39', 'f40', 'f41', 'f42', 'f43', 'f44', 'f45', 'f46', 'f47', 'f48', 'f49', 'f50', 'f51', 'f52', 'f53', 'f54', 'f55', 'f56', 'f57', 'f58', 'f59', 'f60', 'f61', 'f62', 'f63', 'f64', 'f65', 'f66', 'f67', 'f68', 'f69', 'f70', 'f71', 'f72', 'f73', 'f74', 'f75', 'f76', 'f77', 'f78', 'f79', 'f80', 'f81', 'f82', 'f83', 'f84', 'f85', 'f86', 'f87', 'f88', 'f89', 'f90', 'f91', 'f92', 'f93', 'f94', 'f95', 'f96', 'f97', 'f98', 'f99', 'f100', 'f101', 'f102', 'f103', 'f104', 'f105', 'f106', 'f107', 'f108', 'f109', 'f110', 'f111', 'f112', 'f113', 'f114', 'f115', 'f116', 'f117', 'f118', 'f119', 'f120', 'f121', 'f122', 'f123', 'f124', 'f125', 'f126', 'f127', 'f128', 'f129', 'f130', 'f131', 'f132', 'f133', 'f134', 'f135', 'f136', 'f137', 'f138', 'f139', 'f140', 'f141', 'f142', 'f143', 'f144', 'f145', 'f146', 'f147', 'f148', 'f149', 'f150', 'f151', 'f152', 'f153', 'f154', 'f155', 'f156', 'f157', 'f158', 'f159', 'f160', 'f161', 'f162', 'f163', 'f164', 'f165', 'f166', 'f167', 'f168', 'f169', 'f170', 'f171', 'f172']\n",
            "expected GarageYrBlt_2006.0, BedroomAbvGr, HeatingQC_Fa, GarageYrBlt_1939.0, GarageType_NA, GarageYrBlt_2000.0, ExterQual_Fa, GarageYrBlt_1993.0, MSZoning_FV, GarageYrBlt_1959.0, GarageYrBlt_2008.0, MoSold, GarageType_BuiltIn, GarageYrBlt_1931.0, BsmtFinSF2, Foundation_Slab/Stone/Wood, GarageYrBlt_1978.0, GarageFinish_RFn, 3SsnPorch, Fireplaces, GarageYrBlt_1942.0, GarageYrBlt_1925.0, GarageYrBlt_1920.0, GarageYrBlt_1986.0, GarageYrBlt_2002.0, GarageType_Attchd, GarageYrBlt_1934.0, GarageYrBlt_1973.0, GarageYrBlt_1964.0, SaleCondition_Partial, GarageYrBlt_1965.0, GarageYrBlt_1947.0, GarageYrBlt_1999.0, GarageYrBlt_NA, GarageYrBlt_1970.0, BsmtQual_TA, ExterQual_TA, BsmtUnfSF, GarageYrBlt_1990.0, GarageYrBlt_1954.0, Exterior_material, GarageFinish_NA, OpenPorchSF, GarageYrBlt_1940.0, GarageYrBlt_1906.0, GarageYrBlt_2004.0, GarageYrBlt_1980.0, GarageYrBlt_1981.0, GarageYrBlt_1971.0, MasVnrType_None, BsmtFullBath, GarageArea, MSZoning_RL, Neighborhood, GarageYrBlt_1969.0, BsmtQual_Fa, GarageYrBlt_1946.0, GarageYrBlt_1951.0, EnclosedPorch, MiscVal, GarageYrBlt_1910.0, HeatingQC_TA, BsmtQual_Gd, GarageYrBlt_1938.0, ExterQual_Gd, GarageYrBlt_1957.0, Foundation_PConc, GarageYrBlt_1968.0, WoodDeckSF, LotFrontage_log, GarageYrBlt_1922.0, KitchenAbvGr, GarageYrBlt_1956.0, GarageYrBlt_1923.0, GarageYrBlt_1929.0, GarageYrBlt_1996.0, BsmtHalfBath, GarageYrBlt_1998.0, BsmtFinSF1, MSSubClass, GarageYrBlt_1908.0, LotArea, FullBath, GarageYrBlt_1984.0, GarageYrBlt_1924.0, GarageYrBlt_2007.0, KitchenQual_Fa, GarageYrBlt_1949.0, GarageYrBlt_1950.0, HeatingQC_Po, GarageYrBlt_1982.0, GarageYrBlt_1961.0, GarageYrBlt_1916.0, GarageFinish_Unf, YrSold, MasVnrArea, OverallCond, GarageYrBlt_1926.0, MSZoning2_OTHER, ScreenPorch, GarageYrBlt_1958.0, GarageYrBlt_1948.0, GarageYrBlt_2005.0, GarageYrBlt_1967.0, GarageYrBlt_1962.0, GarageYrBlt_1963.0, GarageYrBlt_1955.0, GarageYrBlt_1921.0, LotFrontage, GarageYrBlt_1945.0, GarageYrBlt_1974.0, MSZoning_RH, GarageYrBlt_1914.0, GarageType_Detchd, TotRmsAbvGrd, LotArea_log, MasVnrType_BrkFace, KitchenQual_TA, GarageYrBlt_1928.0, GarageYrBlt_1992.0, MasVnrType_Stone, HeatingQC_Gd, MSZoning_RM, GarageYrBlt_1995.0, SaleCondition_Normal, GarageYrBlt_1972.0, GarageYrBlt_1975.0, GarageYrBlt_1918.0, GarageYrBlt_1966.0, GarageYrBlt_2003.0, GarageYrBlt_1953.0, LowQualFinSF, GarageYrBlt_1936.0, MSZoning2_RL, GarageYrBlt_1935.0, GarageYrBlt_1952.0, GarageYrBlt_2001.0, GarageYrBlt_1960.0, HalfBath, PoolArea, GarageYrBlt_1979.0, Foundation_CBlock, GarageType_Basment, GarageYrBlt_1941.0, CentralAir_Y, GarageYrBlt_1930.0, GarageYrBlt_1976.0, GarageYrBlt_1977.0, GarageYrBlt_1983.0, SaleType_WD, GarageYrBlt_1932.0, GarageYrBlt_1985.0, YearRemodAdd, GarageYrBlt_1997.0, KitchenQual_Gd, GarageYrBlt_2009.0, GarageYrBlt_1989.0, GarageYrBlt_1991.0, GarageYrBlt_1987.0, GarageYrBlt_1994.0, Id, GarageYrBlt_2010.0, GarageYrBlt_1915.0, OverallQual, GarageYrBlt_1988.0, GarageYrBlt_1927.0, TotalSF, GarageYrBlt_1933.0, MSZoning2_RM, BsmtUnfSF_log, YearBuilt, GarageType_CarPort, GarageYrBlt_1937.0 in input data\n",
            "training data did not have the following fields: f9, f87, f63, f90, f121, f162, f13, f24, f146, f46, f99, f137, f152, f103, f64, f123, f8, f102, f119, f144, f136, f117, f125, f47, f52, f62, f172, f34, f114, f134, f100, f91, f18, f51, f80, f78, f115, f110, f54, f141, f1, f161, f118, f16, f128, f151, f76, f113, f126, f68, f86, f25, f160, f32, f71, f127, f17, f2, f49, f159, f131, f20, f98, f109, f72, f33, f171, f163, f157, f10, f145, f94, f58, f67, f37, f61, f82, f48, f92, f4, f149, f23, f167, f3, f36, f7, f139, f53, f138, f142, f43, f132, f12, f50, f40, f35, f60, f169, f11, f154, f26, f89, f30, f29, f45, f28, f165, f77, f74, f153, f155, f97, f116, f44, f101, f31, f85, f56, f156, f122, f84, f66, f108, f42, f0, f6, f168, f57, f38, f65, f95, f111, f120, f148, f150, f14, f59, f93, f143, f27, f88, f19, f107, f166, f158, f73, f79, f140, f75, f105, f106, f21, f147, f5, f15, f170, f96, f83, f39, f124, f104, f130, f41, f22, f112, f129, f55, f133, f135, f81, f69, f164, f70.\n",
            "Pipeline encountered that has previously been evaluated during the optimization process. Using the score from the previous evaluation.\n",
            "\n",
            "Generation 18 - Current Pareto front scores:\n",
            "\n",
            "-1\t-0.017414628200901793\tGradientBoostingRegressor(input_matrix, GradientBoostingRegressor__alpha=0.99, GradientBoostingRegressor__learning_rate=0.1, GradientBoostingRegressor__loss=huber, GradientBoostingRegressor__max_depth=8, GradientBoostingRegressor__max_features=0.6000000000000001, GradientBoostingRegressor__min_samples_leaf=19, GradientBoostingRegressor__min_samples_split=5, GradientBoostingRegressor__n_estimators=100, GradientBoostingRegressor__subsample=0.6500000000000001)\n",
            "\n",
            "-2\t-0.016619302373956778\tGradientBoostingRegressor(RidgeCV(input_matrix), GradientBoostingRegressor__alpha=0.85, GradientBoostingRegressor__learning_rate=0.1, GradientBoostingRegressor__loss=huber, GradientBoostingRegressor__max_depth=10, GradientBoostingRegressor__max_features=0.6000000000000001, GradientBoostingRegressor__min_samples_leaf=13, GradientBoostingRegressor__min_samples_split=15, GradientBoostingRegressor__n_estimators=100, GradientBoostingRegressor__subsample=0.7500000000000001)\n",
            "Periodic pipeline was not saved, probably saved before...\n",
            "Saving periodic pipeline from pareto front to intermediate_results/pipeline_gen_18_idx_1_2021.01.05_21-01-42.py\n",
            "_pre_test decorator: _random_mutation_operator: num_test=0 '(slice(None, None, None), 0)' is an invalid key.\n",
            "_pre_test decorator: _random_mutation_operator: num_test=0 Expected n_neighbors <= n_samples,  but n_samples = 50, n_neighbors = 54.\n",
            "_pre_test decorator: _random_mutation_operator: num_test=0 Found array with 0 feature(s) (shape=(50, 0)) while a minimum of 1 is required..\n",
            "Pipeline encountered that has previously been evaluated during the optimization process. Using the score from the previous evaluation.\n",
            "Pipeline encountered that has previously been evaluated during the optimization process. Using the score from the previous evaluation.\n",
            "\n",
            "Generation 19 - Current Pareto front scores:\n",
            "\n",
            "-1\t-0.017414628200901793\tGradientBoostingRegressor(input_matrix, GradientBoostingRegressor__alpha=0.99, GradientBoostingRegressor__learning_rate=0.1, GradientBoostingRegressor__loss=huber, GradientBoostingRegressor__max_depth=8, GradientBoostingRegressor__max_features=0.6000000000000001, GradientBoostingRegressor__min_samples_leaf=19, GradientBoostingRegressor__min_samples_split=5, GradientBoostingRegressor__n_estimators=100, GradientBoostingRegressor__subsample=0.6500000000000001)\n",
            "\n",
            "-2\t-0.016619302373956778\tGradientBoostingRegressor(RidgeCV(input_matrix), GradientBoostingRegressor__alpha=0.85, GradientBoostingRegressor__learning_rate=0.1, GradientBoostingRegressor__loss=huber, GradientBoostingRegressor__max_depth=10, GradientBoostingRegressor__max_features=0.6000000000000001, GradientBoostingRegressor__min_samples_leaf=13, GradientBoostingRegressor__min_samples_split=15, GradientBoostingRegressor__n_estimators=100, GradientBoostingRegressor__subsample=0.7500000000000001)\n",
            "\n",
            "-4\t-0.016614946734311208\tGradientBoostingRegressor(SelectPercentile(KNeighborsRegressor(RidgeCV(input_matrix), KNeighborsRegressor__n_neighbors=34, KNeighborsRegressor__p=2, KNeighborsRegressor__weights=uniform), SelectPercentile__percentile=98), GradientBoostingRegressor__alpha=0.85, GradientBoostingRegressor__learning_rate=0.1, GradientBoostingRegressor__loss=huber, GradientBoostingRegressor__max_depth=8, GradientBoostingRegressor__max_features=0.6000000000000001, GradientBoostingRegressor__min_samples_leaf=12, GradientBoostingRegressor__min_samples_split=12, GradientBoostingRegressor__n_estimators=100, GradientBoostingRegressor__subsample=0.6500000000000001)\n",
            "\n",
            "-5\t-0.016584337898852743\tGradientBoostingRegressor(SGDRegressor(KNeighborsRegressor(ZeroCount(RidgeCV(input_matrix)), KNeighborsRegressor__n_neighbors=34, KNeighborsRegressor__p=2, KNeighborsRegressor__weights=uniform), SGDRegressor__alpha=0.0, SGDRegressor__eta0=0.01, SGDRegressor__fit_intercept=False, SGDRegressor__l1_ratio=0.75, SGDRegressor__learning_rate=constant, SGDRegressor__loss=squared_loss, SGDRegressor__penalty=elasticnet, SGDRegressor__power_t=100.0), GradientBoostingRegressor__alpha=0.8, GradientBoostingRegressor__learning_rate=0.1, GradientBoostingRegressor__loss=huber, GradientBoostingRegressor__max_depth=4, GradientBoostingRegressor__max_features=0.6000000000000001, GradientBoostingRegressor__min_samples_leaf=1, GradientBoostingRegressor__min_samples_split=16, GradientBoostingRegressor__n_estimators=100, GradientBoostingRegressor__subsample=0.6500000000000001)\n",
            "\n",
            "-6\t-0.016445743159025868\tGradientBoostingRegressor(RobustScaler(RidgeCV(SGDRegressor(KNeighborsRegressor(RidgeCV(input_matrix), KNeighborsRegressor__n_neighbors=34, KNeighborsRegressor__p=2, KNeighborsRegressor__weights=uniform), SGDRegressor__alpha=0.01, SGDRegressor__eta0=0.01, SGDRegressor__fit_intercept=False, SGDRegressor__l1_ratio=0.75, SGDRegressor__learning_rate=constant, SGDRegressor__loss=squared_loss, SGDRegressor__penalty=elasticnet, SGDRegressor__power_t=100.0))), GradientBoostingRegressor__alpha=0.8, GradientBoostingRegressor__learning_rate=0.1, GradientBoostingRegressor__loss=huber, GradientBoostingRegressor__max_depth=5, GradientBoostingRegressor__max_features=0.6000000000000001, GradientBoostingRegressor__min_samples_leaf=7, GradientBoostingRegressor__min_samples_split=8, GradientBoostingRegressor__n_estimators=100, GradientBoostingRegressor__subsample=0.6500000000000001)\n",
            "Periodic pipeline was not saved, probably saved before...\n",
            "Periodic pipeline was not saved, probably saved before...\n",
            "Saving periodic pipeline from pareto front to intermediate_results/pipeline_gen_19_idx_2_2021.01.05_21-07-05.py\n",
            "Saving periodic pipeline from pareto front to intermediate_results/pipeline_gen_19_idx_3_2021.01.05_21-07-05.py\n",
            "Saving periodic pipeline from pareto front to intermediate_results/pipeline_gen_19_idx_4_2021.01.05_21-07-05.py\n",
            "_pre_test decorator: _random_mutation_operator: num_test=0 Found array with 0 feature(s) (shape=(50, 0)) while a minimum of 1 is required..\n",
            "_pre_test decorator: _random_mutation_operator: num_test=0 Expected n_neighbors <= n_samples,  but n_samples = 50, n_neighbors = 85.\n",
            "_pre_test decorator: _random_mutation_operator: num_test=0 Found array with 0 feature(s) (shape=(50, 0)) while a minimum of 1 is required..\n",
            "Pipeline encountered that has previously been evaluated during the optimization process. Using the score from the previous evaluation.\n",
            "\n",
            "Generation 20 - Current Pareto front scores:\n",
            "\n",
            "-1\t-0.017414628200901793\tGradientBoostingRegressor(input_matrix, GradientBoostingRegressor__alpha=0.99, GradientBoostingRegressor__learning_rate=0.1, GradientBoostingRegressor__loss=huber, GradientBoostingRegressor__max_depth=8, GradientBoostingRegressor__max_features=0.6000000000000001, GradientBoostingRegressor__min_samples_leaf=19, GradientBoostingRegressor__min_samples_split=5, GradientBoostingRegressor__n_estimators=100, GradientBoostingRegressor__subsample=0.6500000000000001)\n",
            "\n",
            "-2\t-0.016619302373956778\tGradientBoostingRegressor(RidgeCV(input_matrix), GradientBoostingRegressor__alpha=0.85, GradientBoostingRegressor__learning_rate=0.1, GradientBoostingRegressor__loss=huber, GradientBoostingRegressor__max_depth=10, GradientBoostingRegressor__max_features=0.6000000000000001, GradientBoostingRegressor__min_samples_leaf=13, GradientBoostingRegressor__min_samples_split=15, GradientBoostingRegressor__n_estimators=100, GradientBoostingRegressor__subsample=0.7500000000000001)\n",
            "\n",
            "-4\t-0.016614946734311208\tGradientBoostingRegressor(SelectPercentile(KNeighborsRegressor(RidgeCV(input_matrix), KNeighborsRegressor__n_neighbors=34, KNeighborsRegressor__p=2, KNeighborsRegressor__weights=uniform), SelectPercentile__percentile=98), GradientBoostingRegressor__alpha=0.85, GradientBoostingRegressor__learning_rate=0.1, GradientBoostingRegressor__loss=huber, GradientBoostingRegressor__max_depth=8, GradientBoostingRegressor__max_features=0.6000000000000001, GradientBoostingRegressor__min_samples_leaf=12, GradientBoostingRegressor__min_samples_split=12, GradientBoostingRegressor__n_estimators=100, GradientBoostingRegressor__subsample=0.6500000000000001)\n",
            "\n",
            "-5\t-0.016584337898852743\tGradientBoostingRegressor(SGDRegressor(KNeighborsRegressor(ZeroCount(RidgeCV(input_matrix)), KNeighborsRegressor__n_neighbors=34, KNeighborsRegressor__p=2, KNeighborsRegressor__weights=uniform), SGDRegressor__alpha=0.0, SGDRegressor__eta0=0.01, SGDRegressor__fit_intercept=False, SGDRegressor__l1_ratio=0.75, SGDRegressor__learning_rate=constant, SGDRegressor__loss=squared_loss, SGDRegressor__penalty=elasticnet, SGDRegressor__power_t=100.0), GradientBoostingRegressor__alpha=0.8, GradientBoostingRegressor__learning_rate=0.1, GradientBoostingRegressor__loss=huber, GradientBoostingRegressor__max_depth=4, GradientBoostingRegressor__max_features=0.6000000000000001, GradientBoostingRegressor__min_samples_leaf=1, GradientBoostingRegressor__min_samples_split=16, GradientBoostingRegressor__n_estimators=100, GradientBoostingRegressor__subsample=0.6500000000000001)\n",
            "\n",
            "-6\t-0.016445743159025868\tGradientBoostingRegressor(RobustScaler(RidgeCV(SGDRegressor(KNeighborsRegressor(RidgeCV(input_matrix), KNeighborsRegressor__n_neighbors=34, KNeighborsRegressor__p=2, KNeighborsRegressor__weights=uniform), SGDRegressor__alpha=0.01, SGDRegressor__eta0=0.01, SGDRegressor__fit_intercept=False, SGDRegressor__l1_ratio=0.75, SGDRegressor__learning_rate=constant, SGDRegressor__loss=squared_loss, SGDRegressor__penalty=elasticnet, SGDRegressor__power_t=100.0))), GradientBoostingRegressor__alpha=0.8, GradientBoostingRegressor__learning_rate=0.1, GradientBoostingRegressor__loss=huber, GradientBoostingRegressor__max_depth=5, GradientBoostingRegressor__max_features=0.6000000000000001, GradientBoostingRegressor__min_samples_leaf=7, GradientBoostingRegressor__min_samples_split=8, GradientBoostingRegressor__n_estimators=100, GradientBoostingRegressor__subsample=0.6500000000000001)\n",
            "Periodic pipeline was not saved, probably saved before...\n",
            "Periodic pipeline was not saved, probably saved before...\n",
            "Periodic pipeline was not saved, probably saved before...\n",
            "Periodic pipeline was not saved, probably saved before...\n",
            "Periodic pipeline was not saved, probably saved before...\n",
            "Times: [244.27895350043335]\n",
            "Scores: [-0.011547199317944066]\n",
            "Winning pipelines: [Pipeline(memory=None,\n",
            "         steps=[('stackingestimator-1',\n",
            "                 StackingEstimator(estimator=RidgeCV(alphas=array([ 0.1,  1. , 10. ]),\n",
            "                                                     cv=None,\n",
            "                                                     fit_intercept=True,\n",
            "                                                     gcv_mode=None,\n",
            "                                                     normalize=False,\n",
            "                                                     scoring=None,\n",
            "                                                     store_cv_values=False))),\n",
            "                ('stackingestimator-2',\n",
            "                 StackingEstimator(estimator=KNeighborsRegressor(algorithm='auto',\n",
            "                                                                 leaf_size=30,\n",
            "                                                                 metric='minkowski',\n",
            "                                                                 metric_params=None,\n",
            "                                                                 n_...\n",
            "                                           max_features=0.6000000000000001,\n",
            "                                           max_leaf_nodes=None,\n",
            "                                           min_impurity_decrease=0.0,\n",
            "                                           min_impurity_split=None,\n",
            "                                           min_samples_leaf=7,\n",
            "                                           min_samples_split=8,\n",
            "                                           min_weight_fraction_leaf=0.0,\n",
            "                                           n_estimators=100,\n",
            "                                           n_iter_no_change=None,\n",
            "                                           presort='deprecated',\n",
            "                                           random_state=55,\n",
            "                                           subsample=0.6500000000000001,\n",
            "                                           tol=0.0001, validation_fraction=0.1,\n",
            "                                           verbose=0, warm_start=False))],\n",
            "         verbose=False)]\n"
          ],
          "name": "stdout"
        },
        {
          "output_type": "stream",
          "text": [
            "/usr/local/lib/python3.6/dist-packages/sklearn/utils/validation.py:760: DataConversionWarning: A column-vector y was passed when a 1d array was expected. Please change the shape of y to (n_samples, ), for example using ravel().\n",
            "  y = column_or_1d(y, warn=True)\n"
          ],
          "name": "stderr"
        }
      ]
    },
    {
      "cell_type": "code",
      "metadata": {
        "colab": {
          "base_uri": "https://localhost:8080/"
        },
        "id": "y3WeOWWTac6q",
        "outputId": "70f1db29-198f-4d4d-88a3-ed5de85e7a56"
      },
      "source": [
        "tpot.fitted_pipeline_"
      ],
      "execution_count": null,
      "outputs": [
        {
          "output_type": "execute_result",
          "data": {
            "text/plain": [
              "Pipeline(memory=None,\n",
              "         steps=[('stackingestimator',\n",
              "                 StackingEstimator(estimator=DecisionTreeRegressor(ccp_alpha=0.0,\n",
              "                                                                   criterion='mse',\n",
              "                                                                   max_depth=10,\n",
              "                                                                   max_features=None,\n",
              "                                                                   max_leaf_nodes=None,\n",
              "                                                                   min_impurity_decrease=0.0,\n",
              "                                                                   min_impurity_split=None,\n",
              "                                                                   min_samples_leaf=14,\n",
              "                                                                   min_samples_split=11,\n",
              "                                                                   min_weight_fraction_leaf=0.0,\n",
              "                                                                   presort='deprecated',\n",
              "                                                                   random_state=55,\n",
              "                                                                   splitter='bes...\n",
              "                ('featureagglomeration',\n",
              "                 FeatureAgglomeration(affinity='manhattan',\n",
              "                                      compute_full_tree='auto',\n",
              "                                      connectivity=None,\n",
              "                                      distance_threshold=None,\n",
              "                                      linkage='average', memory=None,\n",
              "                                      n_clusters=2,\n",
              "                                      pooling_func=<function mean at 0x7fd7a9b00d08>)),\n",
              "                ('adaboostregressor',\n",
              "                 AdaBoostRegressor(base_estimator=None, learning_rate=0.01,\n",
              "                                   loss='linear', n_estimators=100,\n",
              "                                   random_state=55))],\n",
              "         verbose=False)"
            ]
          },
          "metadata": {
            "tags": []
          },
          "execution_count": 115
        }
      ]
    },
    {
      "cell_type": "code",
      "metadata": {
        "id": "NCVgzly1ac38"
      },
      "source": [
        "from sklearn.pipeline import Pipeline\r\n",
        "from sklearn import datasets, cluster\r\n",
        "from sklearn.ensemble import StackingRegressor"
      ],
      "execution_count": null,
      "outputs": []
    },
    {
      "cell_type": "code",
      "metadata": {
        "colab": {
          "base_uri": "https://localhost:8080/"
        },
        "id": "vi2maw65uKxT",
        "outputId": "4e634e10-a749-47f8-fa59-60825a93c700"
      },
      "source": [
        "import numpy as np\r\n",
        "import pandas as pd\r\n",
        "from sklearn.cluster import FeatureAgglomeration\r\n",
        "from sklearn.ensemble import AdaBoostRegressor\r\n",
        "from sklearn.model_selection import train_test_split\r\n",
        "from sklearn.pipeline import make_pipeline, make_union\r\n",
        "from sklearn.preprocessing import Normalizer\r\n",
        "from sklearn.tree import DecisionTreeRegressor\r\n",
        "from tpot.builtins import StackingEstimator\r\n",
        "from tpot.export_utils import set_param_recursive\r\n",
        "from sklearn.linear_model import RidgeCV\r\n",
        "from sklearn.neighbors import KNeighborsRegressor\r\n",
        "from sklearn.linear_model import SGDRegressor\r\n",
        "from sklearn.preprocessing import RobustScaler\r\n",
        "\r\n",
        "\r\n",
        "exported_pipeline = make_pipeline(\r\n",
        "    StackingEstimator(estimator=RidgeCV()),\r\n",
        "    StackingEstimator(estimator=KNeighborsRegressor(n_neighbors=34, p=2, weights=\"uniform\")),\r\n",
        "    StackingEstimator(estimator=SGDRegressor(alpha=0.01, eta0=0.01, fit_intercept=False, l1_ratio=0.75, learning_rate=\"constant\", loss=\"squared_loss\", penalty=\"elasticnet\", power_t=100.0)),\r\n",
        "    StackingEstimator(estimator=RidgeCV()),\r\n",
        "    RobustScaler(),\r\n",
        "    GradientBoostingRegressor(alpha=0.8, learning_rate=0.1, loss=\"huber\", max_depth=5, max_features=0.6000000000000001, min_samples_leaf=7, min_samples_split=8, n_estimators=100, subsample=0.6500000000000001)\r\n",
        ")\r\n",
        "# Fix random state for all the steps in exported pipeline\r\n",
        "set_param_recursive(exported_pipeline.steps, 'random_state', 55)\r\n",
        "\r\n",
        "exported_pipeline.fit(X,y)\r\n",
        "\r\n"
      ],
      "execution_count": null,
      "outputs": [
        {
          "output_type": "stream",
          "text": [
            "/usr/local/lib/python3.6/dist-packages/sklearn/utils/validation.py:760: DataConversionWarning: A column-vector y was passed when a 1d array was expected. Please change the shape of y to (n_samples, ), for example using ravel().\n",
            "  y = column_or_1d(y, warn=True)\n",
            "/usr/local/lib/python3.6/dist-packages/sklearn/ensemble/_gb.py:1454: DataConversionWarning: A column-vector y was passed when a 1d array was expected. Please change the shape of y to (n_samples, ), for example using ravel().\n",
            "  y = column_or_1d(y, warn=True)\n"
          ],
          "name": "stderr"
        },
        {
          "output_type": "execute_result",
          "data": {
            "text/plain": [
              "Pipeline(memory=None,\n",
              "         steps=[('stackingestimator-1',\n",
              "                 StackingEstimator(estimator=RidgeCV(alphas=array([ 0.1,  1. , 10. ]),\n",
              "                                                     cv=None,\n",
              "                                                     fit_intercept=True,\n",
              "                                                     gcv_mode=None,\n",
              "                                                     normalize=False,\n",
              "                                                     scoring=None,\n",
              "                                                     store_cv_values=False))),\n",
              "                ('stackingestimator-2',\n",
              "                 StackingEstimator(estimator=KNeighborsRegressor(algorithm='auto',\n",
              "                                                                 leaf_size=30,\n",
              "                                                                 metric='minkowski',\n",
              "                                                                 metric_params=None,\n",
              "                                                                 n_...\n",
              "                                           max_features=0.6000000000000001,\n",
              "                                           max_leaf_nodes=None,\n",
              "                                           min_impurity_decrease=0.0,\n",
              "                                           min_impurity_split=None,\n",
              "                                           min_samples_leaf=7,\n",
              "                                           min_samples_split=8,\n",
              "                                           min_weight_fraction_leaf=0.0,\n",
              "                                           n_estimators=100,\n",
              "                                           n_iter_no_change=None,\n",
              "                                           presort='deprecated',\n",
              "                                           random_state=55,\n",
              "                                           subsample=0.6500000000000001,\n",
              "                                           tol=0.0001, validation_fraction=0.1,\n",
              "                                           verbose=0, warm_start=False))],\n",
              "         verbose=False)"
            ]
          },
          "metadata": {
            "tags": []
          },
          "execution_count": 50
        }
      ]
    },
    {
      "cell_type": "code",
      "metadata": {
        "colab": {
          "base_uri": "https://localhost:8080/"
        },
        "id": "bZiXbkwgacs5",
        "outputId": "65f7be42-67ce-4f9f-8e23-15298a0221cb"
      },
      "source": [
        "# Create X dataset\r\n",
        "X_kaggle = ames[ames['train_test']=='test'].drop('train_test', axis=1)\r\n",
        "X_kaggle = pd.get_dummies(X_kaggle, drop_first=True)\r\n",
        "print('X shape:', X_kaggle.shape)\r\n",
        "\r\n",
        "# Apply the dimensionality reduction on X\r\n",
        "X_kaggle = X_kaggle.loc[:, columnsx]\r\n",
        "X_kaggle.columns\r\n",
        "print('X shape:', X_kaggle.shape)\r\n"
      ],
      "execution_count": null,
      "outputs": [
        {
          "output_type": "stream",
          "text": [
            "X shape: (1459, 173)\n",
            "X shape: (1459, 42)\n"
          ],
          "name": "stdout"
        }
      ]
    },
    {
      "cell_type": "code",
      "metadata": {
        "id": "8LfX-iKsog_I"
      },
      "source": [
        "pred_Kaggle = exported_pipeline.predict(X_kaggle)\r\n",
        "pred_Kaggle = np.expm1(pred_Kaggle)"
      ],
      "execution_count": null,
      "outputs": []
    },
    {
      "cell_type": "code",
      "metadata": {
        "id": "OHVouReoSE1_",
        "colab": {
          "base_uri": "https://localhost:8080/"
        },
        "outputId": "e6c5d9c0-b8d6-47a5-ec6e-227212899afa"
      },
      "source": [
        "##Create Sample Submission file and Submit using ANN\r\n",
        "pred=pd.DataFrame(pred_Kaggle)\r\n",
        "sub_df=pd.read_csv('/content/test.csv')\r\n",
        "sub_df.shape"
      ],
      "execution_count": null,
      "outputs": [
        {
          "output_type": "execute_result",
          "data": {
            "text/plain": [
              "(1459, 80)"
            ]
          },
          "metadata": {
            "tags": []
          },
          "execution_count": 53
        }
      ]
    },
    {
      "cell_type": "code",
      "metadata": {
        "colab": {
          "base_uri": "https://localhost:8080/",
          "height": 419
        },
        "id": "lXV38309WP4E",
        "outputId": "a0a80a20-b44b-41cf-b393-f90685881573"
      },
      "source": [
        "datasets=pd.concat([sub_df['Id'],pred],axis=1)\r\n",
        "sub_df['Id'].astype(int).dropna(inplace=True, axis=0)\r\n",
        "datasets.columns=['Id','SalePrice']\r\n",
        "datasets.to_csv('sample_submissionamesb3.csv',index=False)\r\n",
        "datasets"
      ],
      "execution_count": null,
      "outputs": [
        {
          "output_type": "execute_result",
          "data": {
            "text/html": [
              "<div>\n",
              "<style scoped>\n",
              "    .dataframe tbody tr th:only-of-type {\n",
              "        vertical-align: middle;\n",
              "    }\n",
              "\n",
              "    .dataframe tbody tr th {\n",
              "        vertical-align: top;\n",
              "    }\n",
              "\n",
              "    .dataframe thead th {\n",
              "        text-align: right;\n",
              "    }\n",
              "</style>\n",
              "<table border=\"1\" class=\"dataframe\">\n",
              "  <thead>\n",
              "    <tr style=\"text-align: right;\">\n",
              "      <th></th>\n",
              "      <th>Id</th>\n",
              "      <th>SalePrice</th>\n",
              "    </tr>\n",
              "  </thead>\n",
              "  <tbody>\n",
              "    <tr>\n",
              "      <th>0</th>\n",
              "      <td>1461</td>\n",
              "      <td>130132.037546</td>\n",
              "    </tr>\n",
              "    <tr>\n",
              "      <th>1</th>\n",
              "      <td>1462</td>\n",
              "      <td>159679.271092</td>\n",
              "    </tr>\n",
              "    <tr>\n",
              "      <th>2</th>\n",
              "      <td>1463</td>\n",
              "      <td>178444.788885</td>\n",
              "    </tr>\n",
              "    <tr>\n",
              "      <th>3</th>\n",
              "      <td>1464</td>\n",
              "      <td>192799.304110</td>\n",
              "    </tr>\n",
              "    <tr>\n",
              "      <th>4</th>\n",
              "      <td>1465</td>\n",
              "      <td>185756.690552</td>\n",
              "    </tr>\n",
              "    <tr>\n",
              "      <th>...</th>\n",
              "      <td>...</td>\n",
              "      <td>...</td>\n",
              "    </tr>\n",
              "    <tr>\n",
              "      <th>1454</th>\n",
              "      <td>2915</td>\n",
              "      <td>85849.521537</td>\n",
              "    </tr>\n",
              "    <tr>\n",
              "      <th>1455</th>\n",
              "      <td>2916</td>\n",
              "      <td>89852.452300</td>\n",
              "    </tr>\n",
              "    <tr>\n",
              "      <th>1456</th>\n",
              "      <td>2917</td>\n",
              "      <td>181701.655495</td>\n",
              "    </tr>\n",
              "    <tr>\n",
              "      <th>1457</th>\n",
              "      <td>2918</td>\n",
              "      <td>119426.971856</td>\n",
              "    </tr>\n",
              "    <tr>\n",
              "      <th>1458</th>\n",
              "      <td>2919</td>\n",
              "      <td>209938.357050</td>\n",
              "    </tr>\n",
              "  </tbody>\n",
              "</table>\n",
              "<p>1459 rows × 2 columns</p>\n",
              "</div>"
            ],
            "text/plain": [
              "        Id      SalePrice\n",
              "0     1461  130132.037546\n",
              "1     1462  159679.271092\n",
              "2     1463  178444.788885\n",
              "3     1464  192799.304110\n",
              "4     1465  185756.690552\n",
              "...    ...            ...\n",
              "1454  2915   85849.521537\n",
              "1455  2916   89852.452300\n",
              "1456  2917  181701.655495\n",
              "1457  2918  119426.971856\n",
              "1458  2919  209938.357050\n",
              "\n",
              "[1459 rows x 2 columns]"
            ]
          },
          "metadata": {
            "tags": []
          },
          "execution_count": 54
        }
      ]
    }
  ]
}